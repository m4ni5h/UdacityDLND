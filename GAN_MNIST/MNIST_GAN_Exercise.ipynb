{
 "cells": [
  {
   "cell_type": "markdown",
   "metadata": {},
   "source": [
    "# Generative Adversarial Network\n",
    "\n",
    "In this notebook, we'll be building a generative adversarial network (GAN) trained on the MNIST dataset. From this, we'll be able to generate new handwritten digits!\n",
    "\n",
    "GANs were [first reported on](https://arxiv.org/abs/1406.2661) in 2014 from Ian Goodfellow and others in Yoshua Bengio's lab. Since then, GANs have exploded in popularity. Here are a few examples to check out:\n",
    "\n",
    "* [Pix2Pix](https://affinelayer.com/pixsrv/) \n",
    "* [CycleGAN & Pix2Pix in PyTorch, Jun-Yan Zhu](https://github.com/junyanz/pytorch-CycleGAN-and-pix2pix)\n",
    "* [A list of generative models](https://github.com/wiseodd/generative-models)\n",
    "\n",
    "The idea behind GANs is that you have two networks, a generator $G$ and a discriminator $D$, competing against each other. The generator makes \"fake\" data to pass to the discriminator. The discriminator also sees real training data and predicts if the data it's received is real or fake. \n",
    "> * The generator is trained to fool the discriminator, it wants to output data that looks _as close as possible_ to real, training data. \n",
    "* The discriminator is a classifier that is trained to figure out which data is real and which is fake. \n",
    "\n",
    "What ends up happening is that the generator learns to make data that is indistinguishable from real data to the discriminator.\n",
    "\n",
    "<img src='assets/gan_pipeline.png' width=70% />\n",
    "\n",
    "The general structure of a GAN is shown in the diagram above, using MNIST images as data. The latent sample is a random vector that the generator uses to construct its fake images. This is often called a **latent vector** and that vector space is called **latent space**. As the generator trains, it figures out how to map latent vectors to recognizable images that can fool the discriminator.\n",
    "\n",
    "If you're interested in generating only new images, you can throw out the discriminator after training. In this notebook, I'll show you how to define and train these adversarial networks in PyTorch and generate new images!"
   ]
  },
  {
   "cell_type": "code",
   "execution_count": 1,
   "metadata": {},
   "outputs": [],
   "source": [
    "%matplotlib inline\n",
    "\n",
    "import numpy as np\n",
    "import torch\n",
    "import matplotlib.pyplot as plt"
   ]
  },
  {
   "cell_type": "code",
   "execution_count": 2,
   "metadata": {},
   "outputs": [
    {
     "name": "stderr",
     "output_type": "stream",
     "text": [
      "\r",
      "0it [00:00, ?it/s]"
     ]
    },
    {
     "name": "stdout",
     "output_type": "stream",
     "text": [
      "Downloading http://yann.lecun.com/exdb/mnist/train-images-idx3-ubyte.gz to data/MNIST/raw/train-images-idx3-ubyte.gz\n"
     ]
    },
    {
     "name": "stderr",
     "output_type": "stream",
     "text": [
      "9920512it [00:02, 4076506.44it/s]                             \n"
     ]
    },
    {
     "name": "stdout",
     "output_type": "stream",
     "text": [
      "Extracting data/MNIST/raw/train-images-idx3-ubyte.gz to data/MNIST/raw\n"
     ]
    },
    {
     "name": "stderr",
     "output_type": "stream",
     "text": [
      "\r",
      "0it [00:00, ?it/s]"
     ]
    },
    {
     "name": "stdout",
     "output_type": "stream",
     "text": [
      "Downloading http://yann.lecun.com/exdb/mnist/train-labels-idx1-ubyte.gz to data/MNIST/raw/train-labels-idx1-ubyte.gz\n"
     ]
    },
    {
     "name": "stderr",
     "output_type": "stream",
     "text": [
      "32768it [00:01, 24382.81it/s]                           \n",
      "0it [00:00, ?it/s]"
     ]
    },
    {
     "name": "stdout",
     "output_type": "stream",
     "text": [
      "Extracting data/MNIST/raw/train-labels-idx1-ubyte.gz to data/MNIST/raw\n",
      "Downloading http://yann.lecun.com/exdb/mnist/t10k-images-idx3-ubyte.gz to data/MNIST/raw/t10k-images-idx3-ubyte.gz\n"
     ]
    },
    {
     "name": "stderr",
     "output_type": "stream",
     "text": [
      "1654784it [00:08, 202279.88it/s]                             \n",
      "0it [00:00, ?it/s]"
     ]
    },
    {
     "name": "stdout",
     "output_type": "stream",
     "text": [
      "Extracting data/MNIST/raw/t10k-images-idx3-ubyte.gz to data/MNIST/raw\n",
      "Downloading http://yann.lecun.com/exdb/mnist/t10k-labels-idx1-ubyte.gz to data/MNIST/raw/t10k-labels-idx1-ubyte.gz\n"
     ]
    },
    {
     "name": "stderr",
     "output_type": "stream",
     "text": [
      "8192it [00:00, 14979.27it/s]            "
     ]
    },
    {
     "name": "stdout",
     "output_type": "stream",
     "text": [
      "Extracting data/MNIST/raw/t10k-labels-idx1-ubyte.gz to data/MNIST/raw\n",
      "Processing...\n",
      "Done!\n"
     ]
    },
    {
     "name": "stderr",
     "output_type": "stream",
     "text": [
      "\n"
     ]
    }
   ],
   "source": [
    "from torchvision import datasets\n",
    "import torchvision.transforms as transforms\n",
    "\n",
    "# number of subprocesses to use for data loading\n",
    "num_workers = 0\n",
    "# how many samples per batch to load\n",
    "batch_size = 64\n",
    "\n",
    "# convert data to torch.FloatTensor\n",
    "transform = transforms.ToTensor()\n",
    "\n",
    "# get the training datasets\n",
    "train_data = datasets.MNIST(root='data', train=True,\n",
    "                                   download=True, transform=transform)\n",
    "\n",
    "# prepare data loader\n",
    "train_loader = torch.utils.data.DataLoader(train_data, batch_size=batch_size,\n",
    "                                           num_workers=num_workers)"
   ]
  },
  {
   "cell_type": "markdown",
   "metadata": {},
   "source": [
    "### Visualize the data"
   ]
  },
  {
   "cell_type": "code",
   "execution_count": 3,
   "metadata": {},
   "outputs": [
    {
     "data": {
      "text/plain": [
       "<matplotlib.image.AxesImage at 0x7f293023efd0>"
      ]
     },
     "execution_count": 3,
     "metadata": {},
     "output_type": "execute_result"
    },
    {
     "data": {
      "image/png": "[encoded data removed]",
      "text/plain": [
       "<Figure size 216x216 with 1 Axes>"
      ]
     },
     "metadata": {
      "needs_background": "light"
     },
     "output_type": "display_data"
    }
   ],
   "source": [
    "# obtain one batch of training images\n",
    "dataiter = iter(train_loader)\n",
    "images, labels = dataiter.next()\n",
    "images = images.numpy()\n",
    "\n",
    "# get one image from the batch\n",
    "img = np.squeeze(images[0])\n",
    "\n",
    "fig = plt.figure(figsize = (3,3)) \n",
    "ax = fig.add_subplot(111)\n",
    "ax.imshow(img, cmap='gray')"
   ]
  },
  {
   "cell_type": "markdown",
   "metadata": {},
   "source": [
    "---\n",
    "# Define the Model\n",
    "\n",
    "A GAN is comprised of two adversarial networks, a discriminator and a generator."
   ]
  },
  {
   "cell_type": "markdown",
   "metadata": {},
   "source": [
    "## Discriminator\n",
    "\n",
    "The discriminator network is going to be a pretty typical linear classifier. To make this network a universal function approximator, we'll need at least one hidden layer, and these hidden layers should have one key attribute:\n",
    "> All hidden layers will have a [Leaky ReLu](https://pytorch.org/docs/stable/nn.html#torch.nn.LeakyReLU) activation function applied to their outputs.\n",
    "\n",
    "<img src='assets/gan_network.png' width=70% />\n",
    "\n",
    "#### Leaky ReLu\n",
    "\n",
    "We should use a leaky ReLU to allow gradients to flow backwards through the layer unimpeded. A leaky ReLU is like a normal ReLU, except that there is a small non-zero output for negative input values.\n",
    "\n",
    "<img src='assets/leaky_relu.png' width=40% />\n",
    "\n",
    "#### Sigmoid Output\n",
    "\n",
    "We'll also take the approach of using a more numerically stable loss function on the outputs. Recall that we want the discriminator to output a value 0-1 indicating whether an image is _real or fake_. \n",
    "> We will ultimately use [BCEWithLogitsLoss](https://pytorch.org/docs/stable/nn.html#bcewithlogitsloss), which combines a `sigmoid` activation function **and** and binary cross entropy loss in one function. \n",
    "\n",
    "So, our final output layer should not have any activation function applied to it."
   ]
  },
  {
   "cell_type": "code",
   "execution_count": 4,
   "metadata": {},
   "outputs": [],
   "source": [
    "import torch.nn as nn\n",
    "import torch.nn.functional as F\n",
    "\n",
    "class Discriminator(nn.Module):\n",
    "\n",
    "    def __init__(self, input_size, hidden_dim, output_size):\n",
    "        super(Discriminator, self).__init__()\n",
    "        \n",
    "        # define hidden linear layers\n",
    "        self.fc1 = nn.Linear(input_size, hidden_dim*4)\n",
    "        self.fc2 = nn.Linear(hidden_dim*4, hidden_dim*2)\n",
    "        self.fc3 = nn.Linear(hidden_dim*2, hidden_dim)\n",
    "        \n",
    "        # final fully-connected layer\n",
    "        self.fc4 = nn.Linear(hidden_dim, output_size)\n",
    "        \n",
    "        # dropout layer \n",
    "        self.dropout = nn.Dropout(0.3)\n",
    "        \n",
    "        \n",
    "    def forward(self, x):\n",
    "        # flatten image\n",
    "        x = x.view(-1, 28*28)\n",
    "        # all hidden layers\n",
    "        x = F.leaky_relu(self.fc1(x), 0.2) # (input, negative_slope=0.2)\n",
    "        x = self.dropout(x)\n",
    "        x = F.leaky_relu(self.fc2(x), 0.2)\n",
    "        x = self.dropout(x)\n",
    "        x = F.leaky_relu(self.fc3(x), 0.2)\n",
    "        x = self.dropout(x)\n",
    "        # final layer\n",
    "        out = self.fc4(x)\n",
    "\n",
    "        return out\n"
   ]
  },
  {
   "cell_type": "markdown",
   "metadata": {},
   "source": [
    "## Generator\n",
    "\n",
    "The generator network will be almost exactly the same as the discriminator network, except that we're applying a [tanh activation function](https://pytorch.org/docs/stable/nn.html#tanh) to our output layer.\n",
    "\n",
    "#### tanh Output\n",
    "The generator has been found to perform the best with $tanh$ for the generator output, which scales the output to be between -1 and 1, instead of 0 and 1. \n",
    "\n",
    "<img src='assets/tanh_fn.png' width=40% />\n",
    "\n",
    "Recall that we also want these outputs to be comparable to the *real* input pixel values, which are read in as normalized values between 0 and 1. \n",
    "> So, we'll also have to **scale our real input images to have pixel values between -1 and 1** when we train the discriminator. \n",
    "\n",
    "I'll do this in the training loop, later on."
   ]
  },
  {
   "cell_type": "code",
   "execution_count": 5,
   "metadata": {},
   "outputs": [],
   "source": [
    "class Generator(nn.Module):\n",
    "\n",
    "    def __init__(self, input_size, hidden_dim, output_size):\n",
    "        super(Generator, self).__init__()\n",
    "        \n",
    "        # define hidden linear layers\n",
    "        self.fc1 = nn.Linear(input_size, hidden_dim)\n",
    "        self.fc2 = nn.Linear(hidden_dim, hidden_dim*2)\n",
    "        self.fc3 = nn.Linear(hidden_dim*2, hidden_dim*4)\n",
    "        \n",
    "        # final fully-connected layer\n",
    "        self.fc4 = nn.Linear(hidden_dim*4, output_size)\n",
    "        \n",
    "        # dropout layer \n",
    "        self.dropout = nn.Dropout(0.3)\n",
    "\n",
    "    def forward(self, x):\n",
    "        # all hidden layers\n",
    "        x = F.leaky_relu(self.fc1(x), 0.2) # (input, negative_slope=0.2)\n",
    "        x = self.dropout(x)\n",
    "        x = F.leaky_relu(self.fc2(x), 0.2)\n",
    "        x = self.dropout(x)\n",
    "        x = F.leaky_relu(self.fc3(x), 0.2)\n",
    "        x = self.dropout(x)\n",
    "        # final layer with tanh applied\n",
    "        out = F.tanh(self.fc4(x))\n",
    "\n",
    "        return out"
   ]
  },
  {
   "cell_type": "markdown",
   "metadata": {},
   "source": [
    "## Model hyperparameters"
   ]
  },
  {
   "cell_type": "code",
   "execution_count": 6,
   "metadata": {},
   "outputs": [],
   "source": [
    "# Discriminator hyperparams\n",
    "\n",
    "# Size of input image to discriminator (28*28)\n",
    "input_size = 784\n",
    "# Size of discriminator output (real or fake)\n",
    "d_output_size = 1\n",
    "# Size of last hidden layer in the discriminator\n",
    "d_hidden_size = 32\n",
    "\n",
    "# Generator hyperparams\n",
    "\n",
    "# Size of latent vector to give to generator\n",
    "z_size = 100\n",
    "# Size of discriminator output (generated image)\n",
    "g_output_size = 784\n",
    "# Size of first hidden layer in the generator\n",
    "g_hidden_size = 32"
   ]
  },
  {
   "cell_type": "markdown",
   "metadata": {},
   "source": [
    "## Build complete network\n",
    "\n",
    "Now we're instantiating the discriminator and generator from the classes defined above. Make sure you've passed in the correct input arguments."
   ]
  },
  {
   "cell_type": "code",
   "execution_count": 7,
   "metadata": {},
   "outputs": [
    {
     "name": "stdout",
     "output_type": "stream",
     "text": [
      "Discriminator(\n",
      "  (fc1): Linear(in_features=784, out_features=128, bias=True)\n",
      "  (fc2): Linear(in_features=128, out_features=64, bias=True)\n",
      "  (fc3): Linear(in_features=64, out_features=32, bias=True)\n",
      "  (fc4): Linear(in_features=32, out_features=1, bias=True)\n",
      "  (dropout): Dropout(p=0.3, inplace=False)\n",
      ")\n",
      "\n",
      "Generator(\n",
      "  (fc1): Linear(in_features=100, out_features=32, bias=True)\n",
      "  (fc2): Linear(in_features=32, out_features=64, bias=True)\n",
      "  (fc3): Linear(in_features=64, out_features=128, bias=True)\n",
      "  (fc4): Linear(in_features=128, out_features=784, bias=True)\n",
      "  (dropout): Dropout(p=0.3, inplace=False)\n",
      ")\n"
     ]
    }
   ],
   "source": [
    "# instantiate discriminator and generator\n",
    "D = Discriminator(input_size, d_hidden_size, d_output_size)\n",
    "G = Generator(z_size, g_hidden_size, g_output_size)\n",
    "\n",
    "# check that they are as you expect\n",
    "print(D)\n",
    "print()\n",
    "print(G)"
   ]
  },
  {
   "cell_type": "markdown",
   "metadata": {},
   "source": [
    "---\n",
    "## Discriminator and Generator Losses\n",
    "\n",
    "Now we need to calculate the losses. \n",
    "\n",
    "### Discriminator Losses\n",
    "\n",
    "> * For the discriminator, the total loss is the sum of the losses for real and fake images, `d_loss = d_real_loss + d_fake_loss`. \n",
    "* Remember that we want the discriminator to output 1 for real images and 0 for fake images, so we need to set up the losses to reflect that.\n",
    "\n",
    "<img src='assets/gan_pipeline.png' width=70% />\n",
    "\n",
    "The losses will by binary cross entropy loss with logits, which we can get with [BCEWithLogitsLoss](https://pytorch.org/docs/stable/nn.html#bcewithlogitsloss). This combines a `sigmoid` activation function **and** and binary cross entropy loss in one function.\n",
    "\n",
    "For the real images, we want `D(real_images) = 1`. That is, we want the discriminator to classify the the real images with a label = 1, indicating that these are real. To help the discriminator generalize better, the labels are **reduced a bit from 1.0 to 0.9**. For this, we'll use the parameter `smooth`; if True, then we should smooth our labels. In PyTorch, this looks like `labels = torch.ones(size) * 0.9`\n",
    "\n",
    "The discriminator loss for the fake data is similar. We want `D(fake_images) = 0`, where the fake images are the _generator output_, `fake_images = G(z)`. \n",
    "\n",
    "### Generator Loss\n",
    "\n",
    "The generator loss will look similar only with flipped labels. The generator's goal is to get `D(fake_images) = 1`. In this case, the labels are **flipped** to represent that the generator is trying to fool the discriminator into thinking that the images it generates (fakes) are real!"
   ]
  },
  {
   "cell_type": "code",
   "execution_count": 8,
   "metadata": {},
   "outputs": [],
   "source": [
    "# Calculate losses\n",
    "def real_loss(D_out, smooth=False):\n",
    "    batch_size = D_out.size(0)\n",
    "    # label smoothing\n",
    "    if smooth:\n",
    "        # smooth, real labels = 0.9\n",
    "        labels = torch.ones(batch_size)*0.9\n",
    "    else:\n",
    "        labels = torch.ones(batch_size) # real labels = 1\n",
    "        \n",
    "    # numerically stable loss\n",
    "    criterion = nn.BCEWithLogitsLoss()\n",
    "    # calculate loss\n",
    "    loss = criterion(D_out.squeeze(), labels)\n",
    "    return loss\n",
    "\n",
    "def fake_loss(D_out):\n",
    "    batch_size = D_out.size(0)\n",
    "    labels = torch.zeros(batch_size) # fake labels = 0\n",
    "    criterion = nn.BCEWithLogitsLoss()\n",
    "    # calculate loss\n",
    "    loss = criterion(D_out.squeeze(), labels)\n",
    "    return loss"
   ]
  },
  {
   "cell_type": "markdown",
   "metadata": {},
   "source": [
    "## Optimizers\n",
    "\n",
    "We want to update the generator and discriminator variables separately. So, we'll define two separate Adam optimizers."
   ]
  },
  {
   "cell_type": "code",
   "execution_count": 9,
   "metadata": {
    "scrolled": true
   },
   "outputs": [],
   "source": [
    "import torch.optim as optim\n",
    "\n",
    "# Optimizers\n",
    "lr = 0.002\n",
    "\n",
    "# Create optimizers for the discriminator and generator\n",
    "d_optimizer = optim.Adam(D.parameters(), lr)\n",
    "g_optimizer = optim.Adam(G.parameters(), lr)"
   ]
  },
  {
   "cell_type": "markdown",
   "metadata": {},
   "source": [
    "---\n",
    "## Training\n",
    "\n",
    "Training will involve alternating between training the discriminator and the generator. We'll use our functions `real_loss` and `fake_loss` to help us calculate the discriminator losses in all of the following cases.\n",
    "\n",
    "### Discriminator training\n",
    "1. Compute the discriminator loss on real, training images        \n",
    "2. Generate fake images\n",
    "3. Compute the discriminator loss on fake, generated images     \n",
    "4. Add up real and fake loss\n",
    "5. Perform backpropagation + an optimization step to update the discriminator's weights\n",
    "\n",
    "### Generator training\n",
    "1. Generate fake images\n",
    "2. Compute the discriminator loss on fake images, using **flipped** labels!\n",
    "3. Perform backpropagation + an optimization step to update the generator's weights\n",
    "\n",
    "#### Saving Samples\n",
    "\n",
    "As we train, we'll also print out some loss statistics and save some generated \"fake\" samples."
   ]
  },
  {
   "cell_type": "code",
   "execution_count": 10,
   "metadata": {
    "scrolled": true
   },
   "outputs": [
    {
     "name": "stderr",
     "output_type": "stream",
     "text": [
      "/home/deeplearning/anaconda3/envs/udacitydl/lib/python3.7/site-packages/torch/nn/functional.py:1340: UserWarning: nn.functional.tanh is deprecated. Use torch.tanh instead.\n",
      "  warnings.warn(\"nn.functional.tanh is deprecated. Use torch.tanh instead.\")\n"
     ]
    },
    {
     "name": "stdout",
     "output_type": "stream",
     "text": [
      "Epoch [    1/  100] | d_loss: 1.3932 | g_loss: 0.6655\n",
      "Epoch [    1/  100] | d_loss: 1.4806 | g_loss: 0.9230\n",
      "Epoch [    1/  100] | d_loss: 1.0075 | g_loss: 3.0469\n",
      "Epoch [    2/  100] | d_loss: 1.2095 | g_loss: 0.9142\n",
      "Epoch [    2/  100] | d_loss: 1.3549 | g_loss: 0.8975\n",
      "Epoch [    2/  100] | d_loss: 1.1781 | g_loss: 1.6622\n",
      "Epoch [    3/  100] | d_loss: 1.4127 | g_loss: 1.0872\n",
      "Epoch [    3/  100] | d_loss: 1.1790 | g_loss: 1.0304\n",
      "Epoch [    3/  100] | d_loss: 0.9712 | g_loss: 1.5934\n",
      "Epoch [    4/  100] | d_loss: 0.9636 | g_loss: 2.6833\n",
      "Epoch [    4/  100] | d_loss: 1.0376 | g_loss: 1.2834\n",
      "Epoch [    4/  100] | d_loss: 1.2332 | g_loss: 2.1977\n",
      "Epoch [    5/  100] | d_loss: 0.8427 | g_loss: 1.6237\n",
      "Epoch [    5/  100] | d_loss: 1.1104 | g_loss: 2.3731\n",
      "Epoch [    5/  100] | d_loss: 1.1994 | g_loss: 1.7770\n",
      "Epoch [    6/  100] | d_loss: 1.2186 | g_loss: 1.4456\n",
      "Epoch [    6/  100] | d_loss: 1.0067 | g_loss: 1.7386\n",
      "Epoch [    6/  100] | d_loss: 1.0717 | g_loss: 2.3980\n",
      "Epoch [    7/  100] | d_loss: 1.1096 | g_loss: 1.2048\n",
      "Epoch [    7/  100] | d_loss: 0.9940 | g_loss: 2.4274\n",
      "Epoch [    7/  100] | d_loss: 1.2652 | g_loss: 0.9387\n",
      "Epoch [    8/  100] | d_loss: 1.2263 | g_loss: 0.9502\n",
      "Epoch [    8/  100] | d_loss: 1.2618 | g_loss: 0.9561\n",
      "Epoch [    8/  100] | d_loss: 1.1023 | g_loss: 1.1464\n",
      "Epoch [    9/  100] | d_loss: 1.1728 | g_loss: 1.0782\n",
      "Epoch [    9/  100] | d_loss: 1.0946 | g_loss: 1.9661\n",
      "Epoch [    9/  100] | d_loss: 1.0760 | g_loss: 1.8453\n",
      "Epoch [   10/  100] | d_loss: 1.3509 | g_loss: 1.3458\n",
      "Epoch [   10/  100] | d_loss: 1.2076 | g_loss: 1.2092\n",
      "Epoch [   10/  100] | d_loss: 1.3053 | g_loss: 0.8554\n",
      "Epoch [   11/  100] | d_loss: 1.3004 | g_loss: 0.8822\n",
      "Epoch [   11/  100] | d_loss: 1.2795 | g_loss: 1.0259\n",
      "Epoch [   11/  100] | d_loss: 1.2489 | g_loss: 0.8900\n",
      "Epoch [   12/  100] | d_loss: 1.2366 | g_loss: 1.0353\n",
      "Epoch [   12/  100] | d_loss: 1.2655 | g_loss: 1.2246\n",
      "Epoch [   12/  100] | d_loss: 1.2403 | g_loss: 1.0798\n",
      "Epoch [   13/  100] | d_loss: 1.3105 | g_loss: 1.0080\n",
      "Epoch [   13/  100] | d_loss: 1.3128 | g_loss: 0.8915\n",
      "Epoch [   13/  100] | d_loss: 1.4022 | g_loss: 0.7746\n",
      "Epoch [   14/  100] | d_loss: 1.3153 | g_loss: 0.9930\n",
      "Epoch [   14/  100] | d_loss: 1.1597 | g_loss: 1.1985\n",
      "Epoch [   14/  100] | d_loss: 1.2254 | g_loss: 1.0050\n",
      "Epoch [   15/  100] | d_loss: 1.2835 | g_loss: 0.9884\n",
      "Epoch [   15/  100] | d_loss: 1.2165 | g_loss: 0.9940\n",
      "Epoch [   15/  100] | d_loss: 1.3413 | g_loss: 1.0689\n",
      "Epoch [   16/  100] | d_loss: 1.2572 | g_loss: 1.0835\n",
      "Epoch [   16/  100] | d_loss: 1.2770 | g_loss: 0.9844\n",
      "Epoch [   16/  100] | d_loss: 1.2671 | g_loss: 1.2059\n",
      "Epoch [   17/  100] | d_loss: 1.3519 | g_loss: 0.8997\n",
      "Epoch [   17/  100] | d_loss: 1.3294 | g_loss: 0.8853\n",
      "Epoch [   17/  100] | d_loss: 1.2676 | g_loss: 1.0793\n",
      "Epoch [   18/  100] | d_loss: 1.3372 | g_loss: 1.1530\n",
      "Epoch [   18/  100] | d_loss: 1.2340 | g_loss: 1.0332\n",
      "Epoch [   18/  100] | d_loss: 1.2000 | g_loss: 1.1463\n",
      "Epoch [   19/  100] | d_loss: 1.2977 | g_loss: 1.3311\n",
      "Epoch [   19/  100] | d_loss: 1.3049 | g_loss: 0.9527\n",
      "Epoch [   19/  100] | d_loss: 1.3750 | g_loss: 0.8294\n",
      "Epoch [   20/  100] | d_loss: 1.3612 | g_loss: 0.8805\n",
      "Epoch [   20/  100] | d_loss: 1.3956 | g_loss: 0.7980\n",
      "Epoch [   20/  100] | d_loss: 1.3626 | g_loss: 0.9451\n",
      "Epoch [   21/  100] | d_loss: 1.3442 | g_loss: 0.9286\n",
      "Epoch [   21/  100] | d_loss: 1.2860 | g_loss: 0.8918\n",
      "Epoch [   21/  100] | d_loss: 1.3447 | g_loss: 1.0738\n",
      "Epoch [   22/  100] | d_loss: 1.3404 | g_loss: 1.0123\n",
      "Epoch [   22/  100] | d_loss: 1.2975 | g_loss: 1.0602\n",
      "Epoch [   22/  100] | d_loss: 1.2977 | g_loss: 0.9577\n",
      "Epoch [   23/  100] | d_loss: 1.2693 | g_loss: 1.0434\n",
      "Epoch [   23/  100] | d_loss: 1.3560 | g_loss: 1.1502\n",
      "Epoch [   23/  100] | d_loss: 1.3399 | g_loss: 0.9986\n",
      "Epoch [   24/  100] | d_loss: 1.2932 | g_loss: 0.8854\n",
      "Epoch [   24/  100] | d_loss: 1.3164 | g_loss: 0.9563\n",
      "Epoch [   24/  100] | d_loss: 1.2709 | g_loss: 1.1039\n",
      "Epoch [   25/  100] | d_loss: 1.3340 | g_loss: 1.0833\n",
      "Epoch [   25/  100] | d_loss: 1.2193 | g_loss: 1.0150\n",
      "Epoch [   25/  100] | d_loss: 1.2646 | g_loss: 1.0230\n",
      "Epoch [   26/  100] | d_loss: 1.2242 | g_loss: 1.0351\n",
      "Epoch [   26/  100] | d_loss: 1.3259 | g_loss: 0.9155\n",
      "Epoch [   26/  100] | d_loss: 1.4126 | g_loss: 1.0078\n",
      "Epoch [   27/  100] | d_loss: 1.2178 | g_loss: 1.3440\n",
      "Epoch [   27/  100] | d_loss: 1.2793 | g_loss: 0.9812\n",
      "Epoch [   27/  100] | d_loss: 1.3534 | g_loss: 0.9396\n",
      "Epoch [   28/  100] | d_loss: 1.3356 | g_loss: 0.8091\n",
      "Epoch [   28/  100] | d_loss: 1.2220 | g_loss: 1.0635\n",
      "Epoch [   28/  100] | d_loss: 1.3347 | g_loss: 1.0526\n",
      "Epoch [   29/  100] | d_loss: 1.3494 | g_loss: 0.7683\n",
      "Epoch [   29/  100] | d_loss: 1.2845 | g_loss: 0.9592\n",
      "Epoch [   29/  100] | d_loss: 1.2533 | g_loss: 0.8561\n",
      "Epoch [   30/  100] | d_loss: 1.2544 | g_loss: 0.9068\n",
      "Epoch [   30/  100] | d_loss: 1.1804 | g_loss: 1.0398\n",
      "Epoch [   30/  100] | d_loss: 1.2749 | g_loss: 1.0065\n",
      "Epoch [   31/  100] | d_loss: 1.4059 | g_loss: 1.5343\n",
      "Epoch [   31/  100] | d_loss: 1.2984 | g_loss: 0.8775\n",
      "Epoch [   31/  100] | d_loss: 1.2695 | g_loss: 0.9324\n",
      "Epoch [   32/  100] | d_loss: 1.2096 | g_loss: 1.0304\n",
      "Epoch [   32/  100] | d_loss: 1.2643 | g_loss: 0.8825\n",
      "Epoch [   32/  100] | d_loss: 1.3523 | g_loss: 0.8786\n",
      "Epoch [   33/  100] | d_loss: 1.2937 | g_loss: 0.8902\n",
      "Epoch [   33/  100] | d_loss: 1.3796 | g_loss: 0.9063\n",
      "Epoch [   33/  100] | d_loss: 1.3211 | g_loss: 1.0800\n",
      "Epoch [   34/  100] | d_loss: 1.3359 | g_loss: 0.8617\n",
      "Epoch [   34/  100] | d_loss: 1.3494 | g_loss: 0.8467\n",
      "Epoch [   34/  100] | d_loss: 1.3988 | g_loss: 0.9514\n",
      "Epoch [   35/  100] | d_loss: 1.2725 | g_loss: 0.9499\n",
      "Epoch [   35/  100] | d_loss: 1.3088 | g_loss: 0.9565\n",
      "Epoch [   35/  100] | d_loss: 1.3783 | g_loss: 0.8081\n",
      "Epoch [   36/  100] | d_loss: 1.2921 | g_loss: 0.8088\n",
      "Epoch [   36/  100] | d_loss: 1.3684 | g_loss: 1.1303\n",
      "Epoch [   36/  100] | d_loss: 1.2991 | g_loss: 1.0781\n",
      "Epoch [   37/  100] | d_loss: 1.3133 | g_loss: 0.8923\n",
      "Epoch [   37/  100] | d_loss: 1.2486 | g_loss: 0.8782\n",
      "Epoch [   37/  100] | d_loss: 1.2269 | g_loss: 0.9425\n",
      "Epoch [   38/  100] | d_loss: 1.2888 | g_loss: 1.1655\n",
      "Epoch [   38/  100] | d_loss: 1.1916 | g_loss: 0.9142\n",
      "Epoch [   38/  100] | d_loss: 1.3848 | g_loss: 0.7033\n",
      "Epoch [   39/  100] | d_loss: 1.2718 | g_loss: 0.9338\n",
      "Epoch [   39/  100] | d_loss: 1.2408 | g_loss: 0.9650\n",
      "Epoch [   39/  100] | d_loss: 1.2941 | g_loss: 1.2096\n",
      "Epoch [   40/  100] | d_loss: 1.4106 | g_loss: 0.8884\n",
      "Epoch [   40/  100] | d_loss: 1.2736 | g_loss: 0.9258\n",
      "Epoch [   40/  100] | d_loss: 1.3269 | g_loss: 1.0171\n",
      "Epoch [   41/  100] | d_loss: 1.3203 | g_loss: 1.0937\n",
      "Epoch [   41/  100] | d_loss: 1.3629 | g_loss: 1.0153\n",
      "Epoch [   41/  100] | d_loss: 1.2703 | g_loss: 1.2300\n",
      "Epoch [   42/  100] | d_loss: 1.3176 | g_loss: 0.9623\n",
      "Epoch [   42/  100] | d_loss: 1.3262 | g_loss: 1.2231\n",
      "Epoch [   42/  100] | d_loss: 1.2963 | g_loss: 0.9854\n",
      "Epoch [   43/  100] | d_loss: 1.3505 | g_loss: 0.8973\n",
      "Epoch [   43/  100] | d_loss: 1.2289 | g_loss: 0.9738\n",
      "Epoch [   43/  100] | d_loss: 1.3530 | g_loss: 1.0225\n",
      "Epoch [   44/  100] | d_loss: 1.2404 | g_loss: 1.3131\n",
      "Epoch [   44/  100] | d_loss: 1.3274 | g_loss: 0.8691\n",
      "Epoch [   44/  100] | d_loss: 1.3158 | g_loss: 0.9856\n",
      "Epoch [   45/  100] | d_loss: 1.3042 | g_loss: 0.9649\n",
      "Epoch [   45/  100] | d_loss: 1.2856 | g_loss: 0.9910\n",
      "Epoch [   45/  100] | d_loss: 1.2613 | g_loss: 1.0769\n",
      "Epoch [   46/  100] | d_loss: 1.2307 | g_loss: 1.3843\n",
      "Epoch [   46/  100] | d_loss: 1.3135 | g_loss: 0.8696\n",
      "Epoch [   46/  100] | d_loss: 1.3033 | g_loss: 1.1395\n",
      "Epoch [   47/  100] | d_loss: 1.3460 | g_loss: 0.7946\n",
      "Epoch [   47/  100] | d_loss: 1.3730 | g_loss: 0.7817\n",
      "Epoch [   47/  100] | d_loss: 1.3017 | g_loss: 1.0219\n",
      "Epoch [   48/  100] | d_loss: 1.2466 | g_loss: 1.0464\n",
      "Epoch [   48/  100] | d_loss: 1.2193 | g_loss: 1.0568\n",
      "Epoch [   48/  100] | d_loss: 1.3271 | g_loss: 0.9961\n",
      "Epoch [   49/  100] | d_loss: 1.3249 | g_loss: 0.8365\n",
      "Epoch [   49/  100] | d_loss: 1.2335 | g_loss: 1.1853\n",
      "Epoch [   49/  100] | d_loss: 1.3203 | g_loss: 0.9063\n",
      "Epoch [   50/  100] | d_loss: 1.4128 | g_loss: 0.9054\n",
      "Epoch [   50/  100] | d_loss: 1.2335 | g_loss: 0.9490\n",
      "Epoch [   50/  100] | d_loss: 1.2675 | g_loss: 1.0437\n",
      "Epoch [   51/  100] | d_loss: 1.3322 | g_loss: 1.1577\n",
      "Epoch [   51/  100] | d_loss: 1.2824 | g_loss: 0.9035\n"
     ]
    },
    {
     "name": "stdout",
     "output_type": "stream",
     "text": [
      "Epoch [   51/  100] | d_loss: 1.3850 | g_loss: 0.9441\n",
      "Epoch [   52/  100] | d_loss: 1.3522 | g_loss: 0.8283\n",
      "Epoch [   52/  100] | d_loss: 1.2804 | g_loss: 0.9269\n",
      "Epoch [   52/  100] | d_loss: 1.2587 | g_loss: 0.9996\n",
      "Epoch [   53/  100] | d_loss: 1.3475 | g_loss: 0.9346\n",
      "Epoch [   53/  100] | d_loss: 1.2880 | g_loss: 1.1258\n",
      "Epoch [   53/  100] | d_loss: 1.3470 | g_loss: 1.0441\n",
      "Epoch [   54/  100] | d_loss: 1.3747 | g_loss: 0.7577\n",
      "Epoch [   54/  100] | d_loss: 1.3747 | g_loss: 0.9060\n",
      "Epoch [   54/  100] | d_loss: 1.3023 | g_loss: 1.0270\n",
      "Epoch [   55/  100] | d_loss: 1.2997 | g_loss: 1.6189\n",
      "Epoch [   55/  100] | d_loss: 1.3079 | g_loss: 0.9590\n",
      "Epoch [   55/  100] | d_loss: 1.4010 | g_loss: 0.9055\n",
      "Epoch [   56/  100] | d_loss: 1.2972 | g_loss: 0.8139\n",
      "Epoch [   56/  100] | d_loss: 1.3019 | g_loss: 1.0939\n",
      "Epoch [   56/  100] | d_loss: 1.2784 | g_loss: 1.1007\n",
      "Epoch [   57/  100] | d_loss: 1.3116 | g_loss: 0.9510\n",
      "Epoch [   57/  100] | d_loss: 1.3101 | g_loss: 0.9709\n",
      "Epoch [   57/  100] | d_loss: 1.2183 | g_loss: 1.0512\n",
      "Epoch [   58/  100] | d_loss: 1.2944 | g_loss: 0.9570\n",
      "Epoch [   58/  100] | d_loss: 1.2519 | g_loss: 0.9640\n",
      "Epoch [   58/  100] | d_loss: 1.3253 | g_loss: 1.2027\n",
      "Epoch [   59/  100] | d_loss: 1.4718 | g_loss: 1.1909\n",
      "Epoch [   59/  100] | d_loss: 1.2449 | g_loss: 0.9136\n",
      "Epoch [   59/  100] | d_loss: 1.3364 | g_loss: 0.8629\n",
      "Epoch [   60/  100] | d_loss: 1.3666 | g_loss: 0.9236\n",
      "Epoch [   60/  100] | d_loss: 1.3447 | g_loss: 0.9083\n",
      "Epoch [   60/  100] | d_loss: 1.4228 | g_loss: 0.9340\n",
      "Epoch [   61/  100] | d_loss: 1.3626 | g_loss: 0.7785\n",
      "Epoch [   61/  100] | d_loss: 1.3285 | g_loss: 0.9727\n",
      "Epoch [   61/  100] | d_loss: 1.4018 | g_loss: 1.0966\n",
      "Epoch [   62/  100] | d_loss: 1.3511 | g_loss: 0.8187\n",
      "Epoch [   62/  100] | d_loss: 1.3300 | g_loss: 0.8683\n",
      "Epoch [   62/  100] | d_loss: 1.3676 | g_loss: 1.0581\n",
      "Epoch [   63/  100] | d_loss: 1.3642 | g_loss: 1.0362\n",
      "Epoch [   63/  100] | d_loss: 1.3613 | g_loss: 0.9267\n",
      "Epoch [   63/  100] | d_loss: 1.3924 | g_loss: 1.0795\n",
      "Epoch [   64/  100] | d_loss: 1.3267 | g_loss: 0.9327\n",
      "Epoch [   64/  100] | d_loss: 1.3092 | g_loss: 1.0201\n",
      "Epoch [   64/  100] | d_loss: 1.3373 | g_loss: 1.0795\n",
      "Epoch [   65/  100] | d_loss: 1.3912 | g_loss: 0.9543\n",
      "Epoch [   65/  100] | d_loss: 1.2923 | g_loss: 0.9187\n",
      "Epoch [   65/  100] | d_loss: 1.2377 | g_loss: 1.1424\n",
      "Epoch [   66/  100] | d_loss: 1.3103 | g_loss: 0.8826\n",
      "Epoch [   66/  100] | d_loss: 1.2141 | g_loss: 1.6799\n",
      "Epoch [   66/  100] | d_loss: 1.3908 | g_loss: 1.0889\n",
      "Epoch [   67/  100] | d_loss: 1.3568 | g_loss: 0.7612\n",
      "Epoch [   67/  100] | d_loss: 1.2554 | g_loss: 0.8454\n",
      "Epoch [   67/  100] | d_loss: 1.3450 | g_loss: 0.7462\n",
      "Epoch [   68/  100] | d_loss: 1.3406 | g_loss: 1.1258\n",
      "Epoch [   68/  100] | d_loss: 1.2288 | g_loss: 1.1244\n",
      "Epoch [   68/  100] | d_loss: 1.2881 | g_loss: 0.8547\n",
      "Epoch [   69/  100] | d_loss: 1.2525 | g_loss: 0.9989\n",
      "Epoch [   69/  100] | d_loss: 1.2684 | g_loss: 1.1100\n",
      "Epoch [   69/  100] | d_loss: 1.3037 | g_loss: 0.9748\n",
      "Epoch [   70/  100] | d_loss: 1.3410 | g_loss: 0.9120\n",
      "Epoch [   70/  100] | d_loss: 1.2042 | g_loss: 1.0077\n",
      "Epoch [   70/  100] | d_loss: 1.3360 | g_loss: 1.0363\n",
      "Epoch [   71/  100] | d_loss: 1.2723 | g_loss: 1.1254\n",
      "Epoch [   71/  100] | d_loss: 1.3203 | g_loss: 0.8436\n",
      "Epoch [   71/  100] | d_loss: 1.3548 | g_loss: 0.9338\n",
      "Epoch [   72/  100] | d_loss: 1.2900 | g_loss: 0.9017\n",
      "Epoch [   72/  100] | d_loss: 1.3827 | g_loss: 0.9595\n",
      "Epoch [   72/  100] | d_loss: 1.5192 | g_loss: 0.8947\n",
      "Epoch [   73/  100] | d_loss: 1.3191 | g_loss: 0.9200\n",
      "Epoch [   73/  100] | d_loss: 1.1927 | g_loss: 1.0758\n",
      "Epoch [   73/  100] | d_loss: 1.3426 | g_loss: 1.0479\n",
      "Epoch [   74/  100] | d_loss: 1.3356 | g_loss: 0.9190\n",
      "Epoch [   74/  100] | d_loss: 1.2144 | g_loss: 1.2668\n",
      "Epoch [   74/  100] | d_loss: 1.3381 | g_loss: 0.9701\n",
      "Epoch [   75/  100] | d_loss: 1.3615 | g_loss: 0.8532\n",
      "Epoch [   75/  100] | d_loss: 1.3106 | g_loss: 1.3032\n",
      "Epoch [   75/  100] | d_loss: 1.3396 | g_loss: 1.0102\n",
      "Epoch [   76/  100] | d_loss: 1.2947 | g_loss: 1.0664\n",
      "Epoch [   76/  100] | d_loss: 1.3033 | g_loss: 1.0293\n",
      "Epoch [   76/  100] | d_loss: 1.4279 | g_loss: 1.0601\n",
      "Epoch [   77/  100] | d_loss: 1.2567 | g_loss: 0.9914\n",
      "Epoch [   77/  100] | d_loss: 1.2357 | g_loss: 1.0506\n",
      "Epoch [   77/  100] | d_loss: 1.4015 | g_loss: 0.8974\n",
      "Epoch [   78/  100] | d_loss: 1.3766 | g_loss: 0.8183\n",
      "Epoch [   78/  100] | d_loss: 1.2787 | g_loss: 1.1662\n",
      "Epoch [   78/  100] | d_loss: 1.3351 | g_loss: 1.0457\n",
      "Epoch [   79/  100] | d_loss: 1.3142 | g_loss: 1.8382\n",
      "Epoch [   79/  100] | d_loss: 1.3129 | g_loss: 0.9688\n",
      "Epoch [   79/  100] | d_loss: 1.2165 | g_loss: 1.2169\n",
      "Epoch [   80/  100] | d_loss: 1.3023 | g_loss: 0.7839\n",
      "Epoch [   80/  100] | d_loss: 1.3132 | g_loss: 0.9389\n",
      "Epoch [   80/  100] | d_loss: 1.3177 | g_loss: 0.9321\n",
      "Epoch [   81/  100] | d_loss: 1.2876 | g_loss: 0.8024\n",
      "Epoch [   81/  100] | d_loss: 1.4589 | g_loss: 1.2024\n",
      "Epoch [   81/  100] | d_loss: 1.3811 | g_loss: 1.0854\n",
      "Epoch [   82/  100] | d_loss: 1.3979 | g_loss: 0.9447\n",
      "Epoch [   82/  100] | d_loss: 1.2833 | g_loss: 0.8918\n",
      "Epoch [   82/  100] | d_loss: 1.3653 | g_loss: 1.1344\n",
      "Epoch [   83/  100] | d_loss: 1.3280 | g_loss: 0.8533\n",
      "Epoch [   83/  100] | d_loss: 1.3122 | g_loss: 0.8798\n",
      "Epoch [   83/  100] | d_loss: 1.3134 | g_loss: 0.9277\n",
      "Epoch [   84/  100] | d_loss: 1.2730 | g_loss: 0.9890\n",
      "Epoch [   84/  100] | d_loss: 1.3083 | g_loss: 1.1252\n",
      "Epoch [   84/  100] | d_loss: 1.3498 | g_loss: 0.9075\n",
      "Epoch [   85/  100] | d_loss: 1.2062 | g_loss: 1.0453\n",
      "Epoch [   85/  100] | d_loss: 1.2555 | g_loss: 1.0038\n",
      "Epoch [   85/  100] | d_loss: 1.3982 | g_loss: 1.0213\n",
      "Epoch [   86/  100] | d_loss: 1.3079 | g_loss: 0.9105\n",
      "Epoch [   86/  100] | d_loss: 1.2884 | g_loss: 1.0702\n",
      "Epoch [   86/  100] | d_loss: 1.3082 | g_loss: 1.1355\n",
      "Epoch [   87/  100] | d_loss: 1.1836 | g_loss: 1.0354\n",
      "Epoch [   87/  100] | d_loss: 1.2749 | g_loss: 1.1934\n",
      "Epoch [   87/  100] | d_loss: 1.3531 | g_loss: 0.9811\n",
      "Epoch [   88/  100] | d_loss: 1.2717 | g_loss: 0.9600\n",
      "Epoch [   88/  100] | d_loss: 1.2496 | g_loss: 1.4353\n",
      "Epoch [   88/  100] | d_loss: 1.4217 | g_loss: 1.1470\n",
      "Epoch [   89/  100] | d_loss: 1.2776 | g_loss: 0.8903\n",
      "Epoch [   89/  100] | d_loss: 1.3098 | g_loss: 1.0508\n",
      "Epoch [   89/  100] | d_loss: 1.3127 | g_loss: 1.0163\n",
      "Epoch [   90/  100] | d_loss: 1.2573 | g_loss: 1.5006\n",
      "Epoch [   90/  100] | d_loss: 1.2573 | g_loss: 0.9847\n",
      "Epoch [   90/  100] | d_loss: 1.3917 | g_loss: 0.9891\n",
      "Epoch [   91/  100] | d_loss: 1.3223 | g_loss: 1.1436\n",
      "Epoch [   91/  100] | d_loss: 1.1266 | g_loss: 1.2473\n",
      "Epoch [   91/  100] | d_loss: 1.3081 | g_loss: 1.3964\n",
      "Epoch [   92/  100] | d_loss: 1.1923 | g_loss: 1.0748\n",
      "Epoch [   92/  100] | d_loss: 1.1465 | g_loss: 1.1664\n",
      "Epoch [   92/  100] | d_loss: 1.2613 | g_loss: 1.0236\n",
      "Epoch [   93/  100] | d_loss: 1.2860 | g_loss: 0.9153\n",
      "Epoch [   93/  100] | d_loss: 1.0625 | g_loss: 1.8811\n",
      "Epoch [   93/  100] | d_loss: 1.2458 | g_loss: 0.9264\n",
      "Epoch [   94/  100] | d_loss: 1.4931 | g_loss: 1.1905\n",
      "Epoch [   94/  100] | d_loss: 1.3529 | g_loss: 0.9460\n",
      "Epoch [   94/  100] | d_loss: 1.2837 | g_loss: 1.0159\n",
      "Epoch [   95/  100] | d_loss: 1.2704 | g_loss: 1.0952\n",
      "Epoch [   95/  100] | d_loss: 1.2750 | g_loss: 1.7217\n",
      "Epoch [   95/  100] | d_loss: 1.3398 | g_loss: 1.0075\n",
      "Epoch [   96/  100] | d_loss: 1.3172 | g_loss: 0.8946\n",
      "Epoch [   96/  100] | d_loss: 1.1600 | g_loss: 1.2499\n",
      "Epoch [   96/  100] | d_loss: 1.3489 | g_loss: 1.0092\n",
      "Epoch [   97/  100] | d_loss: 1.2554 | g_loss: 1.4727\n",
      "Epoch [   97/  100] | d_loss: 1.2551 | g_loss: 1.1680\n",
      "Epoch [   97/  100] | d_loss: 1.3057 | g_loss: 0.8146\n",
      "Epoch [   98/  100] | d_loss: 1.2554 | g_loss: 0.9771\n",
      "Epoch [   98/  100] | d_loss: 1.2211 | g_loss: 0.8986\n",
      "Epoch [   98/  100] | d_loss: 1.2925 | g_loss: 0.9648\n",
      "Epoch [   99/  100] | d_loss: 1.3334 | g_loss: 0.9357\n",
      "Epoch [   99/  100] | d_loss: 1.2355 | g_loss: 0.8885\n",
      "Epoch [   99/  100] | d_loss: 1.3301 | g_loss: 0.9340\n",
      "Epoch [  100/  100] | d_loss: 1.3083 | g_loss: 0.8495\n",
      "Epoch [  100/  100] | d_loss: 1.3031 | g_loss: 0.8974\n",
      "Epoch [  100/  100] | d_loss: 1.3688 | g_loss: 1.0351\n"
     ]
    }
   ],
   "source": [
    "import pickle as pkl\n",
    "\n",
    "# training hyperparams\n",
    "num_epochs = 100\n",
    "\n",
    "# keep track of loss and generated, \"fake\" samples\n",
    "samples = []\n",
    "losses = []\n",
    "\n",
    "print_every = 400\n",
    "\n",
    "# Get some fixed data for sampling. These are images that are held\n",
    "# constant throughout training, and allow us to inspect the model's performance\n",
    "sample_size=16\n",
    "fixed_z = np.random.uniform(-1, 1, size=(sample_size, z_size))\n",
    "fixed_z = torch.from_numpy(fixed_z).float()\n",
    "\n",
    "# train the network\n",
    "D.train()\n",
    "G.train()\n",
    "for epoch in range(num_epochs):\n",
    "    \n",
    "    for batch_i, (real_images, _) in enumerate(train_loader):\n",
    "                \n",
    "        batch_size = real_images.size(0)\n",
    "        \n",
    "        ## Important rescaling step ## \n",
    "        real_images = real_images*2 - 1  # rescale input images from [0,1) to [-1, 1)\n",
    "        \n",
    "        # ============================================\n",
    "        #            TRAIN THE DISCRIMINATOR\n",
    "        # ============================================\n",
    "        \n",
    "        d_optimizer.zero_grad()\n",
    "        \n",
    "        # 1. Train with real images\n",
    "\n",
    "        # Compute the discriminator losses on real images \n",
    "        # smooth the real labels\n",
    "        D_real = D(real_images)\n",
    "        d_real_loss = real_loss(D_real, smooth=True)\n",
    "        \n",
    "        # 2. Train with fake images\n",
    "        \n",
    "        # Generate fake images\n",
    "        z = np.random.uniform(-1, 1, size=(batch_size, z_size))\n",
    "        z = torch.from_numpy(z).float()\n",
    "        fake_images = G(z)\n",
    "        \n",
    "        # Compute the discriminator losses on fake images        \n",
    "        D_fake = D(fake_images)\n",
    "        d_fake_loss = fake_loss(D_fake)\n",
    "        \n",
    "        # add up loss and perform backprop\n",
    "        d_loss = d_real_loss + d_fake_loss\n",
    "        d_loss.backward()\n",
    "        d_optimizer.step()\n",
    "        \n",
    "        \n",
    "        # =========================================\n",
    "        #            TRAIN THE GENERATOR\n",
    "        # =========================================\n",
    "        g_optimizer.zero_grad()\n",
    "        \n",
    "        # 1. Train with fake images and flipped labels\n",
    "        \n",
    "        # Generate fake images\n",
    "        z = np.random.uniform(-1, 1, size=(batch_size, z_size))\n",
    "        z = torch.from_numpy(z).float()\n",
    "        fake_images = G(z)\n",
    "        \n",
    "        # Compute the discriminator losses on fake images \n",
    "        # using flipped labels!\n",
    "        D_fake = D(fake_images)\n",
    "        g_loss = real_loss(D_fake) # use real loss to flip labels\n",
    "        \n",
    "        # perform backprop\n",
    "        g_loss.backward()\n",
    "        g_optimizer.step()\n",
    "\n",
    "        # Print some loss stats\n",
    "        if batch_i % print_every == 0:\n",
    "            # print discriminator and generator loss\n",
    "            print('Epoch [{:5d}/{:5d}] | d_loss: {:6.4f} | g_loss: {:6.4f}'.format(\n",
    "                    epoch+1, num_epochs, d_loss.item(), g_loss.item()))\n",
    "\n",
    "    \n",
    "    ## AFTER EACH EPOCH##\n",
    "    # append discriminator loss and generator loss\n",
    "    losses.append((d_loss.item(), g_loss.item()))\n",
    "    \n",
    "    # generate and save sample, fake images\n",
    "    G.eval() # eval mode for generating samples\n",
    "    samples_z = G(fixed_z)\n",
    "    samples.append(samples_z)\n",
    "    G.train() # back to train mode\n",
    "\n",
    "\n",
    "# Save training generator samples\n",
    "with open('train_samples.pkl', 'wb') as f:\n",
    "    pkl.dump(samples, f)"
   ]
  },
  {
   "cell_type": "markdown",
   "metadata": {},
   "source": [
    "## Training loss\n",
    "\n",
    "Here we'll plot the training losses for the generator and discriminator, recorded after each epoch."
   ]
  },
  {
   "cell_type": "code",
   "execution_count": 12,
   "metadata": {},
   "outputs": [
    {
     "data": {
      "text/plain": [
       "<matplotlib.legend.Legend at 0x7f2930155110>"
      ]
     },
     "execution_count": 12,
     "metadata": {},
     "output_type": "execute_result"
    },
    {
     "data": {
      "image/png": "[encoded data removed]",
      "text/plain": [
       "<Figure size 432x288 with 1 Axes>"
      ]
     },
     "metadata": {
      "needs_background": "light"
     },
     "output_type": "display_data"
    }
   ],
   "source": [
    "fig, ax = plt.subplots()\n",
    "losses = np.array(losses)\n",
    "plt.plot(losses.T[0], label='Discriminator')\n",
    "plt.plot(losses.T[1], label='Generator')\n",
    "plt.title(\"Training Losses\")\n",
    "plt.legend()"
   ]
  },
  {
   "cell_type": "markdown",
   "metadata": {},
   "source": [
    "## Generator samples from training\n",
    "\n",
    "Here we can view samples of images from the generator. First we'll look at the images we saved during training."
   ]
  },
  {
   "cell_type": "code",
   "execution_count": 13,
   "metadata": {},
   "outputs": [],
   "source": [
    "# helper function for viewing a list of passed in sample images\n",
    "def view_samples(epoch, samples):\n",
    "    fig, axes = plt.subplots(figsize=(7,7), nrows=4, ncols=4, sharey=True, sharex=True)\n",
    "    for ax, img in zip(axes.flatten(), samples[epoch]):\n",
    "        img = img.detach()\n",
    "        ax.xaxis.set_visible(False)\n",
    "        ax.yaxis.set_visible(False)\n",
    "        im = ax.imshow(img.reshape((28,28)), cmap='Greys_r')"
   ]
  },
  {
   "cell_type": "code",
   "execution_count": 14,
   "metadata": {},
   "outputs": [],
   "source": [
    "# Load samples from generator, taken while training\n",
    "with open('train_samples.pkl', 'rb') as f:\n",
    "    samples = pkl.load(f)"
   ]
  },
  {
   "cell_type": "markdown",
   "metadata": {},
   "source": [
    "These are samples from the final training epoch. You can see the generator is able to reproduce numbers like 1, 7, 3, 2. Since this is just a sample, it isn't representative of the full range of images this generator can make."
   ]
  },
  {
   "cell_type": "code",
   "execution_count": 15,
   "metadata": {},
   "outputs": [
    {
     "data": {
      "image/png": "[encoded data removed]",
      "text/plain": [
       "<Figure size 504x504 with 16 Axes>"
      ]
     },
     "metadata": {
      "needs_background": "light"
     },
     "output_type": "display_data"
    }
   ],
   "source": [
    "# -1 indicates final epoch's samples (the last in the list)\n",
    "view_samples(-1, samples)"
   ]
  },
  {
   "cell_type": "markdown",
   "metadata": {},
   "source": [
    "Below I'm showing the generated images as the network was training, every 10 epochs."
   ]
  },
  {
   "cell_type": "code",
   "execution_count": 16,
   "metadata": {},
   "outputs": [
    {
     "data": {
      "image/png": "[encoded data removed]",
      "text/plain": [
       "<Figure size 504x864 with 60 Axes>"
      ]
     },
     "metadata": {
      "needs_background": "light"
     },
     "output_type": "display_data"
    }
   ],
   "source": [
    "rows = 10 # split epochs into 10, so 100/10 = every 10 epochs\n",
    "cols = 6\n",
    "fig, axes = plt.subplots(figsize=(7,12), nrows=rows, ncols=cols, sharex=True, sharey=True)\n",
    "\n",
    "for sample, ax_row in zip(samples[::int(len(samples)/rows)], axes):\n",
    "    for img, ax in zip(sample[::int(len(sample)/cols)], ax_row):\n",
    "        img = img.detach()\n",
    "        ax.imshow(img.reshape((28,28)), cmap='Greys_r')\n",
    "        ax.xaxis.set_visible(False)\n",
    "        ax.yaxis.set_visible(False)"
   ]
  },
  {
   "cell_type": "markdown",
   "metadata": {},
   "source": [
    "It starts out as all noise. Then it learns to make only the center white and the rest black. You can start to see some number like structures appear out of the noise like 1s and 9s."
   ]
  },
  {
   "cell_type": "markdown",
   "metadata": {},
   "source": [
    "## Sampling from the generator\n",
    "\n",
    "We can also get completely new images from the generator by using the checkpoint we saved after training. **We just need to pass in a new latent vector $z$ and we'll get new samples**!"
   ]
  },
  {
   "cell_type": "code",
   "execution_count": 17,
   "metadata": {},
   "outputs": [
    {
     "data": {
      "image/png": "[encoded data removed]",
      "text/plain": [
       "<Figure size 504x504 with 16 Axes>"
      ]
     },
     "metadata": {
      "needs_background": "light"
     },
     "output_type": "display_data"
    }
   ],
   "source": [
    "# randomly generated, new latent vectors\n",
    "sample_size=16\n",
    "rand_z = np.random.uniform(-1, 1, size=(sample_size, z_size))\n",
    "rand_z = torch.from_numpy(rand_z).float()\n",
    "\n",
    "G.eval() # eval mode\n",
    "# generated samples\n",
    "rand_images = G(rand_z)\n",
    "\n",
    "# 0 indicates the first set of samples in the passed in list\n",
    "# and we only have one batch of samples, here\n",
    "view_samples(0, [rand_images])"
   ]
  }
 ],
 "metadata": {
  "kernelspec": {
   "display_name": "Python [conda env:udacitydl]",
   "language": "python",
   "name": "conda-env-udacitydl-py"
  },
  "language_info": {
   "codemirror_mode": {
    "name": "ipython",
    "version": 3
   },
   "file_extension": ".py",
   "mimetype": "text/x-python",
   "name": "python",
   "nbconvert_exporter": "python",
   "pygments_lexer": "ipython3",
   "version": "3.7.4"
  }
 },
 "nbformat": 4,
 "nbformat_minor": 2
}
