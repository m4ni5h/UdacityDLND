{
 "cells": [
  {
   "cell_type": "markdown",
   "metadata": {},
   "source": [
    "# Sentiment Analysis\n",
    "\n",
    "## Updating a Model in SageMaker\n",
    "\n",
    "_Deep Learning Nanodegree Program | Deployment_\n",
    "\n",
    "---\n",
    "\n",
    "In this notebook we will consider a situation in which a model that we constructed is no longer working as we intended. In particular, we will look at the XGBoost sentiment analysis model that we constructed earlier. In this case, however, we have some new data that our model doesn't seem to perform very well on. As a result, we will re-train our model and update an existing endpoint so that it uses our new model.\n",
    "\n",
    "This notebook starts by re-creating the XGBoost sentiment analysis model that was created in earlier notebooks. This means that you will have already seen the cells up to the end of Step 4. The new content in this notebook begins at Step 5.\n",
    "\n",
    "## Instructions\n",
    "\n",
    "Some template code has already been provided for you, and you will need to implement additional functionality to successfully complete this notebook. You will not need to modify the included code beyond what is requested. Sections that begin with '**TODO**' in the header indicate that you need to complete or implement some portion within them. Instructions will be provided for each section and the specifics of the implementation are marked in the code block with a `# TODO: ...` comment. Please be sure to read the instructions carefully!\n",
    "\n",
    "In addition to implementing code, there will be questions for you to answer which relate to the task and your implementation. Each section where you will answer a question is preceded by a '**Question:**' header. Carefully read each question and provide your answer below the '**Answer:**' header by editing the Markdown cell.\n",
    "\n",
    "> **Note**: Code and Markdown cells can be executed using the **Shift+Enter** keyboard shortcut. In addition, a cell can be edited by typically clicking it (double-click for Markdown cells) or by pressing **Enter** while it is highlighted."
   ]
  },
  {
   "cell_type": "markdown",
   "metadata": {},
   "source": [
    "## Step 1: Downloading the data\n",
    "\n",
    "The dataset we are going to use is very popular among researchers in Natural Language Processing, usually referred to as the [IMDb dataset](http://ai.stanford.edu/~amaas/data/sentiment/). It consists of movie reviews from the website [imdb.com](http://www.imdb.com/), each labeled as either '**pos**itive', if the reviewer enjoyed the film, or '**neg**ative' otherwise.\n",
    "\n",
    "> Maas, Andrew L., et al. [Learning Word Vectors for Sentiment Analysis](http://ai.stanford.edu/~amaas/data/sentiment/). In _Proceedings of the 49th Annual Meeting of the Association for Computational Linguistics: Human Language Technologies_. Association for Computational Linguistics, 2011.\n",
    "\n",
    "We begin by using some Jupyter Notebook magic to download and extract the dataset."
   ]
  },
  {
   "cell_type": "code",
   "execution_count": 1,
   "metadata": {},
   "outputs": [
    {
     "name": "stdout",
     "output_type": "stream",
     "text": [
      "mkdir: cannot create directory ‘../data’: File exists\n",
      "--2020-02-07 04:43:29--  http://ai.stanford.edu/~amaas/data/sentiment/aclImdb_v1.tar.gz\n",
      "Resolving ai.stanford.edu (ai.stanford.edu)... 171.64.68.10\n",
      "Connecting to ai.stanford.edu (ai.stanford.edu)|171.64.68.10|:80... connected.\n",
      "HTTP request sent, awaiting response... 200 OK\n",
      "Length: 84125825 (80M) [application/x-gzip]\n",
      "Saving to: ‘../data/aclImdb_v1.tar.gz’\n",
      "\n",
      "../data/aclImdb_v1. 100%[===================>]  80.23M  23.4MB/s    in 3.9s    \n",
      "\n",
      "2020-02-07 04:43:33 (20.4 MB/s) - ‘../data/aclImdb_v1.tar.gz’ saved [84125825/84125825]\n",
      "\n"
     ]
    }
   ],
   "source": [
    "%mkdir ../data\n",
    "!wget -O ../data/aclImdb_v1.tar.gz http://ai.stanford.edu/~amaas/data/sentiment/aclImdb_v1.tar.gz\n",
    "!tar -zxf ../data/aclImdb_v1.tar.gz -C ../data"
   ]
  },
  {
   "cell_type": "markdown",
   "metadata": {},
   "source": [
    "## Step 2: Preparing the data\n",
    "\n",
    "The data we have downloaded is split into various files, each of which contains a single review. It will be much easier going forward if we combine these individual files into two large files, one for training and one for testing."
   ]
  },
  {
   "cell_type": "code",
   "execution_count": 2,
   "metadata": {},
   "outputs": [],
   "source": [
    "import os\n",
    "import glob\n",
    "\n",
    "def read_imdb_data(data_dir='../data/aclImdb'):\n",
    "    data = {}\n",
    "    labels = {}\n",
    "    \n",
    "    for data_type in ['train', 'test']:\n",
    "        data[data_type] = {}\n",
    "        labels[data_type] = {}\n",
    "        \n",
    "        for sentiment in ['pos', 'neg']:\n",
    "            data[data_type][sentiment] = []\n",
    "            labels[data_type][sentiment] = []\n",
    "            \n",
    "            path = os.path.join(data_dir, data_type, sentiment, '*.txt')\n",
    "            files = glob.glob(path)\n",
    "            \n",
    "            for f in files:\n",
    "                with open(f) as review:\n",
    "                    data[data_type][sentiment].append(review.read())\n",
    "                    # Here we represent a positive review by '1' and a negative review by '0'\n",
    "                    labels[data_type][sentiment].append(1 if sentiment == 'pos' else 0)\n",
    "                    \n",
    "            assert len(data[data_type][sentiment]) == len(labels[data_type][sentiment]), \\\n",
    "                    \"{}/{} data size does not match labels size\".format(data_type, sentiment)\n",
    "                \n",
    "    return data, labels"
   ]
  },
  {
   "cell_type": "code",
   "execution_count": 3,
   "metadata": {},
   "outputs": [
    {
     "name": "stdout",
     "output_type": "stream",
     "text": [
      "IMDB reviews: train = 12500 pos / 12500 neg, test = 12500 pos / 12500 neg\n"
     ]
    }
   ],
   "source": [
    "data, labels = read_imdb_data()\n",
    "print(\"IMDB reviews: train = {} pos / {} neg, test = {} pos / {} neg\".format(\n",
    "            len(data['train']['pos']), len(data['train']['neg']),\n",
    "            len(data['test']['pos']), len(data['test']['neg'])))"
   ]
  },
  {
   "cell_type": "code",
   "execution_count": 4,
   "metadata": {},
   "outputs": [],
   "source": [
    "from sklearn.utils import shuffle\n",
    "\n",
    "def prepare_imdb_data(data, labels):\n",
    "    \"\"\"Prepare training and test sets from IMDb movie reviews.\"\"\"\n",
    "    \n",
    "    #Combine positive and negative reviews and labels\n",
    "    data_train = data['train']['pos'] + data['train']['neg']\n",
    "    data_test = data['test']['pos'] + data['test']['neg']\n",
    "    labels_train = labels['train']['pos'] + labels['train']['neg']\n",
    "    labels_test = labels['test']['pos'] + labels['test']['neg']\n",
    "    \n",
    "    #Shuffle reviews and corresponding labels within training and test sets\n",
    "    data_train, labels_train = shuffle(data_train, labels_train)\n",
    "    data_test, labels_test = shuffle(data_test, labels_test)\n",
    "    \n",
    "    # Return a unified training data, test data, training labels, test labets\n",
    "    return data_train, data_test, labels_train, labels_test"
   ]
  },
  {
   "cell_type": "code",
   "execution_count": 5,
   "metadata": {},
   "outputs": [
    {
     "name": "stdout",
     "output_type": "stream",
     "text": [
      "IMDb reviews (combined): train = 25000, test = 25000\n"
     ]
    }
   ],
   "source": [
    "train_X, test_X, train_y, test_y = prepare_imdb_data(data, labels)\n",
    "print(\"IMDb reviews (combined): train = {}, test = {}\".format(len(train_X), len(test_X)))"
   ]
  },
  {
   "cell_type": "code",
   "execution_count": 6,
   "metadata": {},
   "outputs": [
    {
     "data": {
      "text/plain": [
       "'I\\'m going to write about this movie and about \"Irreversible\" (the (in)famous scene in it). So you are warned, if you haven\\'t seen the movie yet. This are just my thoughts, why I think the movie fails (in the end - pun intended).<br /><br />Acting wise, Rosario Dawson is really good and almost conveys portraying someone almost a decade younger (a teenager in other words). The villain guy is good, but loses his \"evil\" touch right before the end. If he really never changes, then why would he let a woman tie him up? He wouldn\\'t, period. Then we also have the bartender/2nd rape Dude. Actually I don\\'t think you would need him. At least not for the 2nd rape, but more about that later on.<br /><br />Let\\'s reprise the story. Rosarios character is sexually insecure, might even have lesbian tendencies (see her scene with a female friend). This wasn\\'t intentional, as Rosario states herself, but there is sexual tension between them. Rosario\\'s character meets a guy, who is a sexual Predator, in all the bad senses. But he makes an impression on her.<br /><br />Rosario commented that her character had a boyfriend before. I beg to differ. Because she acts, as if it is her first boyfriend, which also underlines her phone conversation with her mother. Talking about her mother, here\\'s another problem. After the first rape takes place, Rosarios character doesn\\'t tell anyone what happened. Seiing that her relationship with her mother is a very close one, nothing of that gets explored after that. If Rosarios character wouldn\\'t call her mother anymore or would behave strangely, the mother would be worried like crazy. There was so much potential here. Also her female friend: We see her at the party, it\\'s obvious there is something going on and \"boom\" she is gone.<br /><br />The first rape is almost unbearable to watch. But feels like a pinch, when you compare it to the ending (rape), which feels like you\\'re getting hit with a sledge hammer! After rape no. 1 we get too stretched out scenes. Threads are opened (such as her construction work is an indication that she might be lesbian, as one guy states who tried to hit on her ...), but left in the open. No real social contact is established, if you leave the bartender guy out, who is involved in the 2nd and last rape scene. It\\'s apparent that he isn\\'t a \"nice\" guy and his character get\\'s fleshed out a bit. But when Rosarios character meets her rapist in class again, his being in the movie seems pointless. We get the point that Rosarios character isn\\'t the same anymore, that she went \"bad\" and is able to hurt people. (Too) Many scenes show exactly that, her being without emotion just doing drugs and other stuff. Back to Rapist #1 who cheats on a test, gets caught by Rosarios character and they decide to hang out together again (really?). As absurd as that sounds, the guy meets up with her, not without us having seen him beforehand, with another girl (very likely that he raped her too, although we never see anything of that, fortunately) and his football career. Well career is a stretch and he is bullied. This is an attempt to give his character some depth and it almost works, but then again is too cliché to stay with you. So Rapist #1 submits to Rosarios character ... why exactly? Because he promised her, it was her day? Again, really? A guy like that never loses control, especially with a woman he raped before ... I guess this is supposed to show us how stupid he is. The bartender guy would have worked as someone who could have hit him over the head or something, but letting him submit like that, just feels wrong. Another possibility would have a drug in his drink.<br /><br />So rapist #1 undresses and get\\'s blindfolded and let\\'s Rosarios character tie him on a bed .... seriously, that\\'s just crazy! But what comes next, is even crazier. First she talks to him, then she \"shuts\" him up and forces an object into him. This is as difficult to watch as rape scene number one. This isn\\'t about what this guy deserves or not, it\\'s just intense. And of course that was what they were aiming for. Now after she is \"done\" the bartender guy comes in and rapes ... rapist #1. If this really should work as a revenge movie, it would have been better if Rosarios character herself would have been doing all the \"revenge\". Having a henchman doing the job, takes away everything that was built up.<br /><br />This isn\\'t supposed to be entertaining/enjoyable, it\\'s a hard watch & it is Art-house. But the 10 minute (I didn\\'t count ) rape scene at the end, just smashes everything. Rosarios character is more or less, only watching what happens. Which brings me to the biggest disappointment.<br /><br />Irreversible comparison: \"Irreversible\" had the rape scene, but the movie went on (even if it was back into time). Rosario is looking into the camera in the end and says something about having to get over this. First, that comes a bit too late, that should see her say that after the initial rape. And secondly and most importantly, this is where the Art-house movie should\\'ve come in. It is more interesting seeing were Rosarios character would go after the second rape scene and how she would cope, with what she had done. But then again, she didn\\'t actually physically do that much (see above) ... a broken character that the movie cuts off ...<br /><br />Good intentions (Talia and Rosario had worked before), but failing to convey most of the things, they set out to do (even if you can see what they meant, it has to be convincing, otherwise it doesn\\'t work) ... not to mention the overlong rape scenes as they are ...'"
      ]
     },
     "execution_count": 6,
     "metadata": {},
     "output_type": "execute_result"
    }
   ],
   "source": [
    "train_X[100]"
   ]
  },
  {
   "cell_type": "markdown",
   "metadata": {},
   "source": [
    "## Step 3: Processing the data\n",
    "\n",
    "Now that we have our training and testing datasets merged and ready to use, we need to start processing the raw data into something that will be useable by our machine learning algorithm. To begin with, we remove any html formatting that may appear in the reviews and perform some standard natural language processing in order to homogenize the data."
   ]
  },
  {
   "cell_type": "code",
   "execution_count": 7,
   "metadata": {},
   "outputs": [
    {
     "name": "stdout",
     "output_type": "stream",
     "text": [
      "[nltk_data] Downloading package stopwords to\n",
      "[nltk_data]     /home/ec2-user/nltk_data...\n",
      "[nltk_data]   Unzipping corpora/stopwords.zip.\n"
     ]
    }
   ],
   "source": [
    "import nltk\n",
    "nltk.download(\"stopwords\")\n",
    "from nltk.corpus import stopwords\n",
    "from nltk.stem.porter import *\n",
    "stemmer = PorterStemmer()"
   ]
  },
  {
   "cell_type": "code",
   "execution_count": 8,
   "metadata": {},
   "outputs": [],
   "source": [
    "import re\n",
    "from bs4 import BeautifulSoup\n",
    "\n",
    "def review_to_words(review):\n",
    "    text = BeautifulSoup(review, \"html.parser\").get_text() # Remove HTML tags\n",
    "    text = re.sub(r\"[^a-zA-Z0-9]\", \" \", text.lower()) # Convert to lower case\n",
    "    words = text.split() # Split string into words\n",
    "    words = [w for w in words if w not in stopwords.words(\"english\")] # Remove stopwords\n",
    "    words = [PorterStemmer().stem(w) for w in words] # stem\n",
    "    \n",
    "    return words"
   ]
  },
  {
   "cell_type": "code",
   "execution_count": 9,
   "metadata": {},
   "outputs": [
    {
     "data": {
      "text/plain": [
       "['go',\n",
       " 'write',\n",
       " 'movi',\n",
       " 'irrevers',\n",
       " 'famou',\n",
       " 'scene',\n",
       " 'warn',\n",
       " 'seen',\n",
       " 'movi',\n",
       " 'yet',\n",
       " 'thought',\n",
       " 'think',\n",
       " 'movi',\n",
       " 'fail',\n",
       " 'end',\n",
       " 'pun',\n",
       " 'intend',\n",
       " 'act',\n",
       " 'wise',\n",
       " 'rosario',\n",
       " 'dawson',\n",
       " 'realli',\n",
       " 'good',\n",
       " 'almost',\n",
       " 'convey',\n",
       " 'portray',\n",
       " 'someon',\n",
       " 'almost',\n",
       " 'decad',\n",
       " 'younger',\n",
       " 'teenag',\n",
       " 'word',\n",
       " 'villain',\n",
       " 'guy',\n",
       " 'good',\n",
       " 'lose',\n",
       " 'evil',\n",
       " 'touch',\n",
       " 'right',\n",
       " 'end',\n",
       " 'realli',\n",
       " 'never',\n",
       " 'chang',\n",
       " 'would',\n",
       " 'let',\n",
       " 'woman',\n",
       " 'tie',\n",
       " 'period',\n",
       " 'also',\n",
       " 'bartend',\n",
       " '2nd',\n",
       " 'rape',\n",
       " 'dude',\n",
       " 'actual',\n",
       " 'think',\n",
       " 'would',\n",
       " 'need',\n",
       " 'least',\n",
       " '2nd',\n",
       " 'rape',\n",
       " 'later',\n",
       " 'let',\n",
       " 'repris',\n",
       " 'stori',\n",
       " 'rosario',\n",
       " 'charact',\n",
       " 'sexual',\n",
       " 'insecur',\n",
       " 'might',\n",
       " 'even',\n",
       " 'lesbian',\n",
       " 'tendenc',\n",
       " 'see',\n",
       " 'scene',\n",
       " 'femal',\n",
       " 'friend',\n",
       " 'intent',\n",
       " 'rosario',\n",
       " 'state',\n",
       " 'sexual',\n",
       " 'tension',\n",
       " 'rosario',\n",
       " 'charact',\n",
       " 'meet',\n",
       " 'guy',\n",
       " 'sexual',\n",
       " 'predat',\n",
       " 'bad',\n",
       " 'sens',\n",
       " 'make',\n",
       " 'impress',\n",
       " 'rosario',\n",
       " 'comment',\n",
       " 'charact',\n",
       " 'boyfriend',\n",
       " 'beg',\n",
       " 'differ',\n",
       " 'act',\n",
       " 'first',\n",
       " 'boyfriend',\n",
       " 'also',\n",
       " 'underlin',\n",
       " 'phone',\n",
       " 'convers',\n",
       " 'mother',\n",
       " 'talk',\n",
       " 'mother',\n",
       " 'anoth',\n",
       " 'problem',\n",
       " 'first',\n",
       " 'rape',\n",
       " 'take',\n",
       " 'place',\n",
       " 'rosario',\n",
       " 'charact',\n",
       " 'tell',\n",
       " 'anyon',\n",
       " 'happen',\n",
       " 'sei',\n",
       " 'relationship',\n",
       " 'mother',\n",
       " 'close',\n",
       " 'one',\n",
       " 'noth',\n",
       " 'get',\n",
       " 'explor',\n",
       " 'rosario',\n",
       " 'charact',\n",
       " 'call',\n",
       " 'mother',\n",
       " 'anymor',\n",
       " 'would',\n",
       " 'behav',\n",
       " 'strang',\n",
       " 'mother',\n",
       " 'would',\n",
       " 'worri',\n",
       " 'like',\n",
       " 'crazi',\n",
       " 'much',\n",
       " 'potenti',\n",
       " 'also',\n",
       " 'femal',\n",
       " 'friend',\n",
       " 'see',\n",
       " 'parti',\n",
       " 'obviou',\n",
       " 'someth',\n",
       " 'go',\n",
       " 'boom',\n",
       " 'gone',\n",
       " 'first',\n",
       " 'rape',\n",
       " 'almost',\n",
       " 'unbear',\n",
       " 'watch',\n",
       " 'feel',\n",
       " 'like',\n",
       " 'pinch',\n",
       " 'compar',\n",
       " 'end',\n",
       " 'rape',\n",
       " 'feel',\n",
       " 'like',\n",
       " 'get',\n",
       " 'hit',\n",
       " 'sledg',\n",
       " 'hammer',\n",
       " 'rape',\n",
       " '1',\n",
       " 'get',\n",
       " 'stretch',\n",
       " 'scene',\n",
       " 'thread',\n",
       " 'open',\n",
       " 'construct',\n",
       " 'work',\n",
       " 'indic',\n",
       " 'might',\n",
       " 'lesbian',\n",
       " 'one',\n",
       " 'guy',\n",
       " 'state',\n",
       " 'tri',\n",
       " 'hit',\n",
       " 'left',\n",
       " 'open',\n",
       " 'real',\n",
       " 'social',\n",
       " 'contact',\n",
       " 'establish',\n",
       " 'leav',\n",
       " 'bartend',\n",
       " 'guy',\n",
       " 'involv',\n",
       " '2nd',\n",
       " 'last',\n",
       " 'rape',\n",
       " 'scene',\n",
       " 'appar',\n",
       " 'nice',\n",
       " 'guy',\n",
       " 'charact',\n",
       " 'get',\n",
       " 'flesh',\n",
       " 'bit',\n",
       " 'rosario',\n",
       " 'charact',\n",
       " 'meet',\n",
       " 'rapist',\n",
       " 'class',\n",
       " 'movi',\n",
       " 'seem',\n",
       " 'pointless',\n",
       " 'get',\n",
       " 'point',\n",
       " 'rosario',\n",
       " 'charact',\n",
       " 'anymor',\n",
       " 'went',\n",
       " 'bad',\n",
       " 'abl',\n",
       " 'hurt',\n",
       " 'peopl',\n",
       " 'mani',\n",
       " 'scene',\n",
       " 'show',\n",
       " 'exactli',\n",
       " 'without',\n",
       " 'emot',\n",
       " 'drug',\n",
       " 'stuff',\n",
       " 'back',\n",
       " 'rapist',\n",
       " '1',\n",
       " 'cheat',\n",
       " 'test',\n",
       " 'get',\n",
       " 'caught',\n",
       " 'rosario',\n",
       " 'charact',\n",
       " 'decid',\n",
       " 'hang',\n",
       " 'togeth',\n",
       " 'realli',\n",
       " 'absurd',\n",
       " 'sound',\n",
       " 'guy',\n",
       " 'meet',\n",
       " 'without',\n",
       " 'us',\n",
       " 'seen',\n",
       " 'beforehand',\n",
       " 'anoth',\n",
       " 'girl',\n",
       " 'like',\n",
       " 'rape',\n",
       " 'although',\n",
       " 'never',\n",
       " 'see',\n",
       " 'anyth',\n",
       " 'fortun',\n",
       " 'footbal',\n",
       " 'career',\n",
       " 'well',\n",
       " 'career',\n",
       " 'stretch',\n",
       " 'bulli',\n",
       " 'attempt',\n",
       " 'give',\n",
       " 'charact',\n",
       " 'depth',\n",
       " 'almost',\n",
       " 'work',\n",
       " 'clich',\n",
       " 'stay',\n",
       " 'rapist',\n",
       " '1',\n",
       " 'submit',\n",
       " 'rosario',\n",
       " 'charact',\n",
       " 'exactli',\n",
       " 'promis',\n",
       " 'day',\n",
       " 'realli',\n",
       " 'guy',\n",
       " 'like',\n",
       " 'never',\n",
       " 'lose',\n",
       " 'control',\n",
       " 'especi',\n",
       " 'woman',\n",
       " 'rape',\n",
       " 'guess',\n",
       " 'suppos',\n",
       " 'show',\n",
       " 'us',\n",
       " 'stupid',\n",
       " 'bartend',\n",
       " 'guy',\n",
       " 'would',\n",
       " 'work',\n",
       " 'someon',\n",
       " 'could',\n",
       " 'hit',\n",
       " 'head',\n",
       " 'someth',\n",
       " 'let',\n",
       " 'submit',\n",
       " 'like',\n",
       " 'feel',\n",
       " 'wrong',\n",
       " 'anoth',\n",
       " 'possibl',\n",
       " 'would',\n",
       " 'drug',\n",
       " 'drink',\n",
       " 'rapist',\n",
       " '1',\n",
       " 'undress',\n",
       " 'get',\n",
       " 'blindfold',\n",
       " 'let',\n",
       " 'rosario',\n",
       " 'charact',\n",
       " 'tie',\n",
       " 'bed',\n",
       " 'serious',\n",
       " 'crazi',\n",
       " 'come',\n",
       " 'next',\n",
       " 'even',\n",
       " 'crazier',\n",
       " 'first',\n",
       " 'talk',\n",
       " 'shut',\n",
       " 'forc',\n",
       " 'object',\n",
       " 'difficult',\n",
       " 'watch',\n",
       " 'rape',\n",
       " 'scene',\n",
       " 'number',\n",
       " 'one',\n",
       " 'guy',\n",
       " 'deserv',\n",
       " 'intens',\n",
       " 'cours',\n",
       " 'aim',\n",
       " 'done',\n",
       " 'bartend',\n",
       " 'guy',\n",
       " 'come',\n",
       " 'rape',\n",
       " 'rapist',\n",
       " '1',\n",
       " 'realli',\n",
       " 'work',\n",
       " 'reveng',\n",
       " 'movi',\n",
       " 'would',\n",
       " 'better',\n",
       " 'rosario',\n",
       " 'charact',\n",
       " 'would',\n",
       " 'reveng',\n",
       " 'henchman',\n",
       " 'job',\n",
       " 'take',\n",
       " 'away',\n",
       " 'everyth',\n",
       " 'built',\n",
       " 'suppos',\n",
       " 'entertain',\n",
       " 'enjoy',\n",
       " 'hard',\n",
       " 'watch',\n",
       " 'art',\n",
       " 'hous',\n",
       " '10',\n",
       " 'minut',\n",
       " 'count',\n",
       " 'rape',\n",
       " 'scene',\n",
       " 'end',\n",
       " 'smash',\n",
       " 'everyth',\n",
       " 'rosario',\n",
       " 'charact',\n",
       " 'less',\n",
       " 'watch',\n",
       " 'happen',\n",
       " 'bring',\n",
       " 'biggest',\n",
       " 'disappoint',\n",
       " 'irrevers',\n",
       " 'comparison',\n",
       " 'irrevers',\n",
       " 'rape',\n",
       " 'scene',\n",
       " 'movi',\n",
       " 'went',\n",
       " 'even',\n",
       " 'back',\n",
       " 'time',\n",
       " 'rosario',\n",
       " 'look',\n",
       " 'camera',\n",
       " 'end',\n",
       " 'say',\n",
       " 'someth',\n",
       " 'get',\n",
       " 'first',\n",
       " 'come',\n",
       " 'bit',\n",
       " 'late',\n",
       " 'see',\n",
       " 'say',\n",
       " 'initi',\n",
       " 'rape',\n",
       " 'secondli',\n",
       " 'importantli',\n",
       " 'art',\n",
       " 'hous',\n",
       " 'movi',\n",
       " 'come',\n",
       " 'interest',\n",
       " 'see',\n",
       " 'rosario',\n",
       " 'charact',\n",
       " 'would',\n",
       " 'go',\n",
       " 'second',\n",
       " 'rape',\n",
       " 'scene',\n",
       " 'would',\n",
       " 'cope',\n",
       " 'done',\n",
       " 'actual',\n",
       " 'physic',\n",
       " 'much',\n",
       " 'see',\n",
       " 'broken',\n",
       " 'charact',\n",
       " 'movi',\n",
       " 'cut',\n",
       " 'good',\n",
       " 'intent',\n",
       " 'talia',\n",
       " 'rosario',\n",
       " 'work',\n",
       " 'fail',\n",
       " 'convey',\n",
       " 'thing',\n",
       " 'set',\n",
       " 'even',\n",
       " 'see',\n",
       " 'meant',\n",
       " 'convinc',\n",
       " 'otherwis',\n",
       " 'work',\n",
       " 'mention',\n",
       " 'overlong',\n",
       " 'rape',\n",
       " 'scene']"
      ]
     },
     "execution_count": 9,
     "metadata": {},
     "output_type": "execute_result"
    }
   ],
   "source": [
    "review_to_words(train_X[100])"
   ]
  },
  {
   "cell_type": "code",
   "execution_count": 10,
   "metadata": {},
   "outputs": [],
   "source": [
    "import pickle\n",
    "\n",
    "cache_dir = os.path.join(\"../cache\", \"sentiment_analysis\")  # where to store cache files\n",
    "os.makedirs(cache_dir, exist_ok=True)  # ensure cache directory exists\n",
    "\n",
    "def preprocess_data(data_train, data_test, labels_train, labels_test,\n",
    "                    cache_dir=cache_dir, cache_file=\"preprocessed_data.pkl\"):\n",
    "    \"\"\"Convert each review to words; read from cache if available.\"\"\"\n",
    "\n",
    "    # If cache_file is not None, try to read from it first\n",
    "    cache_data = None\n",
    "    if cache_file is not None:\n",
    "        try:\n",
    "            with open(os.path.join(cache_dir, cache_file), \"rb\") as f:\n",
    "                cache_data = pickle.load(f)\n",
    "            print(\"Read preprocessed data from cache file:\", cache_file)\n",
    "        except:\n",
    "            pass  # unable to read from cache, but that's okay\n",
    "    \n",
    "    # If cache is missing, then do the heavy lifting\n",
    "    if cache_data is None:\n",
    "        # Preprocess training and test data to obtain words for each review\n",
    "        #words_train = list(map(review_to_words, data_train))\n",
    "        #words_test = list(map(review_to_words, data_test))\n",
    "        words_train = [review_to_words(review) for review in data_train]\n",
    "        words_test = [review_to_words(review) for review in data_test]\n",
    "        \n",
    "        # Write to cache file for future runs\n",
    "        if cache_file is not None:\n",
    "            cache_data = dict(words_train=words_train, words_test=words_test,\n",
    "                              labels_train=labels_train, labels_test=labels_test)\n",
    "            with open(os.path.join(cache_dir, cache_file), \"wb\") as f:\n",
    "                pickle.dump(cache_data, f)\n",
    "            print(\"Wrote preprocessed data to cache file:\", cache_file)\n",
    "    else:\n",
    "        # Unpack data loaded from cache file\n",
    "        words_train, words_test, labels_train, labels_test = (cache_data['words_train'],\n",
    "                cache_data['words_test'], cache_data['labels_train'], cache_data['labels_test'])\n",
    "    \n",
    "    return words_train, words_test, labels_train, labels_test"
   ]
  },
  {
   "cell_type": "code",
   "execution_count": 11,
   "metadata": {},
   "outputs": [
    {
     "name": "stdout",
     "output_type": "stream",
     "text": [
      "Wrote preprocessed data to cache file: preprocessed_data.pkl\n"
     ]
    }
   ],
   "source": [
    "# Preprocess data\n",
    "train_X, test_X, train_y, test_y = preprocess_data(train_X, test_X, train_y, test_y)"
   ]
  },
  {
   "cell_type": "markdown",
   "metadata": {},
   "source": [
    "### Extract Bag-of-Words features\n",
    "\n",
    "For the model we will be implementing, rather than using the reviews directly, we are going to transform each review into a Bag-of-Words feature representation. Keep in mind that 'in the wild' we will only have access to the training set so our transformer can only use the training set to construct a representation."
   ]
  },
  {
   "cell_type": "code",
   "execution_count": 12,
   "metadata": {},
   "outputs": [],
   "source": [
    "import numpy as np\n",
    "from sklearn.feature_extraction.text import CountVectorizer\n",
    "from sklearn.externals import joblib\n",
    "# joblib is an enhanced version of pickle that is more efficient for storing NumPy arrays\n",
    "\n",
    "def extract_BoW_features(words_train, words_test, vocabulary_size=5000,\n",
    "                         cache_dir=cache_dir, cache_file=\"bow_features.pkl\"):\n",
    "    \"\"\"Extract Bag-of-Words for a given set of documents, already preprocessed into words.\"\"\"\n",
    "    \n",
    "    # If cache_file is not None, try to read from it first\n",
    "    cache_data = None\n",
    "    if cache_file is not None:\n",
    "        try:\n",
    "            with open(os.path.join(cache_dir, cache_file), \"rb\") as f:\n",
    "                cache_data = joblib.load(f)\n",
    "            print(\"Read features from cache file:\", cache_file)\n",
    "        except:\n",
    "            pass  # unable to read from cache, but that's okay\n",
    "    \n",
    "    # If cache is missing, then do the heavy lifting\n",
    "    if cache_data is None:\n",
    "        # Fit a vectorizer to training documents and use it to transform them\n",
    "        # NOTE: Training documents have already been preprocessed and tokenized into words;\n",
    "        #       pass in dummy functions to skip those steps, e.g. preprocessor=lambda x: x\n",
    "        vectorizer = CountVectorizer(max_features=vocabulary_size,\n",
    "                preprocessor=lambda x: x, tokenizer=lambda x: x)  # already preprocessed\n",
    "        features_train = vectorizer.fit_transform(words_train).toarray()\n",
    "\n",
    "        # Apply the same vectorizer to transform the test documents (ignore unknown words)\n",
    "        features_test = vectorizer.transform(words_test).toarray()\n",
    "        \n",
    "        # NOTE: Remember to convert the features using .toarray() for a compact representation\n",
    "        \n",
    "        # Write to cache file for future runs (store vocabulary as well)\n",
    "        if cache_file is not None:\n",
    "            vocabulary = vectorizer.vocabulary_\n",
    "            cache_data = dict(features_train=features_train, features_test=features_test,\n",
    "                             vocabulary=vocabulary)\n",
    "            with open(os.path.join(cache_dir, cache_file), \"wb\") as f:\n",
    "                joblib.dump(cache_data, f)\n",
    "            print(\"Wrote features to cache file:\", cache_file)\n",
    "    else:\n",
    "        # Unpack data loaded from cache file\n",
    "        features_train, features_test, vocabulary = (cache_data['features_train'],\n",
    "                cache_data['features_test'], cache_data['vocabulary'])\n",
    "    \n",
    "    # Return both the extracted features as well as the vocabulary\n",
    "    return features_train, features_test, vocabulary"
   ]
  },
  {
   "cell_type": "code",
   "execution_count": 13,
   "metadata": {},
   "outputs": [
    {
     "name": "stdout",
     "output_type": "stream",
     "text": [
      "Wrote features to cache file: bow_features.pkl\n"
     ]
    }
   ],
   "source": [
    "# Extract Bag of Words features for both training and test datasets\n",
    "train_X, test_X, vocabulary = extract_BoW_features(train_X, test_X)"
   ]
  },
  {
   "cell_type": "code",
   "execution_count": 14,
   "metadata": {},
   "outputs": [
    {
     "data": {
      "text/plain": [
       "5000"
      ]
     },
     "execution_count": 14,
     "metadata": {},
     "output_type": "execute_result"
    }
   ],
   "source": [
    "len(train_X[100])"
   ]
  },
  {
   "cell_type": "markdown",
   "metadata": {},
   "source": [
    "## Step 4: Classification using XGBoost\n",
    "\n",
    "Now that we have created the feature representation of our training (and testing) data, it is time to start setting up and using the XGBoost classifier provided by SageMaker.\n",
    "\n",
    "### Writing the dataset\n",
    "\n",
    "The XGBoost classifier that we will be using requires the dataset to be written to a file and stored using Amazon S3. To do this, we will start by splitting the training dataset into two parts, the data we will train the model with and a validation set. Then, we will write those datasets to a file and upload the files to S3. In addition, we will write the test set input to a file and upload the file to S3. This is so that we can use SageMakers Batch Transform functionality to test our model once we've fit it."
   ]
  },
  {
   "cell_type": "code",
   "execution_count": 15,
   "metadata": {},
   "outputs": [],
   "source": [
    "import pandas as pd\n",
    "\n",
    "# Earlier we shuffled the training dataset so to make things simple we can just assign\n",
    "# the first 10 000 reviews to the validation set and use the remaining reviews for training.\n",
    "val_X = pd.DataFrame(train_X[:10000])\n",
    "train_X = pd.DataFrame(train_X[10000:])\n",
    "\n",
    "val_y = pd.DataFrame(train_y[:10000])\n",
    "train_y = pd.DataFrame(train_y[10000:])"
   ]
  },
  {
   "cell_type": "markdown",
   "metadata": {},
   "source": [
    "The documentation for the XGBoost algorithm in SageMaker requires that the saved datasets should contain no headers or index and that for the training and validation data, the label should occur first for each sample.\n",
    "\n",
    "For more information about this and other algorithms, the SageMaker developer documentation can be found on __[Amazon's website.](https://docs.aws.amazon.com/sagemaker/latest/dg/)__"
   ]
  },
  {
   "cell_type": "code",
   "execution_count": 16,
   "metadata": {},
   "outputs": [],
   "source": [
    "# First we make sure that the local directory in which we'd like to store the training and validation csv files exists.\n",
    "data_dir = '../data/sentiment_update'\n",
    "if not os.path.exists(data_dir):\n",
    "    os.makedirs(data_dir)"
   ]
  },
  {
   "cell_type": "code",
   "execution_count": 17,
   "metadata": {},
   "outputs": [],
   "source": [
    "pd.DataFrame(test_X).to_csv(os.path.join(data_dir, 'test.csv'), header=False, index=False)\n",
    "\n",
    "pd.concat([val_y, val_X], axis=1).to_csv(os.path.join(data_dir, 'validation.csv'), header=False, index=False)\n",
    "pd.concat([train_y, train_X], axis=1).to_csv(os.path.join(data_dir, 'train.csv'), header=False, index=False)"
   ]
  },
  {
   "cell_type": "code",
   "execution_count": 18,
   "metadata": {},
   "outputs": [],
   "source": [
    "# To save a bit of memory we can set text_X, train_X, val_X, train_y and val_y to None.\n",
    "\n",
    "test_X = train_X = val_X = train_y = val_y = None"
   ]
  },
  {
   "cell_type": "markdown",
   "metadata": {},
   "source": [
    "### Uploading Training / Validation files to S3\n",
    "\n",
    "Amazon's S3 service allows us to store files that can be access by both the built-in training models such as the XGBoost model we will be using as well as custom models such as the one we will see a little later.\n",
    "\n",
    "For this, and most other tasks we will be doing using SageMaker, there are two methods we could use. The first is to use the low level functionality of SageMaker which requires knowing each of the objects involved in the SageMaker environment. The second is to use the high level functionality in which certain choices have been made on the user's behalf. The low level approach benefits from allowing the user a great deal of flexibility while the high level approach makes development much quicker. For our purposes we will opt to use the high level approach although using the low-level approach is certainly an option.\n",
    "\n",
    "Recall the method `upload_data()` which is a member of object representing our current SageMaker session. What this method does is upload the data to the default bucket (which is created if it does not exist) into the path described by the key_prefix variable. To see this for yourself, once you have uploaded the data files, go to the S3 console and look to see where the files have been uploaded.\n",
    "\n",
    "For additional resources, see the __[SageMaker API documentation](http://sagemaker.readthedocs.io/en/latest/)__ and in addition the __[SageMaker Developer Guide.](https://docs.aws.amazon.com/sagemaker/latest/dg/)__"
   ]
  },
  {
   "cell_type": "code",
   "execution_count": 19,
   "metadata": {},
   "outputs": [],
   "source": [
    "import sagemaker\n",
    "\n",
    "session = sagemaker.Session() # Store the current SageMaker session\n",
    "\n",
    "# S3 prefix (which folder will we use)\n",
    "prefix = 'sentiment-update'\n",
    "\n",
    "test_location = session.upload_data(os.path.join(data_dir, 'test.csv'), key_prefix=prefix)\n",
    "val_location = session.upload_data(os.path.join(data_dir, 'validation.csv'), key_prefix=prefix)\n",
    "train_location = session.upload_data(os.path.join(data_dir, 'train.csv'), key_prefix=prefix)"
   ]
  },
  {
   "cell_type": "markdown",
   "metadata": {},
   "source": [
    "### Creating the XGBoost model\n",
    "\n",
    "Now that the data has been uploaded it is time to create the XGBoost model. To begin with, we need to do some setup. At this point it is worth discussing what a model is in SageMaker. It is easiest to think of a model of comprising three different objects in the SageMaker ecosystem, which interact with one another.\n",
    "\n",
    "- Model Artifacts\n",
    "- Training Code (Container)\n",
    "- Inference Code (Container)\n",
    "\n",
    "The Model Artifacts are what you might think of as the actual model itself. For example, if you were building a neural network, the model artifacts would be the weights of the various layers. In our case, for an XGBoost model, the artifacts are the actual trees that are created during training.\n",
    "\n",
    "The other two objects, the training code and the inference code are then used the manipulate the training artifacts. More precisely, the training code uses the training data that is provided and creates the model artifacts, while the inference code uses the model artifacts to make predictions on new data.\n",
    "\n",
    "The way that SageMaker runs the training and inference code is by making use of Docker containers. For now, think of a container as being a way of packaging code up so that dependencies aren't an issue."
   ]
  },
  {
   "cell_type": "code",
   "execution_count": 20,
   "metadata": {},
   "outputs": [],
   "source": [
    "from sagemaker import get_execution_role\n",
    "\n",
    "# Our current execution role is require when creating the model as the training\n",
    "# and inference code will need to access the model artifacts.\n",
    "role = get_execution_role()"
   ]
  },
  {
   "cell_type": "code",
   "execution_count": 21,
   "metadata": {},
   "outputs": [
    {
     "name": "stderr",
     "output_type": "stream",
     "text": [
      "WARNING:root:There is a more up to date SageMaker XGBoost image. To use the newer image, please set 'repo_version'='0.90-1'. For example:\n",
      "\tget_image_uri(region, 'xgboost', '0.90-1').\n"
     ]
    }
   ],
   "source": [
    "# We need to retrieve the location of the container which is provided by Amazon for using XGBoost.\n",
    "# As a matter of convenience, the training and inference code both use the same container.\n",
    "from sagemaker.amazon.amazon_estimator import get_image_uri\n",
    "\n",
    "container = get_image_uri(session.boto_region_name, 'xgboost')"
   ]
  },
  {
   "cell_type": "code",
   "execution_count": 22,
   "metadata": {},
   "outputs": [],
   "source": [
    "# First we create a SageMaker estimator object for our model.\n",
    "xgb = sagemaker.estimator.Estimator(container, # The location of the container we wish to use\n",
    "                                    role,                                    # What is our current IAM Role\n",
    "                                    train_instance_count=1,                  # How many compute instances\n",
    "                                    train_instance_type='ml.m4.xlarge',      # What kind of compute instances\n",
    "                                    output_path='s3://{}/{}/output'.format(session.default_bucket(), prefix),\n",
    "                                    sagemaker_session=session)\n",
    "\n",
    "# And then set the algorithm specific parameters.\n",
    "xgb.set_hyperparameters(max_depth=5,\n",
    "                        eta=0.2,\n",
    "                        gamma=4,\n",
    "                        min_child_weight=6,\n",
    "                        subsample=0.8,\n",
    "                        silent=0,\n",
    "                        objective='binary:logistic',\n",
    "                        early_stopping_rounds=10,\n",
    "                        num_round=500)"
   ]
  },
  {
   "cell_type": "markdown",
   "metadata": {},
   "source": [
    "### Fit the XGBoost model\n",
    "\n",
    "Now that our model has been set up we simply need to attach the training and validation datasets and then ask SageMaker to set up the computation."
   ]
  },
  {
   "cell_type": "code",
   "execution_count": 23,
   "metadata": {},
   "outputs": [],
   "source": [
    "s3_input_train = sagemaker.s3_input(s3_data=train_location, content_type='csv')\n",
    "s3_input_validation = sagemaker.s3_input(s3_data=val_location, content_type='csv')"
   ]
  },
  {
   "cell_type": "code",
   "execution_count": 24,
   "metadata": {},
   "outputs": [
    {
     "name": "stdout",
     "output_type": "stream",
     "text": [
      "2020-02-07 05:16:41 Starting - Starting the training job...\n",
      "2020-02-07 05:17:11 Starting - Launching requested ML instances............\n",
      "2020-02-07 05:18:43 Starting - Preparing the instances for training......\n",
      "2020-02-07 05:19:46 Downloading - Downloading input data...\n",
      "2020-02-07 05:20:17 Training - Downloading the training image.\u001b[34mArguments: train\u001b[0m\n",
      "\u001b[34m[2020-02-07:05:20:42:INFO] Running standalone xgboost training.\u001b[0m\n",
      "\u001b[34m[2020-02-07:05:20:42:INFO] File size need to be processed in the node: 238.47mb. Available memory size in the node: 8521.43mb\u001b[0m\n",
      "\u001b[34m[2020-02-07:05:20:42:INFO] Determined delimiter of CSV input is ','\u001b[0m\n",
      "\u001b[34m[05:20:42] S3DistributionType set as FullyReplicated\u001b[0m\n",
      "\u001b[34m[05:20:44] 15000x5000 matrix with 75000000 entries loaded from /opt/ml/input/data/train?format=csv&label_column=0&delimiter=,\u001b[0m\n",
      "\u001b[34m[2020-02-07:05:20:44:INFO] Determined delimiter of CSV input is ','\u001b[0m\n",
      "\u001b[34m[05:20:44] S3DistributionType set as FullyReplicated\u001b[0m\n",
      "\u001b[34m[05:20:45] 10000x5000 matrix with 50000000 entries loaded from /opt/ml/input/data/validation?format=csv&label_column=0&delimiter=,\u001b[0m\n",
      "\u001b[34m[05:20:49] src/tree/updater_prune.cc:74: tree pruning end, 1 roots, 34 extra nodes, 8 pruned nodes, max_depth=5\u001b[0m\n",
      "\u001b[34m[0]#011train-error:0.295933#011validation-error:0.3002\u001b[0m\n",
      "\u001b[34mMultiple eval metrics have been passed: 'validation-error' will be used for early stopping.\n",
      "\u001b[0m\n",
      "\u001b[34mWill train until validation-error hasn't improved in 10 rounds.\u001b[0m\n",
      "\u001b[34m[05:20:50] src/tree/updater_prune.cc:74: tree pruning end, 1 roots, 48 extra nodes, 2 pruned nodes, max_depth=5\u001b[0m\n",
      "\u001b[34m[1]#011train-error:0.281533#011validation-error:0.2838\u001b[0m\n",
      "\u001b[34m[05:20:51] src/tree/updater_prune.cc:74: tree pruning end, 1 roots, 34 extra nodes, 8 pruned nodes, max_depth=5\u001b[0m\n",
      "\u001b[34m[2]#011train-error:0.279667#011validation-error:0.2835\u001b[0m\n",
      "\u001b[34m[05:20:53] src/tree/updater_prune.cc:74: tree pruning end, 1 roots, 44 extra nodes, 4 pruned nodes, max_depth=5\u001b[0m\n",
      "\u001b[34m[3]#011train-error:0.271067#011validation-error:0.2762\u001b[0m\n",
      "\u001b[34m[05:20:54] src/tree/updater_prune.cc:74: tree pruning end, 1 roots, 30 extra nodes, 8 pruned nodes, max_depth=5\u001b[0m\n",
      "\u001b[34m[4]#011train-error:0.258533#011validation-error:0.2628\u001b[0m\n",
      "\u001b[34m[05:20:55] src/tree/updater_prune.cc:74: tree pruning end, 1 roots, 26 extra nodes, 14 pruned nodes, max_depth=5\u001b[0m\n",
      "\u001b[34m[5]#011train-error:0.259267#011validation-error:0.264\u001b[0m\n",
      "\u001b[34m[05:20:57] src/tree/updater_prune.cc:74: tree pruning end, 1 roots, 28 extra nodes, 4 pruned nodes, max_depth=5\u001b[0m\n",
      "\u001b[34m[6]#011train-error:0.255733#011validation-error:0.2627\u001b[0m\n",
      "\u001b[34m[05:20:58] src/tree/updater_prune.cc:74: tree pruning end, 1 roots, 30 extra nodes, 8 pruned nodes, max_depth=5\u001b[0m\n",
      "\u001b[34m[7]#011train-error:0.246333#011validation-error:0.2537\u001b[0m\n",
      "\n",
      "2020-02-07 05:20:58 Training - Training image download completed. Training in progress.\u001b[34m[05:20:59] src/tree/updater_prune.cc:74: tree pruning end, 1 roots, 32 extra nodes, 0 pruned nodes, max_depth=5\u001b[0m\n",
      "\u001b[34m[8]#011train-error:0.2422#011validation-error:0.2487\u001b[0m\n",
      "\u001b[34m[05:21:01] src/tree/updater_prune.cc:74: tree pruning end, 1 roots, 34 extra nodes, 6 pruned nodes, max_depth=5\u001b[0m\n",
      "\u001b[34m[9]#011train-error:0.231#011validation-error:0.2384\u001b[0m\n",
      "\u001b[34m[05:21:02] src/tree/updater_prune.cc:74: tree pruning end, 1 roots, 28 extra nodes, 2 pruned nodes, max_depth=5\u001b[0m\n",
      "\u001b[34m[10]#011train-error:0.225467#011validation-error:0.2326\u001b[0m\n",
      "\u001b[34m[05:21:03] src/tree/updater_prune.cc:74: tree pruning end, 1 roots, 36 extra nodes, 2 pruned nodes, max_depth=5\u001b[0m\n",
      "\u001b[34m[11]#011train-error:0.220267#011validation-error:0.2309\u001b[0m\n",
      "\u001b[34m[05:21:04] src/tree/updater_prune.cc:74: tree pruning end, 1 roots, 28 extra nodes, 8 pruned nodes, max_depth=5\u001b[0m\n",
      "\u001b[34m[12]#011train-error:0.216#011validation-error:0.2281\u001b[0m\n",
      "\u001b[34m[05:21:06] src/tree/updater_prune.cc:74: tree pruning end, 1 roots, 34 extra nodes, 2 pruned nodes, max_depth=5\u001b[0m\n",
      "\u001b[34m[13]#011train-error:0.212133#011validation-error:0.2249\u001b[0m\n",
      "\u001b[34m[05:21:07] src/tree/updater_prune.cc:74: tree pruning end, 1 roots, 26 extra nodes, 8 pruned nodes, max_depth=5\u001b[0m\n",
      "\u001b[34m[14]#011train-error:0.206933#011validation-error:0.2203\u001b[0m\n",
      "\u001b[34m[05:21:08] src/tree/updater_prune.cc:74: tree pruning end, 1 roots, 36 extra nodes, 6 pruned nodes, max_depth=5\u001b[0m\n",
      "\u001b[34m[15]#011train-error:0.202267#011validation-error:0.2183\u001b[0m\n",
      "\u001b[34m[05:21:09] src/tree/updater_prune.cc:74: tree pruning end, 1 roots, 30 extra nodes, 8 pruned nodes, max_depth=5\u001b[0m\n",
      "\u001b[34m[16]#011train-error:0.199267#011validation-error:0.2136\u001b[0m\n",
      "\u001b[34m[05:21:11] src/tree/updater_prune.cc:74: tree pruning end, 1 roots, 40 extra nodes, 2 pruned nodes, max_depth=5\u001b[0m\n",
      "\u001b[34m[17]#011train-error:0.198067#011validation-error:0.2114\u001b[0m\n",
      "\u001b[34m[05:21:12] src/tree/updater_prune.cc:74: tree pruning end, 1 roots, 34 extra nodes, 6 pruned nodes, max_depth=5\u001b[0m\n",
      "\u001b[34m[18]#011train-error:0.195067#011validation-error:0.2095\u001b[0m\n",
      "\u001b[34m[05:21:13] src/tree/updater_prune.cc:74: tree pruning end, 1 roots, 34 extra nodes, 6 pruned nodes, max_depth=5\u001b[0m\n",
      "\u001b[34m[19]#011train-error:0.191467#011validation-error:0.2081\u001b[0m\n",
      "\u001b[34m[05:21:14] src/tree/updater_prune.cc:74: tree pruning end, 1 roots, 14 extra nodes, 10 pruned nodes, max_depth=5\u001b[0m\n",
      "\u001b[34m[20]#011train-error:0.190333#011validation-error:0.2066\u001b[0m\n",
      "\u001b[34m[05:21:16] src/tree/updater_prune.cc:74: tree pruning end, 1 roots, 32 extra nodes, 4 pruned nodes, max_depth=5\u001b[0m\n",
      "\u001b[34m[21]#011train-error:0.186067#011validation-error:0.204\u001b[0m\n",
      "\u001b[34m[05:21:17] src/tree/updater_prune.cc:74: tree pruning end, 1 roots, 28 extra nodes, 6 pruned nodes, max_depth=5\u001b[0m\n",
      "\u001b[34m[22]#011train-error:0.183467#011validation-error:0.2018\u001b[0m\n",
      "\u001b[34m[05:21:18] src/tree/updater_prune.cc:74: tree pruning end, 1 roots, 40 extra nodes, 6 pruned nodes, max_depth=5\u001b[0m\n",
      "\u001b[34m[23]#011train-error:0.18#011validation-error:0.2017\u001b[0m\n",
      "\u001b[34m[05:21:19] src/tree/updater_prune.cc:74: tree pruning end, 1 roots, 20 extra nodes, 12 pruned nodes, max_depth=5\u001b[0m\n",
      "\u001b[34m[24]#011train-error:0.178067#011validation-error:0.2003\u001b[0m\n",
      "\u001b[34m[05:21:21] src/tree/updater_prune.cc:74: tree pruning end, 1 roots, 24 extra nodes, 6 pruned nodes, max_depth=5\u001b[0m\n",
      "\u001b[34m[25]#011train-error:0.176#011validation-error:0.1978\u001b[0m\n",
      "\u001b[34m[05:21:22] src/tree/updater_prune.cc:74: tree pruning end, 1 roots, 36 extra nodes, 2 pruned nodes, max_depth=5\u001b[0m\n",
      "\u001b[34m[26]#011train-error:0.1742#011validation-error:0.1967\u001b[0m\n",
      "\u001b[34m[05:21:23] src/tree/updater_prune.cc:74: tree pruning end, 1 roots, 36 extra nodes, 2 pruned nodes, max_depth=5\u001b[0m\n",
      "\u001b[34m[27]#011train-error:0.171533#011validation-error:0.1946\u001b[0m\n",
      "\u001b[34m[05:21:24] src/tree/updater_prune.cc:74: tree pruning end, 1 roots, 34 extra nodes, 8 pruned nodes, max_depth=5\u001b[0m\n",
      "\u001b[34m[28]#011train-error:0.1702#011validation-error:0.1932\u001b[0m\n",
      "\u001b[34m[05:21:26] src/tree/updater_prune.cc:74: tree pruning end, 1 roots, 36 extra nodes, 4 pruned nodes, max_depth=5\u001b[0m\n",
      "\u001b[34m[29]#011train-error:0.166467#011validation-error:0.1904\u001b[0m\n",
      "\u001b[34m[05:21:27] src/tree/updater_prune.cc:74: tree pruning end, 1 roots, 32 extra nodes, 10 pruned nodes, max_depth=5\u001b[0m\n",
      "\u001b[34m[30]#011train-error:0.1642#011validation-error:0.1871\u001b[0m\n",
      "\u001b[34m[05:21:28] src/tree/updater_prune.cc:74: tree pruning end, 1 roots, 22 extra nodes, 16 pruned nodes, max_depth=5\u001b[0m\n",
      "\u001b[34m[31]#011train-error:0.162333#011validation-error:0.1863\u001b[0m\n",
      "\u001b[34m[05:21:30] src/tree/updater_prune.cc:74: tree pruning end, 1 roots, 24 extra nodes, 10 pruned nodes, max_depth=5\u001b[0m\n",
      "\u001b[34m[32]#011train-error:0.160333#011validation-error:0.1857\u001b[0m\n",
      "\u001b[34m[05:21:31] src/tree/updater_prune.cc:74: tree pruning end, 1 roots, 28 extra nodes, 8 pruned nodes, max_depth=5\u001b[0m\n",
      "\u001b[34m[33]#011train-error:0.159067#011validation-error:0.1841\u001b[0m\n",
      "\u001b[34m[05:21:32] src/tree/updater_prune.cc:74: tree pruning end, 1 roots, 20 extra nodes, 8 pruned nodes, max_depth=5\u001b[0m\n",
      "\u001b[34m[34]#011train-error:0.158#011validation-error:0.1827\u001b[0m\n",
      "\u001b[34m[05:21:33] src/tree/updater_prune.cc:74: tree pruning end, 1 roots, 22 extra nodes, 14 pruned nodes, max_depth=5\u001b[0m\n",
      "\u001b[34m[35]#011train-error:0.155867#011validation-error:0.1826\u001b[0m\n",
      "\u001b[34m[05:21:35] src/tree/updater_prune.cc:74: tree pruning end, 1 roots, 24 extra nodes, 8 pruned nodes, max_depth=5\u001b[0m\n",
      "\u001b[34m[36]#011train-error:0.1556#011validation-error:0.1825\u001b[0m\n",
      "\u001b[34m[05:21:36] src/tree/updater_prune.cc:74: tree pruning end, 1 roots, 28 extra nodes, 2 pruned nodes, max_depth=5\u001b[0m\n",
      "\u001b[34m[37]#011train-error:0.153333#011validation-error:0.1795\u001b[0m\n",
      "\u001b[34m[05:21:37] src/tree/updater_prune.cc:74: tree pruning end, 1 roots, 20 extra nodes, 10 pruned nodes, max_depth=5\u001b[0m\n",
      "\u001b[34m[38]#011train-error:0.151667#011validation-error:0.1784\u001b[0m\n",
      "\u001b[34m[05:21:38] src/tree/updater_prune.cc:74: tree pruning end, 1 roots, 28 extra nodes, 2 pruned nodes, max_depth=5\u001b[0m\n",
      "\u001b[34m[39]#011train-error:0.150667#011validation-error:0.1783\u001b[0m\n"
     ]
    },
    {
     "name": "stdout",
     "output_type": "stream",
     "text": [
      "\u001b[34m[05:21:40] src/tree/updater_prune.cc:74: tree pruning end, 1 roots, 14 extra nodes, 12 pruned nodes, max_depth=5\u001b[0m\n",
      "\u001b[34m[40]#011train-error:0.1502#011validation-error:0.1778\u001b[0m\n",
      "\u001b[34m[05:21:41] src/tree/updater_prune.cc:74: tree pruning end, 1 roots, 18 extra nodes, 6 pruned nodes, max_depth=5\u001b[0m\n",
      "\u001b[34m[41]#011train-error:0.148733#011validation-error:0.1764\u001b[0m\n",
      "\u001b[34m[05:21:42] src/tree/updater_prune.cc:74: tree pruning end, 1 roots, 30 extra nodes, 8 pruned nodes, max_depth=5\u001b[0m\n",
      "\u001b[34m[42]#011train-error:0.147467#011validation-error:0.1769\u001b[0m\n",
      "\u001b[34m[05:21:43] src/tree/updater_prune.cc:74: tree pruning end, 1 roots, 20 extra nodes, 6 pruned nodes, max_depth=5\u001b[0m\n",
      "\u001b[34m[43]#011train-error:0.146067#011validation-error:0.1766\u001b[0m\n",
      "\u001b[34m[05:21:45] src/tree/updater_prune.cc:74: tree pruning end, 1 roots, 24 extra nodes, 10 pruned nodes, max_depth=5\u001b[0m\n",
      "\u001b[34m[44]#011train-error:0.145067#011validation-error:0.1762\u001b[0m\n",
      "\u001b[34m[05:21:46] src/tree/updater_prune.cc:74: tree pruning end, 1 roots, 14 extra nodes, 8 pruned nodes, max_depth=5\u001b[0m\n",
      "\u001b[34m[45]#011train-error:0.144867#011validation-error:0.1744\u001b[0m\n",
      "\u001b[34m[05:21:47] src/tree/updater_prune.cc:74: tree pruning end, 1 roots, 20 extra nodes, 4 pruned nodes, max_depth=5\u001b[0m\n",
      "\u001b[34m[46]#011train-error:0.144533#011validation-error:0.1736\u001b[0m\n",
      "\u001b[34m[05:21:48] src/tree/updater_prune.cc:74: tree pruning end, 1 roots, 24 extra nodes, 10 pruned nodes, max_depth=5\u001b[0m\n",
      "\u001b[34m[47]#011train-error:0.1428#011validation-error:0.1729\u001b[0m\n",
      "\u001b[34m[05:21:50] src/tree/updater_prune.cc:74: tree pruning end, 1 roots, 32 extra nodes, 8 pruned nodes, max_depth=5\u001b[0m\n",
      "\u001b[34m[48]#011train-error:0.141#011validation-error:0.1738\u001b[0m\n",
      "\u001b[34m[05:21:51] src/tree/updater_prune.cc:74: tree pruning end, 1 roots, 26 extra nodes, 14 pruned nodes, max_depth=5\u001b[0m\n",
      "\u001b[34m[49]#011train-error:0.140267#011validation-error:0.1724\u001b[0m\n",
      "\u001b[34m[05:21:52] src/tree/updater_prune.cc:74: tree pruning end, 1 roots, 26 extra nodes, 8 pruned nodes, max_depth=5\u001b[0m\n",
      "\u001b[34m[50]#011train-error:0.1388#011validation-error:0.1728\u001b[0m\n",
      "\u001b[34m[05:21:53] src/tree/updater_prune.cc:74: tree pruning end, 1 roots, 32 extra nodes, 10 pruned nodes, max_depth=5\u001b[0m\n",
      "\u001b[34m[51]#011train-error:0.139067#011validation-error:0.1712\u001b[0m\n",
      "\u001b[34m[05:21:55] src/tree/updater_prune.cc:74: tree pruning end, 1 roots, 18 extra nodes, 10 pruned nodes, max_depth=5\u001b[0m\n",
      "\u001b[34m[52]#011train-error:0.1378#011validation-error:0.17\u001b[0m\n",
      "\u001b[34m[05:21:56] src/tree/updater_prune.cc:74: tree pruning end, 1 roots, 16 extra nodes, 4 pruned nodes, max_depth=5\u001b[0m\n",
      "\u001b[34m[53]#011train-error:0.136733#011validation-error:0.1694\u001b[0m\n",
      "\u001b[34m[05:21:57] src/tree/updater_prune.cc:74: tree pruning end, 1 roots, 28 extra nodes, 10 pruned nodes, max_depth=5\u001b[0m\n",
      "\u001b[34m[54]#011train-error:0.136467#011validation-error:0.1688\u001b[0m\n",
      "\u001b[34m[05:21:58] src/tree/updater_prune.cc:74: tree pruning end, 1 roots, 20 extra nodes, 14 pruned nodes, max_depth=5\u001b[0m\n",
      "\u001b[34m[55]#011train-error:0.136133#011validation-error:0.1682\u001b[0m\n",
      "\u001b[34m[05:22:00] src/tree/updater_prune.cc:74: tree pruning end, 1 roots, 14 extra nodes, 16 pruned nodes, max_depth=5\u001b[0m\n",
      "\u001b[34m[56]#011train-error:0.135533#011validation-error:0.1678\u001b[0m\n",
      "\u001b[34m[05:22:01] src/tree/updater_prune.cc:74: tree pruning end, 1 roots, 14 extra nodes, 4 pruned nodes, max_depth=5\u001b[0m\n",
      "\u001b[34m[57]#011train-error:0.1348#011validation-error:0.1666\u001b[0m\n",
      "\u001b[34m[05:22:02] src/tree/updater_prune.cc:74: tree pruning end, 1 roots, 16 extra nodes, 8 pruned nodes, max_depth=5\u001b[0m\n",
      "\u001b[34m[58]#011train-error:0.134067#011validation-error:0.1662\u001b[0m\n",
      "\u001b[34m[05:22:03] src/tree/updater_prune.cc:74: tree pruning end, 1 roots, 24 extra nodes, 8 pruned nodes, max_depth=5\u001b[0m\n",
      "\u001b[34m[59]#011train-error:0.132467#011validation-error:0.1662\u001b[0m\n",
      "\u001b[34m[05:22:05] src/tree/updater_prune.cc:74: tree pruning end, 1 roots, 18 extra nodes, 12 pruned nodes, max_depth=5\u001b[0m\n",
      "\u001b[34m[60]#011train-error:0.132#011validation-error:0.1647\u001b[0m\n",
      "\u001b[34m[05:22:06] src/tree/updater_prune.cc:74: tree pruning end, 1 roots, 10 extra nodes, 6 pruned nodes, max_depth=5\u001b[0m\n",
      "\u001b[34m[61]#011train-error:0.132667#011validation-error:0.165\u001b[0m\n",
      "\u001b[34m[05:22:07] src/tree/updater_prune.cc:74: tree pruning end, 1 roots, 12 extra nodes, 8 pruned nodes, max_depth=5\u001b[0m\n",
      "\u001b[34m[62]#011train-error:0.131533#011validation-error:0.1632\u001b[0m\n",
      "\u001b[34m[05:22:08] src/tree/updater_prune.cc:74: tree pruning end, 1 roots, 16 extra nodes, 8 pruned nodes, max_depth=5\u001b[0m\n",
      "\u001b[34m[63]#011train-error:0.130667#011validation-error:0.1629\u001b[0m\n",
      "\u001b[34m[05:22:10] src/tree/updater_prune.cc:74: tree pruning end, 1 roots, 24 extra nodes, 8 pruned nodes, max_depth=5\u001b[0m\n",
      "\u001b[34m[64]#011train-error:0.1302#011validation-error:0.1626\u001b[0m\n",
      "\u001b[34m[05:22:11] src/tree/updater_prune.cc:74: tree pruning end, 1 roots, 16 extra nodes, 8 pruned nodes, max_depth=5\u001b[0m\n",
      "\u001b[34m[65]#011train-error:0.1296#011validation-error:0.162\u001b[0m\n",
      "\u001b[34m[05:22:12] src/tree/updater_prune.cc:74: tree pruning end, 1 roots, 10 extra nodes, 14 pruned nodes, max_depth=5\u001b[0m\n",
      "\u001b[34m[66]#011train-error:0.128933#011validation-error:0.1616\u001b[0m\n",
      "\u001b[34m[05:22:13] src/tree/updater_prune.cc:74: tree pruning end, 1 roots, 18 extra nodes, 16 pruned nodes, max_depth=5\u001b[0m\n",
      "\u001b[34m[67]#011train-error:0.126733#011validation-error:0.1602\u001b[0m\n",
      "\u001b[34m[05:22:15] src/tree/updater_prune.cc:74: tree pruning end, 1 roots, 24 extra nodes, 2 pruned nodes, max_depth=5\u001b[0m\n",
      "\u001b[34m[68]#011train-error:0.125733#011validation-error:0.1593\u001b[0m\n",
      "\u001b[34m[05:22:16] src/tree/updater_prune.cc:74: tree pruning end, 1 roots, 14 extra nodes, 12 pruned nodes, max_depth=5\u001b[0m\n",
      "\u001b[34m[69]#011train-error:0.125133#011validation-error:0.1588\u001b[0m\n",
      "\u001b[34m[05:22:17] src/tree/updater_prune.cc:74: tree pruning end, 1 roots, 38 extra nodes, 6 pruned nodes, max_depth=5\u001b[0m\n",
      "\u001b[34m[70]#011train-error:0.124933#011validation-error:0.1593\u001b[0m\n",
      "\u001b[34m[05:22:19] src/tree/updater_prune.cc:74: tree pruning end, 1 roots, 16 extra nodes, 8 pruned nodes, max_depth=5\u001b[0m\n",
      "\u001b[34m[71]#011train-error:0.1246#011validation-error:0.1579\u001b[0m\n",
      "\u001b[34m[05:22:20] src/tree/updater_prune.cc:74: tree pruning end, 1 roots, 12 extra nodes, 8 pruned nodes, max_depth=5\u001b[0m\n",
      "\u001b[34m[72]#011train-error:0.123933#011validation-error:0.1578\u001b[0m\n",
      "\u001b[34m[05:22:21] src/tree/updater_prune.cc:74: tree pruning end, 1 roots, 28 extra nodes, 12 pruned nodes, max_depth=5\u001b[0m\n",
      "\u001b[34m[73]#011train-error:0.123#011validation-error:0.1577\u001b[0m\n",
      "\u001b[34m[05:22:22] src/tree/updater_prune.cc:74: tree pruning end, 1 roots, 18 extra nodes, 14 pruned nodes, max_depth=5\u001b[0m\n",
      "\u001b[34m[74]#011train-error:0.122667#011validation-error:0.1573\u001b[0m\n",
      "\u001b[34m[05:22:24] src/tree/updater_prune.cc:74: tree pruning end, 1 roots, 12 extra nodes, 14 pruned nodes, max_depth=5\u001b[0m\n",
      "\u001b[34m[75]#011train-error:0.121933#011validation-error:0.1573\u001b[0m\n",
      "\u001b[34m[05:22:25] src/tree/updater_prune.cc:74: tree pruning end, 1 roots, 22 extra nodes, 6 pruned nodes, max_depth=5\u001b[0m\n",
      "\u001b[34m[76]#011train-error:0.120733#011validation-error:0.156\u001b[0m\n",
      "\u001b[34m[05:22:26] src/tree/updater_prune.cc:74: tree pruning end, 1 roots, 16 extra nodes, 12 pruned nodes, max_depth=5\u001b[0m\n",
      "\u001b[34m[77]#011train-error:0.119667#011validation-error:0.1567\u001b[0m\n",
      "\u001b[34m[05:22:27] src/tree/updater_prune.cc:74: tree pruning end, 1 roots, 26 extra nodes, 10 pruned nodes, max_depth=5\u001b[0m\n",
      "\u001b[34m[78]#011train-error:0.119#011validation-error:0.1554\u001b[0m\n",
      "\u001b[34m[05:22:29] src/tree/updater_prune.cc:74: tree pruning end, 1 roots, 16 extra nodes, 2 pruned nodes, max_depth=5\u001b[0m\n",
      "\u001b[34m[79]#011train-error:0.118133#011validation-error:0.1557\u001b[0m\n",
      "\u001b[34m[05:22:30] src/tree/updater_prune.cc:74: tree pruning end, 1 roots, 28 extra nodes, 6 pruned nodes, max_depth=5\u001b[0m\n",
      "\u001b[34m[80]#011train-error:0.1176#011validation-error:0.1559\u001b[0m\n",
      "\u001b[34m[05:22:31] src/tree/updater_prune.cc:74: tree pruning end, 1 roots, 18 extra nodes, 10 pruned nodes, max_depth=5\u001b[0m\n",
      "\u001b[34m[81]#011train-error:0.1174#011validation-error:0.155\u001b[0m\n",
      "\u001b[34m[05:22:32] src/tree/updater_prune.cc:74: tree pruning end, 1 roots, 14 extra nodes, 8 pruned nodes, max_depth=5\u001b[0m\n",
      "\u001b[34m[82]#011train-error:0.116333#011validation-error:0.1551\u001b[0m\n",
      "\u001b[34m[05:22:34] src/tree/updater_prune.cc:74: tree pruning end, 1 roots, 12 extra nodes, 8 pruned nodes, max_depth=5\u001b[0m\n",
      "\u001b[34m[83]#011train-error:0.115733#011validation-error:0.1548\u001b[0m\n",
      "\u001b[34m[05:22:35] src/tree/updater_prune.cc:74: tree pruning end, 1 roots, 14 extra nodes, 12 pruned nodes, max_depth=5\u001b[0m\n",
      "\u001b[34m[84]#011train-error:0.115067#011validation-error:0.1543\u001b[0m\n",
      "\u001b[34m[05:22:36] src/tree/updater_prune.cc:74: tree pruning end, 1 roots, 10 extra nodes, 10 pruned nodes, max_depth=5\u001b[0m\n",
      "\u001b[34m[85]#011train-error:0.1146#011validation-error:0.1539\u001b[0m\n",
      "\u001b[34m[05:22:37] src/tree/updater_prune.cc:74: tree pruning end, 1 roots, 16 extra nodes, 14 pruned nodes, max_depth=5\u001b[0m\n",
      "\u001b[34m[86]#011train-error:0.114867#011validation-error:0.1545\u001b[0m\n",
      "\u001b[34m[05:22:39] src/tree/updater_prune.cc:74: tree pruning end, 1 roots, 18 extra nodes, 12 pruned nodes, max_depth=5\u001b[0m\n",
      "\u001b[34m[87]#011train-error:0.113667#011validation-error:0.1541\u001b[0m\n"
     ]
    },
    {
     "name": "stdout",
     "output_type": "stream",
     "text": [
      "\u001b[34m[05:22:40] src/tree/updater_prune.cc:74: tree pruning end, 1 roots, 16 extra nodes, 8 pruned nodes, max_depth=5\u001b[0m\n",
      "\u001b[34m[88]#011train-error:0.114#011validation-error:0.1539\u001b[0m\n",
      "\u001b[34m[05:22:41] src/tree/updater_prune.cc:74: tree pruning end, 1 roots, 14 extra nodes, 16 pruned nodes, max_depth=5\u001b[0m\n",
      "\u001b[34m[89]#011train-error:0.113733#011validation-error:0.1533\u001b[0m\n",
      "\u001b[34m[05:22:42] src/tree/updater_prune.cc:74: tree pruning end, 1 roots, 24 extra nodes, 8 pruned nodes, max_depth=5\u001b[0m\n",
      "\u001b[34m[90]#011train-error:0.1136#011validation-error:0.1532\u001b[0m\n",
      "\u001b[34m[05:22:44] src/tree/updater_prune.cc:74: tree pruning end, 1 roots, 16 extra nodes, 6 pruned nodes, max_depth=5\u001b[0m\n",
      "\u001b[34m[91]#011train-error:0.113267#011validation-error:0.1524\u001b[0m\n",
      "\u001b[34m[05:22:45] src/tree/updater_prune.cc:74: tree pruning end, 1 roots, 14 extra nodes, 12 pruned nodes, max_depth=5\u001b[0m\n",
      "\u001b[34m[92]#011train-error:0.113#011validation-error:0.153\u001b[0m\n",
      "\u001b[34m[05:22:46] src/tree/updater_prune.cc:74: tree pruning end, 1 roots, 12 extra nodes, 10 pruned nodes, max_depth=5\u001b[0m\n",
      "\u001b[34m[93]#011train-error:0.112533#011validation-error:0.1528\u001b[0m\n",
      "\u001b[34m[05:22:47] src/tree/updater_prune.cc:74: tree pruning end, 1 roots, 24 extra nodes, 12 pruned nodes, max_depth=5\u001b[0m\n",
      "\u001b[34m[94]#011train-error:0.1116#011validation-error:0.151\u001b[0m\n",
      "\u001b[34m[05:22:49] src/tree/updater_prune.cc:74: tree pruning end, 1 roots, 18 extra nodes, 8 pruned nodes, max_depth=5\u001b[0m\n",
      "\u001b[34m[95]#011train-error:0.111133#011validation-error:0.1511\u001b[0m\n",
      "\u001b[34m[05:22:50] src/tree/updater_prune.cc:74: tree pruning end, 1 roots, 24 extra nodes, 8 pruned nodes, max_depth=5\u001b[0m\n",
      "\u001b[34m[96]#011train-error:0.111467#011validation-error:0.1511\u001b[0m\n",
      "\u001b[34m[05:22:51] src/tree/updater_prune.cc:74: tree pruning end, 1 roots, 16 extra nodes, 6 pruned nodes, max_depth=5\u001b[0m\n",
      "\u001b[34m[97]#011train-error:0.1108#011validation-error:0.1503\u001b[0m\n",
      "\u001b[34m[05:22:53] src/tree/updater_prune.cc:74: tree pruning end, 1 roots, 22 extra nodes, 8 pruned nodes, max_depth=5\u001b[0m\n",
      "\u001b[34m[98]#011train-error:0.11#011validation-error:0.15\u001b[0m\n",
      "\u001b[34m[05:22:54] src/tree/updater_prune.cc:74: tree pruning end, 1 roots, 24 extra nodes, 6 pruned nodes, max_depth=5\u001b[0m\n",
      "\u001b[34m[99]#011train-error:0.11#011validation-error:0.1501\u001b[0m\n",
      "\u001b[34m[05:22:55] src/tree/updater_prune.cc:74: tree pruning end, 1 roots, 14 extra nodes, 2 pruned nodes, max_depth=5\u001b[0m\n",
      "\u001b[34m[100]#011train-error:0.1088#011validation-error:0.1487\u001b[0m\n",
      "\u001b[34m[05:22:56] src/tree/updater_prune.cc:74: tree pruning end, 1 roots, 26 extra nodes, 6 pruned nodes, max_depth=5\u001b[0m\n",
      "\u001b[34m[101]#011train-error:0.108067#011validation-error:0.1484\u001b[0m\n",
      "\u001b[34m[05:22:58] src/tree/updater_prune.cc:74: tree pruning end, 1 roots, 20 extra nodes, 10 pruned nodes, max_depth=5\u001b[0m\n",
      "\u001b[34m[102]#011train-error:0.106867#011validation-error:0.1477\u001b[0m\n",
      "\u001b[34m[05:22:59] src/tree/updater_prune.cc:74: tree pruning end, 1 roots, 12 extra nodes, 6 pruned nodes, max_depth=5\u001b[0m\n",
      "\u001b[34m[103]#011train-error:0.106#011validation-error:0.1481\u001b[0m\n",
      "\u001b[34m[05:23:00] src/tree/updater_prune.cc:74: tree pruning end, 1 roots, 16 extra nodes, 12 pruned nodes, max_depth=5\u001b[0m\n",
      "\u001b[34m[104]#011train-error:0.106#011validation-error:0.1481\u001b[0m\n",
      "\u001b[34m[05:23:01] src/tree/updater_prune.cc:74: tree pruning end, 1 roots, 14 extra nodes, 12 pruned nodes, max_depth=5\u001b[0m\n",
      "\u001b[34m[105]#011train-error:0.1058#011validation-error:0.1485\u001b[0m\n",
      "\u001b[34m[05:23:03] src/tree/updater_prune.cc:74: tree pruning end, 1 roots, 16 extra nodes, 8 pruned nodes, max_depth=5\u001b[0m\n",
      "\u001b[34m[106]#011train-error:0.1058#011validation-error:0.1483\u001b[0m\n",
      "\u001b[34m[05:23:04] src/tree/updater_prune.cc:74: tree pruning end, 1 roots, 12 extra nodes, 12 pruned nodes, max_depth=5\u001b[0m\n",
      "\u001b[34m[107]#011train-error:0.1054#011validation-error:0.1475\u001b[0m\n",
      "\u001b[34m[05:23:05] src/tree/updater_prune.cc:74: tree pruning end, 1 roots, 22 extra nodes, 4 pruned nodes, max_depth=5\u001b[0m\n",
      "\u001b[34m[108]#011train-error:0.105067#011validation-error:0.148\u001b[0m\n",
      "\u001b[34m[05:23:06] src/tree/updater_prune.cc:74: tree pruning end, 1 roots, 16 extra nodes, 12 pruned nodes, max_depth=5\u001b[0m\n",
      "\u001b[34m[109]#011train-error:0.1046#011validation-error:0.1476\u001b[0m\n",
      "\u001b[34m[05:23:08] src/tree/updater_prune.cc:74: tree pruning end, 1 roots, 16 extra nodes, 14 pruned nodes, max_depth=5\u001b[0m\n",
      "\u001b[34m[110]#011train-error:0.103467#011validation-error:0.1476\u001b[0m\n",
      "\u001b[34m[05:23:09] src/tree/updater_prune.cc:74: tree pruning end, 1 roots, 10 extra nodes, 2 pruned nodes, max_depth=5\u001b[0m\n",
      "\u001b[34m[111]#011train-error:0.102533#011validation-error:0.1472\u001b[0m\n",
      "\u001b[34m[05:23:10] src/tree/updater_prune.cc:74: tree pruning end, 1 roots, 30 extra nodes, 10 pruned nodes, max_depth=5\u001b[0m\n",
      "\u001b[34m[112]#011train-error:0.101467#011validation-error:0.1462\u001b[0m\n",
      "\u001b[34m[05:23:11] src/tree/updater_prune.cc:74: tree pruning end, 1 roots, 16 extra nodes, 4 pruned nodes, max_depth=5\u001b[0m\n",
      "\u001b[34m[113]#011train-error:0.101267#011validation-error:0.1462\u001b[0m\n",
      "\u001b[34m[05:23:13] src/tree/updater_prune.cc:74: tree pruning end, 1 roots, 10 extra nodes, 6 pruned nodes, max_depth=5\u001b[0m\n",
      "\u001b[34m[114]#011train-error:0.101333#011validation-error:0.1456\u001b[0m\n",
      "\u001b[34m[05:23:14] src/tree/updater_prune.cc:74: tree pruning end, 1 roots, 10 extra nodes, 8 pruned nodes, max_depth=5\u001b[0m\n",
      "\u001b[34m[115]#011train-error:0.101133#011validation-error:0.1452\u001b[0m\n",
      "\u001b[34m[05:23:15] src/tree/updater_prune.cc:74: tree pruning end, 1 roots, 12 extra nodes, 8 pruned nodes, max_depth=5\u001b[0m\n",
      "\u001b[34m[116]#011train-error:0.101133#011validation-error:0.145\u001b[0m\n",
      "\u001b[34m[05:23:16] src/tree/updater_prune.cc:74: tree pruning end, 1 roots, 14 extra nodes, 12 pruned nodes, max_depth=5\u001b[0m\n",
      "\u001b[34m[117]#011train-error:0.1006#011validation-error:0.1457\u001b[0m\n",
      "\u001b[34m[05:23:18] src/tree/updater_prune.cc:74: tree pruning end, 1 roots, 18 extra nodes, 10 pruned nodes, max_depth=5\u001b[0m\n",
      "\u001b[34m[118]#011train-error:0.100133#011validation-error:0.1453\u001b[0m\n",
      "\u001b[34m[05:23:19] src/tree/updater_prune.cc:74: tree pruning end, 1 roots, 10 extra nodes, 8 pruned nodes, max_depth=5\u001b[0m\n",
      "\u001b[34m[119]#011train-error:0.100067#011validation-error:0.1451\u001b[0m\n",
      "\u001b[34m[05:23:20] src/tree/updater_prune.cc:74: tree pruning end, 1 roots, 14 extra nodes, 8 pruned nodes, max_depth=5\u001b[0m\n",
      "\u001b[34m[120]#011train-error:0.099667#011validation-error:0.1454\u001b[0m\n",
      "\u001b[34m[05:23:21] src/tree/updater_prune.cc:74: tree pruning end, 1 roots, 16 extra nodes, 8 pruned nodes, max_depth=5\u001b[0m\n",
      "\u001b[34m[121]#011train-error:0.099133#011validation-error:0.1449\u001b[0m\n",
      "\u001b[34m[05:23:23] src/tree/updater_prune.cc:74: tree pruning end, 1 roots, 18 extra nodes, 10 pruned nodes, max_depth=5\u001b[0m\n",
      "\u001b[34m[122]#011train-error:0.098667#011validation-error:0.1444\u001b[0m\n",
      "\u001b[34m[05:23:24] src/tree/updater_prune.cc:74: tree pruning end, 1 roots, 12 extra nodes, 2 pruned nodes, max_depth=5\u001b[0m\n",
      "\u001b[34m[123]#011train-error:0.098#011validation-error:0.1441\u001b[0m\n",
      "\u001b[34m[05:23:25] src/tree/updater_prune.cc:74: tree pruning end, 1 roots, 12 extra nodes, 6 pruned nodes, max_depth=5\u001b[0m\n",
      "\u001b[34m[124]#011train-error:0.0974#011validation-error:0.1437\u001b[0m\n",
      "\u001b[34m[05:23:27] src/tree/updater_prune.cc:74: tree pruning end, 1 roots, 12 extra nodes, 8 pruned nodes, max_depth=5\u001b[0m\n",
      "\u001b[34m[125]#011train-error:0.097667#011validation-error:0.1437\u001b[0m\n",
      "\u001b[34m[05:23:28] src/tree/updater_prune.cc:74: tree pruning end, 1 roots, 18 extra nodes, 6 pruned nodes, max_depth=5\u001b[0m\n",
      "\u001b[34m[126]#011train-error:0.097#011validation-error:0.1433\u001b[0m\n",
      "\u001b[34m[05:23:29] src/tree/updater_prune.cc:74: tree pruning end, 1 roots, 10 extra nodes, 2 pruned nodes, max_depth=5\u001b[0m\n",
      "\u001b[34m[127]#011train-error:0.0968#011validation-error:0.1433\u001b[0m\n",
      "\u001b[34m[05:23:30] src/tree/updater_prune.cc:74: tree pruning end, 1 roots, 14 extra nodes, 12 pruned nodes, max_depth=5\u001b[0m\n",
      "\u001b[34m[128]#011train-error:0.096533#011validation-error:0.1438\u001b[0m\n",
      "\u001b[34m[05:23:32] src/tree/updater_prune.cc:74: tree pruning end, 1 roots, 18 extra nodes, 6 pruned nodes, max_depth=5\u001b[0m\n",
      "\u001b[34m[129]#011train-error:0.0964#011validation-error:0.1439\u001b[0m\n",
      "\u001b[34m[05:23:33] src/tree/updater_prune.cc:74: tree pruning end, 1 roots, 16 extra nodes, 10 pruned nodes, max_depth=5\u001b[0m\n",
      "\u001b[34m[130]#011train-error:0.095867#011validation-error:0.143\u001b[0m\n",
      "\u001b[34m[05:23:34] src/tree/updater_prune.cc:74: tree pruning end, 1 roots, 14 extra nodes, 4 pruned nodes, max_depth=5\u001b[0m\n",
      "\u001b[34m[131]#011train-error:0.094467#011validation-error:0.1425\u001b[0m\n",
      "\u001b[34m[05:23:35] src/tree/updater_prune.cc:74: tree pruning end, 1 roots, 16 extra nodes, 4 pruned nodes, max_depth=5\u001b[0m\n",
      "\u001b[34m[132]#011train-error:0.094467#011validation-error:0.1425\u001b[0m\n",
      "\u001b[34m[05:23:37] src/tree/updater_prune.cc:74: tree pruning end, 1 roots, 14 extra nodes, 12 pruned nodes, max_depth=5\u001b[0m\n",
      "\u001b[34m[133]#011train-error:0.094667#011validation-error:0.1423\u001b[0m\n",
      "\u001b[34m[05:23:38] src/tree/updater_prune.cc:74: tree pruning end, 1 roots, 18 extra nodes, 6 pruned nodes, max_depth=5\u001b[0m\n",
      "\u001b[34m[134]#011train-error:0.0944#011validation-error:0.1411\u001b[0m\n",
      "\u001b[34m[05:23:39] src/tree/updater_prune.cc:74: tree pruning end, 1 roots, 10 extra nodes, 6 pruned nodes, max_depth=5\u001b[0m\n",
      "\u001b[34m[135]#011train-error:0.0942#011validation-error:0.1411\u001b[0m\n"
     ]
    },
    {
     "name": "stdout",
     "output_type": "stream",
     "text": [
      "\u001b[34m[05:23:40] src/tree/updater_prune.cc:74: tree pruning end, 1 roots, 20 extra nodes, 10 pruned nodes, max_depth=5\u001b[0m\n",
      "\u001b[34m[136]#011train-error:0.093267#011validation-error:0.1418\u001b[0m\n",
      "\u001b[34m[05:23:42] src/tree/updater_prune.cc:74: tree pruning end, 1 roots, 14 extra nodes, 14 pruned nodes, max_depth=5\u001b[0m\n",
      "\u001b[34m[137]#011train-error:0.093#011validation-error:0.1417\u001b[0m\n",
      "\u001b[34m[05:23:43] src/tree/updater_prune.cc:74: tree pruning end, 1 roots, 14 extra nodes, 6 pruned nodes, max_depth=5\u001b[0m\n",
      "\u001b[34m[138]#011train-error:0.092733#011validation-error:0.1411\u001b[0m\n",
      "\u001b[34m[05:23:44] src/tree/updater_prune.cc:74: tree pruning end, 1 roots, 10 extra nodes, 6 pruned nodes, max_depth=5\u001b[0m\n",
      "\u001b[34m[139]#011train-error:0.093#011validation-error:0.1415\u001b[0m\n",
      "\u001b[34m[05:23:45] src/tree/updater_prune.cc:74: tree pruning end, 1 roots, 14 extra nodes, 10 pruned nodes, max_depth=5\u001b[0m\n",
      "\u001b[34m[140]#011train-error:0.091733#011validation-error:0.1417\u001b[0m\n",
      "\u001b[34m[05:23:47] src/tree/updater_prune.cc:74: tree pruning end, 1 roots, 20 extra nodes, 10 pruned nodes, max_depth=5\u001b[0m\n",
      "\u001b[34m[141]#011train-error:0.091533#011validation-error:0.1407\u001b[0m\n",
      "\u001b[34m[05:23:48] src/tree/updater_prune.cc:74: tree pruning end, 1 roots, 10 extra nodes, 12 pruned nodes, max_depth=5\u001b[0m\n",
      "\u001b[34m[142]#011train-error:0.0916#011validation-error:0.1407\u001b[0m\n",
      "\u001b[34m[05:23:49] src/tree/updater_prune.cc:74: tree pruning end, 1 roots, 18 extra nodes, 10 pruned nodes, max_depth=5\u001b[0m\n",
      "\u001b[34m[143]#011train-error:0.091733#011validation-error:0.1407\u001b[0m\n",
      "\u001b[34m[05:23:50] src/tree/updater_prune.cc:74: tree pruning end, 1 roots, 14 extra nodes, 12 pruned nodes, max_depth=5\u001b[0m\n",
      "\u001b[34m[144]#011train-error:0.091133#011validation-error:0.1412\u001b[0m\n",
      "\u001b[34m[05:23:52] src/tree/updater_prune.cc:74: tree pruning end, 1 roots, 22 extra nodes, 16 pruned nodes, max_depth=5\u001b[0m\n",
      "\u001b[34m[145]#011train-error:0.090733#011validation-error:0.1396\u001b[0m\n",
      "\u001b[34m[05:23:53] src/tree/updater_prune.cc:74: tree pruning end, 1 roots, 28 extra nodes, 2 pruned nodes, max_depth=5\u001b[0m\n",
      "\u001b[34m[146]#011train-error:0.090133#011validation-error:0.1401\u001b[0m\n",
      "\u001b[34m[05:23:54] src/tree/updater_prune.cc:74: tree pruning end, 1 roots, 10 extra nodes, 4 pruned nodes, max_depth=5\u001b[0m\n",
      "\u001b[34m[147]#011train-error:0.0902#011validation-error:0.1404\u001b[0m\n",
      "\u001b[34m[05:23:55] src/tree/updater_prune.cc:74: tree pruning end, 1 roots, 10 extra nodes, 10 pruned nodes, max_depth=5\u001b[0m\n",
      "\u001b[34m[148]#011train-error:0.0898#011validation-error:0.14\u001b[0m\n",
      "\u001b[34m[05:23:57] src/tree/updater_prune.cc:74: tree pruning end, 1 roots, 10 extra nodes, 8 pruned nodes, max_depth=5\u001b[0m\n",
      "\u001b[34m[149]#011train-error:0.0898#011validation-error:0.1401\u001b[0m\n",
      "\u001b[34m[05:23:58] src/tree/updater_prune.cc:74: tree pruning end, 1 roots, 12 extra nodes, 10 pruned nodes, max_depth=5\u001b[0m\n",
      "\u001b[34m[150]#011train-error:0.089467#011validation-error:0.1399\u001b[0m\n",
      "\u001b[34m[05:23:59] src/tree/updater_prune.cc:74: tree pruning end, 1 roots, 10 extra nodes, 12 pruned nodes, max_depth=5\u001b[0m\n",
      "\u001b[34m[151]#011train-error:0.089067#011validation-error:0.1398\u001b[0m\n",
      "\u001b[34m[05:24:01] src/tree/updater_prune.cc:74: tree pruning end, 1 roots, 16 extra nodes, 10 pruned nodes, max_depth=5\u001b[0m\n",
      "\u001b[34m[152]#011train-error:0.0888#011validation-error:0.1399\u001b[0m\n",
      "\u001b[34m[05:24:02] src/tree/updater_prune.cc:74: tree pruning end, 1 roots, 12 extra nodes, 22 pruned nodes, max_depth=5\u001b[0m\n",
      "\u001b[34m[153]#011train-error:0.087867#011validation-error:0.1393\u001b[0m\n",
      "\u001b[34m[05:24:03] src/tree/updater_prune.cc:74: tree pruning end, 1 roots, 14 extra nodes, 6 pruned nodes, max_depth=5\u001b[0m\n",
      "\u001b[34m[154]#011train-error:0.088333#011validation-error:0.14\u001b[0m\n",
      "\u001b[34m[05:24:04] src/tree/updater_prune.cc:74: tree pruning end, 1 roots, 24 extra nodes, 8 pruned nodes, max_depth=5\u001b[0m\n",
      "\u001b[34m[155]#011train-error:0.088067#011validation-error:0.1393\u001b[0m\n",
      "\u001b[34m[05:24:06] src/tree/updater_prune.cc:74: tree pruning end, 1 roots, 12 extra nodes, 12 pruned nodes, max_depth=5\u001b[0m\n",
      "\u001b[34m[156]#011train-error:0.087667#011validation-error:0.1392\u001b[0m\n",
      "\u001b[34m[05:24:07] src/tree/updater_prune.cc:74: tree pruning end, 1 roots, 12 extra nodes, 8 pruned nodes, max_depth=5\u001b[0m\n",
      "\u001b[34m[157]#011train-error:0.087467#011validation-error:0.1393\u001b[0m\n",
      "\u001b[34m[05:24:08] src/tree/updater_prune.cc:74: tree pruning end, 1 roots, 16 extra nodes, 10 pruned nodes, max_depth=5\u001b[0m\n",
      "\u001b[34m[158]#011train-error:0.087267#011validation-error:0.1382\u001b[0m\n",
      "\u001b[34m[05:24:09] src/tree/updater_prune.cc:74: tree pruning end, 1 roots, 14 extra nodes, 6 pruned nodes, max_depth=5\u001b[0m\n",
      "\u001b[34m[159]#011train-error:0.086933#011validation-error:0.1388\u001b[0m\n",
      "\u001b[34m[05:24:11] src/tree/updater_prune.cc:74: tree pruning end, 1 roots, 16 extra nodes, 12 pruned nodes, max_depth=5\u001b[0m\n",
      "\u001b[34m[160]#011train-error:0.086867#011validation-error:0.1385\u001b[0m\n",
      "\u001b[34m[05:24:12] src/tree/updater_prune.cc:74: tree pruning end, 1 roots, 14 extra nodes, 8 pruned nodes, max_depth=5\u001b[0m\n",
      "\u001b[34m[161]#011train-error:0.086667#011validation-error:0.1377\u001b[0m\n",
      "\u001b[34m[05:24:13] src/tree/updater_prune.cc:74: tree pruning end, 1 roots, 14 extra nodes, 4 pruned nodes, max_depth=5\u001b[0m\n",
      "\u001b[34m[162]#011train-error:0.086267#011validation-error:0.1382\u001b[0m\n",
      "\u001b[34m[05:24:14] src/tree/updater_prune.cc:74: tree pruning end, 1 roots, 12 extra nodes, 4 pruned nodes, max_depth=5\u001b[0m\n",
      "\u001b[34m[163]#011train-error:0.0864#011validation-error:0.1383\u001b[0m\n",
      "\u001b[34m[05:24:16] src/tree/updater_prune.cc:74: tree pruning end, 1 roots, 10 extra nodes, 8 pruned nodes, max_depth=5\u001b[0m\n",
      "\u001b[34m[164]#011train-error:0.0864#011validation-error:0.1381\u001b[0m\n",
      "\u001b[34m[05:24:17] src/tree/updater_prune.cc:74: tree pruning end, 1 roots, 10 extra nodes, 6 pruned nodes, max_depth=5\u001b[0m\n",
      "\u001b[34m[165]#011train-error:0.0862#011validation-error:0.1376\u001b[0m\n",
      "\u001b[34m[05:24:18] src/tree/updater_prune.cc:74: tree pruning end, 1 roots, 10 extra nodes, 10 pruned nodes, max_depth=5\u001b[0m\n",
      "\u001b[34m[166]#011train-error:0.086533#011validation-error:0.1381\u001b[0m\n",
      "\u001b[34m[05:24:19] src/tree/updater_prune.cc:74: tree pruning end, 1 roots, 12 extra nodes, 8 pruned nodes, max_depth=5\u001b[0m\n",
      "\u001b[34m[167]#011train-error:0.086333#011validation-error:0.1385\u001b[0m\n",
      "\u001b[34m[05:24:21] src/tree/updater_prune.cc:74: tree pruning end, 1 roots, 10 extra nodes, 4 pruned nodes, max_depth=5\u001b[0m\n",
      "\u001b[34m[168]#011train-error:0.086533#011validation-error:0.1382\u001b[0m\n",
      "\u001b[34m[05:24:22] src/tree/updater_prune.cc:74: tree pruning end, 1 roots, 14 extra nodes, 12 pruned nodes, max_depth=5\u001b[0m\n",
      "\u001b[34m[169]#011train-error:0.085733#011validation-error:0.1385\u001b[0m\n",
      "\u001b[34m[05:24:23] src/tree/updater_prune.cc:74: tree pruning end, 1 roots, 12 extra nodes, 4 pruned nodes, max_depth=5\u001b[0m\n",
      "\u001b[34m[170]#011train-error:0.0858#011validation-error:0.139\u001b[0m\n",
      "\u001b[34m[05:24:25] src/tree/updater_prune.cc:74: tree pruning end, 1 roots, 18 extra nodes, 6 pruned nodes, max_depth=5\u001b[0m\n",
      "\u001b[34m[171]#011train-error:0.0848#011validation-error:0.1383\u001b[0m\n",
      "\u001b[34m[05:24:26] src/tree/updater_prune.cc:74: tree pruning end, 1 roots, 18 extra nodes, 8 pruned nodes, max_depth=5\u001b[0m\n",
      "\u001b[34m[172]#011train-error:0.084667#011validation-error:0.1385\u001b[0m\n",
      "\u001b[34m[05:24:27] src/tree/updater_prune.cc:74: tree pruning end, 1 roots, 14 extra nodes, 12 pruned nodes, max_depth=5\u001b[0m\n",
      "\u001b[34m[173]#011train-error:0.084533#011validation-error:0.1383\u001b[0m\n",
      "\u001b[34m[05:24:28] src/tree/updater_prune.cc:74: tree pruning end, 1 roots, 12 extra nodes, 6 pruned nodes, max_depth=5\u001b[0m\n",
      "\u001b[34m[174]#011train-error:0.084267#011validation-error:0.1376\u001b[0m\n",
      "\u001b[34m[05:24:30] src/tree/updater_prune.cc:74: tree pruning end, 1 roots, 14 extra nodes, 2 pruned nodes, max_depth=5\u001b[0m\n",
      "\u001b[34m[175]#011train-error:0.084#011validation-error:0.1368\u001b[0m\n",
      "\u001b[34m[05:24:31] src/tree/updater_prune.cc:74: tree pruning end, 1 roots, 12 extra nodes, 8 pruned nodes, max_depth=5\u001b[0m\n",
      "\u001b[34m[176]#011train-error:0.0834#011validation-error:0.1354\u001b[0m\n",
      "\u001b[34m[05:24:32] src/tree/updater_prune.cc:74: tree pruning end, 1 roots, 12 extra nodes, 4 pruned nodes, max_depth=5\u001b[0m\n",
      "\u001b[34m[177]#011train-error:0.0836#011validation-error:0.1369\u001b[0m\n",
      "\u001b[34m[05:24:33] src/tree/updater_prune.cc:74: tree pruning end, 1 roots, 12 extra nodes, 14 pruned nodes, max_depth=5\u001b[0m\n",
      "\u001b[34m[178]#011train-error:0.0832#011validation-error:0.1364\u001b[0m\n",
      "\u001b[34m[05:24:35] src/tree/updater_prune.cc:74: tree pruning end, 1 roots, 14 extra nodes, 8 pruned nodes, max_depth=5\u001b[0m\n",
      "\u001b[34m[179]#011train-error:0.0834#011validation-error:0.1363\u001b[0m\n",
      "\u001b[34m[05:24:36] src/tree/updater_prune.cc:74: tree pruning end, 1 roots, 14 extra nodes, 12 pruned nodes, max_depth=5\u001b[0m\n",
      "\u001b[34m[180]#011train-error:0.083533#011validation-error:0.1367\u001b[0m\n",
      "\u001b[34m[05:24:37] src/tree/updater_prune.cc:74: tree pruning end, 1 roots, 12 extra nodes, 8 pruned nodes, max_depth=5\u001b[0m\n",
      "\u001b[34m[181]#011train-error:0.083467#011validation-error:0.1364\u001b[0m\n",
      "\u001b[34m[05:24:38] src/tree/updater_prune.cc:74: tree pruning end, 1 roots, 16 extra nodes, 14 pruned nodes, max_depth=5\u001b[0m\n",
      "\u001b[34m[182]#011train-error:0.0832#011validation-error:0.1368\u001b[0m\n",
      "\u001b[34m[05:24:40] src/tree/updater_prune.cc:74: tree pruning end, 1 roots, 10 extra nodes, 16 pruned nodes, max_depth=5\u001b[0m\n",
      "\u001b[34m[183]#011train-error:0.083333#011validation-error:0.1367\u001b[0m\n"
     ]
    },
    {
     "name": "stdout",
     "output_type": "stream",
     "text": [
      "\u001b[34m[05:24:41] src/tree/updater_prune.cc:74: tree pruning end, 1 roots, 16 extra nodes, 6 pruned nodes, max_depth=5\u001b[0m\n",
      "\u001b[34m[184]#011train-error:0.082467#011validation-error:0.1367\u001b[0m\n",
      "\u001b[34m[05:24:42] src/tree/updater_prune.cc:74: tree pruning end, 1 roots, 10 extra nodes, 4 pruned nodes, max_depth=5\u001b[0m\n",
      "\u001b[34m[185]#011train-error:0.082467#011validation-error:0.1368\u001b[0m\n",
      "\u001b[34m[05:24:44] src/tree/updater_prune.cc:74: tree pruning end, 1 roots, 10 extra nodes, 2 pruned nodes, max_depth=5\u001b[0m\n",
      "\u001b[34m[186]#011train-error:0.082333#011validation-error:0.1371\u001b[0m\n",
      "\u001b[34mStopping. Best iteration:\u001b[0m\n",
      "\u001b[34m[176]#011train-error:0.0834#011validation-error:0.1354\n",
      "\u001b[0m\n",
      "\n",
      "2020-02-07 05:24:54 Uploading - Uploading generated training model\n",
      "2020-02-07 05:24:54 Completed - Training job completed\n",
      "Training seconds: 308\n",
      "Billable seconds: 308\n"
     ]
    }
   ],
   "source": [
    "xgb.fit({'train': s3_input_train, 'validation': s3_input_validation})"
   ]
  },
  {
   "cell_type": "markdown",
   "metadata": {},
   "source": [
    "### Testing the model\n",
    "\n",
    "Now that we've fit our XGBoost model, it's time to see how well it performs. To do this we will use SageMakers Batch Transform functionality. Batch Transform is a convenient way to perform inference on a large dataset in a way that is not realtime. That is, we don't necessarily need to use our model's results immediately and instead we can peform inference on a large number of samples. An example of this in industry might be peforming an end of month report. This method of inference can also be useful to us as it means to can perform inference on our entire test set. \n",
    "\n",
    "To perform a Batch Transformation we need to first create a transformer objects from our trained estimator object."
   ]
  },
  {
   "cell_type": "code",
   "execution_count": 25,
   "metadata": {},
   "outputs": [],
   "source": [
    "xgb_transformer = xgb.transformer(instance_count = 1, instance_type = 'ml.m4.xlarge')"
   ]
  },
  {
   "cell_type": "markdown",
   "metadata": {},
   "source": [
    "Next we actually perform the transform job. When doing so we need to make sure to specify the type of data we are sending so that it is serialized correctly in the background. In our case we are providing our model with csv data so we specify `text/csv`. Also, if the test data that we have provided is too large to process all at once then we need to specify how the data file should be split up. Since each line is a single entry in our data set we tell SageMaker that it can split the input on each line."
   ]
  },
  {
   "cell_type": "code",
   "execution_count": 26,
   "metadata": {},
   "outputs": [],
   "source": [
    "xgb_transformer.transform(test_location, content_type='text/csv', split_type='Line')"
   ]
  },
  {
   "cell_type": "markdown",
   "metadata": {},
   "source": [
    "Currently the transform job is running but it is doing so in the background. Since we wish to wait until the transform job is done and we would like a bit of feedback we can run the `wait()` method."
   ]
  },
  {
   "cell_type": "code",
   "execution_count": 27,
   "metadata": {},
   "outputs": [
    {
     "name": "stdout",
     "output_type": "stream",
     "text": [
      "......................\u001b[34mArguments: serve\u001b[0m\n",
      "\u001b[34m[2020-02-07 05:28:54 +0000] [1] [INFO] Starting gunicorn 19.7.1\u001b[0m\n",
      "\u001b[34m[2020-02-07 05:28:54 +0000] [1] [INFO] Listening at: http://0.0.0.0:8080 (1)\u001b[0m\n",
      "\u001b[34m[2020-02-07 05:28:54 +0000] [1] [INFO] Using worker: gevent\u001b[0m\n",
      "\u001b[34m[2020-02-07 05:28:54 +0000] [38] [INFO] Booting worker with pid: 38\u001b[0m\n",
      "\u001b[34m[2020-02-07 05:28:54 +0000] [39] [INFO] Booting worker with pid: 39\u001b[0m\n",
      "\u001b[34m[2020-02-07 05:28:54 +0000] [40] [INFO] Booting worker with pid: 40\u001b[0m\n",
      "\u001b[34m[2020-02-07 05:28:54 +0000] [41] [INFO] Booting worker with pid: 41\u001b[0m\n",
      "\u001b[34m[2020-02-07:05:28:54:INFO] Model loaded successfully for worker : 38\u001b[0m\n",
      "\u001b[34m[2020-02-07:05:28:54:INFO] Model loaded successfully for worker : 39\u001b[0m\n",
      "\u001b[34m[2020-02-07:05:28:54:INFO] Model loaded successfully for worker : 40\u001b[0m\n",
      "\u001b[34m[2020-02-07:05:28:54:INFO] Model loaded successfully for worker : 41\u001b[0m\n",
      "\u001b[34m[2020-02-07:05:29:29:INFO] Sniff delimiter as ','\u001b[0m\n",
      "\u001b[34m[2020-02-07:05:29:29:INFO] Determined delimiter of CSV input is ','\u001b[0m\n",
      "\u001b[35m[2020-02-07:05:29:29:INFO] Sniff delimiter as ','\u001b[0m\n",
      "\u001b[35m[2020-02-07:05:29:29:INFO] Determined delimiter of CSV input is ','\u001b[0m\n",
      "\u001b[32m2020-02-07T05:29:25.994:[sagemaker logs]: MaxConcurrentTransforms=4, MaxPayloadInMB=6, BatchStrategy=MULTI_RECORD\u001b[0m\n",
      "\u001b[34m[2020-02-07:05:29:29:INFO] Sniff delimiter as ','\u001b[0m\n",
      "\u001b[34m[2020-02-07:05:29:29:INFO] Determined delimiter of CSV input is ','\u001b[0m\n",
      "\u001b[34m[2020-02-07:05:29:29:INFO] Sniff delimiter as ','\u001b[0m\n",
      "\u001b[34m[2020-02-07:05:29:29:INFO] Determined delimiter of CSV input is ','\u001b[0m\n",
      "\u001b[34m[2020-02-07:05:29:29:INFO] Sniff delimiter as ','\u001b[0m\n",
      "\u001b[34m[2020-02-07:05:29:29:INFO] Determined delimiter of CSV input is ','\u001b[0m\n",
      "\u001b[35m[2020-02-07:05:29:29:INFO] Sniff delimiter as ','\u001b[0m\n",
      "\u001b[35m[2020-02-07:05:29:29:INFO] Determined delimiter of CSV input is ','\u001b[0m\n",
      "\u001b[35m[2020-02-07:05:29:29:INFO] Sniff delimiter as ','\u001b[0m\n",
      "\u001b[35m[2020-02-07:05:29:29:INFO] Determined delimiter of CSV input is ','\u001b[0m\n",
      "\u001b[35m[2020-02-07:05:29:29:INFO] Sniff delimiter as ','\u001b[0m\n",
      "\u001b[35m[2020-02-07:05:29:29:INFO] Determined delimiter of CSV input is ','\u001b[0m\n",
      "\u001b[34m[2020-02-07:05:29:31:INFO] Sniff delimiter as ','\u001b[0m\n",
      "\u001b[35m[2020-02-07:05:29:31:INFO] Sniff delimiter as ','\u001b[0m\n",
      "\u001b[34m[2020-02-07:05:29:31:INFO] Determined delimiter of CSV input is ','\u001b[0m\n",
      "\u001b[35m[2020-02-07:05:29:31:INFO] Determined delimiter of CSV input is ','\u001b[0m\n",
      "\u001b[34m[2020-02-07:05:29:31:INFO] Sniff delimiter as ','\u001b[0m\n",
      "\u001b[34m[2020-02-07:05:29:31:INFO] Determined delimiter of CSV input is ','\u001b[0m\n",
      "\u001b[34m[2020-02-07:05:29:32:INFO] Sniff delimiter as ','\u001b[0m\n",
      "\u001b[35m[2020-02-07:05:29:31:INFO] Sniff delimiter as ','\u001b[0m\n",
      "\u001b[35m[2020-02-07:05:29:31:INFO] Determined delimiter of CSV input is ','\u001b[0m\n",
      "\u001b[35m[2020-02-07:05:29:32:INFO] Sniff delimiter as ','\u001b[0m\n",
      "\u001b[34m[2020-02-07:05:29:32:INFO] Determined delimiter of CSV input is ','\u001b[0m\n",
      "\u001b[34m[2020-02-07:05:29:32:INFO] Sniff delimiter as ','\u001b[0m\n",
      "\u001b[34m[2020-02-07:05:29:32:INFO] Determined delimiter of CSV input is ','\u001b[0m\n",
      "\u001b[35m[2020-02-07:05:29:32:INFO] Determined delimiter of CSV input is ','\u001b[0m\n",
      "\u001b[35m[2020-02-07:05:29:32:INFO] Sniff delimiter as ','\u001b[0m\n",
      "\u001b[35m[2020-02-07:05:29:32:INFO] Determined delimiter of CSV input is ','\u001b[0m\n",
      "\u001b[34m[2020-02-07:05:29:34:INFO] Determined delimiter of CSV input is ','\u001b[0m\n",
      "\u001b[34m[2020-02-07:05:29:34:INFO] Sniff delimiter as ','\u001b[0m\n",
      "\u001b[34m[2020-02-07:05:29:34:INFO] Determined delimiter of CSV input is ','\u001b[0m\n",
      "\u001b[34m[2020-02-07:05:29:34:INFO] Sniff delimiter as ','\u001b[0m\n",
      "\u001b[34m[2020-02-07:05:29:34:INFO] Determined delimiter of CSV input is ','\u001b[0m\n",
      "\u001b[35m[2020-02-07:05:29:34:INFO] Determined delimiter of CSV input is ','\u001b[0m\n",
      "\u001b[35m[2020-02-07:05:29:34:INFO] Sniff delimiter as ','\u001b[0m\n",
      "\u001b[35m[2020-02-07:05:29:34:INFO] Determined delimiter of CSV input is ','\u001b[0m\n",
      "\u001b[35m[2020-02-07:05:29:34:INFO] Sniff delimiter as ','\u001b[0m\n",
      "\u001b[35m[2020-02-07:05:29:34:INFO] Determined delimiter of CSV input is ','\u001b[0m\n",
      "\u001b[34m[2020-02-07:05:29:36:INFO] Sniff delimiter as ','\u001b[0m\n",
      "\u001b[35m[2020-02-07:05:29:36:INFO] Sniff delimiter as ','\u001b[0m\n",
      "\u001b[34m[2020-02-07:05:29:36:INFO] Determined delimiter of CSV input is ','\u001b[0m\n",
      "\u001b[34m[2020-02-07:05:29:36:INFO] Sniff delimiter as ','\u001b[0m\n",
      "\u001b[34m[2020-02-07:05:29:36:INFO] Determined delimiter of CSV input is ','\u001b[0m\n",
      "\u001b[35m[2020-02-07:05:29:36:INFO] Determined delimiter of CSV input is ','\u001b[0m\n",
      "\u001b[35m[2020-02-07:05:29:36:INFO] Sniff delimiter as ','\u001b[0m\n",
      "\u001b[35m[2020-02-07:05:29:36:INFO] Determined delimiter of CSV input is ','\u001b[0m\n",
      "\u001b[34m[2020-02-07:05:29:36:INFO] Sniff delimiter as ','\u001b[0m\n",
      "\u001b[34m[2020-02-07:05:29:36:INFO] Determined delimiter of CSV input is ','\u001b[0m\n",
      "\u001b[34m[2020-02-07:05:29:37:INFO] Sniff delimiter as ','\u001b[0m\n",
      "\u001b[34m[2020-02-07:05:29:37:INFO] Determined delimiter of CSV input is ','\u001b[0m\n",
      "\u001b[35m[2020-02-07:05:29:36:INFO] Sniff delimiter as ','\u001b[0m\n",
      "\u001b[35m[2020-02-07:05:29:36:INFO] Determined delimiter of CSV input is ','\u001b[0m\n",
      "\u001b[35m[2020-02-07:05:29:37:INFO] Sniff delimiter as ','\u001b[0m\n",
      "\u001b[35m[2020-02-07:05:29:37:INFO] Determined delimiter of CSV input is ','\u001b[0m\n",
      "\u001b[34m[2020-02-07:05:29:39:INFO] Sniff delimiter as ','\u001b[0m\n",
      "\u001b[34m[2020-02-07:05:29:39:INFO] Determined delimiter of CSV input is ','\u001b[0m\n",
      "\u001b[35m[2020-02-07:05:29:39:INFO] Sniff delimiter as ','\u001b[0m\n",
      "\u001b[35m[2020-02-07:05:29:39:INFO] Determined delimiter of CSV input is ','\u001b[0m\n",
      "\u001b[34m[2020-02-07:05:29:39:INFO] Sniff delimiter as ','\u001b[0m\n",
      "\u001b[34m[2020-02-07:05:29:39:INFO] Determined delimiter of CSV input is ','\u001b[0m\n",
      "\u001b[34m[2020-02-07:05:29:39:INFO] Sniff delimiter as ','\u001b[0m\n",
      "\u001b[34m[2020-02-07:05:29:39:INFO] Determined delimiter of CSV input is ','\u001b[0m\n",
      "\u001b[34m[2020-02-07:05:29:39:INFO] Sniff delimiter as ','\u001b[0m\n",
      "\u001b[34m[2020-02-07:05:29:39:INFO] Determined delimiter of CSV input is ','\u001b[0m\n",
      "\u001b[35m[2020-02-07:05:29:39:INFO] Sniff delimiter as ','\u001b[0m\n",
      "\u001b[35m[2020-02-07:05:29:39:INFO] Determined delimiter of CSV input is ','\u001b[0m\n",
      "\u001b[35m[2020-02-07:05:29:39:INFO] Sniff delimiter as ','\u001b[0m\n",
      "\u001b[35m[2020-02-07:05:29:39:INFO] Determined delimiter of CSV input is ','\u001b[0m\n",
      "\u001b[35m[2020-02-07:05:29:39:INFO] Sniff delimiter as ','\u001b[0m\n",
      "\u001b[35m[2020-02-07:05:29:39:INFO] Determined delimiter of CSV input is ','\u001b[0m\n",
      "\u001b[34m[2020-02-07:05:29:41:INFO] Sniff delimiter as ','\u001b[0m\n",
      "\u001b[34m[2020-02-07:05:29:41:INFO] Determined delimiter of CSV input is ','\u001b[0m\n",
      "\u001b[35m[2020-02-07:05:29:41:INFO] Sniff delimiter as ','\u001b[0m\n",
      "\u001b[35m[2020-02-07:05:29:41:INFO] Determined delimiter of CSV input is ','\u001b[0m\n",
      "\u001b[34m[2020-02-07:05:29:41:INFO] Sniff delimiter as ','\u001b[0m\n",
      "\u001b[34m[2020-02-07:05:29:41:INFO] Determined delimiter of CSV input is ','\u001b[0m\n",
      "\u001b[34m[2020-02-07:05:29:41:INFO] Sniff delimiter as ','\u001b[0m\n",
      "\u001b[34m[2020-02-07:05:29:41:INFO] Determined delimiter of CSV input is ','\u001b[0m\n",
      "\u001b[35m[2020-02-07:05:29:41:INFO] Sniff delimiter as ','\u001b[0m\n",
      "\u001b[35m[2020-02-07:05:29:41:INFO] Determined delimiter of CSV input is ','\u001b[0m\n",
      "\u001b[35m[2020-02-07:05:29:41:INFO] Sniff delimiter as ','\u001b[0m\n",
      "\u001b[35m[2020-02-07:05:29:41:INFO] Determined delimiter of CSV input is ','\u001b[0m\n",
      "\u001b[34m[2020-02-07:05:29:42:INFO] Sniff delimiter as ','\u001b[0m\n",
      "\u001b[34m[2020-02-07:05:29:42:INFO] Determined delimiter of CSV input is ','\u001b[0m\n",
      "\u001b[35m[2020-02-07:05:29:42:INFO] Sniff delimiter as ','\u001b[0m\n",
      "\u001b[35m[2020-02-07:05:29:42:INFO] Determined delimiter of CSV input is ','\u001b[0m\n",
      "\n",
      "\u001b[34m[2020-02-07:05:29:44:INFO] Sniff delimiter as ','\u001b[0m\n",
      "\u001b[34m[2020-02-07:05:29:44:INFO] Determined delimiter of CSV input is ','\u001b[0m\n",
      "\u001b[34m[2020-02-07:05:29:44:INFO] Sniff delimiter as ','\u001b[0m\n",
      "\u001b[34m[2020-02-07:05:29:44:INFO] Determined delimiter of CSV input is ','\u001b[0m\n",
      "\u001b[34m[2020-02-07:05:29:44:INFO] Sniff delimiter as ','\u001b[0m\n",
      "\u001b[34m[2020-02-07:05:29:44:INFO] Determined delimiter of CSV input is ','\u001b[0m\n",
      "\u001b[35m[2020-02-07:05:29:44:INFO] Sniff delimiter as ','\u001b[0m\n",
      "\u001b[35m[2020-02-07:05:29:44:INFO] Determined delimiter of CSV input is ','\u001b[0m\n",
      "\u001b[35m[2020-02-07:05:29:44:INFO] Sniff delimiter as ','\u001b[0m\n",
      "\u001b[35m[2020-02-07:05:29:44:INFO] Determined delimiter of CSV input is ','\u001b[0m\n",
      "\u001b[35m[2020-02-07:05:29:44:INFO] Sniff delimiter as ','\u001b[0m\n",
      "\u001b[35m[2020-02-07:05:29:44:INFO] Determined delimiter of CSV input is ','\u001b[0m\n",
      "\u001b[34m[2020-02-07:05:29:46:INFO] Sniff delimiter as ','\u001b[0m\n",
      "\u001b[34m[2020-02-07:05:29:46:INFO] Determined delimiter of CSV input is ','\u001b[0m\n",
      "\u001b[34m[2020-02-07:05:29:46:INFO] Sniff delimiter as ','\u001b[0m\n",
      "\u001b[34m[2020-02-07:05:29:46:INFO] Determined delimiter of CSV input is ','\u001b[0m\n",
      "\u001b[34m[2020-02-07:05:29:46:INFO] Sniff delimiter as ','\u001b[0m\n",
      "\u001b[34m[2020-02-07:05:29:46:INFO] Determined delimiter of CSV input is ','\u001b[0m\n",
      "\u001b[35m[2020-02-07:05:29:46:INFO] Sniff delimiter as ','\u001b[0m\n",
      "\u001b[35m[2020-02-07:05:29:46:INFO] Determined delimiter of CSV input is ','\u001b[0m\n",
      "\u001b[35m[2020-02-07:05:29:46:INFO] Sniff delimiter as ','\u001b[0m\n",
      "\u001b[35m[2020-02-07:05:29:46:INFO] Determined delimiter of CSV input is ','\u001b[0m\n",
      "\u001b[35m[2020-02-07:05:29:46:INFO] Sniff delimiter as ','\u001b[0m\n",
      "\u001b[35m[2020-02-07:05:29:46:INFO] Determined delimiter of CSV input is ','\u001b[0m\n",
      "\u001b[34m[2020-02-07:05:29:46:INFO] Sniff delimiter as ','\u001b[0m\n",
      "\u001b[34m[2020-02-07:05:29:46:INFO] Determined delimiter of CSV input is ','\u001b[0m\n",
      "\u001b[35m[2020-02-07:05:29:46:INFO] Sniff delimiter as ','\u001b[0m\n",
      "\u001b[35m[2020-02-07:05:29:46:INFO] Determined delimiter of CSV input is ','\u001b[0m\n",
      "\u001b[34m[2020-02-07:05:29:48:INFO] Sniff delimiter as ','\u001b[0m\n",
      "\u001b[34m[2020-02-07:05:29:48:INFO] Determined delimiter of CSV input is ','\u001b[0m\n",
      "\u001b[34m[2020-02-07:05:29:48:INFO] Sniff delimiter as ','\u001b[0m\n",
      "\u001b[34m[2020-02-07:05:29:48:INFO] Determined delimiter of CSV input is ','\u001b[0m\n",
      "\u001b[34m[2020-02-07:05:29:49:INFO] Sniff delimiter as ','\u001b[0m\n",
      "\u001b[34m[2020-02-07:05:29:49:INFO] Determined delimiter of CSV input is ','\u001b[0m\n",
      "\u001b[34m[2020-02-07:05:29:49:INFO] Sniff delimiter as ','\u001b[0m\n",
      "\u001b[34m[2020-02-07:05:29:49:INFO] Determined delimiter of CSV input is ','\u001b[0m\n",
      "\u001b[35m[2020-02-07:05:29:48:INFO] Sniff delimiter as ','\u001b[0m\n",
      "\u001b[35m[2020-02-07:05:29:48:INFO] Determined delimiter of CSV input is ','\u001b[0m\n",
      "\u001b[35m[2020-02-07:05:29:48:INFO] Sniff delimiter as ','\u001b[0m\n",
      "\u001b[35m[2020-02-07:05:29:48:INFO] Determined delimiter of CSV input is ','\u001b[0m\n",
      "\u001b[35m[2020-02-07:05:29:49:INFO] Sniff delimiter as ','\u001b[0m\n",
      "\u001b[35m[2020-02-07:05:29:49:INFO] Determined delimiter of CSV input is ','\u001b[0m\n",
      "\u001b[35m[2020-02-07:05:29:49:INFO] Sniff delimiter as ','\u001b[0m\n",
      "\u001b[35m[2020-02-07:05:29:49:INFO] Determined delimiter of CSV input is ','\u001b[0m\n",
      "\u001b[34m[2020-02-07:05:29:51:INFO] Sniff delimiter as ','\u001b[0m\n",
      "\u001b[34m[2020-02-07:05:29:51:INFO] Determined delimiter of CSV input is ','\u001b[0m\n",
      "\u001b[34m[2020-02-07:05:29:51:INFO] Sniff delimiter as ','\u001b[0m\n",
      "\u001b[34m[2020-02-07:05:29:51:INFO] Determined delimiter of CSV input is ','\u001b[0m\n",
      "\u001b[34m[2020-02-07:05:29:51:INFO] Sniff delimiter as ','\u001b[0m\n",
      "\u001b[34m[2020-02-07:05:29:51:INFO] Determined delimiter of CSV input is ','\u001b[0m\n",
      "\u001b[34m[2020-02-07:05:29:51:INFO] Sniff delimiter as ','\u001b[0m\n",
      "\u001b[35m[2020-02-07:05:29:51:INFO] Sniff delimiter as ','\u001b[0m\n",
      "\u001b[35m[2020-02-07:05:29:51:INFO] Determined delimiter of CSV input is ','\u001b[0m\n",
      "\u001b[35m[2020-02-07:05:29:51:INFO] Sniff delimiter as ','\u001b[0m\n",
      "\u001b[35m[2020-02-07:05:29:51:INFO] Determined delimiter of CSV input is ','\u001b[0m\n",
      "\u001b[35m[2020-02-07:05:29:51:INFO] Sniff delimiter as ','\u001b[0m\n",
      "\u001b[35m[2020-02-07:05:29:51:INFO] Determined delimiter of CSV input is ','\u001b[0m\n",
      "\u001b[35m[2020-02-07:05:29:51:INFO] Sniff delimiter as ','\u001b[0m\n",
      "\u001b[34m[2020-02-07:05:29:51:INFO] Determined delimiter of CSV input is ','\u001b[0m\n",
      "\u001b[35m[2020-02-07:05:29:51:INFO] Determined delimiter of CSV input is ','\u001b[0m\n"
     ]
    }
   ],
   "source": [
    "xgb_transformer.wait()"
   ]
  },
  {
   "cell_type": "markdown",
   "metadata": {},
   "source": [
    "Now the transform job has executed and the result, the estimated sentiment of each review, has been saved on S3. Since we would rather work on this file locally we can perform a bit of notebook magic to copy the file to the `data_dir`."
   ]
  },
  {
   "cell_type": "code",
   "execution_count": 28,
   "metadata": {},
   "outputs": [
    {
     "name": "stdout",
     "output_type": "stream",
     "text": [
      "Completed 256.0 KiB/370.4 KiB (1.5 MiB/s) with 1 file(s) remaining\r",
      "Completed 370.4 KiB/370.4 KiB (2.2 MiB/s) with 1 file(s) remaining\r",
      "download: s3://sagemaker-us-east-1-174814400447/xgboost-2020-02-07-05-25-27-287/test.csv.out to ../data/sentiment_update/test.csv.out\r\n"
     ]
    }
   ],
   "source": [
    "!aws s3 cp --recursive $xgb_transformer.output_path $data_dir"
   ]
  },
  {
   "cell_type": "markdown",
   "metadata": {},
   "source": [
    "The last step is now to read in the output from our model, convert the output to something a little more usable, in this case we want the sentiment to be either `1` (positive) or `0` (negative), and then compare to the ground truth labels."
   ]
  },
  {
   "cell_type": "code",
   "execution_count": 29,
   "metadata": {},
   "outputs": [],
   "source": [
    "predictions = pd.read_csv(os.path.join(data_dir, 'test.csv.out'), header=None)\n",
    "predictions = [round(num) for num in predictions.squeeze().values]"
   ]
  },
  {
   "cell_type": "code",
   "execution_count": 30,
   "metadata": {},
   "outputs": [
    {
     "data": {
      "text/plain": [
       "0.86104"
      ]
     },
     "execution_count": 30,
     "metadata": {},
     "output_type": "execute_result"
    }
   ],
   "source": [
    "from sklearn.metrics import accuracy_score\n",
    "accuracy_score(test_y, predictions)"
   ]
  },
  {
   "cell_type": "markdown",
   "metadata": {},
   "source": [
    "## Step 5: Looking at New Data\n",
    "\n",
    "So now we have an XGBoost sentiment analysis model that we believe is working pretty well. As a result, we deployed it and we are using it in some sort of app.\n",
    "\n",
    "However, as we allow users to use our app we periodically record submitted movie reviews so that we can perform some quality control on our deployed model. Once we've accumulated enough reviews we go through them by hand and evaluate whether they are positive or negative (there are many ways you might do this in practice aside from by hand). The reason for doing this is so that we can check to see how well our model is doing."
   ]
  },
  {
   "cell_type": "code",
   "execution_count": 31,
   "metadata": {},
   "outputs": [],
   "source": [
    "import new_data\n",
    "\n",
    "new_X, new_Y = new_data.get_new_data()"
   ]
  },
  {
   "cell_type": "markdown",
   "metadata": {},
   "source": [
    "**NOTE:** Part of the fun in this notebook is trying to figure out what exactly is happening with the new data, so try not to cheat by looking in the `new_data` module. Also, the `new_data` module assumes that the cache created earlier in Step 3 is still stored in `../cache/sentiment_analysis`."
   ]
  },
  {
   "cell_type": "markdown",
   "metadata": {},
   "source": [
    "### (TODO) Testing the current model\n",
    "\n",
    "Now that we've loaded the new data, let's check to see how our current XGBoost model performs on it.\n",
    "\n",
    "First, note that the data that has been loaded has already been pre-processed so that each entry in `new_X` is a list of words that have been processed using `nltk`. However, we have not yet constructed the bag of words encoding, which we will do now.\n",
    "\n",
    "First, we use the vocabulary that we constructed earlier using the original training data to construct a `CountVectorizer` which we will use to transform our new data into its bag of words encoding.\n",
    "\n",
    "**TODO:** Create the CountVectorizer object using the vocabulary created earlier and use it to transform the new data."
   ]
  },
  {
   "cell_type": "code",
   "execution_count": 32,
   "metadata": {},
   "outputs": [],
   "source": [
    "# TODO: Create the CountVectorizer using the previously constructed vocabulary\n",
    "# vectorizer = None\n",
    "\n",
    "# Solution:\n",
    "vectorizer = CountVectorizer(vocabulary=vocabulary,\n",
    "                preprocessor=lambda x: x, tokenizer=lambda x: x)\n",
    "\n",
    "# TODO: Transform our new data set and store the transformed data in the variable new_XV\n",
    "# new_XV = None\n",
    "\n",
    "# Solution\n",
    "new_XV = vectorizer.transform(new_X).toarray()"
   ]
  },
  {
   "cell_type": "markdown",
   "metadata": {},
   "source": [
    "As a quick sanity check, we make sure that the length of each of our bag of words encoded reviews is correct. In particular, it must be the same size as the vocabulary which in our case is `5000`."
   ]
  },
  {
   "cell_type": "code",
   "execution_count": 33,
   "metadata": {},
   "outputs": [
    {
     "data": {
      "text/plain": [
       "5000"
      ]
     },
     "execution_count": 33,
     "metadata": {},
     "output_type": "execute_result"
    }
   ],
   "source": [
    "len(new_XV[100])"
   ]
  },
  {
   "cell_type": "markdown",
   "metadata": {},
   "source": [
    "Now that we've performed the data processing that is required by our model we can save it locally and then upload it to S3 so that we can construct a batch transform job in order to see how well our model is working.\n",
    "\n",
    "First, we save the data locally.\n",
    "\n",
    "**TODO:** Save the new data (after it has been transformed using the original vocabulary) to the local notebook instance."
   ]
  },
  {
   "cell_type": "code",
   "execution_count": 34,
   "metadata": {},
   "outputs": [],
   "source": [
    "# TODO: Save the data contained in new_XV locally in the data_dir with the file name new_data.csv\n",
    "\n",
    "# Solution:\n",
    "pd.DataFrame(new_XV).to_csv(os.path.join(data_dir, 'new_data.csv'), header=False, index=False)"
   ]
  },
  {
   "cell_type": "markdown",
   "metadata": {},
   "source": [
    "Next, we upload the data to S3.\n",
    "\n",
    "**TODO:** Upload the csv file created above to S3."
   ]
  },
  {
   "cell_type": "code",
   "execution_count": 35,
   "metadata": {},
   "outputs": [],
   "source": [
    "# TODO: Upload the new_data.csv file contained in the data_dir folder to S3 and save the resulting\n",
    "#       URI as new_data_location\n",
    "\n",
    "# new_data_location = None\n",
    "\n",
    "# Solution:\n",
    "new_data_location = session.upload_data(os.path.join(data_dir, 'new_data.csv'), key_prefix=prefix)"
   ]
  },
  {
   "cell_type": "markdown",
   "metadata": {},
   "source": [
    "Then, once the new data has been uploaded to S3, we create and run the batch transform job to get our model's predictions about the sentiment of the new movie reviews.\n",
    "\n",
    "**TODO:** Using the `xgb_transformer` object that was created earlier (at the end of Step 4 to test the XGBoost model), transform the data located at `new_data_location`."
   ]
  },
  {
   "cell_type": "code",
   "execution_count": 36,
   "metadata": {},
   "outputs": [
    {
     "name": "stdout",
     "output_type": "stream",
     "text": [
      ".....................\u001b[34mArguments: serve\u001b[0m\n",
      "\u001b[34m[2020-02-07 05:35:52 +0000] [1] [INFO] Starting gunicorn 19.7.1\u001b[0m\n",
      "\u001b[34m[2020-02-07 05:35:52 +0000] [1] [INFO] Listening at: http://0.0.0.0:8080 (1)\u001b[0m\n",
      "\u001b[34m[2020-02-07 05:35:52 +0000] [1] [INFO] Using worker: gevent\u001b[0m\n",
      "\u001b[34m[2020-02-07 05:35:52 +0000] [38] [INFO] Booting worker with pid: 38\u001b[0m\n",
      "\u001b[34m[2020-02-07 05:35:52 +0000] [39] [INFO] Booting worker with pid: 39\u001b[0m\n",
      "\u001b[34m[2020-02-07:05:35:52:INFO] Model loaded successfully for worker : 38\u001b[0m\n",
      "\u001b[34m[2020-02-07 05:35:52 +0000] [40] [INFO] Booting worker with pid: 40\u001b[0m\n",
      "\u001b[34m[2020-02-07:05:35:52:INFO] Model loaded successfully for worker : 39\u001b[0m\n",
      "\u001b[34m[2020-02-07 05:35:52 +0000] [41] [INFO] Booting worker with pid: 41\u001b[0m\n",
      "\u001b[34m[2020-02-07:05:35:52:INFO] Model loaded successfully for worker : 40\u001b[0m\n",
      "\u001b[34m[2020-02-07:05:35:52:INFO] Model loaded successfully for worker : 41\u001b[0m\n",
      "\u001b[34m[2020-02-07:05:36:30:INFO] Sniff delimiter as ','\u001b[0m\n",
      "\u001b[35m[2020-02-07:05:36:30:INFO] Sniff delimiter as ','\u001b[0m\n",
      "\u001b[34m[2020-02-07:05:36:30:INFO] Determined delimiter of CSV input is ','\u001b[0m\n",
      "\u001b[34m[2020-02-07:05:36:30:INFO] Sniff delimiter as ','\u001b[0m\n",
      "\u001b[34m[2020-02-07:05:36:30:INFO] Determined delimiter of CSV input is ','\u001b[0m\n",
      "\u001b[34m[2020-02-07:05:36:30:INFO] Sniff delimiter as ','\u001b[0m\n",
      "\u001b[34m[2020-02-07:05:36:30:INFO] Determined delimiter of CSV input is ','\u001b[0m\n",
      "\u001b[34m[2020-02-07:05:36:30:INFO] Sniff delimiter as ','\u001b[0m\n",
      "\u001b[34m[2020-02-07:05:36:30:INFO] Determined delimiter of CSV input is ','\u001b[0m\n",
      "\u001b[35m[2020-02-07:05:36:30:INFO] Determined delimiter of CSV input is ','\u001b[0m\n",
      "\u001b[35m[2020-02-07:05:36:30:INFO] Sniff delimiter as ','\u001b[0m\n",
      "\u001b[35m[2020-02-07:05:36:30:INFO] Determined delimiter of CSV input is ','\u001b[0m\n",
      "\u001b[35m[2020-02-07:05:36:30:INFO] Sniff delimiter as ','\u001b[0m\n",
      "\u001b[35m[2020-02-07:05:36:30:INFO] Determined delimiter of CSV input is ','\u001b[0m\n",
      "\u001b[35m[2020-02-07:05:36:30:INFO] Sniff delimiter as ','\u001b[0m\n",
      "\u001b[35m[2020-02-07:05:36:30:INFO] Determined delimiter of CSV input is ','\u001b[0m\n",
      "\u001b[32m2020-02-07T05:36:27.626:[sagemaker logs]: MaxConcurrentTransforms=4, MaxPayloadInMB=6, BatchStrategy=MULTI_RECORD\u001b[0m\n",
      "\u001b[34m[2020-02-07:05:36:33:INFO] Sniff delimiter as ','\u001b[0m\n",
      "\u001b[34m[2020-02-07:05:36:33:INFO] Determined delimiter of CSV input is ','\u001b[0m\n",
      "\u001b[34m[2020-02-07:05:36:33:INFO] Sniff delimiter as ','\u001b[0m\n",
      "\u001b[34m[2020-02-07:05:36:33:INFO] Determined delimiter of CSV input is ','\u001b[0m\n",
      "\u001b[34m[2020-02-07:05:36:33:INFO] Sniff delimiter as ','\u001b[0m\n",
      "\u001b[34m[2020-02-07:05:36:33:INFO] Determined delimiter of CSV input is ','\u001b[0m\n",
      "\u001b[34m[2020-02-07:05:36:33:INFO] Sniff delimiter as ','\u001b[0m\n",
      "\u001b[34m[2020-02-07:05:36:33:INFO] Determined delimiter of CSV input is ','\u001b[0m\n",
      "\u001b[35m[2020-02-07:05:36:33:INFO] Sniff delimiter as ','\u001b[0m\n",
      "\u001b[35m[2020-02-07:05:36:33:INFO] Determined delimiter of CSV input is ','\u001b[0m\n",
      "\u001b[35m[2020-02-07:05:36:33:INFO] Sniff delimiter as ','\u001b[0m\n",
      "\u001b[35m[2020-02-07:05:36:33:INFO] Determined delimiter of CSV input is ','\u001b[0m\n",
      "\u001b[35m[2020-02-07:05:36:33:INFO] Sniff delimiter as ','\u001b[0m\n",
      "\u001b[35m[2020-02-07:05:36:33:INFO] Determined delimiter of CSV input is ','\u001b[0m\n",
      "\u001b[35m[2020-02-07:05:36:33:INFO] Sniff delimiter as ','\u001b[0m\n",
      "\u001b[35m[2020-02-07:05:36:33:INFO] Determined delimiter of CSV input is ','\u001b[0m\n",
      "\u001b[34m[2020-02-07:05:36:37:INFO] Sniff delimiter as ','\u001b[0m\n",
      "\u001b[34m[2020-02-07:05:36:37:INFO] Determined delimiter of CSV input is ','\u001b[0m\n",
      "\u001b[35m[2020-02-07:05:36:37:INFO] Sniff delimiter as ','\u001b[0m\n",
      "\u001b[35m[2020-02-07:05:36:37:INFO] Determined delimiter of CSV input is ','\u001b[0m\n",
      "\u001b[34m[2020-02-07:05:36:38:INFO] Sniff delimiter as ','\u001b[0m\n",
      "\u001b[35m[2020-02-07:05:36:38:INFO] Sniff delimiter as ','\u001b[0m\n",
      "\u001b[34m[2020-02-07:05:36:38:INFO] Determined delimiter of CSV input is ','\u001b[0m\n",
      "\u001b[34m[2020-02-07:05:36:38:INFO] Sniff delimiter as ','\u001b[0m\n",
      "\u001b[34m[2020-02-07:05:36:38:INFO] Determined delimiter of CSV input is ','\u001b[0m\n",
      "\u001b[34m[2020-02-07:05:36:38:INFO] Sniff delimiter as ','\u001b[0m\n",
      "\u001b[34m[2020-02-07:05:36:38:INFO] Determined delimiter of CSV input is ','\u001b[0m\n",
      "\u001b[35m[2020-02-07:05:36:38:INFO] Determined delimiter of CSV input is ','\u001b[0m\n",
      "\u001b[35m[2020-02-07:05:36:38:INFO] Sniff delimiter as ','\u001b[0m\n",
      "\u001b[35m[2020-02-07:05:36:38:INFO] Determined delimiter of CSV input is ','\u001b[0m\n",
      "\u001b[35m[2020-02-07:05:36:38:INFO] Sniff delimiter as ','\u001b[0m\n",
      "\u001b[35m[2020-02-07:05:36:38:INFO] Determined delimiter of CSV input is ','\u001b[0m\n",
      "\u001b[34m[2020-02-07:05:36:40:INFO] Sniff delimiter as ','\u001b[0m\n",
      "\u001b[35m[2020-02-07:05:36:40:INFO] Sniff delimiter as ','\u001b[0m\n",
      "\u001b[34m[2020-02-07:05:36:40:INFO] Determined delimiter of CSV input is ','\u001b[0m\n",
      "\u001b[34m[2020-02-07:05:36:40:INFO] Sniff delimiter as ','\u001b[0m\n",
      "\u001b[34m[2020-02-07:05:36:40:INFO] Determined delimiter of CSV input is ','\u001b[0m\n",
      "\u001b[34m[2020-02-07:05:36:40:INFO] Sniff delimiter as ','\u001b[0m\n",
      "\u001b[34m[2020-02-07:05:36:40:INFO] Determined delimiter of CSV input is ','\u001b[0m\n",
      "\u001b[34m[2020-02-07:05:36:40:INFO] Sniff delimiter as ','\u001b[0m\n",
      "\u001b[34m[2020-02-07:05:36:40:INFO] Determined delimiter of CSV input is ','\u001b[0m\n",
      "\u001b[35m[2020-02-07:05:36:40:INFO] Determined delimiter of CSV input is ','\u001b[0m\n",
      "\u001b[35m[2020-02-07:05:36:40:INFO] Sniff delimiter as ','\u001b[0m\n",
      "\u001b[35m[2020-02-07:05:36:40:INFO] Determined delimiter of CSV input is ','\u001b[0m\n",
      "\u001b[35m[2020-02-07:05:36:40:INFO] Sniff delimiter as ','\u001b[0m\n",
      "\u001b[35m[2020-02-07:05:36:40:INFO] Determined delimiter of CSV input is ','\u001b[0m\n",
      "\u001b[35m[2020-02-07:05:36:40:INFO] Sniff delimiter as ','\u001b[0m\n",
      "\u001b[35m[2020-02-07:05:36:40:INFO] Determined delimiter of CSV input is ','\u001b[0m\n",
      "\u001b[34m[2020-02-07:05:36:42:INFO] Sniff delimiter as ','\u001b[0m\n",
      "\u001b[34m[2020-02-07:05:36:42:INFO] Determined delimiter of CSV input is ','\u001b[0m\n",
      "\u001b[34m[2020-02-07:05:36:43:INFO] Sniff delimiter as ','\u001b[0m\n",
      "\u001b[34m[2020-02-07:05:36:43:INFO] Determined delimiter of CSV input is ','\u001b[0m\n",
      "\u001b[35m[2020-02-07:05:36:42:INFO] Sniff delimiter as ','\u001b[0m\n",
      "\u001b[35m[2020-02-07:05:36:42:INFO] Determined delimiter of CSV input is ','\u001b[0m\n",
      "\u001b[35m[2020-02-07:05:36:43:INFO] Sniff delimiter as ','\u001b[0m\n",
      "\u001b[35m[2020-02-07:05:36:43:INFO] Determined delimiter of CSV input is ','\u001b[0m\n",
      "\u001b[34m[2020-02-07:05:36:43:INFO] Sniff delimiter as ','\u001b[0m\n",
      "\u001b[34m[2020-02-07:05:36:43:INFO] Determined delimiter of CSV input is ','\u001b[0m\n",
      "\u001b[34m[2020-02-07:05:36:43:INFO] Sniff delimiter as ','\u001b[0m\n",
      "\u001b[34m[2020-02-07:05:36:43:INFO] Determined delimiter of CSV input is ','\u001b[0m\n",
      "\u001b[35m[2020-02-07:05:36:43:INFO] Sniff delimiter as ','\u001b[0m\n",
      "\u001b[35m[2020-02-07:05:36:43:INFO] Determined delimiter of CSV input is ','\u001b[0m\n",
      "\u001b[35m[2020-02-07:05:36:43:INFO] Sniff delimiter as ','\u001b[0m\n",
      "\u001b[35m[2020-02-07:05:36:43:INFO] Determined delimiter of CSV input is ','\u001b[0m\n",
      "\n",
      "\u001b[34m[2020-02-07:05:36:45:INFO] Sniff delimiter as ','\u001b[0m\n",
      "\u001b[34m[2020-02-07:05:36:45:INFO] Determined delimiter of CSV input is ','\u001b[0m\n",
      "\u001b[34m[2020-02-07:05:36:45:INFO] Sniff delimiter as ','\u001b[0m\n",
      "\u001b[35m[2020-02-07:05:36:45:INFO] Sniff delimiter as ','\u001b[0m\n",
      "\u001b[35m[2020-02-07:05:36:45:INFO] Determined delimiter of CSV input is ','\u001b[0m\n",
      "\u001b[35m[2020-02-07:05:36:45:INFO] Sniff delimiter as ','\u001b[0m\n",
      "\u001b[34m[2020-02-07:05:36:45:INFO] Determined delimiter of CSV input is ','\u001b[0m\n",
      "\u001b[35m[2020-02-07:05:36:45:INFO] Determined delimiter of CSV input is ','\u001b[0m\n",
      "\u001b[34m[2020-02-07:05:36:47:INFO] Sniff delimiter as ','\u001b[0m\n",
      "\u001b[34m[2020-02-07:05:36:47:INFO] Determined delimiter of CSV input is ','\u001b[0m\n",
      "\u001b[34m[2020-02-07:05:36:47:INFO] Sniff delimiter as ','\u001b[0m\n",
      "\u001b[34m[2020-02-07:05:36:47:INFO] Determined delimiter of CSV input is ','\u001b[0m\n",
      "\u001b[35m[2020-02-07:05:36:47:INFO] Sniff delimiter as ','\u001b[0m\n",
      "\u001b[35m[2020-02-07:05:36:47:INFO] Determined delimiter of CSV input is ','\u001b[0m\n",
      "\u001b[35m[2020-02-07:05:36:47:INFO] Sniff delimiter as ','\u001b[0m\n",
      "\u001b[35m[2020-02-07:05:36:47:INFO] Determined delimiter of CSV input is ','\u001b[0m\n",
      "\u001b[34m[2020-02-07:05:36:48:INFO] Sniff delimiter as ','\u001b[0m\n",
      "\u001b[34m[2020-02-07:05:36:48:INFO] Determined delimiter of CSV input is ','\u001b[0m\n",
      "\u001b[34m[2020-02-07:05:36:48:INFO] Sniff delimiter as ','\u001b[0m\n",
      "\u001b[34m[2020-02-07:05:36:48:INFO] Determined delimiter of CSV input is ','\u001b[0m\n",
      "\u001b[35m[2020-02-07:05:36:48:INFO] Sniff delimiter as ','\u001b[0m\n",
      "\u001b[35m[2020-02-07:05:36:48:INFO] Determined delimiter of CSV input is ','\u001b[0m\n",
      "\u001b[35m[2020-02-07:05:36:48:INFO] Sniff delimiter as ','\u001b[0m\n",
      "\u001b[35m[2020-02-07:05:36:48:INFO] Determined delimiter of CSV input is ','\u001b[0m\n",
      "\u001b[34m[2020-02-07:05:36:50:INFO] Sniff delimiter as ','\u001b[0m\n",
      "\u001b[34m[2020-02-07:05:36:50:INFO] Determined delimiter of CSV input is ','\u001b[0m\n",
      "\u001b[34m[2020-02-07:05:36:50:INFO] Sniff delimiter as ','\u001b[0m\n",
      "\u001b[34m[2020-02-07:05:36:50:INFO] Determined delimiter of CSV input is ','\u001b[0m\n",
      "\u001b[34m[2020-02-07:05:36:50:INFO] Sniff delimiter as ','\u001b[0m\n",
      "\u001b[34m[2020-02-07:05:36:50:INFO] Determined delimiter of CSV input is ','\u001b[0m\n",
      "\u001b[34m[2020-02-07:05:36:50:INFO] Sniff delimiter as ','\u001b[0m\n",
      "\u001b[34m[2020-02-07:05:36:50:INFO] Determined delimiter of CSV input is ','\u001b[0m\n",
      "\u001b[35m[2020-02-07:05:36:50:INFO] Sniff delimiter as ','\u001b[0m\n",
      "\u001b[35m[2020-02-07:05:36:50:INFO] Determined delimiter of CSV input is ','\u001b[0m\n",
      "\u001b[35m[2020-02-07:05:36:50:INFO] Sniff delimiter as ','\u001b[0m\n",
      "\u001b[35m[2020-02-07:05:36:50:INFO] Determined delimiter of CSV input is ','\u001b[0m\n",
      "\u001b[35m[2020-02-07:05:36:50:INFO] Sniff delimiter as ','\u001b[0m\n",
      "\u001b[35m[2020-02-07:05:36:50:INFO] Determined delimiter of CSV input is ','\u001b[0m\n",
      "\u001b[35m[2020-02-07:05:36:50:INFO] Sniff delimiter as ','\u001b[0m\n",
      "\u001b[35m[2020-02-07:05:36:50:INFO] Determined delimiter of CSV input is ','\u001b[0m\n",
      "\u001b[34m[2020-02-07:05:36:52:INFO] Sniff delimiter as ','\u001b[0m\n",
      "\u001b[34m[2020-02-07:05:36:52:INFO] Determined delimiter of CSV input is ','\u001b[0m\n",
      "\u001b[34m[2020-02-07:05:36:52:INFO] Sniff delimiter as ','\u001b[0m\n",
      "\u001b[34m[2020-02-07:05:36:52:INFO] Determined delimiter of CSV input is ','\u001b[0m\n",
      "\u001b[34m[2020-02-07:05:36:52:INFO] Sniff delimiter as ','\u001b[0m\n",
      "\u001b[34m[2020-02-07:05:36:52:INFO] Determined delimiter of CSV input is ','\u001b[0m\n",
      "\u001b[35m[2020-02-07:05:36:52:INFO] Sniff delimiter as ','\u001b[0m\n",
      "\u001b[35m[2020-02-07:05:36:52:INFO] Determined delimiter of CSV input is ','\u001b[0m\n",
      "\u001b[35m[2020-02-07:05:36:52:INFO] Sniff delimiter as ','\u001b[0m\n",
      "\u001b[35m[2020-02-07:05:36:52:INFO] Determined delimiter of CSV input is ','\u001b[0m\n",
      "\u001b[35m[2020-02-07:05:36:52:INFO] Sniff delimiter as ','\u001b[0m\n",
      "\u001b[35m[2020-02-07:05:36:52:INFO] Determined delimiter of CSV input is ','\u001b[0m\n",
      "\u001b[34m[2020-02-07:05:36:53:INFO] Sniff delimiter as ','\u001b[0m\n",
      "\u001b[34m[2020-02-07:05:36:53:INFO] Determined delimiter of CSV input is ','\u001b[0m\n",
      "\u001b[35m[2020-02-07:05:36:53:INFO] Sniff delimiter as ','\u001b[0m\n",
      "\u001b[35m[2020-02-07:05:36:53:INFO] Determined delimiter of CSV input is ','\u001b[0m\n"
     ]
    }
   ],
   "source": [
    "# TODO: Using xgb_transformer, transform the new_data_location data. You may wish to **wait** until\n",
    "#       the batch transform job has finished.\n",
    "\n",
    "xgb_transformer.transform(new_data_location, content_type='text/csv', split_type='Line')\n",
    "xgb_transformer.wait()"
   ]
  },
  {
   "cell_type": "markdown",
   "metadata": {},
   "source": [
    "As usual, we copy the results of the batch transform job to our local instance."
   ]
  },
  {
   "cell_type": "code",
   "execution_count": 37,
   "metadata": {},
   "outputs": [
    {
     "name": "stdout",
     "output_type": "stream",
     "text": [
      "Completed 256.0 KiB/370.6 KiB (1.5 MiB/s) with 1 file(s) remaining\r",
      "Completed 370.6 KiB/370.6 KiB (2.1 MiB/s) with 1 file(s) remaining\r",
      "download: s3://sagemaker-us-east-1-174814400447/xgboost-2020-02-07-05-32-27-329/new_data.csv.out to ../data/sentiment_update/new_data.csv.out\r\n"
     ]
    }
   ],
   "source": [
    "!aws s3 cp --recursive $xgb_transformer.output_path $data_dir"
   ]
  },
  {
   "cell_type": "markdown",
   "metadata": {},
   "source": [
    "Read in the results of the batch transform job."
   ]
  },
  {
   "cell_type": "code",
   "execution_count": 38,
   "metadata": {},
   "outputs": [],
   "source": [
    "predictions = pd.read_csv(os.path.join(data_dir, 'new_data.csv.out'), header=None)\n",
    "predictions = [round(num) for num in predictions.squeeze().values]"
   ]
  },
  {
   "cell_type": "markdown",
   "metadata": {},
   "source": [
    "And check the accuracy of our current model."
   ]
  },
  {
   "cell_type": "code",
   "execution_count": 39,
   "metadata": {},
   "outputs": [
    {
     "data": {
      "text/plain": [
       "0.73928"
      ]
     },
     "execution_count": 39,
     "metadata": {},
     "output_type": "execute_result"
    }
   ],
   "source": [
    "accuracy_score(new_Y, predictions)"
   ]
  },
  {
   "cell_type": "markdown",
   "metadata": {},
   "source": [
    "So it would appear that *something* has changed since our model is no longer (as) effective at determining the sentiment of a user provided review.\n",
    "\n",
    "In a real life scenario you would check a number of different things to see what exactly is going on. In our case, we are only going to check one and that is whether some aspect of the underlying distribution has changed. In other words, we want to see if the words that appear in our new collection of reviews matches the words that appear in the original training set. Of course, we want to narrow our scope a little bit so we will only look at the `5000` most frequently appearing words in each data set, or in other words, the vocabulary generated by each data set.\n",
    "\n",
    "Before doing that, however, let's take a look at some of the incorrectly classified reviews in the new data set.\n",
    "\n",
    "To start, we will deploy the original XGBoost model. We will then use the deployed model to infer the sentiment of some of the new reviews. This will also serve as a nice excuse to deploy our model so that we can mimic a real life scenario where we have a model that has been deployed and is being used in production.\n",
    "\n",
    "**TODO:** Deploy the XGBoost model."
   ]
  },
  {
   "cell_type": "code",
   "execution_count": 40,
   "metadata": {},
   "outputs": [
    {
     "name": "stderr",
     "output_type": "stream",
     "text": [
      "WARNING:sagemaker:Using already existing model: xgboost-2020-02-07-05-16-41-653\n"
     ]
    },
    {
     "name": "stdout",
     "output_type": "stream",
     "text": [
      "-------------------!"
     ]
    }
   ],
   "source": [
    "# TODO: Deploy the model that was created earlier. Recall that the object name is 'xgb'.\n",
    "# xgb_predictor = None\n",
    "\n",
    "xgb_predictor = xgb.deploy(initial_instance_count = 1, instance_type = 'ml.m4.xlarge')"
   ]
  },
  {
   "cell_type": "markdown",
   "metadata": {},
   "source": [
    "### Diagnose the problem\n",
    "\n",
    "Now that we have our deployed \"production\" model, we can send some of our new data to it and filter out some of the incorrectly classified reviews."
   ]
  },
  {
   "cell_type": "code",
   "execution_count": 41,
   "metadata": {},
   "outputs": [],
   "source": [
    "from sagemaker.predictor import csv_serializer\n",
    "\n",
    "# We need to tell the endpoint what format the data we are sending is in so that SageMaker can perform the serialization.\n",
    "xgb_predictor.content_type = 'text/csv'\n",
    "xgb_predictor.serializer = csv_serializer"
   ]
  },
  {
   "cell_type": "markdown",
   "metadata": {},
   "source": [
    "It will be useful to look at a few different examples of incorrectly classified reviews so we will start by creating a *generator* which we will use to iterate through some of the new reviews and find ones that are incorrect.\n",
    "\n",
    "**NOTE:** Understanding what Python generators are isn't really required for this module. The reason we use them here is so that we don't have to iterate through all of the new reviews, searching for incorrectly classified samples."
   ]
  },
  {
   "cell_type": "code",
   "execution_count": 42,
   "metadata": {},
   "outputs": [],
   "source": [
    "def get_sample(in_X, in_XV, in_Y):\n",
    "    for idx, smp in enumerate(in_X):\n",
    "        res = round(float(xgb_predictor.predict(in_XV[idx])))\n",
    "        if res != in_Y[idx]:\n",
    "            yield smp, in_Y[idx]"
   ]
  },
  {
   "cell_type": "code",
   "execution_count": 43,
   "metadata": {},
   "outputs": [],
   "source": [
    "gn = get_sample(new_X, new_XV, new_Y)"
   ]
  },
  {
   "cell_type": "markdown",
   "metadata": {},
   "source": [
    "At this point, `gn` is the *generator* which generates samples from the new data set which are not classified correctly. To get the *next* sample we simply call the `next` method on our generator."
   ]
  },
  {
   "cell_type": "code",
   "execution_count": 44,
   "metadata": {},
   "outputs": [
    {
     "name": "stdout",
     "output_type": "stream",
     "text": [
      "(['said', 'citi', 'hill', 'cannot', 'hide', 'virginia', 'citi', 'nevada', 'perch', 'side', 'mt', 'davidson', '6200', 'ft', 'west', 'taho', 'prime', 'exampl', 'context', 'movi', 'virginia', 'citi', 'explod', 'american', 'dream', 'shower', 'gold', 'silver', 'suspici', 'year', 'civil', 'war', 'began', 'birthplac', 'dean', 'american', 'letter', 'young', 'report', 'name', 'samuel', 'clemen', 'began', 'use', 'name', 'mark', 'twain', 'went', 'becom', 'america', 'famou', 'writer', 'also', 'birthplac', 'great', 'hearst', 'fortun', 'launch', 'pad', 'john', 'mackay', 'becam', 'wealthiest', 'man', 'america', 'third', 'wealthiest', 'man', 'world', 'hey', 'made', 'movi', '1860', 'virginia', 'citi', 'boomtown', 'boomtown', 'home', 'big', 'bonanza', 'one', 'time', 'largest', 'metropolitan', 'area', 'west', 'st', 'loui', 'east', 'san', 'francisco', 'virginia', 'citi', 'movi', 'miss', 'hogwash', 'north', 'south', 'duello', 'charact', 'play', 'errol', 'flynn', 'randolph', 'scott', 'flynn', 'capt', 'kerri', 'bradford', 'union', 'offic', 'pow', 'concentr', 'camp', 'run', 'mean', 'confeder', 'command', 'name', 'capt', 'vanc', 'irbi', 'play', 'scott', 'two', 'alway', 'get', 'way', 'bradford', 'escap', 'tri', 'stop', 'shipment', 'gold', 'bullion', 'snuck', 'vc', 'els', 'irbi', 'hey', 'horribl', 'bogart', 'play', 'laughabl', 'mexican', 'bandit', 'decid', 'side', 'miriam', 'hopkin', 'play', 'murki', 'charact', 'name', 'julia', 'hayn', 'obvious', 'histor', 'lung', 'town', 'first', 'ladi', 'julia', 'bulett', 'real', 'life', 'celebr', 'prostitut', 'goe', 'washington', 'talk', 'honest', 'abe', 'save', 'bradford', 'irbi', 'hang', 'blah', 'blah', 'blah', 'go', 'figur', 'shoulda', 'hung', 'writer', 'real', 'life', 'twain', 'report', 'last', 'day', 'war', 'set', 'sun', 'caus', 'american', 'flag', 'atop', 'mt', 'davidson', 'appear', 'puzzl', 'resid', 'weirdli', 'fire', 'kind', 'like', 'movi', 'three', 'day', 'later', 'discov', 'day', 'south', 'capitul', 'one', 'interest', 'quirk', 'film', 'sidekick', 'alan', 'hale', 'guin', 'william', 'flick', 'pistol', 'forward', 'shoot', 'like', 'fish', 'tri', 'make', 'bullet', 'go', 'faster', 'bad', 'idea', 'movi', 'kind', 'goofi', 'lather', 'sap', 'corn', 'throughout', 'movi', 'gosh', 'could', 'miss', 'gold', 'mad', 'proflig', 'wealth', 'gun', 'battl', 'silver', 'mine', 'mark', 'twain', 'get', 'run', 'town', 'beat', 'showdown', 'crook', 'railroad', 'opera', 'hous', 'fire', 'artemi', 'ward', 'bulett', 'huge', 'funer', 'chines', 'tong', 'black', 'saloon', 'auction', 'high', 'mountain', 'surround', 'desert', 'truth', 'unreal', 'fabul', 'wealth', 'actual', 'spark', 'great', 'american', 'holocaust', 'well', 'count', 'movi', 'first', 'debacl', 'come', 'virginia', 'citi', 'disappoint', 'virginia', 'citi', 'fan', 'miss', 'made', 'town', 'citi', 'illus', 'said', 'evil', 'seep', 'ground', 'okay', 'fun', 'movi', 'flynn', 'gang', 'alway', 'great', 'matter', 'histori', 'destroy', 'flynn', 'would', 'play', 'rotten', 'self', 'doubl', 'rate', 'banana'], 1)\n"
     ]
    }
   ],
   "source": [
    "print(next(gn))"
   ]
  },
  {
   "cell_type": "markdown",
   "metadata": {},
   "source": [
    "After looking at a few examples, maybe we decide to look at the most frequently appearing `5000` words in each data set, the original training data set and the new data set. The reason for looking at this might be that we expect the frequency of use of different words to have changed, maybe there is some new slang that has been introduced or some other artifact of popular culture that has changed the way that people write movie reviews.\n",
    "\n",
    "To do this, we start by fitting a `CountVectorizer` to the new data."
   ]
  },
  {
   "cell_type": "code",
   "execution_count": 45,
   "metadata": {},
   "outputs": [
    {
     "data": {
      "text/plain": [
       "CountVectorizer(analyzer='word', binary=False, decode_error='strict',\n",
       "        dtype=<class 'numpy.int64'>, encoding='utf-8', input='content',\n",
       "        lowercase=True, max_df=1.0, max_features=5000, min_df=1,\n",
       "        ngram_range=(1, 1),\n",
       "        preprocessor=<function <lambda> at 0x7fb7a238d950>,\n",
       "        stop_words=None, strip_accents=None,\n",
       "        token_pattern='(?u)\\\\b\\\\w\\\\w+\\\\b',\n",
       "        tokenizer=<function <lambda> at 0x7fb7a238d9d8>, vocabulary=None)"
      ]
     },
     "execution_count": 45,
     "metadata": {},
     "output_type": "execute_result"
    }
   ],
   "source": [
    "new_vectorizer = CountVectorizer(max_features=5000,\n",
    "                preprocessor=lambda x: x, tokenizer=lambda x: x)\n",
    "new_vectorizer.fit(new_X)"
   ]
  },
  {
   "cell_type": "markdown",
   "metadata": {},
   "source": [
    "Now that we have this new `CountVectorizor` object, we can check to see if the corresponding vocabulary has changed between the two data sets."
   ]
  },
  {
   "cell_type": "code",
   "execution_count": 46,
   "metadata": {},
   "outputs": [],
   "source": [
    "original_vocabulary = set(vocabulary.keys())\n",
    "new_vocabulary = set(new_vectorizer.vocabulary_.keys())"
   ]
  },
  {
   "cell_type": "markdown",
   "metadata": {},
   "source": [
    "We can look at the words that were in the original vocabulary but not in the new vocabulary."
   ]
  },
  {
   "cell_type": "code",
   "execution_count": 47,
   "metadata": {},
   "outputs": [
    {
     "name": "stdout",
     "output_type": "stream",
     "text": [
      "{'ghetto', 'reincarn', 'playboy', '21st', 'victorian', 'weari', 'spill'}\n"
     ]
    }
   ],
   "source": [
    "print(original_vocabulary - new_vocabulary)"
   ]
  },
  {
   "cell_type": "markdown",
   "metadata": {},
   "source": [
    "And similarly, we can look at the words that are in the new vocabulary but which were not in the original vocabulary."
   ]
  },
  {
   "cell_type": "code",
   "execution_count": 48,
   "metadata": {},
   "outputs": [
    {
     "name": "stdout",
     "output_type": "stream",
     "text": [
      "{'optimist', 'omin', 'orchestr', 'dubiou', 'banana', 'sophi', 'masterson'}\n"
     ]
    }
   ],
   "source": [
    "print(new_vocabulary - original_vocabulary)"
   ]
  },
  {
   "cell_type": "markdown",
   "metadata": {},
   "source": [
    "These words themselves don't tell us much, however if one of these words occured with a large frequency, that might tell us something. In particular, we wouldn't really expect any of the words above to appear with too much frequency.\n",
    "\n",
    "**Question** What exactly is going on here. Not only what (if any) words appear with a larger than expected frequency but also, what does this mean? What has changed about the world that our original model no longer takes into account?\n",
    "\n",
    "**NOTE:** This is meant to be a very open ended question. To investigate you may need more cells than the one provided below. Also, there isn't really a *correct* answer, this is meant to be an opportunity to explore the data."
   ]
  },
  {
   "cell_type": "code",
   "execution_count": null,
   "metadata": {},
   "outputs": [],
   "source": []
  },
  {
   "cell_type": "markdown",
   "metadata": {},
   "source": [
    "### (TODO) Build a new model\n",
    "\n",
    "Supposing that we believe something has changed about the underlying distribution of the words that our reviews are made up of, we need to create a new model. This way our new model will take into account whatever it is that has changed.\n",
    "\n",
    "To begin with, we will use the new vocabulary to create a bag of words encoding of the new data. We will then use this data to train a new XGBoost model.\n",
    "\n",
    "**NOTE:** Because we believe that the underlying distribution of words has changed it should follow that the original vocabulary that we used to construct a bag of words encoding of the reviews is no longer valid. This means that we need to be careful with our data. If we send an bag of words encoded review using the *original* vocabulary we should not expect any sort of meaningful results.\n",
    "\n",
    "In particular, this means that if we had deployed our XGBoost model like we did in the Web App notebook then we would need to implement this vocabulary change in the Lambda function as well."
   ]
  },
  {
   "cell_type": "code",
   "execution_count": 49,
   "metadata": {},
   "outputs": [],
   "source": [
    "new_XV = new_vectorizer.transform(new_X).toarray()"
   ]
  },
  {
   "cell_type": "markdown",
   "metadata": {},
   "source": [
    "And a quick check to make sure that the newly encoded reviews have the correct length, which should be the size of the new vocabulary which we created."
   ]
  },
  {
   "cell_type": "code",
   "execution_count": 50,
   "metadata": {},
   "outputs": [
    {
     "data": {
      "text/plain": [
       "5000"
      ]
     },
     "execution_count": 50,
     "metadata": {},
     "output_type": "execute_result"
    }
   ],
   "source": [
    "len(new_XV[0])"
   ]
  },
  {
   "cell_type": "markdown",
   "metadata": {},
   "source": [
    "Now that we have our newly encoded, newly collected data, we can split it up into a training and validation set so that we can train a new XGBoost model. As usual, we first split up the data, then save it locally and then upload it to S3."
   ]
  },
  {
   "cell_type": "code",
   "execution_count": 51,
   "metadata": {},
   "outputs": [],
   "source": [
    "import pandas as pd\n",
    "\n",
    "# Earlier we shuffled the training dataset so to make things simple we can just assign\n",
    "# the first 10 000 reviews to the validation set and use the remaining reviews for training.\n",
    "new_val_X = pd.DataFrame(new_XV[:10000])\n",
    "new_train_X = pd.DataFrame(new_XV[10000:])\n",
    "\n",
    "new_val_y = pd.DataFrame(new_Y[:10000])\n",
    "new_train_y = pd.DataFrame(new_Y[10000:])"
   ]
  },
  {
   "cell_type": "markdown",
   "metadata": {},
   "source": [
    "In order to save some memory we will effectively delete the `new_X` variable. Remember that this contained a list of reviews and each review was a list of words. Note that once this cell has been executed you will need to read the new data in again if you want to work with it."
   ]
  },
  {
   "cell_type": "code",
   "execution_count": 52,
   "metadata": {},
   "outputs": [],
   "source": [
    "new_X = None"
   ]
  },
  {
   "cell_type": "markdown",
   "metadata": {},
   "source": [
    "Next we save the new training and validation sets locally. Note that we overwrite the training and validation sets used earlier. This is mostly because the amount of space that we have available on our notebook instance is limited. Of course, you can increase this if you'd like but to do so may increase the cost of running the notebook instance."
   ]
  },
  {
   "cell_type": "code",
   "execution_count": 53,
   "metadata": {},
   "outputs": [],
   "source": [
    "pd.DataFrame(new_XV).to_csv(os.path.join(data_dir, 'new_data.csv'), header=False, index=False)\n",
    "\n",
    "pd.concat([new_val_y, new_val_X], axis=1).to_csv(os.path.join(data_dir, 'new_validation.csv'), header=False, index=False)\n",
    "pd.concat([new_train_y, new_train_X], axis=1).to_csv(os.path.join(data_dir, 'new_train.csv'), header=False, index=False)"
   ]
  },
  {
   "cell_type": "markdown",
   "metadata": {},
   "source": [
    "Now that we've saved our data to the local instance, we can safely delete the variables to save on memory."
   ]
  },
  {
   "cell_type": "code",
   "execution_count": 54,
   "metadata": {},
   "outputs": [],
   "source": [
    "new_val_y = new_val_X = new_train_y = new_train_X = new_XV = None"
   ]
  },
  {
   "cell_type": "markdown",
   "metadata": {},
   "source": [
    "Lastly, we make sure to upload the new training and validation sets to S3.\n",
    "\n",
    "**TODO:** Upload the new data as well as the new training and validation data sets to S3."
   ]
  },
  {
   "cell_type": "code",
   "execution_count": 55,
   "metadata": {},
   "outputs": [],
   "source": [
    "# TODO: Upload the new data and the new validation.csv and train.csv files in the data_dir directory to S3.\n",
    "# new_data_location = None\n",
    "# new_val_location = None\n",
    "# new_train_location = None\n",
    "\n",
    "new_data_location = session.upload_data(os.path.join(data_dir, 'new_data.csv'), key_prefix=prefix)\n",
    "new_val_location = session.upload_data(os.path.join(data_dir, 'new_validation.csv'), key_prefix=prefix)\n",
    "new_train_location = session.upload_data(os.path.join(data_dir, 'new_train.csv'), key_prefix=prefix)"
   ]
  },
  {
   "cell_type": "markdown",
   "metadata": {},
   "source": [
    "Once our new training data has been uploaded to S3, we can create a new XGBoost model that will take into account the changes that have occured in our data set.\n",
    "\n",
    "**TODO:** Create a new XGBoost estimator object."
   ]
  },
  {
   "cell_type": "code",
   "execution_count": 56,
   "metadata": {},
   "outputs": [],
   "source": [
    "# TODO: First, create a SageMaker estimator object for our model.\n",
    "# new_xgb = None\n",
    "\n",
    "new_xgb = sagemaker.estimator.Estimator(container, # The location of the container we wish to use\n",
    "                                    role,                                    # What is our current IAM Role\n",
    "                                    train_instance_count=1,                  # How many compute instances\n",
    "                                    train_instance_type='ml.m4.xlarge',      # What kind of compute instances\n",
    "                                    output_path='s3://{}/{}/output'.format(session.default_bucket(), prefix),\n",
    "                                    sagemaker_session=session)\n",
    "\n",
    "# TODO: Then set the algorithm specific parameters. You may wish to use the same parameters that were\n",
    "#       used when training the original model.\n",
    "\n",
    "new_xgb.set_hyperparameters(max_depth=5,\n",
    "                        eta=0.2,\n",
    "                        gamma=4,\n",
    "                        min_child_weight=6,\n",
    "                        subsample=0.8,\n",
    "                        silent=0,\n",
    "                        objective='binary:logistic',\n",
    "                        early_stopping_rounds=10,\n",
    "                        num_round=500)"
   ]
  },
  {
   "cell_type": "markdown",
   "metadata": {},
   "source": [
    "Once the model has been created, we can train it with our new data.\n",
    "\n",
    "**TODO:** Train the new XGBoost model."
   ]
  },
  {
   "cell_type": "code",
   "execution_count": 57,
   "metadata": {},
   "outputs": [],
   "source": [
    "# TODO: First, make sure that you create s3 input objects so that SageMaker knows where to\n",
    "#       find the training and validation data.\n",
    "# s3_new_input_train = None\n",
    "# s3_new_input_validation = None\n",
    "\n",
    "s3_new_input_train = sagemaker.s3_input(s3_data=new_train_location, content_type='csv')\n",
    "s3_new_input_validation = sagemaker.s3_input(s3_data=new_val_location, content_type='csv')"
   ]
  },
  {
   "cell_type": "code",
   "execution_count": 58,
   "metadata": {},
   "outputs": [
    {
     "name": "stdout",
     "output_type": "stream",
     "text": [
      "2020-02-07 05:51:27 Starting - Starting the training job...\n",
      "2020-02-07 05:51:29 Starting - Launching requested ML instances.........\n",
      "2020-02-07 05:53:03 Starting - Preparing the instances for training......\n",
      "2020-02-07 05:54:11 Downloading - Downloading input data...\n",
      "2020-02-07 05:54:49 Training - Training image download completed. Training in progress.\u001b[34mArguments: train\u001b[0m\n",
      "\u001b[34m[2020-02-07:05:54:50:INFO] Running standalone xgboost training.\u001b[0m\n",
      "\u001b[34m[2020-02-07:05:54:50:INFO] File size need to be processed in the node: 238.47mb. Available memory size in the node: 8535.79mb\u001b[0m\n",
      "\u001b[34m[2020-02-07:05:54:50:INFO] Determined delimiter of CSV input is ','\u001b[0m\n",
      "\u001b[34m[05:54:50] S3DistributionType set as FullyReplicated\u001b[0m\n",
      "\u001b[34m[05:54:52] 15000x5000 matrix with 75000000 entries loaded from /opt/ml/input/data/train?format=csv&label_column=0&delimiter=,\u001b[0m\n",
      "\u001b[34m[2020-02-07:05:54:52:INFO] Determined delimiter of CSV input is ','\u001b[0m\n",
      "\u001b[34m[05:54:52] S3DistributionType set as FullyReplicated\u001b[0m\n",
      "\u001b[34m[05:54:53] 10000x5000 matrix with 50000000 entries loaded from /opt/ml/input/data/validation?format=csv&label_column=0&delimiter=,\u001b[0m\n",
      "\u001b[34m[05:54:56] src/tree/updater_prune.cc:74: tree pruning end, 1 roots, 48 extra nodes, 2 pruned nodes, max_depth=5\u001b[0m\n",
      "\u001b[34m[0]#011train-error:0.302533#011validation-error:0.3058\u001b[0m\n",
      "\u001b[34mMultiple eval metrics have been passed: 'validation-error' will be used for early stopping.\n",
      "\u001b[0m\n",
      "\u001b[34mWill train until validation-error hasn't improved in 10 rounds.\u001b[0m\n",
      "\u001b[34m[05:54:58] src/tree/updater_prune.cc:74: tree pruning end, 1 roots, 54 extra nodes, 2 pruned nodes, max_depth=5\u001b[0m\n",
      "\u001b[34m[1]#011train-error:0.2924#011validation-error:0.295\u001b[0m\n",
      "\u001b[34m[05:55:00] src/tree/updater_prune.cc:74: tree pruning end, 1 roots, 44 extra nodes, 4 pruned nodes, max_depth=5\u001b[0m\n",
      "\u001b[34m[2]#011train-error:0.2858#011validation-error:0.2901\u001b[0m\n",
      "\u001b[34m[05:55:01] src/tree/updater_prune.cc:74: tree pruning end, 1 roots, 36 extra nodes, 6 pruned nodes, max_depth=5\u001b[0m\n",
      "\u001b[34m[3]#011train-error:0.277667#011validation-error:0.2807\u001b[0m\n",
      "\u001b[34m[05:55:02] src/tree/updater_prune.cc:74: tree pruning end, 1 roots, 46 extra nodes, 6 pruned nodes, max_depth=5\u001b[0m\n",
      "\u001b[34m[4]#011train-error:0.274533#011validation-error:0.2775\u001b[0m\n",
      "\u001b[34m[05:55:03] src/tree/updater_prune.cc:74: tree pruning end, 1 roots, 26 extra nodes, 6 pruned nodes, max_depth=5\u001b[0m\n",
      "\u001b[34m[5]#011train-error:0.2602#011validation-error:0.2655\u001b[0m\n",
      "\u001b[34m[05:55:05] src/tree/updater_prune.cc:74: tree pruning end, 1 roots, 38 extra nodes, 12 pruned nodes, max_depth=5\u001b[0m\n",
      "\u001b[34m[6]#011train-error:0.2598#011validation-error:0.2671\u001b[0m\n",
      "\u001b[34m[05:55:06] src/tree/updater_prune.cc:74: tree pruning end, 1 roots, 38 extra nodes, 4 pruned nodes, max_depth=5\u001b[0m\n",
      "\u001b[34m[7]#011train-error:0.253733#011validation-error:0.2618\u001b[0m\n",
      "\u001b[34m[05:55:07] src/tree/updater_prune.cc:74: tree pruning end, 1 roots, 32 extra nodes, 10 pruned nodes, max_depth=5\u001b[0m\n",
      "\u001b[34m[8]#011train-error:0.2478#011validation-error:0.2558\u001b[0m\n",
      "\u001b[34m[05:55:09] src/tree/updater_prune.cc:74: tree pruning end, 1 roots, 36 extra nodes, 10 pruned nodes, max_depth=5\u001b[0m\n",
      "\u001b[34m[9]#011train-error:0.238333#011validation-error:0.2503\u001b[0m\n",
      "\u001b[34m[05:55:10] src/tree/updater_prune.cc:74: tree pruning end, 1 roots, 48 extra nodes, 2 pruned nodes, max_depth=5\u001b[0m\n",
      "\u001b[34m[10]#011train-error:0.236467#011validation-error:0.2491\u001b[0m\n",
      "\u001b[34m[05:55:11] src/tree/updater_prune.cc:74: tree pruning end, 1 roots, 42 extra nodes, 2 pruned nodes, max_depth=5\u001b[0m\n",
      "\u001b[34m[11]#011train-error:0.2288#011validation-error:0.2417\u001b[0m\n",
      "\u001b[34m[05:55:13] src/tree/updater_prune.cc:74: tree pruning end, 1 roots, 26 extra nodes, 10 pruned nodes, max_depth=5\u001b[0m\n",
      "\u001b[34m[12]#011train-error:0.224#011validation-error:0.2367\u001b[0m\n",
      "\u001b[34m[05:55:14] src/tree/updater_prune.cc:74: tree pruning end, 1 roots, 34 extra nodes, 8 pruned nodes, max_depth=5\u001b[0m\n",
      "\u001b[34m[13]#011train-error:0.216933#011validation-error:0.2309\u001b[0m\n",
      "\u001b[34m[05:55:15] src/tree/updater_prune.cc:74: tree pruning end, 1 roots, 36 extra nodes, 14 pruned nodes, max_depth=5\u001b[0m\n",
      "\u001b[34m[14]#011train-error:0.2158#011validation-error:0.2273\u001b[0m\n",
      "\u001b[34m[05:55:16] src/tree/updater_prune.cc:74: tree pruning end, 1 roots, 26 extra nodes, 8 pruned nodes, max_depth=5\u001b[0m\n",
      "\u001b[34m[15]#011train-error:0.213#011validation-error:0.2253\u001b[0m\n",
      "\u001b[34m[05:55:18] src/tree/updater_prune.cc:74: tree pruning end, 1 roots, 30 extra nodes, 8 pruned nodes, max_depth=5\u001b[0m\n",
      "\u001b[34m[16]#011train-error:0.208867#011validation-error:0.2222\u001b[0m\n",
      "\u001b[34m[05:55:19] src/tree/updater_prune.cc:74: tree pruning end, 1 roots, 30 extra nodes, 10 pruned nodes, max_depth=5\u001b[0m\n",
      "\u001b[34m[17]#011train-error:0.204067#011validation-error:0.2204\u001b[0m\n",
      "\u001b[34m[05:55:20] src/tree/updater_prune.cc:74: tree pruning end, 1 roots, 36 extra nodes, 8 pruned nodes, max_depth=5\u001b[0m\n",
      "\u001b[34m[18]#011train-error:0.201267#011validation-error:0.2185\u001b[0m\n",
      "\u001b[34m[05:55:22] src/tree/updater_prune.cc:74: tree pruning end, 1 roots, 28 extra nodes, 8 pruned nodes, max_depth=5\u001b[0m\n",
      "\u001b[34m[19]#011train-error:0.200467#011validation-error:0.2164\u001b[0m\n",
      "\u001b[34m[05:55:23] src/tree/updater_prune.cc:74: tree pruning end, 1 roots, 38 extra nodes, 8 pruned nodes, max_depth=5\u001b[0m\n",
      "\u001b[34m[20]#011train-error:0.198467#011validation-error:0.2149\u001b[0m\n",
      "\u001b[34m[05:55:24] src/tree/updater_prune.cc:74: tree pruning end, 1 roots, 34 extra nodes, 14 pruned nodes, max_depth=5\u001b[0m\n",
      "\u001b[34m[21]#011train-error:0.194#011validation-error:0.2128\u001b[0m\n",
      "\u001b[34m[05:55:26] src/tree/updater_prune.cc:74: tree pruning end, 1 roots, 32 extra nodes, 10 pruned nodes, max_depth=5\u001b[0m\n",
      "\u001b[34m[22]#011train-error:0.192133#011validation-error:0.2113\u001b[0m\n",
      "\u001b[34m[05:55:27] src/tree/updater_prune.cc:74: tree pruning end, 1 roots, 28 extra nodes, 8 pruned nodes, max_depth=5\u001b[0m\n",
      "\u001b[34m[23]#011train-error:0.191733#011validation-error:0.2084\u001b[0m\n",
      "\u001b[34m[05:55:28] src/tree/updater_prune.cc:74: tree pruning end, 1 roots, 28 extra nodes, 12 pruned nodes, max_depth=5\u001b[0m\n",
      "\u001b[34m[24]#011train-error:0.1906#011validation-error:0.2056\u001b[0m\n",
      "\u001b[34m[05:55:29] src/tree/updater_prune.cc:74: tree pruning end, 1 roots, 30 extra nodes, 6 pruned nodes, max_depth=5\u001b[0m\n",
      "\u001b[34m[25]#011train-error:0.1886#011validation-error:0.2046\u001b[0m\n",
      "\u001b[34m[05:55:31] src/tree/updater_prune.cc:74: tree pruning end, 1 roots, 32 extra nodes, 4 pruned nodes, max_depth=5\u001b[0m\n",
      "\u001b[34m[26]#011train-error:0.186933#011validation-error:0.2032\u001b[0m\n",
      "\u001b[34m[05:55:32] src/tree/updater_prune.cc:74: tree pruning end, 1 roots, 34 extra nodes, 10 pruned nodes, max_depth=5\u001b[0m\n",
      "\u001b[34m[27]#011train-error:0.182533#011validation-error:0.2018\u001b[0m\n",
      "\u001b[34m[05:55:33] src/tree/updater_prune.cc:74: tree pruning end, 1 roots, 32 extra nodes, 10 pruned nodes, max_depth=5\u001b[0m\n",
      "\u001b[34m[28]#011train-error:0.179333#011validation-error:0.201\u001b[0m\n",
      "\u001b[34m[05:55:35] src/tree/updater_prune.cc:74: tree pruning end, 1 roots, 36 extra nodes, 8 pruned nodes, max_depth=5\u001b[0m\n",
      "\u001b[34m[29]#011train-error:0.179#011validation-error:0.1986\u001b[0m\n",
      "\u001b[34m[05:55:36] src/tree/updater_prune.cc:74: tree pruning end, 1 roots, 22 extra nodes, 10 pruned nodes, max_depth=5\u001b[0m\n",
      "\u001b[34m[30]#011train-error:0.177333#011validation-error:0.1966\u001b[0m\n",
      "\u001b[34m[05:55:37] src/tree/updater_prune.cc:74: tree pruning end, 1 roots, 30 extra nodes, 10 pruned nodes, max_depth=5\u001b[0m\n",
      "\u001b[34m[31]#011train-error:0.175733#011validation-error:0.1988\u001b[0m\n",
      "\u001b[34m[05:55:38] src/tree/updater_prune.cc:74: tree pruning end, 1 roots, 16 extra nodes, 8 pruned nodes, max_depth=5\u001b[0m\n",
      "\u001b[34m[32]#011train-error:0.1748#011validation-error:0.197\u001b[0m\n",
      "\u001b[34m[05:55:40] src/tree/updater_prune.cc:74: tree pruning end, 1 roots, 24 extra nodes, 8 pruned nodes, max_depth=5\u001b[0m\n",
      "\u001b[34m[33]#011train-error:0.173867#011validation-error:0.1969\u001b[0m\n",
      "\u001b[34m[05:55:41] src/tree/updater_prune.cc:74: tree pruning end, 1 roots, 30 extra nodes, 10 pruned nodes, max_depth=5\u001b[0m\n",
      "\u001b[34m[34]#011train-error:0.170867#011validation-error:0.1948\u001b[0m\n",
      "\u001b[34m[05:55:42] src/tree/updater_prune.cc:74: tree pruning end, 1 roots, 18 extra nodes, 10 pruned nodes, max_depth=5\u001b[0m\n",
      "\u001b[34m[35]#011train-error:0.1698#011validation-error:0.194\u001b[0m\n",
      "\u001b[34m[05:55:44] src/tree/updater_prune.cc:74: tree pruning end, 1 roots, 14 extra nodes, 8 pruned nodes, max_depth=5\u001b[0m\n",
      "\u001b[34m[36]#011train-error:0.169067#011validation-error:0.1937\u001b[0m\n",
      "\u001b[34m[05:55:45] src/tree/updater_prune.cc:74: tree pruning end, 1 roots, 30 extra nodes, 12 pruned nodes, max_depth=5\u001b[0m\n",
      "\u001b[34m[37]#011train-error:0.167333#011validation-error:0.1928\u001b[0m\n",
      "\u001b[34m[05:55:46] src/tree/updater_prune.cc:74: tree pruning end, 1 roots, 28 extra nodes, 10 pruned nodes, max_depth=5\u001b[0m\n",
      "\u001b[34m[38]#011train-error:0.165267#011validation-error:0.1908\u001b[0m\n",
      "\u001b[34m[05:55:47] src/tree/updater_prune.cc:74: tree pruning end, 1 roots, 22 extra nodes, 14 pruned nodes, max_depth=5\u001b[0m\n",
      "\u001b[34m[39]#011train-error:0.165#011validation-error:0.1906\u001b[0m\n",
      "\u001b[34m[05:55:49] src/tree/updater_prune.cc:74: tree pruning end, 1 roots, 26 extra nodes, 8 pruned nodes, max_depth=5\u001b[0m\n",
      "\u001b[34m[40]#011train-error:0.163867#011validation-error:0.19\u001b[0m\n",
      "\u001b[34m[05:55:50] src/tree/updater_prune.cc:74: tree pruning end, 1 roots, 22 extra nodes, 12 pruned nodes, max_depth=5\u001b[0m\n",
      "\u001b[34m[41]#011train-error:0.162267#011validation-error:0.1892\u001b[0m\n",
      "\u001b[34m[05:55:51] src/tree/updater_prune.cc:74: tree pruning end, 1 roots, 26 extra nodes, 6 pruned nodes, max_depth=5\u001b[0m\n",
      "\u001b[34m[42]#011train-error:0.161867#011validation-error:0.1884\u001b[0m\n"
     ]
    },
    {
     "name": "stdout",
     "output_type": "stream",
     "text": [
      "\u001b[34m[05:55:53] src/tree/updater_prune.cc:74: tree pruning end, 1 roots, 34 extra nodes, 12 pruned nodes, max_depth=5\u001b[0m\n",
      "\u001b[34m[43]#011train-error:0.1612#011validation-error:0.1878\u001b[0m\n",
      "\u001b[34m[05:55:54] src/tree/updater_prune.cc:74: tree pruning end, 1 roots, 16 extra nodes, 12 pruned nodes, max_depth=5\u001b[0m\n",
      "\u001b[34m[44]#011train-error:0.16#011validation-error:0.1885\u001b[0m\n",
      "\u001b[34m[05:55:55] src/tree/updater_prune.cc:74: tree pruning end, 1 roots, 32 extra nodes, 8 pruned nodes, max_depth=5\u001b[0m\n",
      "\u001b[34m[45]#011train-error:0.157733#011validation-error:0.187\u001b[0m\n",
      "\u001b[34m[05:55:57] src/tree/updater_prune.cc:74: tree pruning end, 1 roots, 14 extra nodes, 16 pruned nodes, max_depth=5\u001b[0m\n",
      "\u001b[34m[46]#011train-error:0.156667#011validation-error:0.1868\u001b[0m\n",
      "\u001b[34m[05:55:58] src/tree/updater_prune.cc:74: tree pruning end, 1 roots, 20 extra nodes, 10 pruned nodes, max_depth=5\u001b[0m\n",
      "\u001b[34m[47]#011train-error:0.1566#011validation-error:0.188\u001b[0m\n",
      "\u001b[34m[05:55:59] src/tree/updater_prune.cc:74: tree pruning end, 1 roots, 32 extra nodes, 10 pruned nodes, max_depth=5\u001b[0m\n",
      "\u001b[34m[48]#011train-error:0.154867#011validation-error:0.1878\u001b[0m\n",
      "\u001b[34m[05:56:00] src/tree/updater_prune.cc:74: tree pruning end, 1 roots, 14 extra nodes, 6 pruned nodes, max_depth=5\u001b[0m\n",
      "\u001b[34m[49]#011train-error:0.154333#011validation-error:0.1868\u001b[0m\n",
      "\u001b[34m[05:56:02] src/tree/updater_prune.cc:74: tree pruning end, 1 roots, 32 extra nodes, 4 pruned nodes, max_depth=5\u001b[0m\n",
      "\u001b[34m[50]#011train-error:0.1524#011validation-error:0.1869\u001b[0m\n",
      "\u001b[34m[05:56:03] src/tree/updater_prune.cc:74: tree pruning end, 1 roots, 38 extra nodes, 12 pruned nodes, max_depth=5\u001b[0m\n",
      "\u001b[34m[51]#011train-error:0.151267#011validation-error:0.1862\u001b[0m\n",
      "\u001b[34m[05:56:04] src/tree/updater_prune.cc:74: tree pruning end, 1 roots, 26 extra nodes, 2 pruned nodes, max_depth=5\u001b[0m\n",
      "\u001b[34m[52]#011train-error:0.151333#011validation-error:0.186\u001b[0m\n",
      "\u001b[34m[05:56:06] src/tree/updater_prune.cc:74: tree pruning end, 1 roots, 26 extra nodes, 8 pruned nodes, max_depth=5\u001b[0m\n",
      "\u001b[34m[53]#011train-error:0.1502#011validation-error:0.1835\u001b[0m\n",
      "\u001b[34m[05:56:07] src/tree/updater_prune.cc:74: tree pruning end, 1 roots, 26 extra nodes, 2 pruned nodes, max_depth=5\u001b[0m\n",
      "\u001b[34m[54]#011train-error:0.1498#011validation-error:0.1842\u001b[0m\n",
      "\u001b[34m[05:56:08] src/tree/updater_prune.cc:74: tree pruning end, 1 roots, 14 extra nodes, 10 pruned nodes, max_depth=5\u001b[0m\n",
      "\u001b[34m[55]#011train-error:0.148733#011validation-error:0.1834\u001b[0m\n",
      "\u001b[34m[05:56:09] src/tree/updater_prune.cc:74: tree pruning end, 1 roots, 24 extra nodes, 12 pruned nodes, max_depth=5\u001b[0m\n",
      "\u001b[34m[56]#011train-error:0.147867#011validation-error:0.1815\u001b[0m\n",
      "\u001b[34m[05:56:11] src/tree/updater_prune.cc:74: tree pruning end, 1 roots, 16 extra nodes, 8 pruned nodes, max_depth=5\u001b[0m\n",
      "\u001b[34m[57]#011train-error:0.1468#011validation-error:0.1821\u001b[0m\n",
      "\u001b[34m[05:56:12] src/tree/updater_prune.cc:74: tree pruning end, 1 roots, 32 extra nodes, 4 pruned nodes, max_depth=5\u001b[0m\n",
      "\u001b[34m[58]#011train-error:0.146533#011validation-error:0.1815\u001b[0m\n",
      "\u001b[34m[05:56:13] src/tree/updater_prune.cc:74: tree pruning end, 1 roots, 26 extra nodes, 6 pruned nodes, max_depth=5\u001b[0m\n",
      "\u001b[34m[59]#011train-error:0.146133#011validation-error:0.18\u001b[0m\n",
      "\u001b[34m[05:56:15] src/tree/updater_prune.cc:74: tree pruning end, 1 roots, 18 extra nodes, 8 pruned nodes, max_depth=5\u001b[0m\n",
      "\u001b[34m[60]#011train-error:0.145267#011validation-error:0.1801\u001b[0m\n",
      "\u001b[34m[05:56:16] src/tree/updater_prune.cc:74: tree pruning end, 1 roots, 34 extra nodes, 10 pruned nodes, max_depth=5\u001b[0m\n",
      "\u001b[34m[61]#011train-error:0.144067#011validation-error:0.1805\u001b[0m\n",
      "\u001b[34m[05:56:17] src/tree/updater_prune.cc:74: tree pruning end, 1 roots, 14 extra nodes, 2 pruned nodes, max_depth=5\u001b[0m\n",
      "\u001b[34m[62]#011train-error:0.143867#011validation-error:0.1814\u001b[0m\n",
      "\u001b[34m[05:56:18] src/tree/updater_prune.cc:74: tree pruning end, 1 roots, 18 extra nodes, 4 pruned nodes, max_depth=5\u001b[0m\n",
      "\u001b[34m[63]#011train-error:0.1436#011validation-error:0.1809\u001b[0m\n",
      "\u001b[34m[05:56:20] src/tree/updater_prune.cc:74: tree pruning end, 1 roots, 22 extra nodes, 8 pruned nodes, max_depth=5\u001b[0m\n",
      "\u001b[34m[64]#011train-error:0.1418#011validation-error:0.1794\u001b[0m\n",
      "\u001b[34m[05:56:21] src/tree/updater_prune.cc:74: tree pruning end, 1 roots, 36 extra nodes, 8 pruned nodes, max_depth=5\u001b[0m\n",
      "\u001b[34m[65]#011train-error:0.1402#011validation-error:0.1797\u001b[0m\n",
      "\u001b[34m[05:56:22] src/tree/updater_prune.cc:74: tree pruning end, 1 roots, 32 extra nodes, 14 pruned nodes, max_depth=5\u001b[0m\n",
      "\u001b[34m[66]#011train-error:0.1392#011validation-error:0.1789\u001b[0m\n",
      "\u001b[34m[05:56:24] src/tree/updater_prune.cc:74: tree pruning end, 1 roots, 18 extra nodes, 0 pruned nodes, max_depth=5\u001b[0m\n",
      "\u001b[34m[67]#011train-error:0.138533#011validation-error:0.1801\u001b[0m\n",
      "\u001b[34m[05:56:25] src/tree/updater_prune.cc:74: tree pruning end, 1 roots, 18 extra nodes, 6 pruned nodes, max_depth=5\u001b[0m\n",
      "\u001b[34m[68]#011train-error:0.137667#011validation-error:0.1792\u001b[0m\n",
      "\u001b[34m[05:56:26] src/tree/updater_prune.cc:74: tree pruning end, 1 roots, 22 extra nodes, 4 pruned nodes, max_depth=5\u001b[0m\n",
      "\u001b[34m[69]#011train-error:0.138#011validation-error:0.1789\u001b[0m\n",
      "\u001b[34m[05:56:27] src/tree/updater_prune.cc:74: tree pruning end, 1 roots, 20 extra nodes, 6 pruned nodes, max_depth=5\u001b[0m\n",
      "\u001b[34m[70]#011train-error:0.138#011validation-error:0.1787\u001b[0m\n",
      "\u001b[34m[05:56:29] src/tree/updater_prune.cc:74: tree pruning end, 1 roots, 24 extra nodes, 4 pruned nodes, max_depth=5\u001b[0m\n",
      "\u001b[34m[71]#011train-error:0.136533#011validation-error:0.1792\u001b[0m\n",
      "\u001b[34m[05:56:30] src/tree/updater_prune.cc:74: tree pruning end, 1 roots, 16 extra nodes, 6 pruned nodes, max_depth=5\u001b[0m\n",
      "\u001b[34m[72]#011train-error:0.135067#011validation-error:0.1793\u001b[0m\n",
      "\u001b[34m[05:56:31] src/tree/updater_prune.cc:74: tree pruning end, 1 roots, 14 extra nodes, 8 pruned nodes, max_depth=5\u001b[0m\n",
      "\u001b[34m[73]#011train-error:0.134733#011validation-error:0.1788\u001b[0m\n",
      "\u001b[34m[05:56:33] src/tree/updater_prune.cc:74: tree pruning end, 1 roots, 20 extra nodes, 6 pruned nodes, max_depth=5\u001b[0m\n",
      "\u001b[34m[74]#011train-error:0.134867#011validation-error:0.1797\u001b[0m\n",
      "\u001b[34m[05:56:34] src/tree/updater_prune.cc:74: tree pruning end, 1 roots, 12 extra nodes, 6 pruned nodes, max_depth=5\u001b[0m\n",
      "\u001b[34m[75]#011train-error:0.134867#011validation-error:0.1799\u001b[0m\n",
      "\u001b[34m[05:56:35] src/tree/updater_prune.cc:74: tree pruning end, 1 roots, 22 extra nodes, 4 pruned nodes, max_depth=5\u001b[0m\n",
      "\u001b[34m[76]#011train-error:0.132667#011validation-error:0.1787\u001b[0m\n",
      "\u001b[34m[05:56:36] src/tree/updater_prune.cc:74: tree pruning end, 1 roots, 36 extra nodes, 14 pruned nodes, max_depth=5\u001b[0m\n",
      "\u001b[34m[77]#011train-error:0.132533#011validation-error:0.1783\u001b[0m\n",
      "\u001b[34m[05:56:38] src/tree/updater_prune.cc:74: tree pruning end, 1 roots, 20 extra nodes, 10 pruned nodes, max_depth=5\u001b[0m\n",
      "\u001b[34m[78]#011train-error:0.132067#011validation-error:0.1784\u001b[0m\n",
      "\u001b[34m[05:56:39] src/tree/updater_prune.cc:74: tree pruning end, 1 roots, 26 extra nodes, 6 pruned nodes, max_depth=5\u001b[0m\n",
      "\u001b[34m[79]#011train-error:0.1316#011validation-error:0.1779\u001b[0m\n",
      "\u001b[34m[05:56:40] src/tree/updater_prune.cc:74: tree pruning end, 1 roots, 16 extra nodes, 12 pruned nodes, max_depth=5\u001b[0m\n",
      "\u001b[34m[80]#011train-error:0.129733#011validation-error:0.1778\u001b[0m\n",
      "\u001b[34m[05:56:42] src/tree/updater_prune.cc:74: tree pruning end, 1 roots, 10 extra nodes, 12 pruned nodes, max_depth=5\u001b[0m\n",
      "\u001b[34m[81]#011train-error:0.129533#011validation-error:0.1782\u001b[0m\n",
      "\u001b[34m[05:56:43] src/tree/updater_prune.cc:74: tree pruning end, 1 roots, 16 extra nodes, 10 pruned nodes, max_depth=5\u001b[0m\n",
      "\u001b[34m[82]#011train-error:0.129467#011validation-error:0.1784\u001b[0m\n",
      "\u001b[34m[05:56:44] src/tree/updater_prune.cc:74: tree pruning end, 1 roots, 26 extra nodes, 6 pruned nodes, max_depth=5\u001b[0m\n",
      "\u001b[34m[83]#011train-error:0.128733#011validation-error:0.1781\u001b[0m\n",
      "\u001b[34m[05:56:45] src/tree/updater_prune.cc:74: tree pruning end, 1 roots, 22 extra nodes, 4 pruned nodes, max_depth=5\u001b[0m\n",
      "\u001b[34m[84]#011train-error:0.127867#011validation-error:0.1786\u001b[0m\n",
      "\u001b[34m[05:56:47] src/tree/updater_prune.cc:74: tree pruning end, 1 roots, 22 extra nodes, 14 pruned nodes, max_depth=5\u001b[0m\n",
      "\u001b[34m[85]#011train-error:0.127467#011validation-error:0.1782\u001b[0m\n",
      "\u001b[34m[05:56:48] src/tree/updater_prune.cc:74: tree pruning end, 1 roots, 16 extra nodes, 20 pruned nodes, max_depth=5\u001b[0m\n",
      "\u001b[34m[86]#011train-error:0.127333#011validation-error:0.1774\u001b[0m\n",
      "\u001b[34m[05:56:49] src/tree/updater_prune.cc:74: tree pruning end, 1 roots, 12 extra nodes, 2 pruned nodes, max_depth=5\u001b[0m\n",
      "\u001b[34m[87]#011train-error:0.1272#011validation-error:0.1769\u001b[0m\n",
      "\u001b[34m[05:56:51] src/tree/updater_prune.cc:74: tree pruning end, 1 roots, 14 extra nodes, 12 pruned nodes, max_depth=5\u001b[0m\n",
      "\u001b[34m[88]#011train-error:0.126733#011validation-error:0.1771\u001b[0m\n",
      "\u001b[34m[05:56:52] src/tree/updater_prune.cc:74: tree pruning end, 1 roots, 18 extra nodes, 6 pruned nodes, max_depth=5\u001b[0m\n",
      "\u001b[34m[89]#011train-error:0.126467#011validation-error:0.1774\u001b[0m\n",
      "\u001b[34m[05:56:53] src/tree/updater_prune.cc:74: tree pruning end, 1 roots, 24 extra nodes, 20 pruned nodes, max_depth=5\u001b[0m\n",
      "\u001b[34m[90]#011train-error:0.1254#011validation-error:0.177\u001b[0m\n"
     ]
    },
    {
     "name": "stdout",
     "output_type": "stream",
     "text": [
      "\u001b[34m[05:56:55] src/tree/updater_prune.cc:74: tree pruning end, 1 roots, 12 extra nodes, 4 pruned nodes, max_depth=5\u001b[0m\n",
      "\u001b[34m[91]#011train-error:0.124733#011validation-error:0.1773\u001b[0m\n",
      "\u001b[34m[05:56:56] src/tree/updater_prune.cc:74: tree pruning end, 1 roots, 18 extra nodes, 6 pruned nodes, max_depth=5\u001b[0m\n",
      "\u001b[34m[92]#011train-error:0.124733#011validation-error:0.1772\u001b[0m\n",
      "\u001b[34m[05:56:57] src/tree/updater_prune.cc:74: tree pruning end, 1 roots, 14 extra nodes, 8 pruned nodes, max_depth=5\u001b[0m\n",
      "\u001b[34m[93]#011train-error:0.124667#011validation-error:0.1762\u001b[0m\n",
      "\u001b[34m[05:56:58] src/tree/updater_prune.cc:74: tree pruning end, 1 roots, 12 extra nodes, 10 pruned nodes, max_depth=5\u001b[0m\n",
      "\u001b[34m[94]#011train-error:0.124467#011validation-error:0.1755\u001b[0m\n",
      "\u001b[34m[05:57:00] src/tree/updater_prune.cc:74: tree pruning end, 1 roots, 18 extra nodes, 6 pruned nodes, max_depth=5\u001b[0m\n",
      "\u001b[34m[95]#011train-error:0.124467#011validation-error:0.1761\u001b[0m\n",
      "\u001b[34m[05:57:01] src/tree/updater_prune.cc:74: tree pruning end, 1 roots, 12 extra nodes, 2 pruned nodes, max_depth=5\u001b[0m\n",
      "\u001b[34m[96]#011train-error:0.123933#011validation-error:0.1761\u001b[0m\n",
      "\u001b[34m[05:57:02] src/tree/updater_prune.cc:74: tree pruning end, 1 roots, 20 extra nodes, 10 pruned nodes, max_depth=5\u001b[0m\n",
      "\u001b[34m[97]#011train-error:0.123467#011validation-error:0.1766\u001b[0m\n",
      "\u001b[34m[05:57:04] src/tree/updater_prune.cc:74: tree pruning end, 1 roots, 20 extra nodes, 8 pruned nodes, max_depth=5\u001b[0m\n",
      "\u001b[34m[98]#011train-error:0.122333#011validation-error:0.176\u001b[0m\n",
      "\u001b[34m[05:57:05] src/tree/updater_prune.cc:74: tree pruning end, 1 roots, 18 extra nodes, 10 pruned nodes, max_depth=5\u001b[0m\n",
      "\u001b[34m[99]#011train-error:0.123067#011validation-error:0.1754\u001b[0m\n",
      "\u001b[34m[05:57:06] src/tree/updater_prune.cc:74: tree pruning end, 1 roots, 22 extra nodes, 18 pruned nodes, max_depth=5\u001b[0m\n",
      "\u001b[34m[100]#011train-error:0.123#011validation-error:0.1749\u001b[0m\n",
      "\u001b[34m[05:57:07] src/tree/updater_prune.cc:74: tree pruning end, 1 roots, 24 extra nodes, 4 pruned nodes, max_depth=5\u001b[0m\n",
      "\u001b[34m[101]#011train-error:0.122467#011validation-error:0.1752\u001b[0m\n",
      "\u001b[34m[05:57:09] src/tree/updater_prune.cc:74: tree pruning end, 1 roots, 20 extra nodes, 16 pruned nodes, max_depth=5\u001b[0m\n",
      "\u001b[34m[102]#011train-error:0.121667#011validation-error:0.1747\u001b[0m\n",
      "\u001b[34m[05:57:10] src/tree/updater_prune.cc:74: tree pruning end, 1 roots, 12 extra nodes, 10 pruned nodes, max_depth=5\u001b[0m\n",
      "\u001b[34m[103]#011train-error:0.121067#011validation-error:0.1752\u001b[0m\n",
      "\u001b[34m[05:57:11] src/tree/updater_prune.cc:74: tree pruning end, 1 roots, 20 extra nodes, 10 pruned nodes, max_depth=5\u001b[0m\n",
      "\u001b[34m[104]#011train-error:0.120733#011validation-error:0.1748\u001b[0m\n",
      "\u001b[34m[05:57:13] src/tree/updater_prune.cc:74: tree pruning end, 1 roots, 16 extra nodes, 10 pruned nodes, max_depth=5\u001b[0m\n",
      "\u001b[34m[105]#011train-error:0.120467#011validation-error:0.1745\u001b[0m\n",
      "\u001b[34m[05:57:14] src/tree/updater_prune.cc:74: tree pruning end, 1 roots, 20 extra nodes, 14 pruned nodes, max_depth=5\u001b[0m\n",
      "\u001b[34m[106]#011train-error:0.120133#011validation-error:0.1743\u001b[0m\n",
      "\u001b[34m[05:57:15] src/tree/updater_prune.cc:74: tree pruning end, 1 roots, 22 extra nodes, 8 pruned nodes, max_depth=5\u001b[0m\n",
      "\u001b[34m[107]#011train-error:0.12#011validation-error:0.1734\u001b[0m\n",
      "\u001b[34m[05:57:16] src/tree/updater_prune.cc:74: tree pruning end, 1 roots, 24 extra nodes, 6 pruned nodes, max_depth=5\u001b[0m\n",
      "\u001b[34m[108]#011train-error:0.119133#011validation-error:0.1745\u001b[0m\n",
      "\u001b[34m[05:57:18] src/tree/updater_prune.cc:74: tree pruning end, 1 roots, 10 extra nodes, 4 pruned nodes, max_depth=5\u001b[0m\n",
      "\u001b[34m[109]#011train-error:0.1192#011validation-error:0.1739\u001b[0m\n",
      "\u001b[34m[05:57:19] src/tree/updater_prune.cc:74: tree pruning end, 1 roots, 20 extra nodes, 16 pruned nodes, max_depth=5\u001b[0m\n",
      "\u001b[34m[110]#011train-error:0.118467#011validation-error:0.174\u001b[0m\n",
      "\u001b[34m[05:57:20] src/tree/updater_prune.cc:74: tree pruning end, 1 roots, 16 extra nodes, 18 pruned nodes, max_depth=5\u001b[0m\n",
      "\u001b[34m[111]#011train-error:0.118067#011validation-error:0.1741\u001b[0m\n",
      "\u001b[34m[05:57:22] src/tree/updater_prune.cc:74: tree pruning end, 1 roots, 12 extra nodes, 12 pruned nodes, max_depth=5\u001b[0m\n",
      "\u001b[34m[112]#011train-error:0.117267#011validation-error:0.1742\u001b[0m\n",
      "\u001b[34m[05:57:23] src/tree/updater_prune.cc:74: tree pruning end, 1 roots, 24 extra nodes, 14 pruned nodes, max_depth=5\u001b[0m\n",
      "\u001b[34m[113]#011train-error:0.117133#011validation-error:0.1749\u001b[0m\n",
      "\u001b[34m[05:57:24] src/tree/updater_prune.cc:74: tree pruning end, 1 roots, 12 extra nodes, 4 pruned nodes, max_depth=5\u001b[0m\n",
      "\u001b[34m[114]#011train-error:0.116867#011validation-error:0.175\u001b[0m\n",
      "\u001b[34m[05:57:25] src/tree/updater_prune.cc:74: tree pruning end, 1 roots, 16 extra nodes, 12 pruned nodes, max_depth=5\u001b[0m\n",
      "\u001b[34m[115]#011train-error:0.116933#011validation-error:0.1747\u001b[0m\n",
      "\u001b[34m[05:57:27] src/tree/updater_prune.cc:74: tree pruning end, 1 roots, 26 extra nodes, 14 pruned nodes, max_depth=5\u001b[0m\n",
      "\u001b[34m[116]#011train-error:0.116733#011validation-error:0.1754\u001b[0m\n",
      "\u001b[34m[05:57:28] src/tree/updater_prune.cc:74: tree pruning end, 1 roots, 12 extra nodes, 8 pruned nodes, max_depth=5\u001b[0m\n",
      "\u001b[34m[117]#011train-error:0.115933#011validation-error:0.1748\u001b[0m\n",
      "\u001b[34mStopping. Best iteration:\u001b[0m\n",
      "\u001b[34m[107]#011train-error:0.12#011validation-error:0.1734\n",
      "\u001b[0m\n",
      "\n",
      "2020-02-07 05:57:38 Uploading - Uploading generated training model\n",
      "2020-02-07 05:57:38 Completed - Training job completed\n",
      "Training seconds: 207\n",
      "Billable seconds: 207\n"
     ]
    }
   ],
   "source": [
    "# TODO: Using the new validation and training data, 'fit' your new model.\n",
    "\n",
    "new_xgb.fit({'train': s3_new_input_train, 'validation': s3_new_input_validation})"
   ]
  },
  {
   "cell_type": "markdown",
   "metadata": {},
   "source": [
    "### (TODO) Check the new model\n",
    "\n",
    "So now we have a new XGBoost model that we believe more accurately represents the state of the world at this time, at least in how it relates to the sentiment analysis problem that we are working on. The next step is to double check that our model is performing reasonably.\n",
    "\n",
    "To do this, we will first test our model on the new data.\n",
    "\n",
    "**Note:** In practice this is a pretty bad idea. We already trained our model on the new data, so testing it shouldn't really tell us much. In fact, this is sort of a textbook example of leakage. We are only doing it here so that we have a numerical baseline.\n",
    "\n",
    "**Question:** How might you address the leakage problem?"
   ]
  },
  {
   "cell_type": "markdown",
   "metadata": {},
   "source": [
    "First, we create a new transformer based on our new XGBoost model.\n",
    "\n",
    "**TODO:** Create a transformer object from the newly created XGBoost model."
   ]
  },
  {
   "cell_type": "code",
   "execution_count": 59,
   "metadata": {},
   "outputs": [],
   "source": [
    "# TODO: Create a transformer object from the new_xgb model\n",
    "# new_xgb_transformer = None\n",
    "\n",
    "new_xgb_transformer = new_xgb.transformer(instance_count = 1, instance_type = 'ml.m4.xlarge')"
   ]
  },
  {
   "cell_type": "markdown",
   "metadata": {},
   "source": [
    "Next we test our model on the new data.\n",
    "\n",
    "**TODO:** Use the transformer object to transform the new data (stored in the `new_data_location` variable)"
   ]
  },
  {
   "cell_type": "code",
   "execution_count": 60,
   "metadata": {},
   "outputs": [
    {
     "name": "stdout",
     "output_type": "stream",
     "text": [
      "......................\u001b[34mArguments: serve\u001b[0m\n",
      "\u001b[34m[2020-02-07 06:01:33 +0000] [1] [INFO] Starting gunicorn 19.7.1\u001b[0m\n",
      "\u001b[34m[2020-02-07 06:01:33 +0000] [1] [INFO] Listening at: http://0.0.0.0:8080 (1)\u001b[0m\n",
      "\u001b[34m[2020-02-07 06:01:33 +0000] [1] [INFO] Using worker: gevent\u001b[0m\n",
      "\u001b[34m[2020-02-07 06:01:33 +0000] [37] [INFO] Booting worker with pid: 37\u001b[0m\n",
      "\u001b[34m[2020-02-07 06:01:33 +0000] [38] [INFO] Booting worker with pid: 38\u001b[0m\n",
      "\u001b[34m[2020-02-07 06:01:33 +0000] [39] [INFO] Booting worker with pid: 39\u001b[0m\n",
      "\u001b[34m[2020-02-07:06:01:33:INFO] Model loaded successfully for worker : 37\u001b[0m\n",
      "\u001b[34m[2020-02-07:06:01:33:INFO] Model loaded successfully for worker : 38\u001b[0m\n",
      "\u001b[34m[2020-02-07 06:01:33 +0000] [40] [INFO] Booting worker with pid: 40\u001b[0m\n",
      "\u001b[34m[2020-02-07:06:01:33:INFO] Model loaded successfully for worker : 39\u001b[0m\n",
      "\u001b[34m[2020-02-07:06:01:33:INFO] Model loaded successfully for worker : 40\u001b[0m\n",
      "\u001b[34m[2020-02-07:06:02:00:INFO] Sniff delimiter as ','\u001b[0m\n",
      "\u001b[34m[2020-02-07:06:02:00:INFO] Determined delimiter of CSV input is ','\u001b[0m\n",
      "\u001b[34m[2020-02-07:06:02:01:INFO] Sniff delimiter as ','\u001b[0m\n",
      "\u001b[34m[2020-02-07:06:02:01:INFO] Determined delimiter of CSV input is ','\u001b[0m\n",
      "\u001b[34m[2020-02-07:06:02:01:INFO] Sniff delimiter as ','\u001b[0m\n",
      "\u001b[34m[2020-02-07:06:02:01:INFO] Determined delimiter of CSV input is ','\u001b[0m\n",
      "\u001b[34m[2020-02-07:06:02:01:INFO] Sniff delimiter as ','\u001b[0m\n",
      "\u001b[34m[2020-02-07:06:02:01:INFO] Determined delimiter of CSV input is ','\u001b[0m\n",
      "\u001b[35m[2020-02-07:06:02:00:INFO] Sniff delimiter as ','\u001b[0m\n",
      "\u001b[35m[2020-02-07:06:02:00:INFO] Determined delimiter of CSV input is ','\u001b[0m\n",
      "\u001b[35m[2020-02-07:06:02:01:INFO] Sniff delimiter as ','\u001b[0m\n",
      "\u001b[35m[2020-02-07:06:02:01:INFO] Determined delimiter of CSV input is ','\u001b[0m\n",
      "\u001b[35m[2020-02-07:06:02:01:INFO] Sniff delimiter as ','\u001b[0m\n",
      "\u001b[35m[2020-02-07:06:02:01:INFO] Determined delimiter of CSV input is ','\u001b[0m\n",
      "\u001b[35m[2020-02-07:06:02:01:INFO] Sniff delimiter as ','\u001b[0m\n",
      "\u001b[35m[2020-02-07:06:02:01:INFO] Determined delimiter of CSV input is ','\u001b[0m\n",
      "\u001b[32m2020-02-07T06:01:58.142:[sagemaker logs]: MaxConcurrentTransforms=4, MaxPayloadInMB=6, BatchStrategy=MULTI_RECORD\u001b[0m\n",
      "\u001b[34m[2020-02-07:06:02:03:INFO] Sniff delimiter as ','\u001b[0m\n",
      "\u001b[34m[2020-02-07:06:02:03:INFO] Determined delimiter of CSV input is ','\u001b[0m\n",
      "\u001b[34m[2020-02-07:06:02:03:INFO] Sniff delimiter as ','\u001b[0m\n",
      "\u001b[34m[2020-02-07:06:02:03:INFO] Determined delimiter of CSV input is ','\u001b[0m\n",
      "\u001b[34m[2020-02-07:06:02:03:INFO] Sniff delimiter as ','\u001b[0m\n",
      "\u001b[34m[2020-02-07:06:02:03:INFO] Determined delimiter of CSV input is ','\u001b[0m\n",
      "\u001b[35m[2020-02-07:06:02:03:INFO] Sniff delimiter as ','\u001b[0m\n",
      "\u001b[35m[2020-02-07:06:02:03:INFO] Determined delimiter of CSV input is ','\u001b[0m\n",
      "\u001b[35m[2020-02-07:06:02:03:INFO] Sniff delimiter as ','\u001b[0m\n",
      "\u001b[35m[2020-02-07:06:02:03:INFO] Determined delimiter of CSV input is ','\u001b[0m\n",
      "\u001b[35m[2020-02-07:06:02:03:INFO] Sniff delimiter as ','\u001b[0m\n",
      "\u001b[35m[2020-02-07:06:02:03:INFO] Determined delimiter of CSV input is ','\u001b[0m\n",
      "\u001b[34m[2020-02-07:06:02:03:INFO] Sniff delimiter as ','\u001b[0m\n",
      "\u001b[34m[2020-02-07:06:02:03:INFO] Determined delimiter of CSV input is ','\u001b[0m\n",
      "\u001b[35m[2020-02-07:06:02:03:INFO] Sniff delimiter as ','\u001b[0m\n",
      "\u001b[35m[2020-02-07:06:02:03:INFO] Determined delimiter of CSV input is ','\u001b[0m\n",
      "\u001b[34m[2020-02-07:06:02:05:INFO] Sniff delimiter as ','\u001b[0m\n",
      "\u001b[34m[2020-02-07:06:02:05:INFO] Determined delimiter of CSV input is ','\u001b[0m\n",
      "\u001b[34m[2020-02-07:06:02:05:INFO] Sniff delimiter as ','\u001b[0m\n",
      "\u001b[34m[2020-02-07:06:02:05:INFO] Determined delimiter of CSV input is ','\u001b[0m\n",
      "\u001b[34m[2020-02-07:06:02:06:INFO] Sniff delimiter as ','\u001b[0m\n",
      "\u001b[34m[2020-02-07:06:02:06:INFO] Determined delimiter of CSV input is ','\u001b[0m\n",
      "\u001b[34m[2020-02-07:06:02:06:INFO] Sniff delimiter as ','\u001b[0m\n",
      "\u001b[34m[2020-02-07:06:02:06:INFO] Determined delimiter of CSV input is ','\u001b[0m\n",
      "\u001b[35m[2020-02-07:06:02:05:INFO] Sniff delimiter as ','\u001b[0m\n",
      "\u001b[35m[2020-02-07:06:02:05:INFO] Determined delimiter of CSV input is ','\u001b[0m\n",
      "\u001b[35m[2020-02-07:06:02:05:INFO] Sniff delimiter as ','\u001b[0m\n",
      "\u001b[35m[2020-02-07:06:02:05:INFO] Determined delimiter of CSV input is ','\u001b[0m\n",
      "\u001b[35m[2020-02-07:06:02:06:INFO] Sniff delimiter as ','\u001b[0m\n",
      "\u001b[35m[2020-02-07:06:02:06:INFO] Determined delimiter of CSV input is ','\u001b[0m\n",
      "\u001b[35m[2020-02-07:06:02:06:INFO] Sniff delimiter as ','\u001b[0m\n",
      "\u001b[35m[2020-02-07:06:02:06:INFO] Determined delimiter of CSV input is ','\u001b[0m\n",
      "\u001b[34m[2020-02-07:06:02:08:INFO] Sniff delimiter as ','\u001b[0m\n",
      "\u001b[34m[2020-02-07:06:02:08:INFO] Determined delimiter of CSV input is ','\u001b[0m\n",
      "\u001b[34m[2020-02-07:06:02:08:INFO] Sniff delimiter as ','\u001b[0m\n",
      "\u001b[34m[2020-02-07:06:02:08:INFO] Determined delimiter of CSV input is ','\u001b[0m\n",
      "\u001b[34m[2020-02-07:06:02:08:INFO] Sniff delimiter as ','\u001b[0m\n",
      "\u001b[34m[2020-02-07:06:02:08:INFO] Determined delimiter of CSV input is ','\u001b[0m\n",
      "\u001b[34m[2020-02-07:06:02:08:INFO] Sniff delimiter as ','\u001b[0m\n",
      "\u001b[34m[2020-02-07:06:02:08:INFO] Determined delimiter of CSV input is ','\u001b[0m\n",
      "\u001b[35m[2020-02-07:06:02:08:INFO] Sniff delimiter as ','\u001b[0m\n",
      "\u001b[35m[2020-02-07:06:02:08:INFO] Determined delimiter of CSV input is ','\u001b[0m\n",
      "\u001b[35m[2020-02-07:06:02:08:INFO] Sniff delimiter as ','\u001b[0m\n",
      "\u001b[35m[2020-02-07:06:02:08:INFO] Determined delimiter of CSV input is ','\u001b[0m\n",
      "\u001b[35m[2020-02-07:06:02:08:INFO] Sniff delimiter as ','\u001b[0m\n",
      "\u001b[35m[2020-02-07:06:02:08:INFO] Determined delimiter of CSV input is ','\u001b[0m\n",
      "\u001b[35m[2020-02-07:06:02:08:INFO] Sniff delimiter as ','\u001b[0m\n",
      "\u001b[35m[2020-02-07:06:02:08:INFO] Determined delimiter of CSV input is ','\u001b[0m\n",
      "\u001b[34m[2020-02-07:06:02:10:INFO] Sniff delimiter as ','\u001b[0m\n",
      "\u001b[34m[2020-02-07:06:02:10:INFO] Determined delimiter of CSV input is ','\u001b[0m\n",
      "\u001b[35m[2020-02-07:06:02:10:INFO] Sniff delimiter as ','\u001b[0m\n",
      "\u001b[35m[2020-02-07:06:02:10:INFO] Determined delimiter of CSV input is ','\u001b[0m\n",
      "\u001b[34m[2020-02-07:06:02:11:INFO] Sniff delimiter as ','\u001b[0m\n",
      "\u001b[34m[2020-02-07:06:02:11:INFO] Determined delimiter of CSV input is ','\u001b[0m\n",
      "\u001b[34m[2020-02-07:06:02:11:INFO] Sniff delimiter as ','\u001b[0m\n",
      "\u001b[34m[2020-02-07:06:02:11:INFO] Determined delimiter of CSV input is ','\u001b[0m\n",
      "\u001b[35m[2020-02-07:06:02:11:INFO] Sniff delimiter as ','\u001b[0m\n",
      "\u001b[35m[2020-02-07:06:02:11:INFO] Determined delimiter of CSV input is ','\u001b[0m\n",
      "\u001b[35m[2020-02-07:06:02:11:INFO] Sniff delimiter as ','\u001b[0m\n",
      "\u001b[35m[2020-02-07:06:02:11:INFO] Determined delimiter of CSV input is ','\u001b[0m\n",
      "\u001b[34m[2020-02-07:06:02:13:INFO] Sniff delimiter as ','\u001b[0m\n",
      "\u001b[34m[2020-02-07:06:02:13:INFO] Determined delimiter of CSV input is ','\u001b[0m\n",
      "\u001b[35m[2020-02-07:06:02:13:INFO] Sniff delimiter as ','\u001b[0m\n",
      "\u001b[35m[2020-02-07:06:02:13:INFO] Determined delimiter of CSV input is ','\u001b[0m\n",
      "\u001b[34m[2020-02-07:06:02:13:INFO] Sniff delimiter as ','\u001b[0m\n",
      "\u001b[34m[2020-02-07:06:02:13:INFO] Determined delimiter of CSV input is ','\u001b[0m\n",
      "\u001b[34m[2020-02-07:06:02:13:INFO] Sniff delimiter as ','\u001b[0m\n",
      "\u001b[34m[2020-02-07:06:02:13:INFO] Determined delimiter of CSV input is ','\u001b[0m\n",
      "\u001b[34m[2020-02-07:06:02:13:INFO] Sniff delimiter as ','\u001b[0m\n",
      "\u001b[34m[2020-02-07:06:02:13:INFO] Determined delimiter of CSV input is ','\u001b[0m\n",
      "\u001b[35m[2020-02-07:06:02:13:INFO] Sniff delimiter as ','\u001b[0m\n",
      "\u001b[35m[2020-02-07:06:02:13:INFO] Determined delimiter of CSV input is ','\u001b[0m\n",
      "\u001b[35m[2020-02-07:06:02:13:INFO] Sniff delimiter as ','\u001b[0m\n",
      "\u001b[35m[2020-02-07:06:02:13:INFO] Determined delimiter of CSV input is ','\u001b[0m\n",
      "\u001b[35m[2020-02-07:06:02:13:INFO] Sniff delimiter as ','\u001b[0m\n",
      "\u001b[35m[2020-02-07:06:02:13:INFO] Determined delimiter of CSV input is ','\u001b[0m\n",
      "\u001b[34m[2020-02-07:06:02:15:INFO] Sniff delimiter as ','\u001b[0m\n",
      "\u001b[34m[2020-02-07:06:02:15:INFO] Determined delimiter of CSV input is ','\u001b[0m\n",
      "\u001b[34m[2020-02-07:06:02:15:INFO] Sniff delimiter as ','\u001b[0m\n",
      "\u001b[35m[2020-02-07:06:02:15:INFO] Sniff delimiter as ','\u001b[0m\n",
      "\u001b[35m[2020-02-07:06:02:15:INFO] Determined delimiter of CSV input is ','\u001b[0m\n",
      "\u001b[35m[2020-02-07:06:02:15:INFO] Sniff delimiter as ','\u001b[0m\n",
      "\u001b[34m[2020-02-07:06:02:15:INFO] Determined delimiter of CSV input is ','\u001b[0m\n",
      "\u001b[34m[2020-02-07:06:02:15:INFO] Sniff delimiter as ','\u001b[0m\n",
      "\u001b[34m[2020-02-07:06:02:15:INFO] Determined delimiter of CSV input is ','\u001b[0m\n",
      "\u001b[35m[2020-02-07:06:02:15:INFO] Determined delimiter of CSV input is ','\u001b[0m\n",
      "\u001b[35m[2020-02-07:06:02:15:INFO] Sniff delimiter as ','\u001b[0m\n",
      "\u001b[35m[2020-02-07:06:02:15:INFO] Determined delimiter of CSV input is ','\u001b[0m\n",
      "\u001b[34m[2020-02-07:06:02:16:INFO] Sniff delimiter as ','\u001b[0m\n",
      "\u001b[34m[2020-02-07:06:02:16:INFO] Determined delimiter of CSV input is ','\u001b[0m\n",
      "\u001b[35m[2020-02-07:06:02:16:INFO] Sniff delimiter as ','\u001b[0m\n",
      "\u001b[35m[2020-02-07:06:02:16:INFO] Determined delimiter of CSV input is ','\u001b[0m\n",
      "\u001b[34m[2020-02-07:06:02:17:INFO] Sniff delimiter as ','\u001b[0m\n",
      "\u001b[34m[2020-02-07:06:02:17:INFO] Determined delimiter of CSV input is ','\u001b[0m\n",
      "\u001b[34m[2020-02-07:06:02:18:INFO] Sniff delimiter as ','\u001b[0m\n",
      "\u001b[34m[2020-02-07:06:02:18:INFO] Determined delimiter of CSV input is ','\u001b[0m\n",
      "\u001b[34m[2020-02-07:06:02:18:INFO] Sniff delimiter as ','\u001b[0m\n",
      "\u001b[34m[2020-02-07:06:02:18:INFO] Determined delimiter of CSV input is ','\u001b[0m\n",
      "\u001b[34m[2020-02-07:06:02:18:INFO] Sniff delimiter as ','\u001b[0m\n",
      "\u001b[34m[2020-02-07:06:02:18:INFO] Determined delimiter of CSV input is ','\u001b[0m\n",
      "\u001b[35m[2020-02-07:06:02:17:INFO] Sniff delimiter as ','\u001b[0m\n",
      "\u001b[35m[2020-02-07:06:02:17:INFO] Determined delimiter of CSV input is ','\u001b[0m\n",
      "\u001b[35m[2020-02-07:06:02:18:INFO] Sniff delimiter as ','\u001b[0m\n",
      "\u001b[35m[2020-02-07:06:02:18:INFO] Determined delimiter of CSV input is ','\u001b[0m\n",
      "\u001b[35m[2020-02-07:06:02:18:INFO] Sniff delimiter as ','\u001b[0m\n",
      "\u001b[35m[2020-02-07:06:02:18:INFO] Determined delimiter of CSV input is ','\u001b[0m\n",
      "\u001b[35m[2020-02-07:06:02:18:INFO] Sniff delimiter as ','\u001b[0m\n",
      "\u001b[35m[2020-02-07:06:02:18:INFO] Determined delimiter of CSV input is ','\u001b[0m\n",
      "\u001b[34m[2020-02-07:06:02:20:INFO] Sniff delimiter as ','\u001b[0m\n",
      "\u001b[34m[2020-02-07:06:02:20:INFO] Determined delimiter of CSV input is ','\u001b[0m\n",
      "\u001b[34m[2020-02-07:06:02:20:INFO] Sniff delimiter as ','\u001b[0m\n",
      "\u001b[34m[2020-02-07:06:02:20:INFO] Determined delimiter of CSV input is ','\u001b[0m\n",
      "\u001b[34m[2020-02-07:06:02:20:INFO] Sniff delimiter as ','\u001b[0m\n",
      "\u001b[34m[2020-02-07:06:02:20:INFO] Determined delimiter of CSV input is ','\u001b[0m\n",
      "\u001b[35m[2020-02-07:06:02:20:INFO] Sniff delimiter as ','\u001b[0m\n",
      "\u001b[35m[2020-02-07:06:02:20:INFO] Determined delimiter of CSV input is ','\u001b[0m\n",
      "\u001b[35m[2020-02-07:06:02:20:INFO] Sniff delimiter as ','\u001b[0m\n",
      "\u001b[35m[2020-02-07:06:02:20:INFO] Determined delimiter of CSV input is ','\u001b[0m\n",
      "\u001b[35m[2020-02-07:06:02:20:INFO] Sniff delimiter as ','\u001b[0m\n",
      "\u001b[35m[2020-02-07:06:02:20:INFO] Determined delimiter of CSV input is ','\u001b[0m\n"
     ]
    },
    {
     "name": "stdout",
     "output_type": "stream",
     "text": [
      "\u001b[34m[2020-02-07:06:02:23:INFO] Sniff delimiter as ','\u001b[0m\n",
      "\u001b[34m[2020-02-07:06:02:23:INFO] Determined delimiter of CSV input is ','\u001b[0m\n",
      "\u001b[34m[2020-02-07:06:02:23:INFO] Sniff delimiter as ','\u001b[0m\n",
      "\u001b[34m[2020-02-07:06:02:23:INFO] Determined delimiter of CSV input is ','\u001b[0m\n",
      "\u001b[35m[2020-02-07:06:02:23:INFO] Sniff delimiter as ','\u001b[0m\n",
      "\u001b[35m[2020-02-07:06:02:23:INFO] Determined delimiter of CSV input is ','\u001b[0m\n",
      "\u001b[35m[2020-02-07:06:02:23:INFO] Sniff delimiter as ','\u001b[0m\n",
      "\u001b[35m[2020-02-07:06:02:23:INFO] Determined delimiter of CSV input is ','\u001b[0m\n",
      "\n"
     ]
    }
   ],
   "source": [
    "# TODO: Using new_xgb_transformer, transform the new_data_location data. You may wish to\n",
    "#       'wait' for the transform job to finish.\n",
    "\n",
    "new_xgb_transformer.transform(new_data_location, content_type='text/csv', split_type='Line')\n",
    "new_xgb_transformer.wait()"
   ]
  },
  {
   "cell_type": "markdown",
   "metadata": {},
   "source": [
    "Copy the results to our local instance."
   ]
  },
  {
   "cell_type": "code",
   "execution_count": 61,
   "metadata": {},
   "outputs": [
    {
     "name": "stdout",
     "output_type": "stream",
     "text": [
      "Completed 256.0 KiB/366.6 KiB (4.9 MiB/s) with 1 file(s) remaining\r",
      "Completed 366.6 KiB/366.6 KiB (6.8 MiB/s) with 1 file(s) remaining\r",
      "download: s3://sagemaker-us-east-1-174814400447/xgboost-2020-02-07-05-58-11-540/new_data.csv.out to ../data/sentiment_update/new_data.csv.out\r\n"
     ]
    }
   ],
   "source": [
    "!aws s3 cp --recursive $new_xgb_transformer.output_path $data_dir"
   ]
  },
  {
   "cell_type": "markdown",
   "metadata": {},
   "source": [
    "And see how well the model did."
   ]
  },
  {
   "cell_type": "code",
   "execution_count": 62,
   "metadata": {},
   "outputs": [],
   "source": [
    "predictions = pd.read_csv(os.path.join(data_dir, 'new_data.csv.out'), header=None)\n",
    "predictions = [round(num) for num in predictions.squeeze().values]"
   ]
  },
  {
   "cell_type": "code",
   "execution_count": 63,
   "metadata": {},
   "outputs": [
    {
     "data": {
      "text/plain": [
       "0.85864"
      ]
     },
     "execution_count": 63,
     "metadata": {},
     "output_type": "execute_result"
    }
   ],
   "source": [
    "accuracy_score(new_Y, predictions)"
   ]
  },
  {
   "cell_type": "markdown",
   "metadata": {},
   "source": [
    "As expected, since we trained the model on this data, our model performs pretty well. So, we have reason to believe that our new XGBoost model is a \"better\" model.\n",
    "\n",
    "However, before we start changing our deployed model, we should first make sure that our new model isn't too different. In other words, if our new model performed really poorly on the original test data then this might be an indication that something else has gone wrong.\n",
    "\n",
    "To start with, since we got rid of the variable that stored the original test reviews, we will read them in again from the cache that we created in Step 3. Note that we need to make sure that we read in the original test data after it has been pre-processed with `nltk` but before it has been bag of words encoded. This is because we need to use the new vocabulary instead of the original one."
   ]
  },
  {
   "cell_type": "code",
   "execution_count": 64,
   "metadata": {},
   "outputs": [
    {
     "name": "stdout",
     "output_type": "stream",
     "text": [
      "Read preprocessed data from cache file: preprocessed_data.pkl\n"
     ]
    }
   ],
   "source": [
    "cache_data = None\n",
    "with open(os.path.join(cache_dir, \"preprocessed_data.pkl\"), \"rb\") as f:\n",
    "            cache_data = pickle.load(f)\n",
    "            print(\"Read preprocessed data from cache file:\", \"preprocessed_data.pkl\")\n",
    "            \n",
    "test_X = cache_data['words_test']\n",
    "test_Y = cache_data['labels_test']\n",
    "\n",
    "# Here we set cache_data to None so that it doesn't occupy memory\n",
    "cache_data = None"
   ]
  },
  {
   "cell_type": "markdown",
   "metadata": {},
   "source": [
    "Once we've loaded the original test reviews, we need to create a bag of words encoding of them using the new vocabulary that we created, based on the new data.\n",
    "\n",
    "**TODO:** Transform the original test data using the new vocabulary."
   ]
  },
  {
   "cell_type": "code",
   "execution_count": 65,
   "metadata": {},
   "outputs": [],
   "source": [
    "# TODO: Use the new_vectorizer object that you created earlier to transform the test_X data.\n",
    "# test_X = None\n",
    "\n",
    "test_X = new_vectorizer.transform(test_X).toarray()"
   ]
  },
  {
   "cell_type": "markdown",
   "metadata": {},
   "source": [
    "Now that we have correctly encoded the original test data, we can write it to the local instance, upload it to S3 and test it."
   ]
  },
  {
   "cell_type": "code",
   "execution_count": 66,
   "metadata": {},
   "outputs": [],
   "source": [
    "pd.DataFrame(test_X).to_csv(os.path.join(data_dir, 'test.csv'), header=False, index=False)"
   ]
  },
  {
   "cell_type": "code",
   "execution_count": 67,
   "metadata": {},
   "outputs": [],
   "source": [
    "test_location = session.upload_data(os.path.join(data_dir, 'test.csv'), key_prefix=prefix)"
   ]
  },
  {
   "cell_type": "code",
   "execution_count": 68,
   "metadata": {},
   "outputs": [
    {
     "name": "stdout",
     "output_type": "stream",
     "text": [
      ".....................\u001b[34mArguments: serve\u001b[0m\n",
      "\u001b[34m[2020-02-07 06:08:30 +0000] [1] [INFO] Starting gunicorn 19.7.1\u001b[0m\n",
      "\u001b[34m[2020-02-07 06:08:30 +0000] [1] [INFO] Listening at: http://0.0.0.0:8080 (1)\u001b[0m\n",
      "\u001b[34m[2020-02-07 06:08:30 +0000] [1] [INFO] Using worker: gevent\u001b[0m\n",
      "\u001b[34m[2020-02-07 06:08:30 +0000] [38] [INFO] Booting worker with pid: 38\u001b[0m\n",
      "\u001b[34m[2020-02-07 06:08:30 +0000] [39] [INFO] Booting worker with pid: 39\u001b[0m\n",
      "\u001b[34m[2020-02-07 06:08:30 +0000] [40] [INFO] Booting worker with pid: 40\u001b[0m\n",
      "\u001b[34m[2020-02-07:06:08:30:INFO] Model loaded successfully for worker : 38\u001b[0m\n",
      "\u001b[34m[2020-02-07 06:08:30 +0000] [41] [INFO] Booting worker with pid: 41\u001b[0m\n",
      "\u001b[34m[2020-02-07:06:08:31:INFO] Model loaded successfully for worker : 39\u001b[0m\n",
      "\u001b[34m[2020-02-07:06:08:31:INFO] Model loaded successfully for worker : 40\u001b[0m\n",
      "\u001b[34m[2020-02-07:06:08:31:INFO] Model loaded successfully for worker : 41\u001b[0m\n",
      "\u001b[34m[2020-02-07:06:09:03:INFO] Sniff delimiter as ','\u001b[0m\n",
      "\u001b[34m[2020-02-07:06:09:03:INFO] Determined delimiter of CSV input is ','\u001b[0m\n",
      "\u001b[34m[2020-02-07:06:09:04:INFO] Sniff delimiter as ','\u001b[0m\n",
      "\u001b[34m[2020-02-07:06:09:04:INFO] Determined delimiter of CSV input is ','\u001b[0m\n",
      "\u001b[34m[2020-02-07:06:09:04:INFO] Sniff delimiter as ','\u001b[0m\n",
      "\u001b[34m[2020-02-07:06:09:04:INFO] Determined delimiter of CSV input is ','\u001b[0m\n",
      "\u001b[34m[2020-02-07:06:09:04:INFO] Sniff delimiter as ','\u001b[0m\n",
      "\u001b[34m[2020-02-07:06:09:04:INFO] Determined delimiter of CSV input is ','\u001b[0m\n",
      "\u001b[34m[2020-02-07:06:09:06:INFO] Sniff delimiter as ','\u001b[0m\n",
      "\u001b[34m[2020-02-07:06:09:06:INFO] Determined delimiter of CSV input is ','\u001b[0m\n",
      "\u001b[34m[2020-02-07:06:09:06:INFO] Sniff delimiter as ','\u001b[0m\n",
      "\u001b[34m[2020-02-07:06:09:06:INFO] Determined delimiter of CSV input is ','\u001b[0m\n",
      "\u001b[34m[2020-02-07:06:09:06:INFO] Sniff delimiter as ','\u001b[0m\n",
      "\u001b[34m[2020-02-07:06:09:06:INFO] Determined delimiter of CSV input is ','\u001b[0m\n",
      "\u001b[34m[2020-02-07:06:09:06:INFO] Sniff delimiter as ','\u001b[0m\n",
      "\u001b[34m[2020-02-07:06:09:06:INFO] Determined delimiter of CSV input is ','\u001b[0m\n",
      "\u001b[32m2020-02-07T06:09:01.155:[sagemaker logs]: MaxConcurrentTransforms=4, MaxPayloadInMB=6, BatchStrategy=MULTI_RECORD\u001b[0m\n",
      "\u001b[34m[2020-02-07:06:09:08:INFO] Sniff delimiter as ','\u001b[0m\n",
      "\u001b[34m[2020-02-07:06:09:08:INFO] Determined delimiter of CSV input is ','\u001b[0m\n",
      "\u001b[34m[2020-02-07:06:09:08:INFO] Sniff delimiter as ','\u001b[0m\n",
      "\u001b[34m[2020-02-07:06:09:08:INFO] Determined delimiter of CSV input is ','\u001b[0m\n",
      "\u001b[34m[2020-02-07:06:09:09:INFO] Sniff delimiter as ','\u001b[0m\n",
      "\u001b[34m[2020-02-07:06:09:09:INFO] Determined delimiter of CSV input is ','\u001b[0m\n",
      "\u001b[34m[2020-02-07:06:09:09:INFO] Sniff delimiter as ','\u001b[0m\n",
      "\u001b[34m[2020-02-07:06:09:09:INFO] Determined delimiter of CSV input is ','\u001b[0m\n",
      "\u001b[35m[2020-02-07:06:09:08:INFO] Sniff delimiter as ','\u001b[0m\n",
      "\u001b[35m[2020-02-07:06:09:08:INFO] Determined delimiter of CSV input is ','\u001b[0m\n",
      "\u001b[35m[2020-02-07:06:09:08:INFO] Sniff delimiter as ','\u001b[0m\n",
      "\u001b[35m[2020-02-07:06:09:08:INFO] Determined delimiter of CSV input is ','\u001b[0m\n",
      "\u001b[35m[2020-02-07:06:09:09:INFO] Sniff delimiter as ','\u001b[0m\n",
      "\u001b[35m[2020-02-07:06:09:09:INFO] Determined delimiter of CSV input is ','\u001b[0m\n",
      "\u001b[35m[2020-02-07:06:09:09:INFO] Sniff delimiter as ','\u001b[0m\n",
      "\u001b[35m[2020-02-07:06:09:09:INFO] Determined delimiter of CSV input is ','\u001b[0m\n",
      "\u001b[34m[2020-02-07:06:09:11:INFO] Sniff delimiter as ','\u001b[0m\n",
      "\u001b[34m[2020-02-07:06:09:11:INFO] Determined delimiter of CSV input is ','\u001b[0m\n",
      "\u001b[34m[2020-02-07:06:09:11:INFO] Sniff delimiter as ','\u001b[0m\n",
      "\u001b[34m[2020-02-07:06:09:11:INFO] Determined delimiter of CSV input is ','\u001b[0m\n",
      "\u001b[34m[2020-02-07:06:09:11:INFO] Sniff delimiter as ','\u001b[0m\n",
      "\u001b[34m[2020-02-07:06:09:11:INFO] Determined delimiter of CSV input is ','\u001b[0m\n",
      "\u001b[35m[2020-02-07:06:09:11:INFO] Sniff delimiter as ','\u001b[0m\n",
      "\u001b[35m[2020-02-07:06:09:11:INFO] Determined delimiter of CSV input is ','\u001b[0m\n",
      "\u001b[35m[2020-02-07:06:09:11:INFO] Sniff delimiter as ','\u001b[0m\n",
      "\u001b[35m[2020-02-07:06:09:11:INFO] Determined delimiter of CSV input is ','\u001b[0m\n",
      "\u001b[35m[2020-02-07:06:09:11:INFO] Sniff delimiter as ','\u001b[0m\n",
      "\u001b[35m[2020-02-07:06:09:11:INFO] Determined delimiter of CSV input is ','\u001b[0m\n",
      "\u001b[34m[2020-02-07:06:09:11:INFO] Sniff delimiter as ','\u001b[0m\n",
      "\u001b[35m[2020-02-07:06:09:11:INFO] Sniff delimiter as ','\u001b[0m\n",
      "\u001b[34m[2020-02-07:06:09:11:INFO] Determined delimiter of CSV input is ','\u001b[0m\n",
      "\u001b[35m[2020-02-07:06:09:11:INFO] Determined delimiter of CSV input is ','\u001b[0m\n",
      "\u001b[34m[2020-02-07:06:09:13:INFO] Sniff delimiter as ','\u001b[0m\n",
      "\u001b[34m[2020-02-07:06:09:13:INFO] Determined delimiter of CSV input is ','\u001b[0m\n",
      "\u001b[35m[2020-02-07:06:09:13:INFO] Sniff delimiter as ','\u001b[0m\n",
      "\u001b[35m[2020-02-07:06:09:13:INFO] Determined delimiter of CSV input is ','\u001b[0m\n",
      "\u001b[34m[2020-02-07:06:09:13:INFO] Sniff delimiter as ','\u001b[0m\n",
      "\u001b[35m[2020-02-07:06:09:13:INFO] Sniff delimiter as ','\u001b[0m\n",
      "\u001b[34m[2020-02-07:06:09:13:INFO] Determined delimiter of CSV input is ','\u001b[0m\n",
      "\u001b[34m[2020-02-07:06:09:14:INFO] Sniff delimiter as ','\u001b[0m\n",
      "\u001b[34m[2020-02-07:06:09:14:INFO] Determined delimiter of CSV input is ','\u001b[0m\n",
      "\u001b[34m[2020-02-07:06:09:14:INFO] Sniff delimiter as ','\u001b[0m\n",
      "\u001b[34m[2020-02-07:06:09:14:INFO] Determined delimiter of CSV input is ','\u001b[0m\n",
      "\u001b[35m[2020-02-07:06:09:13:INFO] Determined delimiter of CSV input is ','\u001b[0m\n",
      "\u001b[35m[2020-02-07:06:09:14:INFO] Sniff delimiter as ','\u001b[0m\n",
      "\u001b[35m[2020-02-07:06:09:14:INFO] Determined delimiter of CSV input is ','\u001b[0m\n",
      "\u001b[35m[2020-02-07:06:09:14:INFO] Sniff delimiter as ','\u001b[0m\n",
      "\u001b[35m[2020-02-07:06:09:14:INFO] Determined delimiter of CSV input is ','\u001b[0m\n",
      "\u001b[34m[2020-02-07:06:09:16:INFO] Sniff delimiter as ','\u001b[0m\n",
      "\u001b[34m[2020-02-07:06:09:16:INFO] Determined delimiter of CSV input is ','\u001b[0m\n",
      "\u001b[35m[2020-02-07:06:09:16:INFO] Sniff delimiter as ','\u001b[0m\n",
      "\u001b[35m[2020-02-07:06:09:16:INFO] Determined delimiter of CSV input is ','\u001b[0m\n",
      "\u001b[34m[2020-02-07:06:09:16:INFO] Sniff delimiter as ','\u001b[0m\n",
      "\u001b[34m[2020-02-07:06:09:16:INFO] Determined delimiter of CSV input is ','\u001b[0m\n",
      "\u001b[34m[2020-02-07:06:09:16:INFO] Sniff delimiter as ','\u001b[0m\n",
      "\u001b[34m[2020-02-07:06:09:16:INFO] Determined delimiter of CSV input is ','\u001b[0m\n",
      "\u001b[35m[2020-02-07:06:09:16:INFO] Sniff delimiter as ','\u001b[0m\n",
      "\u001b[35m[2020-02-07:06:09:16:INFO] Determined delimiter of CSV input is ','\u001b[0m\n",
      "\u001b[35m[2020-02-07:06:09:16:INFO] Sniff delimiter as ','\u001b[0m\n",
      "\u001b[35m[2020-02-07:06:09:16:INFO] Determined delimiter of CSV input is ','\u001b[0m\n",
      "\u001b[34m[2020-02-07:06:09:16:INFO] Sniff delimiter as ','\u001b[0m\n",
      "\u001b[34m[2020-02-07:06:09:16:INFO] Determined delimiter of CSV input is ','\u001b[0m\n",
      "\u001b[35m[2020-02-07:06:09:16:INFO] Sniff delimiter as ','\u001b[0m\n",
      "\u001b[35m[2020-02-07:06:09:16:INFO] Determined delimiter of CSV input is ','\u001b[0m\n",
      "\u001b[34m[2020-02-07:06:09:18:INFO] Sniff delimiter as ','\u001b[0m\n",
      "\u001b[34m[2020-02-07:06:09:18:INFO] Determined delimiter of CSV input is ','\u001b[0m\n",
      "\u001b[35m[2020-02-07:06:09:18:INFO] Sniff delimiter as ','\u001b[0m\n",
      "\u001b[35m[2020-02-07:06:09:18:INFO] Determined delimiter of CSV input is ','\u001b[0m\n",
      "\u001b[34m[2020-02-07:06:09:18:INFO] Sniff delimiter as ','\u001b[0m\n",
      "\u001b[34m[2020-02-07:06:09:18:INFO] Determined delimiter of CSV input is ','\u001b[0m\n",
      "\u001b[34m[2020-02-07:06:09:19:INFO] Sniff delimiter as ','\u001b[0m\n",
      "\u001b[34m[2020-02-07:06:09:19:INFO] Determined delimiter of CSV input is ','\u001b[0m\n",
      "\u001b[35m[2020-02-07:06:09:18:INFO] Sniff delimiter as ','\u001b[0m\n",
      "\u001b[35m[2020-02-07:06:09:18:INFO] Determined delimiter of CSV input is ','\u001b[0m\n",
      "\u001b[35m[2020-02-07:06:09:19:INFO] Sniff delimiter as ','\u001b[0m\n",
      "\u001b[35m[2020-02-07:06:09:19:INFO] Determined delimiter of CSV input is ','\u001b[0m\n",
      "\u001b[34m[2020-02-07:06:09:21:INFO] Sniff delimiter as ','\u001b[0m\n",
      "\u001b[35m[2020-02-07:06:09:21:INFO] Sniff delimiter as ','\u001b[0m\n",
      "\u001b[34m[2020-02-07:06:09:21:INFO] Determined delimiter of CSV input is ','\u001b[0m\n",
      "\u001b[34m[2020-02-07:06:09:21:INFO] Sniff delimiter as ','\u001b[0m\n",
      "\u001b[34m[2020-02-07:06:09:21:INFO] Determined delimiter of CSV input is ','\u001b[0m\n",
      "\u001b[34m[2020-02-07:06:09:21:INFO] Sniff delimiter as ','\u001b[0m\n",
      "\u001b[34m[2020-02-07:06:09:21:INFO] Determined delimiter of CSV input is ','\u001b[0m\n",
      "\u001b[34m[2020-02-07:06:09:21:INFO] Sniff delimiter as ','\u001b[0m\n",
      "\u001b[34m[2020-02-07:06:09:21:INFO] Determined delimiter of CSV input is ','\u001b[0m\n",
      "\u001b[35m[2020-02-07:06:09:21:INFO] Determined delimiter of CSV input is ','\u001b[0m\n",
      "\u001b[35m[2020-02-07:06:09:21:INFO] Sniff delimiter as ','\u001b[0m\n",
      "\u001b[35m[2020-02-07:06:09:21:INFO] Determined delimiter of CSV input is ','\u001b[0m\n",
      "\u001b[35m[2020-02-07:06:09:21:INFO] Sniff delimiter as ','\u001b[0m\n",
      "\u001b[35m[2020-02-07:06:09:21:INFO] Determined delimiter of CSV input is ','\u001b[0m\n",
      "\u001b[35m[2020-02-07:06:09:21:INFO] Sniff delimiter as ','\u001b[0m\n",
      "\u001b[35m[2020-02-07:06:09:21:INFO] Determined delimiter of CSV input is ','\u001b[0m\n",
      "\u001b[34m[2020-02-07:06:09:23:INFO] Sniff delimiter as ','\u001b[0m\n",
      "\u001b[34m[2020-02-07:06:09:23:INFO] Determined delimiter of CSV input is ','\u001b[0m\n",
      "\u001b[34m[2020-02-07:06:09:23:INFO] Sniff delimiter as ','\u001b[0m\n",
      "\u001b[34m[2020-02-07:06:09:23:INFO] Determined delimiter of CSV input is ','\u001b[0m\n",
      "\u001b[35m[2020-02-07:06:09:23:INFO] Sniff delimiter as ','\u001b[0m\n",
      "\u001b[35m[2020-02-07:06:09:23:INFO] Determined delimiter of CSV input is ','\u001b[0m\n",
      "\u001b[35m[2020-02-07:06:09:23:INFO] Sniff delimiter as ','\u001b[0m\n",
      "\u001b[35m[2020-02-07:06:09:23:INFO] Determined delimiter of CSV input is ','\u001b[0m\n",
      "\u001b[34m[2020-02-07:06:09:23:INFO] Sniff delimiter as ','\u001b[0m\n",
      "\u001b[34m[2020-02-07:06:09:23:INFO] Determined delimiter of CSV input is ','\u001b[0m\n",
      "\u001b[34m[2020-02-07:06:09:24:INFO] Sniff delimiter as ','\u001b[0m\n",
      "\u001b[34m[2020-02-07:06:09:24:INFO] Determined delimiter of CSV input is ','\u001b[0m\n",
      "\u001b[35m[2020-02-07:06:09:23:INFO] Sniff delimiter as ','\u001b[0m\n",
      "\u001b[35m[2020-02-07:06:09:23:INFO] Determined delimiter of CSV input is ','\u001b[0m\n",
      "\u001b[35m[2020-02-07:06:09:24:INFO] Sniff delimiter as ','\u001b[0m\n",
      "\u001b[35m[2020-02-07:06:09:24:INFO] Determined delimiter of CSV input is ','\u001b[0m\n",
      "\u001b[34m[2020-02-07:06:09:25:INFO] Sniff delimiter as ','\u001b[0m\n",
      "\u001b[34m[2020-02-07:06:09:25:INFO] Determined delimiter of CSV input is ','\u001b[0m\n",
      "\u001b[34m[2020-02-07:06:09:26:INFO] Sniff delimiter as ','\u001b[0m\n",
      "\u001b[34m[2020-02-07:06:09:26:INFO] Determined delimiter of CSV input is ','\u001b[0m\n",
      "\u001b[34m[2020-02-07:06:09:26:INFO] Sniff delimiter as ','\u001b[0m\n",
      "\u001b[34m[2020-02-07:06:09:26:INFO] Determined delimiter of CSV input is ','\u001b[0m\n",
      "\u001b[34m[2020-02-07:06:09:26:INFO] Sniff delimiter as ','\u001b[0m\n",
      "\u001b[34m[2020-02-07:06:09:26:INFO] Determined delimiter of CSV input is ','\u001b[0m\n",
      "\u001b[35m[2020-02-07:06:09:25:INFO] Sniff delimiter as ','\u001b[0m\n",
      "\u001b[35m[2020-02-07:06:09:25:INFO] Determined delimiter of CSV input is ','\u001b[0m\n",
      "\u001b[35m[2020-02-07:06:09:26:INFO] Sniff delimiter as ','\u001b[0m\n",
      "\u001b[35m[2020-02-07:06:09:26:INFO] Determined delimiter of CSV input is ','\u001b[0m\n",
      "\u001b[35m[2020-02-07:06:09:26:INFO] Sniff delimiter as ','\u001b[0m\n",
      "\u001b[35m[2020-02-07:06:09:26:INFO] Determined delimiter of CSV input is ','\u001b[0m\n",
      "\u001b[35m[2020-02-07:06:09:26:INFO] Sniff delimiter as ','\u001b[0m\n",
      "\u001b[35m[2020-02-07:06:09:26:INFO] Determined delimiter of CSV input is ','\u001b[0m\n"
     ]
    },
    {
     "name": "stdout",
     "output_type": "stream",
     "text": [
      "\n"
     ]
    }
   ],
   "source": [
    "new_xgb_transformer.transform(test_location, content_type='text/csv', split_type='Line')\n",
    "new_xgb_transformer.wait()"
   ]
  },
  {
   "cell_type": "code",
   "execution_count": 69,
   "metadata": {},
   "outputs": [
    {
     "name": "stdout",
     "output_type": "stream",
     "text": [
      "Completed 256.0 KiB/367.1 KiB (3.8 MiB/s) with 1 file(s) remaining\r",
      "Completed 367.1 KiB/367.1 KiB (5.3 MiB/s) with 1 file(s) remaining\r",
      "download: s3://sagemaker-us-east-1-174814400447/xgboost-2020-02-07-06-05-09-013/test.csv.out to ../data/sentiment_update/test.csv.out\r\n"
     ]
    }
   ],
   "source": [
    "!aws s3 cp --recursive $new_xgb_transformer.output_path $data_dir"
   ]
  },
  {
   "cell_type": "code",
   "execution_count": 70,
   "metadata": {},
   "outputs": [],
   "source": [
    "predictions = pd.read_csv(os.path.join(data_dir, 'test.csv.out'), header=None)\n",
    "predictions = [round(num) for num in predictions.squeeze().values]"
   ]
  },
  {
   "cell_type": "code",
   "execution_count": 71,
   "metadata": {},
   "outputs": [
    {
     "data": {
      "text/plain": [
       "0.83824"
      ]
     },
     "execution_count": 71,
     "metadata": {},
     "output_type": "execute_result"
    }
   ],
   "source": [
    "accuracy_score(test_Y, predictions)"
   ]
  },
  {
   "cell_type": "markdown",
   "metadata": {},
   "source": [
    "It would appear that our new XGBoost model is performing quite well on the old test data. This gives us some indication that our new model should be put into production and replace our original model."
   ]
  },
  {
   "cell_type": "markdown",
   "metadata": {},
   "source": [
    "## Step 6: (TODO) Updating the Model\n",
    "\n",
    "So we have a new model that we'd like to use instead of one that is already deployed. Furthermore, we are assuming that the model that is already deployed is being used in some sort of application. As a result, what we want to do is update the existing endpoint so that it uses our new model.\n",
    "\n",
    "Of course, to do this we need to create an endpoint configuration for our newly created model.\n",
    "\n",
    "First, note that we can access the name of the model that we created above using the `model_name` property of the transformer. The reason for this is that in order for the transformer to create a batch transform job it needs to first create the model object inside of SageMaker. Since we've sort of already done this we should take advantage of it."
   ]
  },
  {
   "cell_type": "code",
   "execution_count": 72,
   "metadata": {},
   "outputs": [
    {
     "data": {
      "text/plain": [
       "'xgboost-2020-02-07-05-51-27-094'"
      ]
     },
     "execution_count": 72,
     "metadata": {},
     "output_type": "execute_result"
    }
   ],
   "source": [
    "new_xgb_transformer.model_name"
   ]
  },
  {
   "cell_type": "markdown",
   "metadata": {},
   "source": [
    "Next, we create an endpoint configuration using the low level approach of creating the dictionary object which describes the endpoint configuration we want.\n",
    "\n",
    "**TODO:** Using the low level approach, create a new endpoint configuration. Don't forget that it needs a name and that the name needs to be unique. If you get stuck, try looking at the Boston Housing Low Level Deployment tutorial notebook."
   ]
  },
  {
   "cell_type": "code",
   "execution_count": 73,
   "metadata": {},
   "outputs": [],
   "source": [
    "from time import gmtime, strftime\n",
    "\n",
    "\n",
    "# TODO: Give our endpoint configuration a name. Remember, it needs to be unique.\n",
    "# new_xgb_endpoint_config_name = None\n",
    "\n",
    "new_xgb_endpoint_config_name = \"sentiment-update-xgboost-endpoint-config-\" + strftime(\"%Y-%m-%d-%H-%M-%S\", gmtime())\n",
    "\n",
    "# TODO: Using the SageMaker Client, construct the endpoint configuration.\n",
    "# new_xgb_endpoint_config_info = None\n",
    "\n",
    "new_xgb_endpoint_config_info = session.sagemaker_client.create_endpoint_config(\n",
    "                            EndpointConfigName = new_xgb_endpoint_config_name,\n",
    "                            ProductionVariants = [{\n",
    "                                \"InstanceType\": \"ml.m4.xlarge\",\n",
    "                                \"InitialVariantWeight\": 1,\n",
    "                                \"InitialInstanceCount\": 1,\n",
    "                                \"ModelName\": new_xgb_transformer.model_name,\n",
    "                                \"VariantName\": \"XGB-Model\"\n",
    "                            }])"
   ]
  },
  {
   "cell_type": "markdown",
   "metadata": {},
   "source": [
    "Once the endpoint configuration has been constructed, it is a straightforward matter to ask SageMaker to update the existing endpoint so that it uses the new endpoint configuration.\n",
    "\n",
    "Of note here is that SageMaker does this in such a way that there is no downtime. Essentially, SageMaker deploys the new model and then updates the original endpoint so that it points to the newly deployed model. After that, the original model is shut down. This way, whatever app is using our endpoint won't notice that we've changed the model that is being used.\n",
    "\n",
    "**TODO:** Use the SageMaker Client to update the endpoint that you deployed earlier."
   ]
  },
  {
   "cell_type": "code",
   "execution_count": 74,
   "metadata": {},
   "outputs": [
    {
     "data": {
      "text/plain": [
       "{'EndpointArn': 'arn:aws:sagemaker:us-east-1:174814400447:endpoint/xgboost-2020-02-07-05-16-41-653',\n",
       " 'ResponseMetadata': {'RequestId': 'b7d9867a-e7a7-499f-9ddb-d5d6dd345de6',\n",
       "  'HTTPStatusCode': 200,\n",
       "  'HTTPHeaders': {'x-amzn-requestid': 'b7d9867a-e7a7-499f-9ddb-d5d6dd345de6',\n",
       "   'content-type': 'application/x-amz-json-1.1',\n",
       "   'content-length': '99',\n",
       "   'date': 'Fri, 07 Feb 2020 06:09:52 GMT'},\n",
       "  'RetryAttempts': 0}}"
      ]
     },
     "execution_count": 74,
     "metadata": {},
     "output_type": "execute_result"
    }
   ],
   "source": [
    "# TODO: Update the xgb_predictor.endpoint so that it uses new_xgb_endpoint_config_name.\n",
    "\n",
    "session.sagemaker_client.update_endpoint(EndpointName=xgb_predictor.endpoint, EndpointConfigName=new_xgb_endpoint_config_name)"
   ]
  },
  {
   "cell_type": "markdown",
   "metadata": {},
   "source": [
    "And, as is generally the case with SageMaker requests, this is being done in the background so if we want to wait for it to complete we need to call the appropriate method."
   ]
  },
  {
   "cell_type": "code",
   "execution_count": 75,
   "metadata": {},
   "outputs": [
    {
     "name": "stdout",
     "output_type": "stream",
     "text": [
      "-------------------!"
     ]
    },
    {
     "data": {
      "text/plain": [
       "{'EndpointName': 'xgboost-2020-02-07-05-16-41-653',\n",
       " 'EndpointArn': 'arn:aws:sagemaker:us-east-1:174814400447:endpoint/xgboost-2020-02-07-05-16-41-653',\n",
       " 'EndpointConfigName': 'sentiment-update-xgboost-endpoint-config-2020-02-07-06-09-53',\n",
       " 'ProductionVariants': [{'VariantName': 'XGB-Model',\n",
       "   'DeployedImages': [{'SpecifiedImage': '811284229777.dkr.ecr.us-east-1.amazonaws.com/xgboost:1',\n",
       "     'ResolvedImage': '811284229777.dkr.ecr.us-east-1.amazonaws.com/xgboost@sha256:513e8442b35b9ecc9d326f85659f8e30b10e2cec096b863f04a9738baa9ebb57',\n",
       "     'ResolutionTime': datetime.datetime(2020, 2, 7, 6, 9, 55, 827000, tzinfo=tzlocal())}],\n",
       "   'CurrentWeight': 1.0,\n",
       "   'DesiredWeight': 1.0,\n",
       "   'CurrentInstanceCount': 1,\n",
       "   'DesiredInstanceCount': 1}],\n",
       " 'EndpointStatus': 'InService',\n",
       " 'CreationTime': datetime.datetime(2020, 2, 7, 5, 37, 12, 259000, tzinfo=tzlocal()),\n",
       " 'LastModifiedTime': datetime.datetime(2020, 2, 7, 6, 19, 19, 851000, tzinfo=tzlocal()),\n",
       " 'ResponseMetadata': {'RequestId': 'fb5a8851-a1dc-4ef2-ba75-67362edc26f1',\n",
       "  'HTTPStatusCode': 200,\n",
       "  'HTTPHeaders': {'x-amzn-requestid': 'fb5a8851-a1dc-4ef2-ba75-67362edc26f1',\n",
       "   'content-type': 'application/x-amz-json-1.1',\n",
       "   'content-length': '742',\n",
       "   'date': 'Fri, 07 Feb 2020 06:19:25 GMT'},\n",
       "  'RetryAttempts': 0}}"
      ]
     },
     "execution_count": 75,
     "metadata": {},
     "output_type": "execute_result"
    }
   ],
   "source": [
    "session.wait_for_endpoint(xgb_predictor.endpoint)"
   ]
  },
  {
   "cell_type": "markdown",
   "metadata": {},
   "source": [
    "## Step 7: Delete the Endpoint\n",
    "\n",
    "Of course, since we are done with the deployed endpoint we need to make sure to shut it down, otherwise we will continue to be charged for it."
   ]
  },
  {
   "cell_type": "code",
   "execution_count": 76,
   "metadata": {},
   "outputs": [],
   "source": [
    "xgb_predictor.delete_endpoint()"
   ]
  },
  {
   "cell_type": "markdown",
   "metadata": {},
   "source": [
    "## Some Additional Questions\n",
    "\n",
    "This notebook is a little different from the other notebooks in this module. In part, this is because it is meant to be a little bit closer to the type of problem you may face in a real world scenario. Of course, this problem is a very easy one with a prescribed solution, but there are many other interesting questions that we did not consider here and that you may wish to consider yourself.\n",
    "\n",
    "For example,\n",
    "- What other ways could the underlying distribution change?\n",
    "- Is it a good idea to re-train the model using only the new data?\n",
    "- What would change if the quantity of new data wasn't large. Say you only received 500 samples?\n"
   ]
  },
  {
   "cell_type": "markdown",
   "metadata": {},
   "source": [
    "## Optional: Clean up\n",
    "\n",
    "The default notebook instance on SageMaker doesn't have a lot of excess disk space available. As you continue to complete and execute notebooks you will eventually fill up this disk space, leading to errors which can be difficult to diagnose. Once you are completely finished using a notebook it is a good idea to remove the files that you created along the way. Of course, you can do this from the terminal or from the notebook hub if you would like. The cell below contains some commands to clean up the created files from within the notebook."
   ]
  },
  {
   "cell_type": "code",
   "execution_count": 77,
   "metadata": {},
   "outputs": [],
   "source": [
    "# First we will remove all of the files contained in the data_dir directory\n",
    "!rm $data_dir/*\n",
    "\n",
    "# And then we delete the directory itself\n",
    "!rmdir $data_dir\n",
    "\n",
    "# Similarly we will remove the files in the cache_dir directory and the directory itself\n",
    "!rm $cache_dir/*\n",
    "!rmdir $cache_dir"
   ]
  },
  {
   "cell_type": "code",
   "execution_count": null,
   "metadata": {},
   "outputs": [],
   "source": []
  }
 ],
 "metadata": {
  "kernelspec": {
   "display_name": "conda_pytorch_p36",
   "language": "python",
   "name": "conda_pytorch_p36"
  },
  "language_info": {
   "codemirror_mode": {
    "name": "ipython",
    "version": 3
   },
   "file_extension": ".py",
   "mimetype": "text/x-python",
   "name": "python",
   "nbconvert_exporter": "python",
   "pygments_lexer": "ipython3",
   "version": "3.6.5"
  }
 },
 "nbformat": 4,
 "nbformat_minor": 2
}
