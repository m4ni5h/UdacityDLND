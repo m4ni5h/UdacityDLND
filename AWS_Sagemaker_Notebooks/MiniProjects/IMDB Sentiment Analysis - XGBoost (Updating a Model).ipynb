{
 "cells": [
  {
   "cell_type": "markdown",
   "metadata": {},
   "source": [
    "# Sentiment Analysis\n",
    "\n",
    "## Updating a Model in SageMaker\n",
    "\n",
    "_Deep Learning Nanodegree Program | Deployment_\n",
    "\n",
    "---\n",
    "\n",
    "In this notebook we will consider a situation in which a model that we constructed is no longer working as we intended. In particular, we will look at the XGBoost sentiment analysis model that we constructed earlier. In this case, however, we have some new data that our model doesn't seem to perform very well on. As a result, we will re-train our model and update an existing endpoint so that it uses our new model.\n",
    "\n",
    "This notebook starts by re-creating the XGBoost sentiment analysis model that was created in earlier notebooks. This means that you will have already seen the cells up to the end of Step 4. The new content in this notebook begins at Step 5.\n",
    "\n",
    "## Instructions\n",
    "\n",
    "Some template code has already been provided for you, and you will need to implement additional functionality to successfully complete this notebook. You will not need to modify the included code beyond what is requested. Sections that begin with '**TODO**' in the header indicate that you need to complete or implement some portion within them. Instructions will be provided for each section and the specifics of the implementation are marked in the code block with a `# TODO: ...` comment. Please be sure to read the instructions carefully!\n",
    "\n",
    "In addition to implementing code, there will be questions for you to answer which relate to the task and your implementation. Each section where you will answer a question is preceded by a '**Question:**' header. Carefully read each question and provide your answer below the '**Answer:**' header by editing the Markdown cell.\n",
    "\n",
    "> **Note**: Code and Markdown cells can be executed using the **Shift+Enter** keyboard shortcut. In addition, a cell can be edited by typically clicking it (double-click for Markdown cells) or by pressing **Enter** while it is highlighted."
   ]
  },
  {
   "cell_type": "markdown",
   "metadata": {},
   "source": [
    "## Step 1: Downloading the data\n",
    "\n",
    "The dataset we are going to use is very popular among researchers in Natural Language Processing, usually referred to as the [IMDb dataset](http://ai.stanford.edu/~amaas/data/sentiment/). It consists of movie reviews from the website [imdb.com](http://www.imdb.com/), each labeled as either '**pos**itive', if the reviewer enjoyed the film, or '**neg**ative' otherwise.\n",
    "\n",
    "> Maas, Andrew L., et al. [Learning Word Vectors for Sentiment Analysis](http://ai.stanford.edu/~amaas/data/sentiment/). In _Proceedings of the 49th Annual Meeting of the Association for Computational Linguistics: Human Language Technologies_. Association for Computational Linguistics, 2011.\n",
    "\n",
    "We begin by using some Jupyter Notebook magic to download and extract the dataset."
   ]
  },
  {
   "cell_type": "code",
   "execution_count": 1,
   "metadata": {},
   "outputs": [
    {
     "name": "stdout",
     "output_type": "stream",
     "text": [
      "mkdir: cannot create directory ‘../data’: File exists\n",
      "--2020-01-29 05:06:43--  http://ai.stanford.edu/~amaas/data/sentiment/aclImdb_v1.tar.gz\n",
      "Resolving ai.stanford.edu (ai.stanford.edu)... 171.64.68.10\n",
      "Connecting to ai.stanford.edu (ai.stanford.edu)|171.64.68.10|:80... connected.\n",
      "HTTP request sent, awaiting response... 200 OK\n",
      "Length: 84125825 (80M) [application/x-gzip]\n",
      "Saving to: ‘../data/aclImdb_v1.tar.gz’\n",
      "\n",
      "../data/aclImdb_v1. 100%[===================>]  80.23M  24.0MB/s    in 4.4s    \n",
      "\n",
      "2020-01-29 05:06:47 (18.1 MB/s) - ‘../data/aclImdb_v1.tar.gz’ saved [84125825/84125825]\n",
      "\n"
     ]
    }
   ],
   "source": [
    "%mkdir ../data\n",
    "!wget -O ../data/aclImdb_v1.tar.gz http://ai.stanford.edu/~amaas/data/sentiment/aclImdb_v1.tar.gz\n",
    "!tar -zxf ../data/aclImdb_v1.tar.gz -C ../data"
   ]
  },
  {
   "cell_type": "markdown",
   "metadata": {},
   "source": [
    "## Step 2: Preparing the data\n",
    "\n",
    "The data we have downloaded is split into various files, each of which contains a single review. It will be much easier going forward if we combine these individual files into two large files, one for training and one for testing."
   ]
  },
  {
   "cell_type": "code",
   "execution_count": 2,
   "metadata": {},
   "outputs": [],
   "source": [
    "import os\n",
    "import glob\n",
    "\n",
    "def read_imdb_data(data_dir='../data/aclImdb'):\n",
    "    data = {}\n",
    "    labels = {}\n",
    "    \n",
    "    for data_type in ['train', 'test']:\n",
    "        data[data_type] = {}\n",
    "        labels[data_type] = {}\n",
    "        \n",
    "        for sentiment in ['pos', 'neg']:\n",
    "            data[data_type][sentiment] = []\n",
    "            labels[data_type][sentiment] = []\n",
    "            \n",
    "            path = os.path.join(data_dir, data_type, sentiment, '*.txt')\n",
    "            files = glob.glob(path)\n",
    "            \n",
    "            for f in files:\n",
    "                with open(f) as review:\n",
    "                    data[data_type][sentiment].append(review.read())\n",
    "                    # Here we represent a positive review by '1' and a negative review by '0'\n",
    "                    labels[data_type][sentiment].append(1 if sentiment == 'pos' else 0)\n",
    "                    \n",
    "            assert len(data[data_type][sentiment]) == len(labels[data_type][sentiment]), \\\n",
    "                    \"{}/{} data size does not match labels size\".format(data_type, sentiment)\n",
    "                \n",
    "    return data, labels"
   ]
  },
  {
   "cell_type": "code",
   "execution_count": 3,
   "metadata": {},
   "outputs": [
    {
     "name": "stdout",
     "output_type": "stream",
     "text": [
      "IMDB reviews: train = 12500 pos / 12500 neg, test = 12500 pos / 12500 neg\n"
     ]
    }
   ],
   "source": [
    "data, labels = read_imdb_data()\n",
    "print(\"IMDB reviews: train = {} pos / {} neg, test = {} pos / {} neg\".format(\n",
    "            len(data['train']['pos']), len(data['train']['neg']),\n",
    "            len(data['test']['pos']), len(data['test']['neg'])))"
   ]
  },
  {
   "cell_type": "code",
   "execution_count": 4,
   "metadata": {},
   "outputs": [],
   "source": [
    "from sklearn.utils import shuffle\n",
    "\n",
    "def prepare_imdb_data(data, labels):\n",
    "    \"\"\"Prepare training and test sets from IMDb movie reviews.\"\"\"\n",
    "    \n",
    "    #Combine positive and negative reviews and labels\n",
    "    data_train = data['train']['pos'] + data['train']['neg']\n",
    "    data_test = data['test']['pos'] + data['test']['neg']\n",
    "    labels_train = labels['train']['pos'] + labels['train']['neg']\n",
    "    labels_test = labels['test']['pos'] + labels['test']['neg']\n",
    "    \n",
    "    #Shuffle reviews and corresponding labels within training and test sets\n",
    "    data_train, labels_train = shuffle(data_train, labels_train)\n",
    "    data_test, labels_test = shuffle(data_test, labels_test)\n",
    "    \n",
    "    # Return a unified training data, test data, training labels, test labets\n",
    "    return data_train, data_test, labels_train, labels_test"
   ]
  },
  {
   "cell_type": "code",
   "execution_count": 5,
   "metadata": {},
   "outputs": [
    {
     "name": "stdout",
     "output_type": "stream",
     "text": [
      "IMDb reviews (combined): train = 25000, test = 25000\n"
     ]
    }
   ],
   "source": [
    "train_X, test_X, train_y, test_y = prepare_imdb_data(data, labels)\n",
    "print(\"IMDb reviews (combined): train = {}, test = {}\".format(len(train_X), len(test_X)))"
   ]
  },
  {
   "cell_type": "code",
   "execution_count": 6,
   "metadata": {},
   "outputs": [
    {
     "data": {
      "text/plain": [
       "\"Preston Waters, a 11 years old boy,has problems with his parents and brothers specially because of money issues. He is crazy to have his own house and his own rules,since his brothers always stole his saved money and his parents neglect his wishes. One awful day, Preston was riding his bicycle; It was the same day that the villain of the story,Quigley, was trying to scape from the Police and accidentally ran the car over Preston's bike. Needing to be far away from the police, Quigley gives in a hurry, a check to cover the damages of Preston's bike. The problem was: It was a blank check! Preston is a clever boy and decides to have a high price on that check: 1 million dollars! All that money gives Preston things that he always wished for, like a mansion with pool,lots of toys, and even a limousine! The problems start to begin when the FBI and Quigley wants to know where the money is, making Preston in a hard situation and facing many problems.<br /><br />This movie was one of my favorites during my childhood. :)\""
      ]
     },
     "execution_count": 6,
     "metadata": {},
     "output_type": "execute_result"
    }
   ],
   "source": [
    "train_X[100]"
   ]
  },
  {
   "cell_type": "markdown",
   "metadata": {},
   "source": [
    "## Step 3: Processing the data\n",
    "\n",
    "Now that we have our training and testing datasets merged and ready to use, we need to start processing the raw data into something that will be useable by our machine learning algorithm. To begin with, we remove any html formatting that may appear in the reviews and perform some standard natural language processing in order to homogenize the data."
   ]
  },
  {
   "cell_type": "code",
   "execution_count": 7,
   "metadata": {},
   "outputs": [
    {
     "name": "stdout",
     "output_type": "stream",
     "text": [
      "[nltk_data] Downloading package stopwords to\n",
      "[nltk_data]     /home/ec2-user/nltk_data...\n",
      "[nltk_data]   Package stopwords is already up-to-date!\n"
     ]
    }
   ],
   "source": [
    "import nltk\n",
    "nltk.download(\"stopwords\")\n",
    "from nltk.corpus import stopwords\n",
    "from nltk.stem.porter import *\n",
    "stemmer = PorterStemmer()"
   ]
  },
  {
   "cell_type": "code",
   "execution_count": 8,
   "metadata": {},
   "outputs": [],
   "source": [
    "import re\n",
    "from bs4 import BeautifulSoup\n",
    "\n",
    "def review_to_words(review):\n",
    "    text = BeautifulSoup(review, \"html.parser\").get_text() # Remove HTML tags\n",
    "    text = re.sub(r\"[^a-zA-Z0-9]\", \" \", text.lower()) # Convert to lower case\n",
    "    words = text.split() # Split string into words\n",
    "    words = [w for w in words if w not in stopwords.words(\"english\")] # Remove stopwords\n",
    "    words = [PorterStemmer().stem(w) for w in words] # stem\n",
    "    \n",
    "    return words"
   ]
  },
  {
   "cell_type": "code",
   "execution_count": 9,
   "metadata": {},
   "outputs": [
    {
     "data": {
      "text/plain": [
       "['preston',\n",
       " 'water',\n",
       " '11',\n",
       " 'year',\n",
       " 'old',\n",
       " 'boy',\n",
       " 'problem',\n",
       " 'parent',\n",
       " 'brother',\n",
       " 'special',\n",
       " 'money',\n",
       " 'issu',\n",
       " 'crazi',\n",
       " 'hous',\n",
       " 'rule',\n",
       " 'sinc',\n",
       " 'brother',\n",
       " 'alway',\n",
       " 'stole',\n",
       " 'save',\n",
       " 'money',\n",
       " 'parent',\n",
       " 'neglect',\n",
       " 'wish',\n",
       " 'one',\n",
       " 'aw',\n",
       " 'day',\n",
       " 'preston',\n",
       " 'ride',\n",
       " 'bicycl',\n",
       " 'day',\n",
       " 'villain',\n",
       " 'stori',\n",
       " 'quigley',\n",
       " 'tri',\n",
       " 'scape',\n",
       " 'polic',\n",
       " 'accident',\n",
       " 'ran',\n",
       " 'car',\n",
       " 'preston',\n",
       " 'bike',\n",
       " 'need',\n",
       " 'far',\n",
       " 'away',\n",
       " 'polic',\n",
       " 'quigley',\n",
       " 'give',\n",
       " 'hurri',\n",
       " 'check',\n",
       " 'cover',\n",
       " 'damag',\n",
       " 'preston',\n",
       " 'bike',\n",
       " 'problem',\n",
       " 'blank',\n",
       " 'check',\n",
       " 'preston',\n",
       " 'clever',\n",
       " 'boy',\n",
       " 'decid',\n",
       " 'high',\n",
       " 'price',\n",
       " 'check',\n",
       " '1',\n",
       " 'million',\n",
       " 'dollar',\n",
       " 'money',\n",
       " 'give',\n",
       " 'preston',\n",
       " 'thing',\n",
       " 'alway',\n",
       " 'wish',\n",
       " 'like',\n",
       " 'mansion',\n",
       " 'pool',\n",
       " 'lot',\n",
       " 'toy',\n",
       " 'even',\n",
       " 'limousin',\n",
       " 'problem',\n",
       " 'start',\n",
       " 'begin',\n",
       " 'fbi',\n",
       " 'quigley',\n",
       " 'want',\n",
       " 'know',\n",
       " 'money',\n",
       " 'make',\n",
       " 'preston',\n",
       " 'hard',\n",
       " 'situat',\n",
       " 'face',\n",
       " 'mani',\n",
       " 'problem',\n",
       " 'movi',\n",
       " 'one',\n",
       " 'favorit',\n",
       " 'childhood']"
      ]
     },
     "execution_count": 9,
     "metadata": {},
     "output_type": "execute_result"
    }
   ],
   "source": [
    "review_to_words(train_X[100])"
   ]
  },
  {
   "cell_type": "code",
   "execution_count": 10,
   "metadata": {},
   "outputs": [],
   "source": [
    "import pickle\n",
    "\n",
    "cache_dir = os.path.join(\"../cache\", \"sentiment_analysis\")  # where to store cache files\n",
    "os.makedirs(cache_dir, exist_ok=True)  # ensure cache directory exists\n",
    "\n",
    "def preprocess_data(data_train, data_test, labels_train, labels_test,\n",
    "                    cache_dir=cache_dir, cache_file=\"preprocessed_data.pkl\"):\n",
    "    \"\"\"Convert each review to words; read from cache if available.\"\"\"\n",
    "\n",
    "    # If cache_file is not None, try to read from it first\n",
    "    cache_data = None\n",
    "    if cache_file is not None:\n",
    "        try:\n",
    "            with open(os.path.join(cache_dir, cache_file), \"rb\") as f:\n",
    "                cache_data = pickle.load(f)\n",
    "            print(\"Read preprocessed data from cache file:\", cache_file)\n",
    "        except:\n",
    "            pass  # unable to read from cache, but that's okay\n",
    "    \n",
    "    # If cache is missing, then do the heavy lifting\n",
    "    if cache_data is None:\n",
    "        # Preprocess training and test data to obtain words for each review\n",
    "        #words_train = list(map(review_to_words, data_train))\n",
    "        #words_test = list(map(review_to_words, data_test))\n",
    "        words_train = [review_to_words(review) for review in data_train]\n",
    "        words_test = [review_to_words(review) for review in data_test]\n",
    "        \n",
    "        # Write to cache file for future runs\n",
    "        if cache_file is not None:\n",
    "            cache_data = dict(words_train=words_train, words_test=words_test,\n",
    "                              labels_train=labels_train, labels_test=labels_test)\n",
    "            with open(os.path.join(cache_dir, cache_file), \"wb\") as f:\n",
    "                pickle.dump(cache_data, f)\n",
    "            print(\"Wrote preprocessed data to cache file:\", cache_file)\n",
    "    else:\n",
    "        # Unpack data loaded from cache file\n",
    "        words_train, words_test, labels_train, labels_test = (cache_data['words_train'],\n",
    "                cache_data['words_test'], cache_data['labels_train'], cache_data['labels_test'])\n",
    "    \n",
    "    return words_train, words_test, labels_train, labels_test"
   ]
  },
  {
   "cell_type": "code",
   "execution_count": 11,
   "metadata": {},
   "outputs": [
    {
     "name": "stdout",
     "output_type": "stream",
     "text": [
      "Wrote preprocessed data to cache file: preprocessed_data.pkl\n"
     ]
    }
   ],
   "source": [
    "# Preprocess data\n",
    "train_X, test_X, train_y, test_y = preprocess_data(train_X, test_X, train_y, test_y)"
   ]
  },
  {
   "cell_type": "markdown",
   "metadata": {},
   "source": [
    "### Extract Bag-of-Words features\n",
    "\n",
    "For the model we will be implementing, rather than using the reviews directly, we are going to transform each review into a Bag-of-Words feature representation. Keep in mind that 'in the wild' we will only have access to the training set so our transformer can only use the training set to construct a representation."
   ]
  },
  {
   "cell_type": "code",
   "execution_count": 12,
   "metadata": {},
   "outputs": [],
   "source": [
    "import numpy as np\n",
    "from sklearn.feature_extraction.text import CountVectorizer\n",
    "from sklearn.externals import joblib\n",
    "# joblib is an enhanced version of pickle that is more efficient for storing NumPy arrays\n",
    "\n",
    "def extract_BoW_features(words_train, words_test, vocabulary_size=5000,\n",
    "                         cache_dir=cache_dir, cache_file=\"bow_features.pkl\"):\n",
    "    \"\"\"Extract Bag-of-Words for a given set of documents, already preprocessed into words.\"\"\"\n",
    "    \n",
    "    # If cache_file is not None, try to read from it first\n",
    "    cache_data = None\n",
    "    if cache_file is not None:\n",
    "        try:\n",
    "            with open(os.path.join(cache_dir, cache_file), \"rb\") as f:\n",
    "                cache_data = joblib.load(f)\n",
    "            print(\"Read features from cache file:\", cache_file)\n",
    "        except:\n",
    "            pass  # unable to read from cache, but that's okay\n",
    "    \n",
    "    # If cache is missing, then do the heavy lifting\n",
    "    if cache_data is None:\n",
    "        # Fit a vectorizer to training documents and use it to transform them\n",
    "        # NOTE: Training documents have already been preprocessed and tokenized into words;\n",
    "        #       pass in dummy functions to skip those steps, e.g. preprocessor=lambda x: x\n",
    "        vectorizer = CountVectorizer(max_features=vocabulary_size,\n",
    "                preprocessor=lambda x: x, tokenizer=lambda x: x)  # already preprocessed\n",
    "        features_train = vectorizer.fit_transform(words_train).toarray()\n",
    "\n",
    "        # Apply the same vectorizer to transform the test documents (ignore unknown words)\n",
    "        features_test = vectorizer.transform(words_test).toarray()\n",
    "        \n",
    "        # NOTE: Remember to convert the features using .toarray() for a compact representation\n",
    "        \n",
    "        # Write to cache file for future runs (store vocabulary as well)\n",
    "        if cache_file is not None:\n",
    "            vocabulary = vectorizer.vocabulary_\n",
    "            cache_data = dict(features_train=features_train, features_test=features_test,\n",
    "                             vocabulary=vocabulary)\n",
    "            with open(os.path.join(cache_dir, cache_file), \"wb\") as f:\n",
    "                joblib.dump(cache_data, f)\n",
    "            print(\"Wrote features to cache file:\", cache_file)\n",
    "    else:\n",
    "        # Unpack data loaded from cache file\n",
    "        features_train, features_test, vocabulary = (cache_data['features_train'],\n",
    "                cache_data['features_test'], cache_data['vocabulary'])\n",
    "    \n",
    "    # Return both the extracted features as well as the vocabulary\n",
    "    return features_train, features_test, vocabulary"
   ]
  },
  {
   "cell_type": "code",
   "execution_count": 13,
   "metadata": {},
   "outputs": [
    {
     "name": "stdout",
     "output_type": "stream",
     "text": [
      "Wrote features to cache file: bow_features.pkl\n"
     ]
    }
   ],
   "source": [
    "# Extract Bag of Words features for both training and test datasets\n",
    "train_X, test_X, vocabulary = extract_BoW_features(train_X, test_X)"
   ]
  },
  {
   "cell_type": "code",
   "execution_count": 14,
   "metadata": {},
   "outputs": [
    {
     "data": {
      "text/plain": [
       "5000"
      ]
     },
     "execution_count": 14,
     "metadata": {},
     "output_type": "execute_result"
    }
   ],
   "source": [
    "len(train_X[100])"
   ]
  },
  {
   "cell_type": "markdown",
   "metadata": {},
   "source": [
    "## Step 4: Classification using XGBoost\n",
    "\n",
    "Now that we have created the feature representation of our training (and testing) data, it is time to start setting up and using the XGBoost classifier provided by SageMaker.\n",
    "\n",
    "### Writing the dataset\n",
    "\n",
    "The XGBoost classifier that we will be using requires the dataset to be written to a file and stored using Amazon S3. To do this, we will start by splitting the training dataset into two parts, the data we will train the model with and a validation set. Then, we will write those datasets to a file and upload the files to S3. In addition, we will write the test set input to a file and upload the file to S3. This is so that we can use SageMakers Batch Transform functionality to test our model once we've fit it."
   ]
  },
  {
   "cell_type": "code",
   "execution_count": 15,
   "metadata": {},
   "outputs": [],
   "source": [
    "import pandas as pd\n",
    "\n",
    "# Earlier we shuffled the training dataset so to make things simple we can just assign\n",
    "# the first 10 000 reviews to the validation set and use the remaining reviews for training.\n",
    "val_X = pd.DataFrame(train_X[:10000])\n",
    "train_X = pd.DataFrame(train_X[10000:])\n",
    "\n",
    "val_y = pd.DataFrame(train_y[:10000])\n",
    "train_y = pd.DataFrame(train_y[10000:])"
   ]
  },
  {
   "cell_type": "markdown",
   "metadata": {},
   "source": [
    "The documentation for the XGBoost algorithm in SageMaker requires that the saved datasets should contain no headers or index and that for the training and validation data, the label should occur first for each sample.\n",
    "\n",
    "For more information about this and other algorithms, the SageMaker developer documentation can be found on __[Amazon's website.](https://docs.aws.amazon.com/sagemaker/latest/dg/)__"
   ]
  },
  {
   "cell_type": "code",
   "execution_count": 16,
   "metadata": {},
   "outputs": [],
   "source": [
    "# First we make sure that the local directory in which we'd like to store the training and validation csv files exists.\n",
    "data_dir = '../data/sentiment_update'\n",
    "if not os.path.exists(data_dir):\n",
    "    os.makedirs(data_dir)"
   ]
  },
  {
   "cell_type": "code",
   "execution_count": 17,
   "metadata": {},
   "outputs": [],
   "source": [
    "pd.DataFrame(test_X).to_csv(os.path.join(data_dir, 'test.csv'), header=False, index=False)\n",
    "\n",
    "pd.concat([val_y, val_X], axis=1).to_csv(os.path.join(data_dir, 'validation.csv'), header=False, index=False)\n",
    "pd.concat([train_y, train_X], axis=1).to_csv(os.path.join(data_dir, 'train.csv'), header=False, index=False)"
   ]
  },
  {
   "cell_type": "code",
   "execution_count": 18,
   "metadata": {},
   "outputs": [],
   "source": [
    "# To save a bit of memory we can set text_X, train_X, val_X, train_y and val_y to None.\n",
    "\n",
    "test_X = train_X = val_X = train_y = val_y = None"
   ]
  },
  {
   "cell_type": "markdown",
   "metadata": {},
   "source": [
    "### Uploading Training / Validation files to S3\n",
    "\n",
    "Amazon's S3 service allows us to store files that can be access by both the built-in training models such as the XGBoost model we will be using as well as custom models such as the one we will see a little later.\n",
    "\n",
    "For this, and most other tasks we will be doing using SageMaker, there are two methods we could use. The first is to use the low level functionality of SageMaker which requires knowing each of the objects involved in the SageMaker environment. The second is to use the high level functionality in which certain choices have been made on the user's behalf. The low level approach benefits from allowing the user a great deal of flexibility while the high level approach makes development much quicker. For our purposes we will opt to use the high level approach although using the low-level approach is certainly an option.\n",
    "\n",
    "Recall the method `upload_data()` which is a member of object representing our current SageMaker session. What this method does is upload the data to the default bucket (which is created if it does not exist) into the path described by the key_prefix variable. To see this for yourself, once you have uploaded the data files, go to the S3 console and look to see where the files have been uploaded.\n",
    "\n",
    "For additional resources, see the __[SageMaker API documentation](http://sagemaker.readthedocs.io/en/latest/)__ and in addition the __[SageMaker Developer Guide.](https://docs.aws.amazon.com/sagemaker/latest/dg/)__"
   ]
  },
  {
   "cell_type": "code",
   "execution_count": 19,
   "metadata": {},
   "outputs": [],
   "source": [
    "import sagemaker\n",
    "\n",
    "session = sagemaker.Session() # Store the current SageMaker session\n",
    "\n",
    "# S3 prefix (which folder will we use)\n",
    "prefix = 'sentiment-update'\n",
    "\n",
    "test_location = session.upload_data(os.path.join(data_dir, 'test.csv'), key_prefix=prefix)\n",
    "val_location = session.upload_data(os.path.join(data_dir, 'validation.csv'), key_prefix=prefix)\n",
    "train_location = session.upload_data(os.path.join(data_dir, 'train.csv'), key_prefix=prefix)"
   ]
  },
  {
   "cell_type": "markdown",
   "metadata": {},
   "source": [
    "### Creating the XGBoost model\n",
    "\n",
    "Now that the data has been uploaded it is time to create the XGBoost model. To begin with, we need to do some setup. At this point it is worth discussing what a model is in SageMaker. It is easiest to think of a model of comprising three different objects in the SageMaker ecosystem, which interact with one another.\n",
    "\n",
    "- Model Artifacts\n",
    "- Training Code (Container)\n",
    "- Inference Code (Container)\n",
    "\n",
    "The Model Artifacts are what you might think of as the actual model itself. For example, if you were building a neural network, the model artifacts would be the weights of the various layers. In our case, for an XGBoost model, the artifacts are the actual trees that are created during training.\n",
    "\n",
    "The other two objects, the training code and the inference code are then used the manipulate the training artifacts. More precisely, the training code uses the training data that is provided and creates the model artifacts, while the inference code uses the model artifacts to make predictions on new data.\n",
    "\n",
    "The way that SageMaker runs the training and inference code is by making use of Docker containers. For now, think of a container as being a way of packaging code up so that dependencies aren't an issue."
   ]
  },
  {
   "cell_type": "code",
   "execution_count": 20,
   "metadata": {},
   "outputs": [],
   "source": [
    "from sagemaker import get_execution_role\n",
    "\n",
    "# Our current execution role is require when creating the model as the training\n",
    "# and inference code will need to access the model artifacts.\n",
    "role = get_execution_role()"
   ]
  },
  {
   "cell_type": "code",
   "execution_count": 21,
   "metadata": {},
   "outputs": [
    {
     "name": "stderr",
     "output_type": "stream",
     "text": [
      "WARNING:root:There is a more up to date SageMaker XGBoost image. To use the newer image, please set 'repo_version'='0.90-1'. For example:\n",
      "\tget_image_uri(region, 'xgboost', '0.90-1').\n"
     ]
    }
   ],
   "source": [
    "# We need to retrieve the location of the container which is provided by Amazon for using XGBoost.\n",
    "# As a matter of convenience, the training and inference code both use the same container.\n",
    "from sagemaker.amazon.amazon_estimator import get_image_uri\n",
    "\n",
    "container = get_image_uri(session.boto_region_name, 'xgboost')"
   ]
  },
  {
   "cell_type": "code",
   "execution_count": 22,
   "metadata": {},
   "outputs": [],
   "source": [
    "# First we create a SageMaker estimator object for our model.\n",
    "xgb = sagemaker.estimator.Estimator(container, # The location of the container we wish to use\n",
    "                                    role,                                    # What is our current IAM Role\n",
    "                                    train_instance_count=1,                  # How many compute instances\n",
    "                                    train_instance_type='ml.m4.xlarge',      # What kind of compute instances\n",
    "                                    output_path='s3://{}/{}/output'.format(session.default_bucket(), prefix),\n",
    "                                    sagemaker_session=session)\n",
    "\n",
    "# And then set the algorithm specific parameters.\n",
    "xgb.set_hyperparameters(max_depth=5,\n",
    "                        eta=0.2,\n",
    "                        gamma=4,\n",
    "                        min_child_weight=6,\n",
    "                        subsample=0.8,\n",
    "                        silent=0,\n",
    "                        objective='binary:logistic',\n",
    "                        early_stopping_rounds=10,\n",
    "                        num_round=500)"
   ]
  },
  {
   "cell_type": "markdown",
   "metadata": {},
   "source": [
    "### Fit the XGBoost model\n",
    "\n",
    "Now that our model has been set up we simply need to attach the training and validation datasets and then ask SageMaker to set up the computation."
   ]
  },
  {
   "cell_type": "code",
   "execution_count": 23,
   "metadata": {},
   "outputs": [],
   "source": [
    "s3_input_train = sagemaker.s3_input(s3_data=train_location, content_type='csv')\n",
    "s3_input_validation = sagemaker.s3_input(s3_data=val_location, content_type='csv')"
   ]
  },
  {
   "cell_type": "code",
   "execution_count": 24,
   "metadata": {},
   "outputs": [
    {
     "name": "stdout",
     "output_type": "stream",
     "text": [
      "2020-01-29 05:40:22 Starting - Starting the training job...\n",
      "2020-01-29 05:40:23 Starting - Launching requested ML instances......\n",
      "2020-01-29 05:41:29 Starting - Preparing the instances for training......\n",
      "2020-01-29 05:42:48 Downloading - Downloading input data\n",
      "2020-01-29 05:42:48 Training - Downloading the training image..\u001b[34mArguments: train\u001b[0m\n",
      "\u001b[34m[2020-01-29:05:43:07:INFO] Running standalone xgboost training.\u001b[0m\n",
      "\u001b[34m[2020-01-29:05:43:07:INFO] File size need to be processed in the node: 238.47mb. Available memory size in the node: 8519.23mb\u001b[0m\n",
      "\u001b[34m[2020-01-29:05:43:07:INFO] Determined delimiter of CSV input is ','\u001b[0m\n",
      "\u001b[34m[05:43:07] S3DistributionType set as FullyReplicated\u001b[0m\n",
      "\u001b[34m[05:43:09] 15000x5000 matrix with 75000000 entries loaded from /opt/ml/input/data/train?format=csv&label_column=0&delimiter=,\u001b[0m\n",
      "\u001b[34m[2020-01-29:05:43:09:INFO] Determined delimiter of CSV input is ','\u001b[0m\n",
      "\u001b[34m[05:43:09] S3DistributionType set as FullyReplicated\u001b[0m\n",
      "\u001b[34m[05:43:10] 10000x5000 matrix with 50000000 entries loaded from /opt/ml/input/data/validation?format=csv&label_column=0&delimiter=,\u001b[0m\n",
      "\n",
      "2020-01-29 05:43:06 Training - Training image download completed. Training in progress.\u001b[34m[05:43:13] src/tree/updater_prune.cc:74: tree pruning end, 1 roots, 46 extra nodes, 6 pruned nodes, max_depth=5\u001b[0m\n",
      "\u001b[34m[0]#011train-error:0.300533#011validation-error:0.3003\u001b[0m\n",
      "\u001b[34mMultiple eval metrics have been passed: 'validation-error' will be used for early stopping.\n",
      "\u001b[0m\n",
      "\u001b[34mWill train until validation-error hasn't improved in 10 rounds.\u001b[0m\n",
      "\u001b[34m[05:43:15] src/tree/updater_prune.cc:74: tree pruning end, 1 roots, 38 extra nodes, 6 pruned nodes, max_depth=5\u001b[0m\n",
      "\u001b[34m[1]#011train-error:0.283667#011validation-error:0.2827\u001b[0m\n",
      "\u001b[34m[05:43:16] src/tree/updater_prune.cc:74: tree pruning end, 1 roots, 36 extra nodes, 14 pruned nodes, max_depth=5\u001b[0m\n",
      "\u001b[34m[2]#011train-error:0.2754#011validation-error:0.2713\u001b[0m\n",
      "\u001b[34m[05:43:17] src/tree/updater_prune.cc:74: tree pruning end, 1 roots, 34 extra nodes, 6 pruned nodes, max_depth=5\u001b[0m\n",
      "\u001b[34m[3]#011train-error:0.254867#011validation-error:0.2578\u001b[0m\n",
      "\u001b[34m[05:43:19] src/tree/updater_prune.cc:74: tree pruning end, 1 roots, 30 extra nodes, 2 pruned nodes, max_depth=5\u001b[0m\n",
      "\u001b[34m[4]#011train-error:0.254067#011validation-error:0.2569\u001b[0m\n",
      "\u001b[34m[05:43:20] src/tree/updater_prune.cc:74: tree pruning end, 1 roots, 32 extra nodes, 6 pruned nodes, max_depth=5\u001b[0m\n",
      "\u001b[34m[5]#011train-error:0.245267#011validation-error:0.2536\u001b[0m\n",
      "\u001b[34m[05:43:22] src/tree/updater_prune.cc:74: tree pruning end, 1 roots, 30 extra nodes, 6 pruned nodes, max_depth=5\u001b[0m\n",
      "\u001b[34m[6]#011train-error:0.236733#011validation-error:0.2446\u001b[0m\n",
      "\u001b[34m[05:43:23] src/tree/updater_prune.cc:74: tree pruning end, 1 roots, 34 extra nodes, 4 pruned nodes, max_depth=5\u001b[0m\n",
      "\u001b[34m[7]#011train-error:0.2348#011validation-error:0.2442\u001b[0m\n",
      "\u001b[34m[05:43:24] src/tree/updater_prune.cc:74: tree pruning end, 1 roots, 26 extra nodes, 8 pruned nodes, max_depth=5\u001b[0m\n",
      "\u001b[34m[8]#011train-error:0.229933#011validation-error:0.2371\u001b[0m\n",
      "\u001b[34m[05:43:25] src/tree/updater_prune.cc:74: tree pruning end, 1 roots, 36 extra nodes, 2 pruned nodes, max_depth=5\u001b[0m\n",
      "\u001b[34m[9]#011train-error:0.228133#011validation-error:0.2329\u001b[0m\n",
      "\u001b[34m[05:43:27] src/tree/updater_prune.cc:74: tree pruning end, 1 roots, 18 extra nodes, 16 pruned nodes, max_depth=5\u001b[0m\n",
      "\u001b[34m[10]#011train-error:0.223#011validation-error:0.2311\u001b[0m\n",
      "\u001b[34m[05:43:28] src/tree/updater_prune.cc:74: tree pruning end, 1 roots, 34 extra nodes, 6 pruned nodes, max_depth=5\u001b[0m\n",
      "\u001b[34m[11]#011train-error:0.2162#011validation-error:0.2253\u001b[0m\n",
      "\u001b[34m[05:43:29] src/tree/updater_prune.cc:74: tree pruning end, 1 roots, 32 extra nodes, 4 pruned nodes, max_depth=5\u001b[0m\n",
      "\u001b[34m[12]#011train-error:0.212267#011validation-error:0.22\u001b[0m\n",
      "\u001b[34m[05:43:30] src/tree/updater_prune.cc:74: tree pruning end, 1 roots, 34 extra nodes, 6 pruned nodes, max_depth=5\u001b[0m\n",
      "\u001b[34m[13]#011train-error:0.206333#011validation-error:0.2178\u001b[0m\n",
      "\u001b[34m[05:43:32] src/tree/updater_prune.cc:74: tree pruning end, 1 roots, 20 extra nodes, 12 pruned nodes, max_depth=5\u001b[0m\n",
      "\u001b[34m[14]#011train-error:0.204333#011validation-error:0.2159\u001b[0m\n",
      "\u001b[34m[05:43:33] src/tree/updater_prune.cc:74: tree pruning end, 1 roots, 30 extra nodes, 2 pruned nodes, max_depth=5\u001b[0m\n",
      "\u001b[34m[15]#011train-error:0.198467#011validation-error:0.213\u001b[0m\n",
      "\u001b[34m[05:43:34] src/tree/updater_prune.cc:74: tree pruning end, 1 roots, 24 extra nodes, 10 pruned nodes, max_depth=5\u001b[0m\n",
      "\u001b[34m[16]#011train-error:0.1948#011validation-error:0.2083\u001b[0m\n",
      "\u001b[34m[05:43:35] src/tree/updater_prune.cc:74: tree pruning end, 1 roots, 32 extra nodes, 0 pruned nodes, max_depth=5\u001b[0m\n",
      "\u001b[34m[17]#011train-error:0.190733#011validation-error:0.2072\u001b[0m\n",
      "\u001b[34m[05:43:37] src/tree/updater_prune.cc:74: tree pruning end, 1 roots, 24 extra nodes, 8 pruned nodes, max_depth=5\u001b[0m\n",
      "\u001b[34m[18]#011train-error:0.1892#011validation-error:0.2042\u001b[0m\n",
      "\u001b[34m[05:43:38] src/tree/updater_prune.cc:74: tree pruning end, 1 roots, 36 extra nodes, 2 pruned nodes, max_depth=5\u001b[0m\n",
      "\u001b[34m[19]#011train-error:0.186933#011validation-error:0.2009\u001b[0m\n",
      "\u001b[34m[05:43:39] src/tree/updater_prune.cc:74: tree pruning end, 1 roots, 26 extra nodes, 16 pruned nodes, max_depth=5\u001b[0m\n",
      "\u001b[34m[20]#011train-error:0.183#011validation-error:0.199\u001b[0m\n",
      "\u001b[34m[05:43:40] src/tree/updater_prune.cc:74: tree pruning end, 1 roots, 22 extra nodes, 14 pruned nodes, max_depth=5\u001b[0m\n",
      "\u001b[34m[21]#011train-error:0.178733#011validation-error:0.197\u001b[0m\n",
      "\u001b[34m[05:43:42] src/tree/updater_prune.cc:74: tree pruning end, 1 roots, 38 extra nodes, 10 pruned nodes, max_depth=5\u001b[0m\n",
      "\u001b[34m[22]#011train-error:0.178467#011validation-error:0.1974\u001b[0m\n",
      "\u001b[34m[05:43:43] src/tree/updater_prune.cc:74: tree pruning end, 1 roots, 20 extra nodes, 10 pruned nodes, max_depth=5\u001b[0m\n",
      "\u001b[34m[23]#011train-error:0.177067#011validation-error:0.197\u001b[0m\n",
      "\u001b[34m[05:43:44] src/tree/updater_prune.cc:74: tree pruning end, 1 roots, 18 extra nodes, 10 pruned nodes, max_depth=5\u001b[0m\n",
      "\u001b[34m[24]#011train-error:0.175133#011validation-error:0.1948\u001b[0m\n",
      "\u001b[34m[05:43:46] src/tree/updater_prune.cc:74: tree pruning end, 1 roots, 28 extra nodes, 4 pruned nodes, max_depth=5\u001b[0m\n",
      "\u001b[34m[25]#011train-error:0.1716#011validation-error:0.1926\u001b[0m\n",
      "\u001b[34m[05:43:47] src/tree/updater_prune.cc:74: tree pruning end, 1 roots, 32 extra nodes, 4 pruned nodes, max_depth=5\u001b[0m\n",
      "\u001b[34m[26]#011train-error:0.168333#011validation-error:0.1896\u001b[0m\n",
      "\u001b[34m[05:43:48] src/tree/updater_prune.cc:74: tree pruning end, 1 roots, 26 extra nodes, 10 pruned nodes, max_depth=5\u001b[0m\n",
      "\u001b[34m[27]#011train-error:0.168867#011validation-error:0.1899\u001b[0m\n",
      "\u001b[34m[05:43:49] src/tree/updater_prune.cc:74: tree pruning end, 1 roots, 30 extra nodes, 10 pruned nodes, max_depth=5\u001b[0m\n",
      "\u001b[34m[28]#011train-error:0.166933#011validation-error:0.1894\u001b[0m\n",
      "\u001b[34m[05:43:51] src/tree/updater_prune.cc:74: tree pruning end, 1 roots, 24 extra nodes, 12 pruned nodes, max_depth=5\u001b[0m\n",
      "\u001b[34m[29]#011train-error:0.165467#011validation-error:0.1886\u001b[0m\n",
      "\u001b[34m[05:43:52] src/tree/updater_prune.cc:74: tree pruning end, 1 roots, 26 extra nodes, 10 pruned nodes, max_depth=5\u001b[0m\n",
      "\u001b[34m[30]#011train-error:0.1624#011validation-error:0.1857\u001b[0m\n",
      "\u001b[34m[05:43:53] src/tree/updater_prune.cc:74: tree pruning end, 1 roots, 30 extra nodes, 8 pruned nodes, max_depth=5\u001b[0m\n",
      "\u001b[34m[31]#011train-error:0.160067#011validation-error:0.186\u001b[0m\n",
      "\u001b[34m[05:43:54] src/tree/updater_prune.cc:74: tree pruning end, 1 roots, 36 extra nodes, 8 pruned nodes, max_depth=5\u001b[0m\n",
      "\u001b[34m[32]#011train-error:0.159733#011validation-error:0.1843\u001b[0m\n",
      "\u001b[34m[05:43:56] src/tree/updater_prune.cc:74: tree pruning end, 1 roots, 16 extra nodes, 8 pruned nodes, max_depth=5\u001b[0m\n",
      "\u001b[34m[33]#011train-error:0.158333#011validation-error:0.1831\u001b[0m\n",
      "\u001b[34m[05:43:57] src/tree/updater_prune.cc:74: tree pruning end, 1 roots, 22 extra nodes, 10 pruned nodes, max_depth=5\u001b[0m\n",
      "\u001b[34m[34]#011train-error:0.155#011validation-error:0.1815\u001b[0m\n",
      "\u001b[34m[05:43:58] src/tree/updater_prune.cc:74: tree pruning end, 1 roots, 14 extra nodes, 14 pruned nodes, max_depth=5\u001b[0m\n",
      "\u001b[34m[35]#011train-error:0.154467#011validation-error:0.1816\u001b[0m\n",
      "\u001b[34m[05:43:59] src/tree/updater_prune.cc:74: tree pruning end, 1 roots, 16 extra nodes, 4 pruned nodes, max_depth=5\u001b[0m\n",
      "\u001b[34m[36]#011train-error:0.152933#011validation-error:0.1801\u001b[0m\n",
      "\u001b[34m[05:44:01] src/tree/updater_prune.cc:74: tree pruning end, 1 roots, 36 extra nodes, 12 pruned nodes, max_depth=5\u001b[0m\n",
      "\u001b[34m[37]#011train-error:0.1516#011validation-error:0.1802\u001b[0m\n",
      "\u001b[34m[05:44:02] src/tree/updater_prune.cc:74: tree pruning end, 1 roots, 16 extra nodes, 22 pruned nodes, max_depth=5\u001b[0m\n",
      "\u001b[34m[38]#011train-error:0.149733#011validation-error:0.1785\u001b[0m\n",
      "\u001b[34m[05:44:03] src/tree/updater_prune.cc:74: tree pruning end, 1 roots, 20 extra nodes, 6 pruned nodes, max_depth=5\u001b[0m\n",
      "\u001b[34m[39]#011train-error:0.148867#011validation-error:0.1783\u001b[0m\n",
      "\u001b[34m[05:44:05] src/tree/updater_prune.cc:74: tree pruning end, 1 roots, 20 extra nodes, 18 pruned nodes, max_depth=5\u001b[0m\n",
      "\u001b[34m[40]#011train-error:0.147867#011validation-error:0.1775\u001b[0m\n",
      "\u001b[34m[05:44:06] src/tree/updater_prune.cc:74: tree pruning end, 1 roots, 28 extra nodes, 4 pruned nodes, max_depth=5\u001b[0m\n",
      "\u001b[34m[41]#011train-error:0.147267#011validation-error:0.177\u001b[0m\n",
      "\u001b[34m[05:44:07] src/tree/updater_prune.cc:74: tree pruning end, 1 roots, 26 extra nodes, 4 pruned nodes, max_depth=5\u001b[0m\n",
      "\u001b[34m[42]#011train-error:0.146533#011validation-error:0.1768\u001b[0m\n",
      "\u001b[34m[05:44:08] src/tree/updater_prune.cc:74: tree pruning end, 1 roots, 16 extra nodes, 6 pruned nodes, max_depth=5\u001b[0m\n",
      "\u001b[34m[43]#011train-error:0.1456#011validation-error:0.1759\u001b[0m\n"
     ]
    },
    {
     "name": "stdout",
     "output_type": "stream",
     "text": [
      "\u001b[34m[05:44:10] src/tree/updater_prune.cc:74: tree pruning end, 1 roots, 26 extra nodes, 4 pruned nodes, max_depth=5\u001b[0m\n",
      "\u001b[34m[44]#011train-error:0.143667#011validation-error:0.1759\u001b[0m\n",
      "\u001b[34m[05:44:11] src/tree/updater_prune.cc:74: tree pruning end, 1 roots, 26 extra nodes, 2 pruned nodes, max_depth=5\u001b[0m\n",
      "\u001b[34m[45]#011train-error:0.141933#011validation-error:0.1751\u001b[0m\n",
      "\u001b[34m[05:44:12] src/tree/updater_prune.cc:74: tree pruning end, 1 roots, 24 extra nodes, 10 pruned nodes, max_depth=5\u001b[0m\n",
      "\u001b[34m[46]#011train-error:0.1414#011validation-error:0.1744\u001b[0m\n",
      "\u001b[34m[05:44:13] src/tree/updater_prune.cc:74: tree pruning end, 1 roots, 22 extra nodes, 14 pruned nodes, max_depth=5\u001b[0m\n",
      "\u001b[34m[47]#011train-error:0.139733#011validation-error:0.1741\u001b[0m\n",
      "\u001b[34m[05:44:15] src/tree/updater_prune.cc:74: tree pruning end, 1 roots, 26 extra nodes, 8 pruned nodes, max_depth=5\u001b[0m\n",
      "\u001b[34m[48]#011train-error:0.139533#011validation-error:0.1743\u001b[0m\n",
      "\u001b[34m[05:44:16] src/tree/updater_prune.cc:74: tree pruning end, 1 roots, 16 extra nodes, 12 pruned nodes, max_depth=5\u001b[0m\n",
      "\u001b[34m[49]#011train-error:0.1382#011validation-error:0.174\u001b[0m\n",
      "\u001b[34m[05:44:17] src/tree/updater_prune.cc:74: tree pruning end, 1 roots, 32 extra nodes, 12 pruned nodes, max_depth=5\u001b[0m\n",
      "\u001b[34m[50]#011train-error:0.136667#011validation-error:0.1735\u001b[0m\n",
      "\u001b[34m[05:44:18] src/tree/updater_prune.cc:74: tree pruning end, 1 roots, 22 extra nodes, 12 pruned nodes, max_depth=5\u001b[0m\n",
      "\u001b[34m[51]#011train-error:0.135467#011validation-error:0.1715\u001b[0m\n",
      "\u001b[34m[05:44:20] src/tree/updater_prune.cc:74: tree pruning end, 1 roots, 12 extra nodes, 8 pruned nodes, max_depth=5\u001b[0m\n",
      "\u001b[34m[52]#011train-error:0.134067#011validation-error:0.1713\u001b[0m\n",
      "\u001b[34m[05:44:21] src/tree/updater_prune.cc:74: tree pruning end, 1 roots, 28 extra nodes, 8 pruned nodes, max_depth=5\u001b[0m\n",
      "\u001b[34m[53]#011train-error:0.1336#011validation-error:0.1706\u001b[0m\n",
      "\u001b[34m[05:44:22] src/tree/updater_prune.cc:74: tree pruning end, 1 roots, 18 extra nodes, 12 pruned nodes, max_depth=5\u001b[0m\n",
      "\u001b[34m[54]#011train-error:0.133333#011validation-error:0.1692\u001b[0m\n",
      "\u001b[34m[05:44:23] src/tree/updater_prune.cc:74: tree pruning end, 1 roots, 34 extra nodes, 4 pruned nodes, max_depth=5\u001b[0m\n",
      "\u001b[34m[55]#011train-error:0.1324#011validation-error:0.1697\u001b[0m\n",
      "\u001b[34m[05:44:25] src/tree/updater_prune.cc:74: tree pruning end, 1 roots, 16 extra nodes, 12 pruned nodes, max_depth=5\u001b[0m\n",
      "\u001b[34m[56]#011train-error:0.1322#011validation-error:0.1686\u001b[0m\n",
      "\u001b[34m[05:44:26] src/tree/updater_prune.cc:74: tree pruning end, 1 roots, 32 extra nodes, 8 pruned nodes, max_depth=5\u001b[0m\n",
      "\u001b[34m[57]#011train-error:0.131067#011validation-error:0.1676\u001b[0m\n",
      "\u001b[34m[05:44:27] src/tree/updater_prune.cc:74: tree pruning end, 1 roots, 18 extra nodes, 8 pruned nodes, max_depth=5\u001b[0m\n",
      "\u001b[34m[58]#011train-error:0.129467#011validation-error:0.1681\u001b[0m\n",
      "\u001b[34m[05:44:28] src/tree/updater_prune.cc:74: tree pruning end, 1 roots, 14 extra nodes, 10 pruned nodes, max_depth=5\u001b[0m\n",
      "\u001b[34m[59]#011train-error:0.129133#011validation-error:0.1675\u001b[0m\n",
      "\u001b[34m[05:44:30] src/tree/updater_prune.cc:74: tree pruning end, 1 roots, 20 extra nodes, 12 pruned nodes, max_depth=5\u001b[0m\n",
      "\u001b[34m[60]#011train-error:0.128733#011validation-error:0.167\u001b[0m\n",
      "\u001b[34m[05:44:31] src/tree/updater_prune.cc:74: tree pruning end, 1 roots, 16 extra nodes, 4 pruned nodes, max_depth=5\u001b[0m\n",
      "\u001b[34m[61]#011train-error:0.1282#011validation-error:0.1676\u001b[0m\n",
      "\u001b[34m[05:44:32] src/tree/updater_prune.cc:74: tree pruning end, 1 roots, 26 extra nodes, 8 pruned nodes, max_depth=5\u001b[0m\n",
      "\u001b[34m[62]#011train-error:0.1278#011validation-error:0.1675\u001b[0m\n",
      "\u001b[34m[05:44:34] src/tree/updater_prune.cc:74: tree pruning end, 1 roots, 16 extra nodes, 18 pruned nodes, max_depth=5\u001b[0m\n",
      "\u001b[34m[63]#011train-error:0.1268#011validation-error:0.1669\u001b[0m\n",
      "\u001b[34m[05:44:35] src/tree/updater_prune.cc:74: tree pruning end, 1 roots, 28 extra nodes, 6 pruned nodes, max_depth=5\u001b[0m\n",
      "\u001b[34m[64]#011train-error:0.126467#011validation-error:0.1672\u001b[0m\n",
      "\u001b[34m[05:44:36] src/tree/updater_prune.cc:74: tree pruning end, 1 roots, 12 extra nodes, 10 pruned nodes, max_depth=5\u001b[0m\n",
      "\u001b[34m[65]#011train-error:0.125333#011validation-error:0.1668\u001b[0m\n",
      "\u001b[34m[05:44:37] src/tree/updater_prune.cc:74: tree pruning end, 1 roots, 12 extra nodes, 6 pruned nodes, max_depth=5\u001b[0m\n",
      "\u001b[34m[66]#011train-error:0.124467#011validation-error:0.1657\u001b[0m\n",
      "\u001b[34m[05:44:39] src/tree/updater_prune.cc:74: tree pruning end, 1 roots, 16 extra nodes, 14 pruned nodes, max_depth=5\u001b[0m\n",
      "\u001b[34m[67]#011train-error:0.122067#011validation-error:0.1641\u001b[0m\n",
      "\u001b[34m[05:44:40] src/tree/updater_prune.cc:74: tree pruning end, 1 roots, 10 extra nodes, 14 pruned nodes, max_depth=5\u001b[0m\n",
      "\u001b[34m[68]#011train-error:0.121333#011validation-error:0.1625\u001b[0m\n",
      "\u001b[34m[05:44:41] src/tree/updater_prune.cc:74: tree pruning end, 1 roots, 18 extra nodes, 10 pruned nodes, max_depth=5\u001b[0m\n",
      "\u001b[34m[69]#011train-error:0.120867#011validation-error:0.1621\u001b[0m\n",
      "\u001b[34m[05:44:42] src/tree/updater_prune.cc:74: tree pruning end, 1 roots, 12 extra nodes, 8 pruned nodes, max_depth=5\u001b[0m\n",
      "\u001b[34m[70]#011train-error:0.121467#011validation-error:0.1612\u001b[0m\n",
      "\u001b[34m[05:44:44] src/tree/updater_prune.cc:74: tree pruning end, 1 roots, 26 extra nodes, 8 pruned nodes, max_depth=5\u001b[0m\n",
      "\u001b[34m[71]#011train-error:0.1214#011validation-error:0.1614\u001b[0m\n",
      "\u001b[34m[05:44:45] src/tree/updater_prune.cc:74: tree pruning end, 1 roots, 16 extra nodes, 2 pruned nodes, max_depth=5\u001b[0m\n",
      "\u001b[34m[72]#011train-error:0.120133#011validation-error:0.1612\u001b[0m\n",
      "\u001b[34m[05:44:46] src/tree/updater_prune.cc:74: tree pruning end, 1 roots, 28 extra nodes, 4 pruned nodes, max_depth=5\u001b[0m\n",
      "\u001b[34m[73]#011train-error:0.118867#011validation-error:0.162\u001b[0m\n",
      "\u001b[34m[05:44:47] src/tree/updater_prune.cc:74: tree pruning end, 1 roots, 16 extra nodes, 14 pruned nodes, max_depth=5\u001b[0m\n",
      "\u001b[34m[74]#011train-error:0.1182#011validation-error:0.1608\u001b[0m\n",
      "\u001b[34m[05:44:49] src/tree/updater_prune.cc:74: tree pruning end, 1 roots, 22 extra nodes, 4 pruned nodes, max_depth=5\u001b[0m\n",
      "\u001b[34m[75]#011train-error:0.1178#011validation-error:0.1607\u001b[0m\n",
      "\u001b[34m[05:44:50] src/tree/updater_prune.cc:74: tree pruning end, 1 roots, 14 extra nodes, 4 pruned nodes, max_depth=5\u001b[0m\n",
      "\u001b[34m[76]#011train-error:0.116933#011validation-error:0.1601\u001b[0m\n",
      "\u001b[34m[05:44:51] src/tree/updater_prune.cc:74: tree pruning end, 1 roots, 16 extra nodes, 4 pruned nodes, max_depth=5\u001b[0m\n",
      "\u001b[34m[77]#011train-error:0.117267#011validation-error:0.161\u001b[0m\n",
      "\u001b[34m[05:44:53] src/tree/updater_prune.cc:74: tree pruning end, 1 roots, 20 extra nodes, 4 pruned nodes, max_depth=5\u001b[0m\n",
      "\u001b[34m[78]#011train-error:0.116333#011validation-error:0.161\u001b[0m\n",
      "\u001b[34m[05:44:54] src/tree/updater_prune.cc:74: tree pruning end, 1 roots, 22 extra nodes, 10 pruned nodes, max_depth=5\u001b[0m\n",
      "\u001b[34m[79]#011train-error:0.115933#011validation-error:0.1606\u001b[0m\n",
      "\u001b[34m[05:44:55] src/tree/updater_prune.cc:74: tree pruning end, 1 roots, 28 extra nodes, 6 pruned nodes, max_depth=5\u001b[0m\n",
      "\u001b[34m[80]#011train-error:0.114733#011validation-error:0.1609\u001b[0m\n",
      "\u001b[34m[05:44:56] src/tree/updater_prune.cc:74: tree pruning end, 1 roots, 10 extra nodes, 10 pruned nodes, max_depth=5\u001b[0m\n",
      "\u001b[34m[81]#011train-error:0.1142#011validation-error:0.1603\u001b[0m\n",
      "\u001b[34m[05:44:58] src/tree/updater_prune.cc:74: tree pruning end, 1 roots, 16 extra nodes, 6 pruned nodes, max_depth=5\u001b[0m\n",
      "\u001b[34m[82]#011train-error:0.113667#011validation-error:0.1603\u001b[0m\n",
      "\u001b[34m[05:44:59] src/tree/updater_prune.cc:74: tree pruning end, 1 roots, 12 extra nodes, 16 pruned nodes, max_depth=5\u001b[0m\n",
      "\u001b[34m[83]#011train-error:0.113133#011validation-error:0.1598\u001b[0m\n",
      "\u001b[34m[05:45:00] src/tree/updater_prune.cc:74: tree pruning end, 1 roots, 12 extra nodes, 12 pruned nodes, max_depth=5\u001b[0m\n",
      "\u001b[34m[84]#011train-error:0.112933#011validation-error:0.1594\u001b[0m\n",
      "\u001b[34m[05:45:01] src/tree/updater_prune.cc:74: tree pruning end, 1 roots, 12 extra nodes, 14 pruned nodes, max_depth=5\u001b[0m\n",
      "\u001b[34m[85]#011train-error:0.112067#011validation-error:0.1599\u001b[0m\n",
      "\u001b[34m[05:45:03] src/tree/updater_prune.cc:74: tree pruning end, 1 roots, 22 extra nodes, 4 pruned nodes, max_depth=5\u001b[0m\n",
      "\u001b[34m[86]#011train-error:0.1118#011validation-error:0.1602\u001b[0m\n",
      "\u001b[34m[05:45:04] src/tree/updater_prune.cc:74: tree pruning end, 1 roots, 26 extra nodes, 14 pruned nodes, max_depth=5\u001b[0m\n",
      "\u001b[34m[87]#011train-error:0.111333#011validation-error:0.1593\u001b[0m\n",
      "\u001b[34m[05:45:05] src/tree/updater_prune.cc:74: tree pruning end, 1 roots, 12 extra nodes, 10 pruned nodes, max_depth=5\u001b[0m\n",
      "\u001b[34m[88]#011train-error:0.111133#011validation-error:0.1585\u001b[0m\n",
      "\u001b[34m[05:45:06] src/tree/updater_prune.cc:74: tree pruning end, 1 roots, 16 extra nodes, 26 pruned nodes, max_depth=5\u001b[0m\n",
      "\u001b[34m[89]#011train-error:0.110267#011validation-error:0.1584\u001b[0m\n",
      "\u001b[34m[05:45:08] src/tree/updater_prune.cc:74: tree pruning end, 1 roots, 16 extra nodes, 4 pruned nodes, max_depth=5\u001b[0m\n",
      "\u001b[34m[90]#011train-error:0.1106#011validation-error:0.1591\u001b[0m\n",
      "\u001b[34m[05:45:09] src/tree/updater_prune.cc:74: tree pruning end, 1 roots, 14 extra nodes, 16 pruned nodes, max_depth=5\u001b[0m\n",
      "\u001b[34m[91]#011train-error:0.109867#011validation-error:0.1587\u001b[0m\n"
     ]
    },
    {
     "name": "stdout",
     "output_type": "stream",
     "text": [
      "\u001b[34m[05:45:10] src/tree/updater_prune.cc:74: tree pruning end, 1 roots, 20 extra nodes, 0 pruned nodes, max_depth=5\u001b[0m\n",
      "\u001b[34m[92]#011train-error:0.1092#011validation-error:0.1586\u001b[0m\n",
      "\u001b[34m[05:45:11] src/tree/updater_prune.cc:74: tree pruning end, 1 roots, 16 extra nodes, 4 pruned nodes, max_depth=5\u001b[0m\n",
      "\u001b[34m[93]#011train-error:0.108533#011validation-error:0.1575\u001b[0m\n",
      "\u001b[34m[05:45:13] src/tree/updater_prune.cc:74: tree pruning end, 1 roots, 10 extra nodes, 8 pruned nodes, max_depth=5\u001b[0m\n",
      "\u001b[34m[94]#011train-error:0.108#011validation-error:0.1569\u001b[0m\n",
      "\u001b[34m[05:45:14] src/tree/updater_prune.cc:74: tree pruning end, 1 roots, 22 extra nodes, 18 pruned nodes, max_depth=5\u001b[0m\n",
      "\u001b[34m[95]#011train-error:0.107333#011validation-error:0.1562\u001b[0m\n",
      "\u001b[34m[05:45:15] src/tree/updater_prune.cc:74: tree pruning end, 1 roots, 18 extra nodes, 10 pruned nodes, max_depth=5\u001b[0m\n",
      "\u001b[34m[96]#011train-error:0.106867#011validation-error:0.1564\u001b[0m\n",
      "\u001b[34m[05:45:17] src/tree/updater_prune.cc:74: tree pruning end, 1 roots, 18 extra nodes, 10 pruned nodes, max_depth=5\u001b[0m\n",
      "\u001b[34m[97]#011train-error:0.106267#011validation-error:0.1569\u001b[0m\n",
      "\u001b[34m[05:45:18] src/tree/updater_prune.cc:74: tree pruning end, 1 roots, 12 extra nodes, 4 pruned nodes, max_depth=5\u001b[0m\n",
      "\u001b[34m[98]#011train-error:0.106067#011validation-error:0.1569\u001b[0m\n",
      "\u001b[34m[05:45:19] src/tree/updater_prune.cc:74: tree pruning end, 1 roots, 20 extra nodes, 6 pruned nodes, max_depth=5\u001b[0m\n",
      "\u001b[34m[99]#011train-error:0.105867#011validation-error:0.1572\u001b[0m\n",
      "\u001b[34m[05:45:20] src/tree/updater_prune.cc:74: tree pruning end, 1 roots, 10 extra nodes, 12 pruned nodes, max_depth=5\u001b[0m\n",
      "\u001b[34m[100]#011train-error:0.105933#011validation-error:0.1573\u001b[0m\n",
      "\u001b[34m[05:45:22] src/tree/updater_prune.cc:74: tree pruning end, 1 roots, 18 extra nodes, 16 pruned nodes, max_depth=5\u001b[0m\n",
      "\u001b[34m[101]#011train-error:0.105133#011validation-error:0.1569\u001b[0m\n",
      "\u001b[34m[05:45:23] src/tree/updater_prune.cc:74: tree pruning end, 1 roots, 16 extra nodes, 6 pruned nodes, max_depth=5\u001b[0m\n",
      "\u001b[34m[102]#011train-error:0.103933#011validation-error:0.1565\u001b[0m\n",
      "\u001b[34m[05:45:24] src/tree/updater_prune.cc:74: tree pruning end, 1 roots, 12 extra nodes, 8 pruned nodes, max_depth=5\u001b[0m\n",
      "\u001b[34m[103]#011train-error:0.1038#011validation-error:0.156\u001b[0m\n",
      "\u001b[34m[05:45:25] src/tree/updater_prune.cc:74: tree pruning end, 1 roots, 24 extra nodes, 4 pruned nodes, max_depth=5\u001b[0m\n",
      "\u001b[34m[104]#011train-error:0.103467#011validation-error:0.1557\u001b[0m\n",
      "\u001b[34m[05:45:27] src/tree/updater_prune.cc:74: tree pruning end, 1 roots, 10 extra nodes, 4 pruned nodes, max_depth=5\u001b[0m\n",
      "\u001b[34m[105]#011train-error:0.103467#011validation-error:0.1552\u001b[0m\n",
      "\u001b[34m[05:45:28] src/tree/updater_prune.cc:74: tree pruning end, 1 roots, 10 extra nodes, 4 pruned nodes, max_depth=5\u001b[0m\n",
      "\u001b[34m[106]#011train-error:0.103133#011validation-error:0.1546\u001b[0m\n",
      "\u001b[34m[05:45:29] src/tree/updater_prune.cc:74: tree pruning end, 1 roots, 20 extra nodes, 8 pruned nodes, max_depth=5\u001b[0m\n",
      "\u001b[34m[107]#011train-error:0.102667#011validation-error:0.1541\u001b[0m\n",
      "\u001b[34m[05:45:30] src/tree/updater_prune.cc:74: tree pruning end, 1 roots, 10 extra nodes, 8 pruned nodes, max_depth=5\u001b[0m\n",
      "\u001b[34m[108]#011train-error:0.102467#011validation-error:0.1534\u001b[0m\n",
      "\u001b[34m[05:45:32] src/tree/updater_prune.cc:74: tree pruning end, 1 roots, 14 extra nodes, 12 pruned nodes, max_depth=5\u001b[0m\n",
      "\u001b[34m[109]#011train-error:0.101467#011validation-error:0.154\u001b[0m\n",
      "\u001b[34m[05:45:33] src/tree/updater_prune.cc:74: tree pruning end, 1 roots, 16 extra nodes, 2 pruned nodes, max_depth=5\u001b[0m\n",
      "\u001b[34m[110]#011train-error:0.100733#011validation-error:0.154\u001b[0m\n",
      "\u001b[34m[05:45:34] src/tree/updater_prune.cc:74: tree pruning end, 1 roots, 12 extra nodes, 4 pruned nodes, max_depth=5\u001b[0m\n",
      "\u001b[34m[111]#011train-error:0.100733#011validation-error:0.1537\u001b[0m\n",
      "\u001b[34m[05:45:35] src/tree/updater_prune.cc:74: tree pruning end, 1 roots, 16 extra nodes, 6 pruned nodes, max_depth=5\u001b[0m\n",
      "\u001b[34m[112]#011train-error:0.100467#011validation-error:0.1534\u001b[0m\n",
      "\u001b[34m[05:45:37] src/tree/updater_prune.cc:74: tree pruning end, 1 roots, 20 extra nodes, 4 pruned nodes, max_depth=5\u001b[0m\n",
      "\u001b[34m[113]#011train-error:0.100067#011validation-error:0.1528\u001b[0m\n",
      "\u001b[34m[05:45:38] src/tree/updater_prune.cc:74: tree pruning end, 1 roots, 10 extra nodes, 6 pruned nodes, max_depth=5\u001b[0m\n",
      "\u001b[34m[114]#011train-error:0.099733#011validation-error:0.1521\u001b[0m\n",
      "\u001b[34m[05:45:39] src/tree/updater_prune.cc:74: tree pruning end, 1 roots, 26 extra nodes, 4 pruned nodes, max_depth=5\u001b[0m\n",
      "\u001b[34m[115]#011train-error:0.098467#011validation-error:0.1525\u001b[0m\n",
      "\u001b[34m[05:45:40] src/tree/updater_prune.cc:74: tree pruning end, 1 roots, 22 extra nodes, 8 pruned nodes, max_depth=5\u001b[0m\n",
      "\u001b[34m[116]#011train-error:0.098133#011validation-error:0.1524\u001b[0m\n",
      "\u001b[34m[05:45:42] src/tree/updater_prune.cc:74: tree pruning end, 1 roots, 12 extra nodes, 12 pruned nodes, max_depth=5\u001b[0m\n",
      "\u001b[34m[117]#011train-error:0.0976#011validation-error:0.1524\u001b[0m\n",
      "\u001b[34m[05:45:43] src/tree/updater_prune.cc:74: tree pruning end, 1 roots, 16 extra nodes, 4 pruned nodes, max_depth=5\u001b[0m\n",
      "\u001b[34m[118]#011train-error:0.0972#011validation-error:0.1525\u001b[0m\n",
      "\u001b[34m[05:45:44] src/tree/updater_prune.cc:74: tree pruning end, 1 roots, 10 extra nodes, 8 pruned nodes, max_depth=5\u001b[0m\n",
      "\u001b[34m[119]#011train-error:0.096933#011validation-error:0.152\u001b[0m\n",
      "\u001b[34m[05:45:46] src/tree/updater_prune.cc:74: tree pruning end, 1 roots, 12 extra nodes, 16 pruned nodes, max_depth=5\u001b[0m\n",
      "\u001b[34m[120]#011train-error:0.097067#011validation-error:0.151\u001b[0m\n",
      "\u001b[34m[05:45:47] src/tree/updater_prune.cc:74: tree pruning end, 1 roots, 16 extra nodes, 8 pruned nodes, max_depth=5\u001b[0m\n",
      "\u001b[34m[121]#011train-error:0.096267#011validation-error:0.1509\u001b[0m\n",
      "\u001b[34m[05:45:48] src/tree/updater_prune.cc:74: tree pruning end, 1 roots, 12 extra nodes, 4 pruned nodes, max_depth=5\u001b[0m\n",
      "\u001b[34m[122]#011train-error:0.095867#011validation-error:0.1507\u001b[0m\n",
      "\u001b[34m[05:45:49] src/tree/updater_prune.cc:74: tree pruning end, 1 roots, 14 extra nodes, 8 pruned nodes, max_depth=5\u001b[0m\n",
      "\u001b[34m[123]#011train-error:0.096067#011validation-error:0.1508\u001b[0m\n",
      "\u001b[34m[05:45:51] src/tree/updater_prune.cc:74: tree pruning end, 1 roots, 10 extra nodes, 14 pruned nodes, max_depth=5\u001b[0m\n",
      "\u001b[34m[124]#011train-error:0.0956#011validation-error:0.1513\u001b[0m\n",
      "\u001b[34m[05:45:52] src/tree/updater_prune.cc:74: tree pruning end, 1 roots, 10 extra nodes, 4 pruned nodes, max_depth=5\u001b[0m\n",
      "\u001b[34m[125]#011train-error:0.0954#011validation-error:0.1513\u001b[0m\n",
      "\u001b[34m[05:45:53] src/tree/updater_prune.cc:74: tree pruning end, 1 roots, 18 extra nodes, 14 pruned nodes, max_depth=5\u001b[0m\n",
      "\u001b[34m[126]#011train-error:0.094867#011validation-error:0.1506\u001b[0m\n",
      "\u001b[34m[05:45:54] src/tree/updater_prune.cc:74: tree pruning end, 1 roots, 12 extra nodes, 6 pruned nodes, max_depth=5\u001b[0m\n",
      "\u001b[34m[127]#011train-error:0.094667#011validation-error:0.1507\u001b[0m\n",
      "\u001b[34m[05:45:56] src/tree/updater_prune.cc:74: tree pruning end, 1 roots, 12 extra nodes, 16 pruned nodes, max_depth=5\u001b[0m\n",
      "\u001b[34m[128]#011train-error:0.094533#011validation-error:0.1509\u001b[0m\n",
      "\u001b[34m[05:45:57] src/tree/updater_prune.cc:74: tree pruning end, 1 roots, 10 extra nodes, 10 pruned nodes, max_depth=5\u001b[0m\n",
      "\u001b[34m[129]#011train-error:0.0944#011validation-error:0.1503\u001b[0m\n",
      "\u001b[34m[05:45:58] src/tree/updater_prune.cc:74: tree pruning end, 1 roots, 10 extra nodes, 4 pruned nodes, max_depth=5\u001b[0m\n",
      "\u001b[34m[130]#011train-error:0.0938#011validation-error:0.1504\u001b[0m\n",
      "\u001b[34m[05:46:00] src/tree/updater_prune.cc:74: tree pruning end, 1 roots, 12 extra nodes, 4 pruned nodes, max_depth=5\u001b[0m\n",
      "\u001b[34m[131]#011train-error:0.093267#011validation-error:0.1506\u001b[0m\n",
      "\u001b[34m[05:46:01] src/tree/updater_prune.cc:74: tree pruning end, 1 roots, 22 extra nodes, 6 pruned nodes, max_depth=5\u001b[0m\n",
      "\u001b[34m[132]#011train-error:0.092933#011validation-error:0.1491\u001b[0m\n",
      "\u001b[34m[05:46:02] src/tree/updater_prune.cc:74: tree pruning end, 1 roots, 20 extra nodes, 6 pruned nodes, max_depth=5\u001b[0m\n",
      "\u001b[34m[133]#011train-error:0.0928#011validation-error:0.149\u001b[0m\n",
      "\u001b[34m[05:46:03] src/tree/updater_prune.cc:74: tree pruning end, 1 roots, 16 extra nodes, 8 pruned nodes, max_depth=5\u001b[0m\n",
      "\u001b[34m[134]#011train-error:0.093333#011validation-error:0.1488\u001b[0m\n",
      "\u001b[34m[05:46:05] src/tree/updater_prune.cc:74: tree pruning end, 1 roots, 12 extra nodes, 12 pruned nodes, max_depth=5\u001b[0m\n",
      "\u001b[34m[135]#011train-error:0.093133#011validation-error:0.1492\u001b[0m\n",
      "\u001b[34m[05:46:06] src/tree/updater_prune.cc:74: tree pruning end, 1 roots, 16 extra nodes, 6 pruned nodes, max_depth=5\u001b[0m\n",
      "\u001b[34m[136]#011train-error:0.0926#011validation-error:0.1494\u001b[0m\n",
      "\u001b[34m[05:46:07] src/tree/updater_prune.cc:74: tree pruning end, 1 roots, 10 extra nodes, 10 pruned nodes, max_depth=5\u001b[0m\n",
      "\u001b[34m[137]#011train-error:0.092733#011validation-error:0.1494\u001b[0m\n",
      "\u001b[34m[05:46:08] src/tree/updater_prune.cc:74: tree pruning end, 1 roots, 18 extra nodes, 10 pruned nodes, max_depth=5\u001b[0m\n",
      "\u001b[34m[138]#011train-error:0.091267#011validation-error:0.1492\u001b[0m\n",
      "\u001b[34m[05:46:10] src/tree/updater_prune.cc:74: tree pruning end, 1 roots, 18 extra nodes, 10 pruned nodes, max_depth=5\u001b[0m\n",
      "\u001b[34m[139]#011train-error:0.091267#011validation-error:0.1494\u001b[0m\n"
     ]
    },
    {
     "name": "stdout",
     "output_type": "stream",
     "text": [
      "\n",
      "2020-01-29 05:46:19 Uploading - Uploading generated training model\u001b[34m[05:46:11] src/tree/updater_prune.cc:74: tree pruning end, 1 roots, 18 extra nodes, 4 pruned nodes, max_depth=5\u001b[0m\n",
      "\u001b[34m[140]#011train-error:0.0912#011validation-error:0.1495\u001b[0m\n",
      "\u001b[34m[05:46:12] src/tree/updater_prune.cc:74: tree pruning end, 1 roots, 18 extra nodes, 2 pruned nodes, max_depth=5\u001b[0m\n",
      "\u001b[34m[141]#011train-error:0.091#011validation-error:0.1503\u001b[0m\n",
      "\u001b[34m[05:46:13] src/tree/updater_prune.cc:74: tree pruning end, 1 roots, 22 extra nodes, 8 pruned nodes, max_depth=5\u001b[0m\n",
      "\u001b[34m[142]#011train-error:0.0902#011validation-error:0.15\u001b[0m\n",
      "\u001b[34m[05:46:15] src/tree/updater_prune.cc:74: tree pruning end, 1 roots, 10 extra nodes, 10 pruned nodes, max_depth=5\u001b[0m\n",
      "\u001b[34m[143]#011train-error:0.090267#011validation-error:0.1504\u001b[0m\n",
      "\u001b[34m[05:46:16] src/tree/updater_prune.cc:74: tree pruning end, 1 roots, 10 extra nodes, 10 pruned nodes, max_depth=5\u001b[0m\n",
      "\u001b[34m[144]#011train-error:0.090067#011validation-error:0.1497\u001b[0m\n",
      "\u001b[34mStopping. Best iteration:\u001b[0m\n",
      "\u001b[34m[134]#011train-error:0.093333#011validation-error:0.1488\n",
      "\u001b[0m\n",
      "\n",
      "2020-01-29 05:46:26 Completed - Training job completed\n",
      "Training seconds: 234\n",
      "Billable seconds: 234\n"
     ]
    }
   ],
   "source": [
    "xgb.fit({'train': s3_input_train, 'validation': s3_input_validation})"
   ]
  },
  {
   "cell_type": "markdown",
   "metadata": {},
   "source": [
    "### Testing the model\n",
    "\n",
    "Now that we've fit our XGBoost model, it's time to see how well it performs. To do this we will use SageMakers Batch Transform functionality. Batch Transform is a convenient way to perform inference on a large dataset in a way that is not realtime. That is, we don't necessarily need to use our model's results immediately and instead we can peform inference on a large number of samples. An example of this in industry might be peforming an end of month report. This method of inference can also be useful to us as it means to can perform inference on our entire test set. \n",
    "\n",
    "To perform a Batch Transformation we need to first create a transformer objects from our trained estimator object."
   ]
  },
  {
   "cell_type": "code",
   "execution_count": 25,
   "metadata": {},
   "outputs": [],
   "source": [
    "xgb_transformer = xgb.transformer(instance_count = 1, instance_type = 'ml.m4.xlarge')"
   ]
  },
  {
   "cell_type": "markdown",
   "metadata": {},
   "source": [
    "Next we actually perform the transform job. When doing so we need to make sure to specify the type of data we are sending so that it is serialized correctly in the background. In our case we are providing our model with csv data so we specify `text/csv`. Also, if the test data that we have provided is too large to process all at once then we need to specify how the data file should be split up. Since each line is a single entry in our data set we tell SageMaker that it can split the input on each line."
   ]
  },
  {
   "cell_type": "code",
   "execution_count": 26,
   "metadata": {},
   "outputs": [],
   "source": [
    "xgb_transformer.transform(test_location, content_type='text/csv', split_type='Line')"
   ]
  },
  {
   "cell_type": "markdown",
   "metadata": {},
   "source": [
    "Currently the transform job is running but it is doing so in the background. Since we wish to wait until the transform job is done and we would like a bit of feedback we can run the `wait()` method."
   ]
  },
  {
   "cell_type": "code",
   "execution_count": 27,
   "metadata": {},
   "outputs": [
    {
     "name": "stdout",
     "output_type": "stream",
     "text": [
      "......................\u001b[34mArguments: serve\u001b[0m\n",
      "\u001b[34m[2020-01-29 05:50:33 +0000] [1] [INFO] Starting gunicorn 19.7.1\u001b[0m\n",
      "\u001b[34m[2020-01-29 05:50:33 +0000] [1] [INFO] Listening at: http://0.0.0.0:8080 (1)\u001b[0m\n",
      "\u001b[34m[2020-01-29 05:50:33 +0000] [1] [INFO] Using worker: gevent\u001b[0m\n",
      "\u001b[34m[2020-01-29 05:50:33 +0000] [38] [INFO] Booting worker with pid: 38\u001b[0m\n",
      "\u001b[34m[2020-01-29 05:50:33 +0000] [39] [INFO] Booting worker with pid: 39\u001b[0m\n",
      "\u001b[34m[2020-01-29 05:50:34 +0000] [40] [INFO] Booting worker with pid: 40\u001b[0m\n",
      "\u001b[34m[2020-01-29:05:50:34:INFO] Model loaded successfully for worker : 39\u001b[0m\n",
      "\u001b[34m[2020-01-29:05:50:34:INFO] Model loaded successfully for worker : 38\u001b[0m\n",
      "\u001b[34m[2020-01-29 05:50:34 +0000] [41] [INFO] Booting worker with pid: 41\u001b[0m\n",
      "\u001b[34m[2020-01-29:05:50:34:INFO] Model loaded successfully for worker : 40\u001b[0m\n",
      "\u001b[34m[2020-01-29:05:50:34:INFO] Model loaded successfully for worker : 41\u001b[0m\n",
      "\u001b[32m2020-01-29T05:50:56.099:[sagemaker logs]: MaxConcurrentTransforms=4, MaxPayloadInMB=6, BatchStrategy=MULTI_RECORD\u001b[0m\n",
      "\u001b[34m[2020-01-29:05:50:58:INFO] Sniff delimiter as ','\u001b[0m\n",
      "\u001b[34m[2020-01-29:05:50:58:INFO] Determined delimiter of CSV input is ','\u001b[0m\n",
      "\u001b[34m[2020-01-29:05:50:58:INFO] Sniff delimiter as ','\u001b[0m\n",
      "\u001b[34m[2020-01-29:05:50:58:INFO] Determined delimiter of CSV input is ','\u001b[0m\n",
      "\u001b[34m[2020-01-29:05:50:59:INFO] Sniff delimiter as ','\u001b[0m\n",
      "\u001b[34m[2020-01-29:05:50:59:INFO] Determined delimiter of CSV input is ','\u001b[0m\n",
      "\u001b[35m[2020-01-29:05:50:58:INFO] Sniff delimiter as ','\u001b[0m\n",
      "\u001b[35m[2020-01-29:05:50:58:INFO] Determined delimiter of CSV input is ','\u001b[0m\n",
      "\u001b[35m[2020-01-29:05:50:58:INFO] Sniff delimiter as ','\u001b[0m\n",
      "\u001b[35m[2020-01-29:05:50:58:INFO] Determined delimiter of CSV input is ','\u001b[0m\n",
      "\u001b[35m[2020-01-29:05:50:59:INFO] Sniff delimiter as ','\u001b[0m\n",
      "\u001b[35m[2020-01-29:05:50:59:INFO] Determined delimiter of CSV input is ','\u001b[0m\n",
      "\u001b[34m[2020-01-29:05:51:00:INFO] Sniff delimiter as ','\u001b[0m\n",
      "\u001b[34m[2020-01-29:05:51:00:INFO] Determined delimiter of CSV input is ','\u001b[0m\n",
      "\u001b[35m[2020-01-29:05:51:00:INFO] Sniff delimiter as ','\u001b[0m\n",
      "\u001b[35m[2020-01-29:05:51:00:INFO] Determined delimiter of CSV input is ','\u001b[0m\n",
      "\u001b[34m[2020-01-29:05:51:01:INFO] Sniff delimiter as ','\u001b[0m\n",
      "\u001b[34m[2020-01-29:05:51:01:INFO] Determined delimiter of CSV input is ','\u001b[0m\n",
      "\u001b[34m[2020-01-29:05:51:01:INFO] Sniff delimiter as ','\u001b[0m\n",
      "\u001b[35m[2020-01-29:05:51:01:INFO] Sniff delimiter as ','\u001b[0m\n",
      "\u001b[35m[2020-01-29:05:51:01:INFO] Determined delimiter of CSV input is ','\u001b[0m\n",
      "\u001b[35m[2020-01-29:05:51:01:INFO] Sniff delimiter as ','\u001b[0m\n",
      "\u001b[34m[2020-01-29:05:51:01:INFO] Determined delimiter of CSV input is ','\u001b[0m\n",
      "\u001b[35m[2020-01-29:05:51:01:INFO] Determined delimiter of CSV input is ','\u001b[0m\n",
      "\u001b[34m[2020-01-29:05:51:02:INFO] Sniff delimiter as ','\u001b[0m\n",
      "\u001b[34m[2020-01-29:05:51:02:INFO] Determined delimiter of CSV input is ','\u001b[0m\n",
      "\u001b[35m[2020-01-29:05:51:02:INFO] Sniff delimiter as ','\u001b[0m\n",
      "\u001b[35m[2020-01-29:05:51:02:INFO] Determined delimiter of CSV input is ','\u001b[0m\n",
      "\u001b[34m[2020-01-29:05:51:02:INFO] Sniff delimiter as ','\u001b[0m\n",
      "\u001b[34m[2020-01-29:05:51:02:INFO] Determined delimiter of CSV input is ','\u001b[0m\n",
      "\u001b[34m[2020-01-29:05:51:02:INFO] Sniff delimiter as ','\u001b[0m\n",
      "\u001b[34m[2020-01-29:05:51:02:INFO] Determined delimiter of CSV input is ','\u001b[0m\n",
      "\u001b[34m[2020-01-29:05:51:03:INFO] Sniff delimiter as ','\u001b[0m\n",
      "\u001b[34m[2020-01-29:05:51:03:INFO] Determined delimiter of CSV input is ','\u001b[0m\n",
      "\u001b[35m[2020-01-29:05:51:02:INFO] Sniff delimiter as ','\u001b[0m\n",
      "\u001b[35m[2020-01-29:05:51:02:INFO] Determined delimiter of CSV input is ','\u001b[0m\n",
      "\u001b[35m[2020-01-29:05:51:02:INFO] Sniff delimiter as ','\u001b[0m\n",
      "\u001b[35m[2020-01-29:05:51:02:INFO] Determined delimiter of CSV input is ','\u001b[0m\n",
      "\u001b[35m[2020-01-29:05:51:03:INFO] Sniff delimiter as ','\u001b[0m\n",
      "\u001b[35m[2020-01-29:05:51:03:INFO] Determined delimiter of CSV input is ','\u001b[0m\n",
      "\u001b[34m[2020-01-29:05:51:05:INFO] Sniff delimiter as ','\u001b[0m\n",
      "\u001b[34m[2020-01-29:05:51:05:INFO] Determined delimiter of CSV input is ','\u001b[0m\n",
      "\u001b[35m[2020-01-29:05:51:05:INFO] Sniff delimiter as ','\u001b[0m\n",
      "\u001b[35m[2020-01-29:05:51:05:INFO] Determined delimiter of CSV input is ','\u001b[0m\n",
      "\u001b[34m[2020-01-29:05:51:07:INFO] Sniff delimiter as ','\u001b[0m\n",
      "\u001b[34m[2020-01-29:05:51:07:INFO] Determined delimiter of CSV input is ','\u001b[0m\n",
      "\u001b[35m[2020-01-29:05:51:07:INFO] Sniff delimiter as ','\u001b[0m\n",
      "\u001b[35m[2020-01-29:05:51:07:INFO] Determined delimiter of CSV input is ','\u001b[0m\n",
      "\u001b[34m[2020-01-29:05:51:07:INFO] Sniff delimiter as ','\u001b[0m\n",
      "\u001b[34m[2020-01-29:05:51:07:INFO] Determined delimiter of CSV input is ','\u001b[0m\n",
      "\u001b[34m[2020-01-29:05:51:07:INFO] Sniff delimiter as ','\u001b[0m\n",
      "\u001b[34m[2020-01-29:05:51:07:INFO] Determined delimiter of CSV input is ','\u001b[0m\n",
      "\u001b[34m[2020-01-29:05:51:08:INFO] Sniff delimiter as ','\u001b[0m\n",
      "\u001b[34m[2020-01-29:05:51:08:INFO] Determined delimiter of CSV input is ','\u001b[0m\n",
      "\u001b[35m[2020-01-29:05:51:07:INFO] Sniff delimiter as ','\u001b[0m\n",
      "\u001b[35m[2020-01-29:05:51:07:INFO] Determined delimiter of CSV input is ','\u001b[0m\n",
      "\u001b[35m[2020-01-29:05:51:07:INFO] Sniff delimiter as ','\u001b[0m\n",
      "\u001b[35m[2020-01-29:05:51:07:INFO] Determined delimiter of CSV input is ','\u001b[0m\n",
      "\u001b[35m[2020-01-29:05:51:08:INFO] Sniff delimiter as ','\u001b[0m\n",
      "\u001b[35m[2020-01-29:05:51:08:INFO] Determined delimiter of CSV input is ','\u001b[0m\n",
      "\u001b[34m[2020-01-29:05:51:10:INFO] Sniff delimiter as ','\u001b[0m\n",
      "\u001b[34m[2020-01-29:05:51:10:INFO] Determined delimiter of CSV input is ','\u001b[0m\n",
      "\u001b[34m[2020-01-29:05:51:10:INFO] Sniff delimiter as ','\u001b[0m\n",
      "\u001b[34m[2020-01-29:05:51:10:INFO] Determined delimiter of CSV input is ','\u001b[0m\n",
      "\u001b[34m[2020-01-29:05:51:10:INFO] Sniff delimiter as ','\u001b[0m\n",
      "\u001b[34m[2020-01-29:05:51:10:INFO] Determined delimiter of CSV input is ','\u001b[0m\n",
      "\u001b[34m[2020-01-29:05:51:10:INFO] Sniff delimiter as ','\u001b[0m\n",
      "\u001b[34m[2020-01-29:05:51:10:INFO] Determined delimiter of CSV input is ','\u001b[0m\n",
      "\u001b[35m[2020-01-29:05:51:10:INFO] Sniff delimiter as ','\u001b[0m\n",
      "\u001b[35m[2020-01-29:05:51:10:INFO] Determined delimiter of CSV input is ','\u001b[0m\n",
      "\u001b[35m[2020-01-29:05:51:10:INFO] Sniff delimiter as ','\u001b[0m\n",
      "\u001b[35m[2020-01-29:05:51:10:INFO] Determined delimiter of CSV input is ','\u001b[0m\n",
      "\u001b[35m[2020-01-29:05:51:10:INFO] Sniff delimiter as ','\u001b[0m\n",
      "\u001b[35m[2020-01-29:05:51:10:INFO] Determined delimiter of CSV input is ','\u001b[0m\n",
      "\u001b[35m[2020-01-29:05:51:10:INFO] Sniff delimiter as ','\u001b[0m\n",
      "\u001b[35m[2020-01-29:05:51:10:INFO] Determined delimiter of CSV input is ','\u001b[0m\n",
      "\u001b[34m[2020-01-29:05:51:12:INFO] Sniff delimiter as ','\u001b[0m\n",
      "\u001b[34m[2020-01-29:05:51:12:INFO] Determined delimiter of CSV input is ','\u001b[0m\n",
      "\u001b[34m[2020-01-29:05:51:12:INFO] Sniff delimiter as ','\u001b[0m\n",
      "\u001b[34m[2020-01-29:05:51:12:INFO] Determined delimiter of CSV input is ','\u001b[0m\n",
      "\u001b[35m[2020-01-29:05:51:12:INFO] Sniff delimiter as ','\u001b[0m\n",
      "\u001b[35m[2020-01-29:05:51:12:INFO] Determined delimiter of CSV input is ','\u001b[0m\n",
      "\u001b[35m[2020-01-29:05:51:12:INFO] Sniff delimiter as ','\u001b[0m\n",
      "\u001b[35m[2020-01-29:05:51:12:INFO] Determined delimiter of CSV input is ','\u001b[0m\n",
      "\u001b[34m[2020-01-29:05:51:12:INFO] Sniff delimiter as ','\u001b[0m\n",
      "\u001b[35m[2020-01-29:05:51:12:INFO] Sniff delimiter as ','\u001b[0m\n",
      "\u001b[34m[2020-01-29:05:51:12:INFO] Determined delimiter of CSV input is ','\u001b[0m\n",
      "\u001b[34m[2020-01-29:05:51:13:INFO] Sniff delimiter as ','\u001b[0m\n",
      "\u001b[34m[2020-01-29:05:51:13:INFO] Determined delimiter of CSV input is ','\u001b[0m\n",
      "\u001b[35m[2020-01-29:05:51:12:INFO] Determined delimiter of CSV input is ','\u001b[0m\n",
      "\u001b[35m[2020-01-29:05:51:13:INFO] Sniff delimiter as ','\u001b[0m\n",
      "\u001b[35m[2020-01-29:05:51:13:INFO] Determined delimiter of CSV input is ','\u001b[0m\n",
      "\u001b[34m[2020-01-29:05:51:15:INFO] Determined delimiter of CSV input is ','\u001b[0m\n",
      "\u001b[34m[2020-01-29:05:51:15:INFO] Sniff delimiter as ','\u001b[0m\n",
      "\u001b[34m[2020-01-29:05:51:15:INFO] Determined delimiter of CSV input is ','\u001b[0m\n",
      "\u001b[34m[2020-01-29:05:51:15:INFO] Sniff delimiter as ','\u001b[0m\n",
      "\u001b[34m[2020-01-29:05:51:15:INFO] Determined delimiter of CSV input is ','\u001b[0m\n",
      "\u001b[35m[2020-01-29:05:51:15:INFO] Determined delimiter of CSV input is ','\u001b[0m\n",
      "\u001b[35m[2020-01-29:05:51:15:INFO] Sniff delimiter as ','\u001b[0m\n",
      "\u001b[35m[2020-01-29:05:51:15:INFO] Determined delimiter of CSV input is ','\u001b[0m\n",
      "\u001b[35m[2020-01-29:05:51:15:INFO] Sniff delimiter as ','\u001b[0m\n",
      "\u001b[35m[2020-01-29:05:51:15:INFO] Determined delimiter of CSV input is ','\u001b[0m\n",
      "\u001b[34m[2020-01-29:05:51:17:INFO] Sniff delimiter as ','\u001b[0m\n",
      "\u001b[34m[2020-01-29:05:51:17:INFO] Determined delimiter of CSV input is ','\u001b[0m\n",
      "\u001b[34m[2020-01-29:05:51:17:INFO] Sniff delimiter as ','\u001b[0m\n",
      "\u001b[34m[2020-01-29:05:51:17:INFO] Determined delimiter of CSV input is ','\u001b[0m\n",
      "\u001b[35m[2020-01-29:05:51:17:INFO] Sniff delimiter as ','\u001b[0m\n",
      "\u001b[35m[2020-01-29:05:51:17:INFO] Determined delimiter of CSV input is ','\u001b[0m\n",
      "\u001b[35m[2020-01-29:05:51:17:INFO] Sniff delimiter as ','\u001b[0m\n",
      "\u001b[35m[2020-01-29:05:51:17:INFO] Determined delimiter of CSV input is ','\u001b[0m\n",
      "\u001b[34m[2020-01-29:05:51:17:INFO] Sniff delimiter as ','\u001b[0m\n",
      "\u001b[34m[2020-01-29:05:51:17:INFO] Determined delimiter of CSV input is ','\u001b[0m\n",
      "\u001b[34m[2020-01-29:05:51:18:INFO] Sniff delimiter as ','\u001b[0m\n",
      "\u001b[34m[2020-01-29:05:51:18:INFO] Determined delimiter of CSV input is ','\u001b[0m\n",
      "\u001b[35m[2020-01-29:05:51:17:INFO] Sniff delimiter as ','\u001b[0m\n",
      "\u001b[35m[2020-01-29:05:51:17:INFO] Determined delimiter of CSV input is ','\u001b[0m\n",
      "\u001b[35m[2020-01-29:05:51:18:INFO] Sniff delimiter as ','\u001b[0m\n",
      "\u001b[35m[2020-01-29:05:51:18:INFO] Determined delimiter of CSV input is ','\u001b[0m\n",
      "\u001b[34m[2020-01-29:05:51:20:INFO] Sniff delimiter as ','\u001b[0m\n",
      "\u001b[34m[2020-01-29:05:51:20:INFO] Determined delimiter of CSV input is ','\u001b[0m\n",
      "\u001b[34m[2020-01-29:05:51:20:INFO] Sniff delimiter as ','\u001b[0m\n",
      "\u001b[34m[2020-01-29:05:51:20:INFO] Determined delimiter of CSV input is ','\u001b[0m\n",
      "\u001b[34m[2020-01-29:05:51:20:INFO] Sniff delimiter as ','\u001b[0m\n",
      "\u001b[34m[2020-01-29:05:51:20:INFO] Determined delimiter of CSV input is ','\u001b[0m\n",
      "\u001b[34m[2020-01-29:05:51:20:INFO] Sniff delimiter as ','\u001b[0m\n",
      "\u001b[34m[2020-01-29:05:51:20:INFO] Determined delimiter of CSV input is ','\u001b[0m\n",
      "\u001b[35m[2020-01-29:05:51:20:INFO] Sniff delimiter as ','\u001b[0m\n",
      "\u001b[35m[2020-01-29:05:51:20:INFO] Determined delimiter of CSV input is ','\u001b[0m\n",
      "\u001b[35m[2020-01-29:05:51:20:INFO] Sniff delimiter as ','\u001b[0m\n",
      "\u001b[35m[2020-01-29:05:51:20:INFO] Determined delimiter of CSV input is ','\u001b[0m\n",
      "\u001b[35m[2020-01-29:05:51:20:INFO] Sniff delimiter as ','\u001b[0m\n",
      "\u001b[35m[2020-01-29:05:51:20:INFO] Determined delimiter of CSV input is ','\u001b[0m\n",
      "\u001b[35m[2020-01-29:05:51:20:INFO] Sniff delimiter as ','\u001b[0m\n",
      "\u001b[35m[2020-01-29:05:51:20:INFO] Determined delimiter of CSV input is ','\u001b[0m\n",
      "\u001b[34m[2020-01-29:05:51:22:INFO] Sniff delimiter as ','\u001b[0m\n",
      "\u001b[34m[2020-01-29:05:51:22:INFO] Determined delimiter of CSV input is ','\u001b[0m\n",
      "\u001b[34m[2020-01-29:05:51:22:INFO] Sniff delimiter as ','\u001b[0m\n",
      "\u001b[34m[2020-01-29:05:51:22:INFO] Determined delimiter of CSV input is ','\u001b[0m\n",
      "\u001b[35m[2020-01-29:05:51:22:INFO] Sniff delimiter as ','\u001b[0m\n",
      "\u001b[35m[2020-01-29:05:51:22:INFO] Determined delimiter of CSV input is ','\u001b[0m\n",
      "\u001b[35m[2020-01-29:05:51:22:INFO] Sniff delimiter as ','\u001b[0m\n",
      "\u001b[35m[2020-01-29:05:51:22:INFO] Determined delimiter of CSV input is ','\u001b[0m\n"
     ]
    },
    {
     "name": "stdout",
     "output_type": "stream",
     "text": [
      "\n"
     ]
    }
   ],
   "source": [
    "xgb_transformer.wait()"
   ]
  },
  {
   "cell_type": "markdown",
   "metadata": {},
   "source": [
    "Now the transform job has executed and the result, the estimated sentiment of each review, has been saved on S3. Since we would rather work on this file locally we can perform a bit of notebook magic to copy the file to the `data_dir`."
   ]
  },
  {
   "cell_type": "code",
   "execution_count": 28,
   "metadata": {},
   "outputs": [
    {
     "name": "stdout",
     "output_type": "stream",
     "text": [
      "Completed 256.0 KiB/369.7 KiB (3.4 MiB/s) with 1 file(s) remaining\r",
      "Completed 369.7 KiB/369.7 KiB (4.8 MiB/s) with 1 file(s) remaining\r",
      "download: s3://sagemaker-us-east-1-174814400447/xgboost-2020-01-29-05-47-06-845/test.csv.out to ../data/sentiment_update/test.csv.out\r\n"
     ]
    }
   ],
   "source": [
    "!aws s3 cp --recursive $xgb_transformer.output_path $data_dir"
   ]
  },
  {
   "cell_type": "markdown",
   "metadata": {},
   "source": [
    "The last step is now to read in the output from our model, convert the output to something a little more usable, in this case we want the sentiment to be either `1` (positive) or `0` (negative), and then compare to the ground truth labels."
   ]
  },
  {
   "cell_type": "code",
   "execution_count": 29,
   "metadata": {},
   "outputs": [],
   "source": [
    "predictions = pd.read_csv(os.path.join(data_dir, 'test.csv.out'), header=None)\n",
    "predictions = [round(num) for num in predictions.squeeze().values]"
   ]
  },
  {
   "cell_type": "code",
   "execution_count": 30,
   "metadata": {},
   "outputs": [
    {
     "data": {
      "text/plain": [
       "0.85824"
      ]
     },
     "execution_count": 30,
     "metadata": {},
     "output_type": "execute_result"
    }
   ],
   "source": [
    "from sklearn.metrics import accuracy_score\n",
    "accuracy_score(test_y, predictions)"
   ]
  },
  {
   "cell_type": "markdown",
   "metadata": {},
   "source": [
    "## Step 5: Looking at New Data\n",
    "\n",
    "So now we have an XGBoost sentiment analysis model that we believe is working pretty well. As a result, we deployed it and we are using it in some sort of app.\n",
    "\n",
    "However, as we allow users to use our app we periodically record submitted movie reviews so that we can perform some quality control on our deployed model. Once we've accumulated enough reviews we go through them by hand and evaluate whether they are positive or negative (there are many ways you might do this in practice aside from by hand). The reason for doing this is so that we can check to see how well our model is doing."
   ]
  },
  {
   "cell_type": "code",
   "execution_count": 31,
   "metadata": {},
   "outputs": [],
   "source": [
    "import new_data\n",
    "\n",
    "new_X, new_Y = new_data.get_new_data()"
   ]
  },
  {
   "cell_type": "markdown",
   "metadata": {},
   "source": [
    "**NOTE:** Part of the fun in this notebook is trying to figure out what exactly is happening with the new data, so try not to cheat by looking in the `new_data` module. Also, the `new_data` module assumes that the cache created earlier in Step 3 is still stored in `../cache/sentiment_analysis`."
   ]
  },
  {
   "cell_type": "markdown",
   "metadata": {},
   "source": [
    "### (TODO) Testing the current model\n",
    "\n",
    "Now that we've loaded the new data, let's check to see how our current XGBoost model performs on it.\n",
    "\n",
    "First, note that the data that has been loaded has already been pre-processed so that each entry in `new_X` is a list of words that have been processed using `nltk`. However, we have not yet constructed the bag of words encoding, which we will do now.\n",
    "\n",
    "First, we use the vocabulary that we constructed earlier using the original training data to construct a `CountVectorizer` which we will use to transform our new data into its bag of words encoding.\n",
    "\n",
    "**TODO:** Create the CountVectorizer object using the vocabulary created earlier and use it to transform the new data."
   ]
  },
  {
   "cell_type": "code",
   "execution_count": 32,
   "metadata": {},
   "outputs": [],
   "source": [
    "# TODO: Create the CountVectorizer using the previously constructed vocabulary\n",
    "# vectorizer = None\n",
    "\n",
    "# Solution:\n",
    "vectorizer = CountVectorizer(vocabulary=vocabulary,\n",
    "                preprocessor=lambda x: x, tokenizer=lambda x: x)\n",
    "\n",
    "# TODO: Transform our new data set and store the transformed data in the variable new_XV\n",
    "# new_XV = None\n",
    "\n",
    "# Solution\n",
    "new_XV = vectorizer.transform(new_X).toarray()"
   ]
  },
  {
   "cell_type": "markdown",
   "metadata": {},
   "source": [
    "As a quick sanity check, we make sure that the length of each of our bag of words encoded reviews is correct. In particular, it must be the same size as the vocabulary which in our case is `5000`."
   ]
  },
  {
   "cell_type": "code",
   "execution_count": 33,
   "metadata": {},
   "outputs": [
    {
     "data": {
      "text/plain": [
       "5000"
      ]
     },
     "execution_count": 33,
     "metadata": {},
     "output_type": "execute_result"
    }
   ],
   "source": [
    "len(new_XV[100])"
   ]
  },
  {
   "cell_type": "markdown",
   "metadata": {},
   "source": [
    "Now that we've performed the data processing that is required by our model we can save it locally and then upload it to S3 so that we can construct a batch transform job in order to see how well our model is working.\n",
    "\n",
    "First, we save the data locally.\n",
    "\n",
    "**TODO:** Save the new data (after it has been transformed using the original vocabulary) to the local notebook instance."
   ]
  },
  {
   "cell_type": "code",
   "execution_count": 34,
   "metadata": {},
   "outputs": [],
   "source": [
    "# TODO: Save the data contained in new_XV locally in the data_dir with the file name new_data.csv\n",
    "\n",
    "# Solution:\n",
    "pd.DataFrame(new_XV).to_csv(os.path.join(data_dir, 'new_data.csv'), header=False, index=False)"
   ]
  },
  {
   "cell_type": "markdown",
   "metadata": {},
   "source": [
    "Next, we upload the data to S3.\n",
    "\n",
    "**TODO:** Upload the csv file created above to S3."
   ]
  },
  {
   "cell_type": "code",
   "execution_count": 35,
   "metadata": {},
   "outputs": [],
   "source": [
    "# TODO: Upload the new_data.csv file contained in the data_dir folder to S3 and save the resulting\n",
    "#       URI as new_data_location\n",
    "\n",
    "# new_data_location = None\n",
    "\n",
    "# Solution:\n",
    "new_data_location = session.upload_data(os.path.join(data_dir, 'new_data.csv'), key_prefix=prefix)"
   ]
  },
  {
   "cell_type": "markdown",
   "metadata": {},
   "source": [
    "Then, once the new data has been uploaded to S3, we create and run the batch transform job to get our model's predictions about the sentiment of the new movie reviews.\n",
    "\n",
    "**TODO:** Using the `xgb_transformer` object that was created earlier (at the end of Step 4 to test the XGBoost model), transform the data located at `new_data_location`."
   ]
  },
  {
   "cell_type": "code",
   "execution_count": 36,
   "metadata": {},
   "outputs": [
    {
     "name": "stdout",
     "output_type": "stream",
     "text": [
      ".....................\u001b[34mArguments: serve\u001b[0m\n",
      "\u001b[34m[2020-01-29 05:57:38 +0000] [1] [INFO] Starting gunicorn 19.7.1\u001b[0m\n",
      "\u001b[34m[2020-01-29 05:57:38 +0000] [1] [INFO] Listening at: http://0.0.0.0:8080 (1)\u001b[0m\n",
      "\u001b[34m[2020-01-29 05:57:38 +0000] [1] [INFO] Using worker: gevent\u001b[0m\n",
      "\u001b[34m[2020-01-29 05:57:38 +0000] [38] [INFO] Booting worker with pid: 38\u001b[0m\n",
      "\u001b[34m[2020-01-29 05:57:38 +0000] [39] [INFO] Booting worker with pid: 39\u001b[0m\n",
      "\u001b[34m[2020-01-29 05:57:38 +0000] [40] [INFO] Booting worker with pid: 40\u001b[0m\n",
      "\u001b[34m[2020-01-29:05:57:38:INFO] Model loaded successfully for worker : 38\u001b[0m\n",
      "\u001b[34m[2020-01-29:05:57:38:INFO] Model loaded successfully for worker : 39\u001b[0m\n",
      "\u001b[34m[2020-01-29 05:57:38 +0000] [41] [INFO] Booting worker with pid: 41\u001b[0m\n",
      "\u001b[34m[2020-01-29:05:57:38:INFO] Model loaded successfully for worker : 40\u001b[0m\n",
      "\u001b[34m[2020-01-29:05:57:38:INFO] Model loaded successfully for worker : 41\u001b[0m\n",
      "\u001b[34m[2020-01-29:05:58:11:INFO] Sniff delimiter as ','\u001b[0m\n",
      "\u001b[34m[2020-01-29:05:58:11:INFO] Determined delimiter of CSV input is ','\u001b[0m\n",
      "\u001b[34m[2020-01-29:05:58:11:INFO] Sniff delimiter as ','\u001b[0m\n",
      "\u001b[34m[2020-01-29:05:58:11:INFO] Determined delimiter of CSV input is ','\u001b[0m\n",
      "\u001b[35m[2020-01-29:05:58:11:INFO] Sniff delimiter as ','\u001b[0m\n",
      "\u001b[35m[2020-01-29:05:58:11:INFO] Determined delimiter of CSV input is ','\u001b[0m\n",
      "\u001b[35m[2020-01-29:05:58:11:INFO] Sniff delimiter as ','\u001b[0m\n",
      "\u001b[35m[2020-01-29:05:58:11:INFO] Determined delimiter of CSV input is ','\u001b[0m\n",
      "\u001b[34m[2020-01-29:05:58:11:INFO] Sniff delimiter as ','\u001b[0m\n",
      "\u001b[34m[2020-01-29:05:58:11:INFO] Determined delimiter of CSV input is ','\u001b[0m\n",
      "\u001b[34m[2020-01-29:05:58:11:INFO] Sniff delimiter as ','\u001b[0m\n",
      "\u001b[34m[2020-01-29:05:58:11:INFO] Determined delimiter of CSV input is ','\u001b[0m\n",
      "\u001b[35m[2020-01-29:05:58:11:INFO] Sniff delimiter as ','\u001b[0m\n",
      "\u001b[35m[2020-01-29:05:58:11:INFO] Determined delimiter of CSV input is ','\u001b[0m\n",
      "\u001b[35m[2020-01-29:05:58:11:INFO] Sniff delimiter as ','\u001b[0m\n",
      "\u001b[35m[2020-01-29:05:58:11:INFO] Determined delimiter of CSV input is ','\u001b[0m\n",
      "\u001b[32m2020-01-29T05:58:08.849:[sagemaker logs]: MaxConcurrentTransforms=4, MaxPayloadInMB=6, BatchStrategy=MULTI_RECORD\u001b[0m\n",
      "\u001b[34m[2020-01-29:05:58:14:INFO] Sniff delimiter as ','\u001b[0m\n",
      "\u001b[34m[2020-01-29:05:58:14:INFO] Determined delimiter of CSV input is ','\u001b[0m\n",
      "\u001b[34m[2020-01-29:05:58:14:INFO] Sniff delimiter as ','\u001b[0m\n",
      "\u001b[34m[2020-01-29:05:58:14:INFO] Determined delimiter of CSV input is ','\u001b[0m\n",
      "\u001b[34m[2020-01-29:05:58:14:INFO] Sniff delimiter as ','\u001b[0m\n",
      "\u001b[34m[2020-01-29:05:58:14:INFO] Determined delimiter of CSV input is ','\u001b[0m\n",
      "\u001b[35m[2020-01-29:05:58:14:INFO] Sniff delimiter as ','\u001b[0m\n",
      "\u001b[35m[2020-01-29:05:58:14:INFO] Determined delimiter of CSV input is ','\u001b[0m\n",
      "\u001b[35m[2020-01-29:05:58:14:INFO] Sniff delimiter as ','\u001b[0m\n",
      "\u001b[35m[2020-01-29:05:58:14:INFO] Determined delimiter of CSV input is ','\u001b[0m\n",
      "\u001b[35m[2020-01-29:05:58:14:INFO] Sniff delimiter as ','\u001b[0m\n",
      "\u001b[35m[2020-01-29:05:58:14:INFO] Determined delimiter of CSV input is ','\u001b[0m\n",
      "\u001b[34m[2020-01-29:05:58:14:INFO] Sniff delimiter as ','\u001b[0m\n",
      "\u001b[34m[2020-01-29:05:58:14:INFO] Determined delimiter of CSV input is ','\u001b[0m\n",
      "\u001b[35m[2020-01-29:05:58:14:INFO] Sniff delimiter as ','\u001b[0m\n",
      "\u001b[35m[2020-01-29:05:58:14:INFO] Determined delimiter of CSV input is ','\u001b[0m\n",
      "\u001b[34m[2020-01-29:05:58:16:INFO] Sniff delimiter as ','\u001b[0m\n",
      "\u001b[34m[2020-01-29:05:58:16:INFO] Determined delimiter of CSV input is ','\u001b[0m\n",
      "\u001b[34m[2020-01-29:05:58:16:INFO] Sniff delimiter as ','\u001b[0m\n",
      "\u001b[34m[2020-01-29:05:58:16:INFO] Determined delimiter of CSV input is ','\u001b[0m\n",
      "\u001b[35m[2020-01-29:05:58:16:INFO] Sniff delimiter as ','\u001b[0m\n",
      "\u001b[35m[2020-01-29:05:58:16:INFO] Determined delimiter of CSV input is ','\u001b[0m\n",
      "\u001b[35m[2020-01-29:05:58:16:INFO] Sniff delimiter as ','\u001b[0m\n",
      "\u001b[35m[2020-01-29:05:58:16:INFO] Determined delimiter of CSV input is ','\u001b[0m\n",
      "\u001b[34m[2020-01-29:05:58:16:INFO] Sniff delimiter as ','\u001b[0m\n",
      "\u001b[34m[2020-01-29:05:58:16:INFO] Determined delimiter of CSV input is ','\u001b[0m\n",
      "\u001b[34m[2020-01-29:05:58:17:INFO] Sniff delimiter as ','\u001b[0m\n",
      "\u001b[34m[2020-01-29:05:58:17:INFO] Determined delimiter of CSV input is ','\u001b[0m\n",
      "\u001b[35m[2020-01-29:05:58:16:INFO] Sniff delimiter as ','\u001b[0m\n",
      "\u001b[35m[2020-01-29:05:58:16:INFO] Determined delimiter of CSV input is ','\u001b[0m\n",
      "\u001b[35m[2020-01-29:05:58:17:INFO] Sniff delimiter as ','\u001b[0m\n",
      "\u001b[35m[2020-01-29:05:58:17:INFO] Determined delimiter of CSV input is ','\u001b[0m\n",
      "\u001b[34m[2020-01-29:05:58:19:INFO] Sniff delimiter as ','\u001b[0m\n",
      "\u001b[34m[2020-01-29:05:58:19:INFO] Determined delimiter of CSV input is ','\u001b[0m\n",
      "\u001b[34m[2020-01-29:05:58:19:INFO] Sniff delimiter as ','\u001b[0m\n",
      "\u001b[34m[2020-01-29:05:58:19:INFO] Determined delimiter of CSV input is ','\u001b[0m\n",
      "\u001b[34m[2020-01-29:05:58:19:INFO] Sniff delimiter as ','\u001b[0m\n",
      "\u001b[34m[2020-01-29:05:58:19:INFO] Determined delimiter of CSV input is ','\u001b[0m\n",
      "\u001b[34m[2020-01-29:05:58:19:INFO] Sniff delimiter as ','\u001b[0m\n",
      "\u001b[34m[2020-01-29:05:58:19:INFO] Determined delimiter of CSV input is ','\u001b[0m\n",
      "\u001b[35m[2020-01-29:05:58:19:INFO] Sniff delimiter as ','\u001b[0m\n",
      "\u001b[35m[2020-01-29:05:58:19:INFO] Determined delimiter of CSV input is ','\u001b[0m\n",
      "\u001b[35m[2020-01-29:05:58:19:INFO] Sniff delimiter as ','\u001b[0m\n",
      "\u001b[35m[2020-01-29:05:58:19:INFO] Determined delimiter of CSV input is ','\u001b[0m\n",
      "\u001b[35m[2020-01-29:05:58:19:INFO] Sniff delimiter as ','\u001b[0m\n",
      "\u001b[35m[2020-01-29:05:58:19:INFO] Determined delimiter of CSV input is ','\u001b[0m\n",
      "\u001b[35m[2020-01-29:05:58:19:INFO] Sniff delimiter as ','\u001b[0m\n",
      "\u001b[35m[2020-01-29:05:58:19:INFO] Determined delimiter of CSV input is ','\u001b[0m\n",
      "\u001b[34m[2020-01-29:05:58:23:INFO] Sniff delimiter as ','\u001b[0m\n",
      "\u001b[34m[2020-01-29:05:58:23:INFO] Determined delimiter of CSV input is ','\u001b[0m\n",
      "\u001b[34m[2020-01-29:05:58:24:INFO] Sniff delimiter as ','\u001b[0m\n",
      "\u001b[34m[2020-01-29:05:58:24:INFO] Determined delimiter of CSV input is ','\u001b[0m\n",
      "\u001b[34m[2020-01-29:05:58:24:INFO] Sniff delimiter as ','\u001b[0m\n",
      "\u001b[34m[2020-01-29:05:58:24:INFO] Determined delimiter of CSV input is ','\u001b[0m\n",
      "\u001b[34m[2020-01-29:05:58:24:INFO] Sniff delimiter as ','\u001b[0m\n",
      "\u001b[34m[2020-01-29:05:58:24:INFO] Determined delimiter of CSV input is ','\u001b[0m\n",
      "\u001b[35m[2020-01-29:05:58:23:INFO] Sniff delimiter as ','\u001b[0m\n",
      "\u001b[35m[2020-01-29:05:58:23:INFO] Determined delimiter of CSV input is ','\u001b[0m\n",
      "\u001b[35m[2020-01-29:05:58:24:INFO] Sniff delimiter as ','\u001b[0m\n",
      "\u001b[35m[2020-01-29:05:58:24:INFO] Determined delimiter of CSV input is ','\u001b[0m\n",
      "\u001b[35m[2020-01-29:05:58:24:INFO] Sniff delimiter as ','\u001b[0m\n",
      "\u001b[35m[2020-01-29:05:58:24:INFO] Determined delimiter of CSV input is ','\u001b[0m\n",
      "\u001b[35m[2020-01-29:05:58:24:INFO] Sniff delimiter as ','\u001b[0m\n",
      "\u001b[35m[2020-01-29:05:58:24:INFO] Determined delimiter of CSV input is ','\u001b[0m\n",
      "\u001b[34m[2020-01-29:05:58:26:INFO] Sniff delimiter as ','\u001b[0m\n",
      "\u001b[34m[2020-01-29:05:58:26:INFO] Determined delimiter of CSV input is ','\u001b[0m\n",
      "\u001b[34m[2020-01-29:05:58:26:INFO] Sniff delimiter as ','\u001b[0m\n",
      "\u001b[34m[2020-01-29:05:58:26:INFO] Determined delimiter of CSV input is ','\u001b[0m\n",
      "\u001b[34m[2020-01-29:05:58:26:INFO] Sniff delimiter as ','\u001b[0m\n",
      "\u001b[34m[2020-01-29:05:58:26:INFO] Determined delimiter of CSV input is ','\u001b[0m\n",
      "\u001b[35m[2020-01-29:05:58:26:INFO] Sniff delimiter as ','\u001b[0m\n",
      "\u001b[35m[2020-01-29:05:58:26:INFO] Determined delimiter of CSV input is ','\u001b[0m\n",
      "\u001b[35m[2020-01-29:05:58:26:INFO] Sniff delimiter as ','\u001b[0m\n",
      "\u001b[35m[2020-01-29:05:58:26:INFO] Determined delimiter of CSV input is ','\u001b[0m\n",
      "\u001b[35m[2020-01-29:05:58:26:INFO] Sniff delimiter as ','\u001b[0m\n",
      "\u001b[35m[2020-01-29:05:58:26:INFO] Determined delimiter of CSV input is ','\u001b[0m\n",
      "\u001b[34m[2020-01-29:05:58:26:INFO] Sniff delimiter as ','\u001b[0m\n",
      "\u001b[34m[2020-01-29:05:58:26:INFO] Determined delimiter of CSV input is ','\u001b[0m\n",
      "\u001b[35m[2020-01-29:05:58:26:INFO] Sniff delimiter as ','\u001b[0m\n",
      "\u001b[35m[2020-01-29:05:58:26:INFO] Determined delimiter of CSV input is ','\u001b[0m\n",
      "\u001b[34m[2020-01-29:05:58:28:INFO] Sniff delimiter as ','\u001b[0m\n",
      "\u001b[34m[2020-01-29:05:58:28:INFO] Determined delimiter of CSV input is ','\u001b[0m\n",
      "\u001b[35m[2020-01-29:05:58:28:INFO] Sniff delimiter as ','\u001b[0m\n",
      "\u001b[35m[2020-01-29:05:58:28:INFO] Determined delimiter of CSV input is ','\u001b[0m\n",
      "\u001b[34m[2020-01-29:05:58:28:INFO] Sniff delimiter as ','\u001b[0m\n",
      "\u001b[34m[2020-01-29:05:58:28:INFO] Determined delimiter of CSV input is ','\u001b[0m\n",
      "\u001b[34m[2020-01-29:05:58:28:INFO] Sniff delimiter as ','\u001b[0m\n",
      "\u001b[34m[2020-01-29:05:58:28:INFO] Determined delimiter of CSV input is ','\u001b[0m\n",
      "\u001b[34m[2020-01-29:05:58:29:INFO] Sniff delimiter as ','\u001b[0m\n",
      "\u001b[34m[2020-01-29:05:58:29:INFO] Determined delimiter of CSV input is ','\u001b[0m\n",
      "\u001b[35m[2020-01-29:05:58:28:INFO] Sniff delimiter as ','\u001b[0m\n",
      "\u001b[35m[2020-01-29:05:58:28:INFO] Determined delimiter of CSV input is ','\u001b[0m\n",
      "\u001b[35m[2020-01-29:05:58:28:INFO] Sniff delimiter as ','\u001b[0m\n",
      "\u001b[35m[2020-01-29:05:58:28:INFO] Determined delimiter of CSV input is ','\u001b[0m\n",
      "\u001b[35m[2020-01-29:05:58:29:INFO] Sniff delimiter as ','\u001b[0m\n",
      "\u001b[35m[2020-01-29:05:58:29:INFO] Determined delimiter of CSV input is ','\u001b[0m\n"
     ]
    },
    {
     "name": "stdout",
     "output_type": "stream",
     "text": [
      "\n",
      "\u001b[34m[2020-01-29:05:58:31:INFO] Sniff delimiter as ','\u001b[0m\n",
      "\u001b[34m[2020-01-29:05:58:31:INFO] Determined delimiter of CSV input is ','\u001b[0m\n",
      "\u001b[35m[2020-01-29:05:58:31:INFO] Sniff delimiter as ','\u001b[0m\n",
      "\u001b[35m[2020-01-29:05:58:31:INFO] Determined delimiter of CSV input is ','\u001b[0m\n",
      "\u001b[34m[2020-01-29:05:58:33:INFO] Sniff delimiter as ','\u001b[0m\n",
      "\u001b[34m[2020-01-29:05:58:33:INFO] Determined delimiter of CSV input is ','\u001b[0m\n",
      "\u001b[34m[2020-01-29:05:58:33:INFO] Sniff delimiter as ','\u001b[0m\n",
      "\u001b[35m[2020-01-29:05:58:33:INFO] Sniff delimiter as ','\u001b[0m\n",
      "\u001b[35m[2020-01-29:05:58:33:INFO] Determined delimiter of CSV input is ','\u001b[0m\n",
      "\u001b[35m[2020-01-29:05:58:33:INFO] Sniff delimiter as ','\u001b[0m\n",
      "\u001b[34m[2020-01-29:05:58:33:INFO] Determined delimiter of CSV input is ','\u001b[0m\n",
      "\u001b[35m[2020-01-29:05:58:33:INFO] Determined delimiter of CSV input is ','\u001b[0m\n",
      "\u001b[34m[2020-01-29:05:58:33:INFO] Sniff delimiter as ','\u001b[0m\n",
      "\u001b[34m[2020-01-29:05:58:33:INFO] Determined delimiter of CSV input is ','\u001b[0m\n",
      "\u001b[34m[2020-01-29:05:58:34:INFO] Sniff delimiter as ','\u001b[0m\n",
      "\u001b[34m[2020-01-29:05:58:34:INFO] Determined delimiter of CSV input is ','\u001b[0m\n",
      "\u001b[35m[2020-01-29:05:58:33:INFO] Sniff delimiter as ','\u001b[0m\n",
      "\u001b[35m[2020-01-29:05:58:33:INFO] Determined delimiter of CSV input is ','\u001b[0m\n",
      "\u001b[35m[2020-01-29:05:58:34:INFO] Sniff delimiter as ','\u001b[0m\n",
      "\u001b[35m[2020-01-29:05:58:34:INFO] Determined delimiter of CSV input is ','\u001b[0m\n"
     ]
    }
   ],
   "source": [
    "# TODO: Using xgb_transformer, transform the new_data_location data. You may wish to **wait** until\n",
    "#       the batch transform job has finished.\n",
    "\n",
    "# Solution:\n",
    "xgb_transformer.transform(new_data_location, content_type='text/csv', split_type='Line')\n",
    "xgb_transformer.wait()"
   ]
  },
  {
   "cell_type": "markdown",
   "metadata": {},
   "source": [
    "As usual, we copy the results of the batch transform job to our local instance."
   ]
  },
  {
   "cell_type": "code",
   "execution_count": 37,
   "metadata": {},
   "outputs": [
    {
     "name": "stdout",
     "output_type": "stream",
     "text": [
      "Completed 256.0 KiB/370.0 KiB (3.3 MiB/s) with 1 file(s) remaining\r",
      "Completed 370.0 KiB/370.0 KiB (4.7 MiB/s) with 1 file(s) remaining\r",
      "download: s3://sagemaker-us-east-1-174814400447/xgboost-2020-01-29-05-54-14-967/new_data.csv.out to ../data/sentiment_update/new_data.csv.out\r\n"
     ]
    }
   ],
   "source": [
    "!aws s3 cp --recursive $xgb_transformer.output_path $data_dir"
   ]
  },
  {
   "cell_type": "markdown",
   "metadata": {},
   "source": [
    "Read in the results of the batch transform job."
   ]
  },
  {
   "cell_type": "code",
   "execution_count": 38,
   "metadata": {},
   "outputs": [],
   "source": [
    "predictions = pd.read_csv(os.path.join(data_dir, 'new_data.csv.out'), header=None)\n",
    "predictions = [round(num) for num in predictions.squeeze().values]"
   ]
  },
  {
   "cell_type": "markdown",
   "metadata": {},
   "source": [
    "And check the accuracy of our current model."
   ]
  },
  {
   "cell_type": "code",
   "execution_count": 39,
   "metadata": {},
   "outputs": [
    {
     "data": {
      "text/plain": [
       "0.73088"
      ]
     },
     "execution_count": 39,
     "metadata": {},
     "output_type": "execute_result"
    }
   ],
   "source": [
    "accuracy_score(new_Y, predictions)"
   ]
  },
  {
   "cell_type": "markdown",
   "metadata": {},
   "source": [
    "So it would appear that *something* has changed since our model is no longer (as) effective at determining the sentiment of a user provided review.\n",
    "\n",
    "In a real life scenario you would check a number of different things to see what exactly is going on. In our case, we are only going to check one and that is whether some aspect of the underlying distribution has changed. In other words, we want to see if the words that appear in our new collection of reviews matches the words that appear in the original training set. Of course, we want to narrow our scope a little bit so we will only look at the `5000` most frequently appearing words in each data set, or in other words, the vocabulary generated by each data set.\n",
    "\n",
    "Before doing that, however, let's take a look at some of the incorrectly classified reviews in the new data set.\n",
    "\n",
    "To start, we will deploy the original XGBoost model. We will then use the deployed model to infer the sentiment of some of the new reviews. This will also serve as a nice excuse to deploy our model so that we can mimic a real life scenario where we have a model that has been deployed and is being used in production.\n",
    "\n",
    "**TODO:** Deploy the XGBoost model."
   ]
  },
  {
   "cell_type": "code",
   "execution_count": 40,
   "metadata": {},
   "outputs": [
    {
     "name": "stderr",
     "output_type": "stream",
     "text": [
      "WARNING:sagemaker:Using already existing model: xgboost-2020-01-29-05-40-22-135\n"
     ]
    },
    {
     "name": "stdout",
     "output_type": "stream",
     "text": [
      "-------------------!"
     ]
    }
   ],
   "source": [
    "# TODO: Deploy the model that was created earlier. Recall that the object name is 'xgb'.\n",
    "# xgb_predictor = None\n",
    "\n",
    "# Solution:\n",
    "xgb_predictor = xgb.deploy(initial_instance_count = 1, instance_type = 'ml.m4.xlarge')"
   ]
  },
  {
   "cell_type": "markdown",
   "metadata": {},
   "source": [
    "### Diagnose the problem\n",
    "\n",
    "Now that we have our deployed \"production\" model, we can send some of our new data to it and filter out some of the incorrectly classified reviews."
   ]
  },
  {
   "cell_type": "code",
   "execution_count": 41,
   "metadata": {},
   "outputs": [],
   "source": [
    "from sagemaker.predictor import csv_serializer\n",
    "\n",
    "# We need to tell the endpoint what format the data we are sending is in so that SageMaker can perform the serialization.\n",
    "xgb_predictor.content_type = 'text/csv'\n",
    "xgb_predictor.serializer = csv_serializer"
   ]
  },
  {
   "cell_type": "markdown",
   "metadata": {},
   "source": [
    "It will be useful to look at a few different examples of incorrectly classified reviews so we will start by creating a *generator* which we will use to iterate through some of the new reviews and find ones that are incorrect.\n",
    "\n",
    "**NOTE:** Understanding what Python generators are isn't really required for this module. The reason we use them here is so that we don't have to iterate through all of the new reviews, searching for incorrectly classified samples."
   ]
  },
  {
   "cell_type": "code",
   "execution_count": 42,
   "metadata": {},
   "outputs": [],
   "source": [
    "def get_sample(in_X, in_XV, in_Y):\n",
    "    for idx, smp in enumerate(in_X):\n",
    "        res = round(float(xgb_predictor.predict(in_XV[idx])))\n",
    "        if res != in_Y[idx]:\n",
    "            yield smp, in_Y[idx]"
   ]
  },
  {
   "cell_type": "code",
   "execution_count": 43,
   "metadata": {},
   "outputs": [],
   "source": [
    "gn = get_sample(new_X, new_XV, new_Y)"
   ]
  },
  {
   "cell_type": "markdown",
   "metadata": {},
   "source": [
    "At this point, `gn` is the *generator* which generates samples from the new data set which are not classified correctly. To get the *next* sample we simply call the `next` method on our generator."
   ]
  },
  {
   "cell_type": "code",
   "execution_count": 44,
   "metadata": {},
   "outputs": [
    {
     "name": "stdout",
     "output_type": "stream",
     "text": [
      "(['stori', 'similar', 'et', 'extraterrestri', 'run', 'around', 'earth', 'tri', 'come', 'back', 'home', 'stay', 'planet', 'creat', 'friendli', 'tie', 'human', 'unlik', 'et', 'exud', 'drama', 'comedi', 'poetri', 'movi', 'fun', 'inde', 'pure', 'dysney', 'product', 'core', 'audienc', 'children', 'movi', 'visual', 'messag', 'thu', 'find', 'funni', 'scene', 'first', 'sight', 'town', 'cosmic', 'stray', 'toaster', 'cast', 'experi', 'special', 'mention', 'doc', 'rejuven', 'mac', 'fli', 'charact', 'hurley', 'seem', 'open', 'auto', 'deris', 'ice', 'cake', 'main', 'titl', 'score', 'danni', 'elfman', 'like', 'everi', 'great', 'compos', 'recogn', 'voic', 'even', 'credit'], 0)\n"
     ]
    }
   ],
   "source": [
    "print(next(gn))"
   ]
  },
  {
   "cell_type": "markdown",
   "metadata": {},
   "source": [
    "After looking at a few examples, maybe we decide to look at the most frequently appearing `5000` words in each data set, the original training data set and the new data set. The reason for looking at this might be that we expect the frequency of use of different words to have changed, maybe there is some new slang that has been introduced or some other artifact of popular culture that has changed the way that people write movie reviews.\n",
    "\n",
    "To do this, we start by fitting a `CountVectorizer` to the new data."
   ]
  },
  {
   "cell_type": "code",
   "execution_count": 45,
   "metadata": {},
   "outputs": [
    {
     "data": {
      "text/plain": [
       "CountVectorizer(analyzer='word', binary=False, decode_error='strict',\n",
       "        dtype=<class 'numpy.int64'>, encoding='utf-8', input='content',\n",
       "        lowercase=True, max_df=1.0, max_features=5000, min_df=1,\n",
       "        ngram_range=(1, 1),\n",
       "        preprocessor=<function <lambda> at 0x7ff8a88bc1e0>,\n",
       "        stop_words=None, strip_accents=None,\n",
       "        token_pattern='(?u)\\\\b\\\\w\\\\w+\\\\b',\n",
       "        tokenizer=<function <lambda> at 0x7ff8a88bc268>, vocabulary=None)"
      ]
     },
     "execution_count": 45,
     "metadata": {},
     "output_type": "execute_result"
    }
   ],
   "source": [
    "new_vectorizer = CountVectorizer(max_features=5000,\n",
    "                preprocessor=lambda x: x, tokenizer=lambda x: x)\n",
    "new_vectorizer.fit(new_X)"
   ]
  },
  {
   "cell_type": "markdown",
   "metadata": {},
   "source": [
    "Now that we have this new `CountVectorizor` object, we can check to see if the corresponding vocabulary has changed between the two data sets."
   ]
  },
  {
   "cell_type": "code",
   "execution_count": 46,
   "metadata": {},
   "outputs": [],
   "source": [
    "original_vocabulary = set(vocabulary.keys())\n",
    "new_vocabulary = set(new_vectorizer.vocabulary_.keys())"
   ]
  },
  {
   "cell_type": "markdown",
   "metadata": {},
   "source": [
    "We can look at the words that were in the original vocabulary but not in the new vocabulary."
   ]
  },
  {
   "cell_type": "code",
   "execution_count": 47,
   "metadata": {},
   "outputs": [
    {
     "name": "stdout",
     "output_type": "stream",
     "text": [
      "{'victorian', '21st', 'weari', 'reincarn', 'spill', 'playboy', 'ghetto'}\n"
     ]
    }
   ],
   "source": [
    "print(original_vocabulary - new_vocabulary)"
   ]
  },
  {
   "cell_type": "markdown",
   "metadata": {},
   "source": [
    "And similarly, we can look at the words that are in the new vocabulary but which were not in the original vocabulary."
   ]
  },
  {
   "cell_type": "code",
   "execution_count": 48,
   "metadata": {},
   "outputs": [
    {
     "name": "stdout",
     "output_type": "stream",
     "text": [
      "{'sophi', 'orchestr', 'banana', 'dubiou', 'optimist', 'masterson', 'omin'}\n"
     ]
    }
   ],
   "source": [
    "print(new_vocabulary - original_vocabulary)"
   ]
  },
  {
   "cell_type": "markdown",
   "metadata": {},
   "source": [
    "These words themselves don't tell us much, however if one of these words occured with a large frequency, that might tell us something. In particular, we wouldn't really expect any of the words above to appear with too much frequency.\n",
    "\n",
    "**Question** What exactly is going on here. Not only what (if any) words appear with a larger than expected frequency but also, what does this mean? What has changed about the world that our original model no longer takes into account?\n",
    "\n",
    "**NOTE:** This is meant to be a very open ended question. To investigate you may need more cells than the one provided below. Also, there isn't really a *correct* answer, this is meant to be an opportunity to explore the data."
   ]
  },
  {
   "cell_type": "code",
   "execution_count": null,
   "metadata": {},
   "outputs": [],
   "source": []
  },
  {
   "cell_type": "markdown",
   "metadata": {},
   "source": [
    "### (TODO) Build a new model\n",
    "\n",
    "Supposing that we believe something has changed about the underlying distribution of the words that our reviews are made up of, we need to create a new model. This way our new model will take into account whatever it is that has changed.\n",
    "\n",
    "To begin with, we will use the new vocabulary to create a bag of words encoding of the new data. We will then use this data to train a new XGBoost model.\n",
    "\n",
    "**NOTE:** Because we believe that the underlying distribution of words has changed it should follow that the original vocabulary that we used to construct a bag of words encoding of the reviews is no longer valid. This means that we need to be careful with our data. If we send an bag of words encoded review using the *original* vocabulary we should not expect any sort of meaningful results.\n",
    "\n",
    "In particular, this means that if we had deployed our XGBoost model like we did in the Web App notebook then we would need to implement this vocabulary change in the Lambda function as well."
   ]
  },
  {
   "cell_type": "code",
   "execution_count": 49,
   "metadata": {},
   "outputs": [],
   "source": [
    "new_XV = new_vectorizer.transform(new_X).toarray()"
   ]
  },
  {
   "cell_type": "markdown",
   "metadata": {},
   "source": [
    "And a quick check to make sure that the newly encoded reviews have the correct length, which should be the size of the new vocabulary which we created."
   ]
  },
  {
   "cell_type": "code",
   "execution_count": 50,
   "metadata": {},
   "outputs": [
    {
     "data": {
      "text/plain": [
       "5000"
      ]
     },
     "execution_count": 50,
     "metadata": {},
     "output_type": "execute_result"
    }
   ],
   "source": [
    "len(new_XV[0])"
   ]
  },
  {
   "cell_type": "markdown",
   "metadata": {},
   "source": [
    "Now that we have our newly encoded, newly collected data, we can split it up into a training and validation set so that we can train a new XGBoost model. As usual, we first split up the data, then save it locally and then upload it to S3."
   ]
  },
  {
   "cell_type": "code",
   "execution_count": 51,
   "metadata": {},
   "outputs": [],
   "source": [
    "import pandas as pd\n",
    "\n",
    "# Earlier we shuffled the training dataset so to make things simple we can just assign\n",
    "# the first 10 000 reviews to the validation set and use the remaining reviews for training.\n",
    "new_val_X = pd.DataFrame(new_XV[:10000])\n",
    "new_train_X = pd.DataFrame(new_XV[10000:])\n",
    "\n",
    "new_val_y = pd.DataFrame(new_Y[:10000])\n",
    "new_train_y = pd.DataFrame(new_Y[10000:])"
   ]
  },
  {
   "cell_type": "markdown",
   "metadata": {},
   "source": [
    "In order to save some memory we will effectively delete the `new_X` variable. Remember that this contained a list of reviews and each review was a list of words. Note that once this cell has been executed you will need to read the new data in again if you want to work with it."
   ]
  },
  {
   "cell_type": "code",
   "execution_count": 52,
   "metadata": {},
   "outputs": [],
   "source": [
    "new_X = None"
   ]
  },
  {
   "cell_type": "markdown",
   "metadata": {},
   "source": [
    "Next we save the new training and validation sets locally. Note that we overwrite the training and validation sets used earlier. This is mostly because the amount of space that we have available on our notebook instance is limited. Of course, you can increase this if you'd like but to do so may increase the cost of running the notebook instance."
   ]
  },
  {
   "cell_type": "code",
   "execution_count": 53,
   "metadata": {},
   "outputs": [],
   "source": [
    "pd.DataFrame(new_XV).to_csv(os.path.join(data_dir, 'new_data.csv'), header=False, index=False)\n",
    "\n",
    "pd.concat([new_val_y, new_val_X], axis=1).to_csv(os.path.join(data_dir, 'new_validation.csv'), header=False, index=False)\n",
    "pd.concat([new_train_y, new_train_X], axis=1).to_csv(os.path.join(data_dir, 'new_train.csv'), header=False, index=False)"
   ]
  },
  {
   "cell_type": "markdown",
   "metadata": {},
   "source": [
    "Now that we've saved our data to the local instance, we can safely delete the variables to save on memory."
   ]
  },
  {
   "cell_type": "code",
   "execution_count": 54,
   "metadata": {},
   "outputs": [],
   "source": [
    "new_val_y = new_val_X = new_train_y = new_train_X = new_XV = None"
   ]
  },
  {
   "cell_type": "markdown",
   "metadata": {},
   "source": [
    "Lastly, we make sure to upload the new training and validation sets to S3.\n",
    "\n",
    "**TODO:** Upload the new data as well as the new training and validation data sets to S3."
   ]
  },
  {
   "cell_type": "code",
   "execution_count": 55,
   "metadata": {},
   "outputs": [],
   "source": [
    "# TODO: Upload the new data and the new validation.csv and train.csv files in the data_dir directory to S3.\n",
    "# new_data_location = None\n",
    "# new_val_location = None\n",
    "# new_train_location = None\n",
    "\n",
    "# Solution:\n",
    "new_data_location = session.upload_data(os.path.join(data_dir, 'new_data.csv'), key_prefix=prefix)\n",
    "new_val_location = session.upload_data(os.path.join(data_dir, 'new_validation.csv'), key_prefix=prefix)\n",
    "new_train_location = session.upload_data(os.path.join(data_dir, 'new_train.csv'), key_prefix=prefix)"
   ]
  },
  {
   "cell_type": "markdown",
   "metadata": {},
   "source": [
    "Once our new training data has been uploaded to S3, we can create a new XGBoost model that will take into account the changes that have occured in our data set.\n",
    "\n",
    "**TODO:** Create a new XGBoost estimator object."
   ]
  },
  {
   "cell_type": "code",
   "execution_count": 56,
   "metadata": {},
   "outputs": [],
   "source": [
    "# TODO: First, create a SageMaker estimator object for our model.\n",
    "# new_xgb = None\n",
    "\n",
    "# Solution:\n",
    "new_xgb = sagemaker.estimator.Estimator(container, # The location of the container we wish to use\n",
    "                                    role,                                    # What is our current IAM Role\n",
    "                                    train_instance_count=1,                  # How many compute instances\n",
    "                                    train_instance_type='ml.m4.xlarge',      # What kind of compute instances\n",
    "                                    output_path='s3://{}/{}/output'.format(session.default_bucket(), prefix),\n",
    "                                    sagemaker_session=session)\n",
    "\n",
    "# TODO: Then set the algorithm specific parameters. You may wish to use the same parameters that were\n",
    "#       used when training the original model.\n",
    "\n",
    "# Solution:\n",
    "new_xgb.set_hyperparameters(max_depth=5,\n",
    "                        eta=0.2,\n",
    "                        gamma=4,\n",
    "                        min_child_weight=6,\n",
    "                        subsample=0.8,\n",
    "                        silent=0,\n",
    "                        objective='binary:logistic',\n",
    "                        early_stopping_rounds=10,\n",
    "                        num_round=500)"
   ]
  },
  {
   "cell_type": "markdown",
   "metadata": {},
   "source": [
    "Once the model has been created, we can train it with our new data.\n",
    "\n",
    "**TODO:** Train the new XGBoost model."
   ]
  },
  {
   "cell_type": "code",
   "execution_count": 57,
   "metadata": {},
   "outputs": [],
   "source": [
    "# TODO: First, make sure that you create s3 input objects so that SageMaker knows where to\n",
    "#       find the training and validation data.\n",
    "s3_new_input_train = None\n",
    "s3_new_input_validation = None\n",
    "\n",
    "# Solution:\n",
    "s3_new_input_train = sagemaker.s3_input(s3_data=new_train_location, content_type='csv')\n",
    "s3_new_input_validation = sagemaker.s3_input(s3_data=new_val_location, content_type='csv')"
   ]
  },
  {
   "cell_type": "code",
   "execution_count": 58,
   "metadata": {},
   "outputs": [
    {
     "name": "stdout",
     "output_type": "stream",
     "text": [
      "2020-01-29 06:13:25 Starting - Starting the training job...\n",
      "2020-01-29 06:13:26 Starting - Launching requested ML instances......\n",
      "2020-01-29 06:14:36 Starting - Preparing the instances for training......\n",
      "2020-01-29 06:15:43 Downloading - Downloading input data...\n",
      "2020-01-29 06:16:14 Training - Downloading the training image..\u001b[34mArguments: train\u001b[0m\n",
      "\u001b[34m[2020-01-29:06:16:34:INFO] Running standalone xgboost training.\u001b[0m\n",
      "\u001b[34m[2020-01-29:06:16:34:INFO] File size need to be processed in the node: 238.47mb. Available memory size in the node: 8518.23mb\u001b[0m\n",
      "\u001b[34m[2020-01-29:06:16:34:INFO] Determined delimiter of CSV input is ','\u001b[0m\n",
      "\u001b[34m[06:16:34] S3DistributionType set as FullyReplicated\u001b[0m\n",
      "\u001b[34m[06:16:36] 15000x5000 matrix with 75000000 entries loaded from /opt/ml/input/data/train?format=csv&label_column=0&delimiter=,\u001b[0m\n",
      "\u001b[34m[2020-01-29:06:16:36:INFO] Determined delimiter of CSV input is ','\u001b[0m\n",
      "\u001b[34m[06:16:36] S3DistributionType set as FullyReplicated\u001b[0m\n",
      "\u001b[34m[06:16:37] 10000x5000 matrix with 50000000 entries loaded from /opt/ml/input/data/validation?format=csv&label_column=0&delimiter=,\u001b[0m\n",
      "\n",
      "2020-01-29 06:16:34 Training - Training image download completed. Training in progress.\u001b[34m[06:16:41] src/tree/updater_prune.cc:74: tree pruning end, 1 roots, 44 extra nodes, 10 pruned nodes, max_depth=5\u001b[0m\n",
      "\u001b[34m[0]#011train-error:0.314067#011validation-error:0.3102\u001b[0m\n",
      "\u001b[34mMultiple eval metrics have been passed: 'validation-error' will be used for early stopping.\n",
      "\u001b[0m\n",
      "\u001b[34mWill train until validation-error hasn't improved in 10 rounds.\u001b[0m\n",
      "\u001b[34m[06:16:42] src/tree/updater_prune.cc:74: tree pruning end, 1 roots, 38 extra nodes, 12 pruned nodes, max_depth=5\u001b[0m\n",
      "\u001b[34m[1]#011train-error:0.298733#011validation-error:0.2968\u001b[0m\n",
      "\u001b[34m[06:16:44] src/tree/updater_prune.cc:74: tree pruning end, 1 roots, 34 extra nodes, 14 pruned nodes, max_depth=5\u001b[0m\n",
      "\u001b[34m[2]#011train-error:0.290067#011validation-error:0.2874\u001b[0m\n",
      "\u001b[34m[06:16:45] src/tree/updater_prune.cc:74: tree pruning end, 1 roots, 48 extra nodes, 6 pruned nodes, max_depth=5\u001b[0m\n",
      "\u001b[34m[3]#011train-error:0.268333#011validation-error:0.2662\u001b[0m\n",
      "\u001b[34m[06:16:46] src/tree/updater_prune.cc:74: tree pruning end, 1 roots, 36 extra nodes, 8 pruned nodes, max_depth=5\u001b[0m\n",
      "\u001b[34m[4]#011train-error:0.2674#011validation-error:0.2654\u001b[0m\n",
      "\u001b[34m[06:16:47] src/tree/updater_prune.cc:74: tree pruning end, 1 roots, 50 extra nodes, 0 pruned nodes, max_depth=5\u001b[0m\n",
      "\u001b[34m[5]#011train-error:0.2556#011validation-error:0.2584\u001b[0m\n",
      "\u001b[34m[06:16:49] src/tree/updater_prune.cc:74: tree pruning end, 1 roots, 40 extra nodes, 4 pruned nodes, max_depth=5\u001b[0m\n",
      "\u001b[34m[6]#011train-error:0.248#011validation-error:0.2554\u001b[0m\n",
      "\u001b[34m[06:16:50] src/tree/updater_prune.cc:74: tree pruning end, 1 roots, 38 extra nodes, 2 pruned nodes, max_depth=5\u001b[0m\n",
      "\u001b[34m[7]#011train-error:0.2478#011validation-error:0.2531\u001b[0m\n",
      "\u001b[34m[06:16:51] src/tree/updater_prune.cc:74: tree pruning end, 1 roots, 38 extra nodes, 2 pruned nodes, max_depth=5\u001b[0m\n",
      "\u001b[34m[8]#011train-error:0.2418#011validation-error:0.2468\u001b[0m\n",
      "\u001b[34m[06:16:52] src/tree/updater_prune.cc:74: tree pruning end, 1 roots, 30 extra nodes, 4 pruned nodes, max_depth=5\u001b[0m\n",
      "\u001b[34m[9]#011train-error:0.238867#011validation-error:0.243\u001b[0m\n",
      "\u001b[34m[06:16:54] src/tree/updater_prune.cc:74: tree pruning end, 1 roots, 26 extra nodes, 14 pruned nodes, max_depth=5\u001b[0m\n",
      "\u001b[34m[10]#011train-error:0.232133#011validation-error:0.2389\u001b[0m\n",
      "\u001b[34m[06:16:55] src/tree/updater_prune.cc:74: tree pruning end, 1 roots, 32 extra nodes, 6 pruned nodes, max_depth=5\u001b[0m\n",
      "\u001b[34m[11]#011train-error:0.224#011validation-error:0.2332\u001b[0m\n",
      "\u001b[34m[06:16:56] src/tree/updater_prune.cc:74: tree pruning end, 1 roots, 38 extra nodes, 8 pruned nodes, max_depth=5\u001b[0m\n",
      "\u001b[34m[12]#011train-error:0.2218#011validation-error:0.2276\u001b[0m\n",
      "\u001b[34m[06:16:58] src/tree/updater_prune.cc:74: tree pruning end, 1 roots, 34 extra nodes, 10 pruned nodes, max_depth=5\u001b[0m\n",
      "\u001b[34m[13]#011train-error:0.216067#011validation-error:0.2272\u001b[0m\n",
      "\u001b[34m[06:16:59] src/tree/updater_prune.cc:74: tree pruning end, 1 roots, 30 extra nodes, 10 pruned nodes, max_depth=5\u001b[0m\n",
      "\u001b[34m[14]#011train-error:0.211667#011validation-error:0.2234\u001b[0m\n",
      "\u001b[34m[06:17:00] src/tree/updater_prune.cc:74: tree pruning end, 1 roots, 38 extra nodes, 4 pruned nodes, max_depth=5\u001b[0m\n",
      "\u001b[34m[15]#011train-error:0.206667#011validation-error:0.2205\u001b[0m\n",
      "\u001b[34m[06:17:01] src/tree/updater_prune.cc:74: tree pruning end, 1 roots, 24 extra nodes, 16 pruned nodes, max_depth=5\u001b[0m\n",
      "\u001b[34m[16]#011train-error:0.203533#011validation-error:0.2173\u001b[0m\n",
      "\u001b[34m[06:17:03] src/tree/updater_prune.cc:74: tree pruning end, 1 roots, 34 extra nodes, 6 pruned nodes, max_depth=5\u001b[0m\n",
      "\u001b[34m[17]#011train-error:0.200867#011validation-error:0.2169\u001b[0m\n",
      "\u001b[34m[06:17:04] src/tree/updater_prune.cc:74: tree pruning end, 1 roots, 34 extra nodes, 10 pruned nodes, max_depth=5\u001b[0m\n",
      "\u001b[34m[18]#011train-error:0.1966#011validation-error:0.2153\u001b[0m\n",
      "\u001b[34m[06:17:05] src/tree/updater_prune.cc:74: tree pruning end, 1 roots, 26 extra nodes, 4 pruned nodes, max_depth=5\u001b[0m\n",
      "\u001b[34m[19]#011train-error:0.195267#011validation-error:0.2123\u001b[0m\n",
      "\u001b[34m[06:17:06] src/tree/updater_prune.cc:74: tree pruning end, 1 roots, 40 extra nodes, 10 pruned nodes, max_depth=5\u001b[0m\n",
      "\u001b[34m[20]#011train-error:0.192867#011validation-error:0.2101\u001b[0m\n",
      "\u001b[34m[06:17:08] src/tree/updater_prune.cc:74: tree pruning end, 1 roots, 34 extra nodes, 10 pruned nodes, max_depth=5\u001b[0m\n",
      "\u001b[34m[21]#011train-error:0.190867#011validation-error:0.2077\u001b[0m\n",
      "\u001b[34m[06:17:09] src/tree/updater_prune.cc:74: tree pruning end, 1 roots, 26 extra nodes, 8 pruned nodes, max_depth=5\u001b[0m\n",
      "\u001b[34m[22]#011train-error:0.188667#011validation-error:0.2076\u001b[0m\n",
      "\u001b[34m[06:17:10] src/tree/updater_prune.cc:74: tree pruning end, 1 roots, 32 extra nodes, 12 pruned nodes, max_depth=5\u001b[0m\n",
      "\u001b[34m[23]#011train-error:0.186533#011validation-error:0.2056\u001b[0m\n",
      "\u001b[34m[06:17:11] src/tree/updater_prune.cc:74: tree pruning end, 1 roots, 24 extra nodes, 6 pruned nodes, max_depth=5\u001b[0m\n",
      "\u001b[34m[24]#011train-error:0.185133#011validation-error:0.2042\u001b[0m\n",
      "\u001b[34m[06:17:13] src/tree/updater_prune.cc:74: tree pruning end, 1 roots, 26 extra nodes, 16 pruned nodes, max_depth=5\u001b[0m\n",
      "\u001b[34m[25]#011train-error:0.1836#011validation-error:0.2015\u001b[0m\n",
      "\u001b[34m[06:17:14] src/tree/updater_prune.cc:74: tree pruning end, 1 roots, 32 extra nodes, 18 pruned nodes, max_depth=5\u001b[0m\n",
      "\u001b[34m[26]#011train-error:0.1832#011validation-error:0.2002\u001b[0m\n",
      "\u001b[34m[06:17:15] src/tree/updater_prune.cc:74: tree pruning end, 1 roots, 34 extra nodes, 6 pruned nodes, max_depth=5\u001b[0m\n",
      "\u001b[34m[27]#011train-error:0.181333#011validation-error:0.1987\u001b[0m\n",
      "\u001b[34m[06:17:16] src/tree/updater_prune.cc:74: tree pruning end, 1 roots, 34 extra nodes, 10 pruned nodes, max_depth=5\u001b[0m\n",
      "\u001b[34m[28]#011train-error:0.180067#011validation-error:0.1984\u001b[0m\n",
      "\u001b[34m[06:17:18] src/tree/updater_prune.cc:74: tree pruning end, 1 roots, 36 extra nodes, 8 pruned nodes, max_depth=5\u001b[0m\n",
      "\u001b[34m[29]#011train-error:0.178533#011validation-error:0.196\u001b[0m\n",
      "\u001b[34m[06:17:19] src/tree/updater_prune.cc:74: tree pruning end, 1 roots, 22 extra nodes, 12 pruned nodes, max_depth=5\u001b[0m\n",
      "\u001b[34m[30]#011train-error:0.1758#011validation-error:0.195\u001b[0m\n",
      "\u001b[34m[06:17:20] src/tree/updater_prune.cc:74: tree pruning end, 1 roots, 26 extra nodes, 8 pruned nodes, max_depth=5\u001b[0m\n",
      "\u001b[34m[31]#011train-error:0.174667#011validation-error:0.193\u001b[0m\n",
      "\u001b[34m[06:17:21] src/tree/updater_prune.cc:74: tree pruning end, 1 roots, 24 extra nodes, 8 pruned nodes, max_depth=5\u001b[0m\n",
      "\u001b[34m[32]#011train-error:0.172733#011validation-error:0.1934\u001b[0m\n",
      "\u001b[34m[06:17:23] src/tree/updater_prune.cc:74: tree pruning end, 1 roots, 32 extra nodes, 4 pruned nodes, max_depth=5\u001b[0m\n",
      "\u001b[34m[33]#011train-error:0.170067#011validation-error:0.1936\u001b[0m\n",
      "\u001b[34m[06:17:24] src/tree/updater_prune.cc:74: tree pruning end, 1 roots, 30 extra nodes, 4 pruned nodes, max_depth=5\u001b[0m\n",
      "\u001b[34m[34]#011train-error:0.167667#011validation-error:0.1934\u001b[0m\n",
      "\u001b[34m[06:17:25] src/tree/updater_prune.cc:74: tree pruning end, 1 roots, 32 extra nodes, 6 pruned nodes, max_depth=5\u001b[0m\n",
      "\u001b[34m[35]#011train-error:0.1654#011validation-error:0.192\u001b[0m\n",
      "\u001b[34m[06:17:26] src/tree/updater_prune.cc:74: tree pruning end, 1 roots, 24 extra nodes, 6 pruned nodes, max_depth=5\u001b[0m\n",
      "\u001b[34m[36]#011train-error:0.1642#011validation-error:0.1924\u001b[0m\n",
      "\u001b[34m[06:17:28] src/tree/updater_prune.cc:74: tree pruning end, 1 roots, 16 extra nodes, 6 pruned nodes, max_depth=5\u001b[0m\n",
      "\u001b[34m[37]#011train-error:0.163467#011validation-error:0.1917\u001b[0m\n",
      "\u001b[34m[06:17:29] src/tree/updater_prune.cc:74: tree pruning end, 1 roots, 14 extra nodes, 6 pruned nodes, max_depth=5\u001b[0m\n",
      "\u001b[34m[38]#011train-error:0.163067#011validation-error:0.1922\u001b[0m\n",
      "\u001b[34m[06:17:30] src/tree/updater_prune.cc:74: tree pruning end, 1 roots, 20 extra nodes, 4 pruned nodes, max_depth=5\u001b[0m\n",
      "\u001b[34m[39]#011train-error:0.162333#011validation-error:0.1906\u001b[0m\n"
     ]
    },
    {
     "name": "stdout",
     "output_type": "stream",
     "text": [
      "\u001b[34m[06:17:32] src/tree/updater_prune.cc:74: tree pruning end, 1 roots, 20 extra nodes, 10 pruned nodes, max_depth=5\u001b[0m\n",
      "\u001b[34m[40]#011train-error:0.1612#011validation-error:0.1912\u001b[0m\n",
      "\u001b[34m[06:17:33] src/tree/updater_prune.cc:74: tree pruning end, 1 roots, 42 extra nodes, 10 pruned nodes, max_depth=5\u001b[0m\n",
      "\u001b[34m[41]#011train-error:0.1594#011validation-error:0.1922\u001b[0m\n",
      "\u001b[34m[06:17:34] src/tree/updater_prune.cc:74: tree pruning end, 1 roots, 20 extra nodes, 8 pruned nodes, max_depth=5\u001b[0m\n",
      "\u001b[34m[42]#011train-error:0.157933#011validation-error:0.1912\u001b[0m\n",
      "\u001b[34m[06:17:35] src/tree/updater_prune.cc:74: tree pruning end, 1 roots, 24 extra nodes, 12 pruned nodes, max_depth=5\u001b[0m\n",
      "\u001b[34m[43]#011train-error:0.1554#011validation-error:0.189\u001b[0m\n",
      "\u001b[34m[06:17:37] src/tree/updater_prune.cc:74: tree pruning end, 1 roots, 18 extra nodes, 6 pruned nodes, max_depth=5\u001b[0m\n",
      "\u001b[34m[44]#011train-error:0.155867#011validation-error:0.1885\u001b[0m\n",
      "\u001b[34m[06:17:38] src/tree/updater_prune.cc:74: tree pruning end, 1 roots, 36 extra nodes, 2 pruned nodes, max_depth=5\u001b[0m\n",
      "\u001b[34m[45]#011train-error:0.154667#011validation-error:0.1877\u001b[0m\n",
      "\u001b[34m[06:17:39] src/tree/updater_prune.cc:74: tree pruning end, 1 roots, 22 extra nodes, 10 pruned nodes, max_depth=5\u001b[0m\n",
      "\u001b[34m[46]#011train-error:0.1548#011validation-error:0.1869\u001b[0m\n",
      "\u001b[34m[06:17:40] src/tree/updater_prune.cc:74: tree pruning end, 1 roots, 20 extra nodes, 10 pruned nodes, max_depth=5\u001b[0m\n",
      "\u001b[34m[47]#011train-error:0.1546#011validation-error:0.1863\u001b[0m\n",
      "\u001b[34m[06:17:42] src/tree/updater_prune.cc:74: tree pruning end, 1 roots, 24 extra nodes, 18 pruned nodes, max_depth=5\u001b[0m\n",
      "\u001b[34m[48]#011train-error:0.1528#011validation-error:0.1866\u001b[0m\n",
      "\u001b[34m[06:17:43] src/tree/updater_prune.cc:74: tree pruning end, 1 roots, 28 extra nodes, 4 pruned nodes, max_depth=5\u001b[0m\n",
      "\u001b[34m[49]#011train-error:0.1524#011validation-error:0.1862\u001b[0m\n",
      "\u001b[34m[06:17:44] src/tree/updater_prune.cc:74: tree pruning end, 1 roots, 32 extra nodes, 12 pruned nodes, max_depth=5\u001b[0m\n",
      "\u001b[34m[50]#011train-error:0.151133#011validation-error:0.1855\u001b[0m\n",
      "\u001b[34m[06:17:45] src/tree/updater_prune.cc:74: tree pruning end, 1 roots, 24 extra nodes, 8 pruned nodes, max_depth=5\u001b[0m\n",
      "\u001b[34m[51]#011train-error:0.149933#011validation-error:0.1849\u001b[0m\n",
      "\u001b[34m[06:17:47] src/tree/updater_prune.cc:74: tree pruning end, 1 roots, 18 extra nodes, 14 pruned nodes, max_depth=5\u001b[0m\n",
      "\u001b[34m[52]#011train-error:0.149867#011validation-error:0.1841\u001b[0m\n",
      "\u001b[34m[06:17:48] src/tree/updater_prune.cc:74: tree pruning end, 1 roots, 28 extra nodes, 14 pruned nodes, max_depth=5\u001b[0m\n",
      "\u001b[34m[53]#011train-error:0.148467#011validation-error:0.183\u001b[0m\n",
      "\u001b[34m[06:17:49] src/tree/updater_prune.cc:74: tree pruning end, 1 roots, 28 extra nodes, 2 pruned nodes, max_depth=5\u001b[0m\n",
      "\u001b[34m[54]#011train-error:0.147#011validation-error:0.184\u001b[0m\n",
      "\u001b[34m[06:17:50] src/tree/updater_prune.cc:74: tree pruning end, 1 roots, 14 extra nodes, 4 pruned nodes, max_depth=5\u001b[0m\n",
      "\u001b[34m[55]#011train-error:0.1464#011validation-error:0.1834\u001b[0m\n",
      "\u001b[34m[06:17:52] src/tree/updater_prune.cc:74: tree pruning end, 1 roots, 18 extra nodes, 12 pruned nodes, max_depth=5\u001b[0m\n",
      "\u001b[34m[56]#011train-error:0.1446#011validation-error:0.1833\u001b[0m\n",
      "\u001b[34m[06:17:53] src/tree/updater_prune.cc:74: tree pruning end, 1 roots, 28 extra nodes, 12 pruned nodes, max_depth=5\u001b[0m\n",
      "\u001b[34m[57]#011train-error:0.1432#011validation-error:0.183\u001b[0m\n",
      "\u001b[34m[06:17:54] src/tree/updater_prune.cc:74: tree pruning end, 1 roots, 22 extra nodes, 6 pruned nodes, max_depth=5\u001b[0m\n",
      "\u001b[34m[58]#011train-error:0.1428#011validation-error:0.1813\u001b[0m\n",
      "\u001b[34m[06:17:55] src/tree/updater_prune.cc:74: tree pruning end, 1 roots, 30 extra nodes, 10 pruned nodes, max_depth=5\u001b[0m\n",
      "\u001b[34m[59]#011train-error:0.141333#011validation-error:0.1813\u001b[0m\n",
      "\u001b[34m[06:17:57] src/tree/updater_prune.cc:74: tree pruning end, 1 roots, 18 extra nodes, 6 pruned nodes, max_depth=5\u001b[0m\n",
      "\u001b[34m[60]#011train-error:0.140867#011validation-error:0.1822\u001b[0m\n",
      "\u001b[34m[06:17:58] src/tree/updater_prune.cc:74: tree pruning end, 1 roots, 12 extra nodes, 14 pruned nodes, max_depth=5\u001b[0m\n",
      "\u001b[34m[61]#011train-error:0.140667#011validation-error:0.1822\u001b[0m\n",
      "\u001b[34m[06:17:59] src/tree/updater_prune.cc:74: tree pruning end, 1 roots, 22 extra nodes, 12 pruned nodes, max_depth=5\u001b[0m\n",
      "\u001b[34m[62]#011train-error:0.1396#011validation-error:0.1811\u001b[0m\n",
      "\u001b[34m[06:18:00] src/tree/updater_prune.cc:74: tree pruning end, 1 roots, 24 extra nodes, 16 pruned nodes, max_depth=5\u001b[0m\n",
      "\u001b[34m[63]#011train-error:0.139333#011validation-error:0.1821\u001b[0m\n",
      "\u001b[34m[06:18:02] src/tree/updater_prune.cc:74: tree pruning end, 1 roots, 20 extra nodes, 8 pruned nodes, max_depth=5\u001b[0m\n",
      "\u001b[34m[64]#011train-error:0.137467#011validation-error:0.1818\u001b[0m\n",
      "\u001b[34m[06:18:03] src/tree/updater_prune.cc:74: tree pruning end, 1 roots, 30 extra nodes, 6 pruned nodes, max_depth=5\u001b[0m\n",
      "\u001b[34m[65]#011train-error:0.137267#011validation-error:0.1815\u001b[0m\n",
      "\u001b[34m[06:18:04] src/tree/updater_prune.cc:74: tree pruning end, 1 roots, 20 extra nodes, 8 pruned nodes, max_depth=5\u001b[0m\n",
      "\u001b[34m[66]#011train-error:0.135533#011validation-error:0.1803\u001b[0m\n",
      "\u001b[34m[06:18:05] src/tree/updater_prune.cc:74: tree pruning end, 1 roots, 30 extra nodes, 10 pruned nodes, max_depth=5\u001b[0m\n",
      "\u001b[34m[67]#011train-error:0.134067#011validation-error:0.181\u001b[0m\n",
      "\u001b[34m[06:18:07] src/tree/updater_prune.cc:74: tree pruning end, 1 roots, 22 extra nodes, 6 pruned nodes, max_depth=5\u001b[0m\n",
      "\u001b[34m[68]#011train-error:0.133467#011validation-error:0.181\u001b[0m\n",
      "\u001b[34m[06:18:08] src/tree/updater_prune.cc:74: tree pruning end, 1 roots, 18 extra nodes, 8 pruned nodes, max_depth=5\u001b[0m\n",
      "\u001b[34m[69]#011train-error:0.133933#011validation-error:0.1796\u001b[0m\n",
      "\u001b[34m[06:18:09] src/tree/updater_prune.cc:74: tree pruning end, 1 roots, 26 extra nodes, 0 pruned nodes, max_depth=5\u001b[0m\n",
      "\u001b[34m[70]#011train-error:0.134333#011validation-error:0.1801\u001b[0m\n",
      "\u001b[34m[06:18:10] src/tree/updater_prune.cc:74: tree pruning end, 1 roots, 28 extra nodes, 14 pruned nodes, max_depth=5\u001b[0m\n",
      "\u001b[34m[71]#011train-error:0.1338#011validation-error:0.1808\u001b[0m\n",
      "\n",
      "2020-01-29 06:18:26 Uploading - Uploading generated training model\u001b[34m[06:18:12] src/tree/updater_prune.cc:74: tree pruning end, 1 roots, 22 extra nodes, 14 pruned nodes, max_depth=5\u001b[0m\n",
      "\u001b[34m[72]#011train-error:0.133133#011validation-error:0.1811\u001b[0m\n",
      "\u001b[34m[06:18:13] src/tree/updater_prune.cc:74: tree pruning end, 1 roots, 24 extra nodes, 6 pruned nodes, max_depth=5\u001b[0m\n",
      "\u001b[34m[73]#011train-error:0.1322#011validation-error:0.18\u001b[0m\n",
      "\u001b[34m[06:18:14] src/tree/updater_prune.cc:74: tree pruning end, 1 roots, 12 extra nodes, 4 pruned nodes, max_depth=5\u001b[0m\n",
      "\u001b[34m[74]#011train-error:0.1322#011validation-error:0.1802\u001b[0m\n",
      "\u001b[34m[06:18:15] src/tree/updater_prune.cc:74: tree pruning end, 1 roots, 18 extra nodes, 8 pruned nodes, max_depth=5\u001b[0m\n",
      "\u001b[34m[75]#011train-error:0.1314#011validation-error:0.1808\u001b[0m\n",
      "\u001b[34m[06:18:17] src/tree/updater_prune.cc:74: tree pruning end, 1 roots, 20 extra nodes, 10 pruned nodes, max_depth=5\u001b[0m\n",
      "\u001b[34m[76]#011train-error:0.1304#011validation-error:0.1802\u001b[0m\n",
      "\u001b[34m[06:18:18] src/tree/updater_prune.cc:74: tree pruning end, 1 roots, 20 extra nodes, 14 pruned nodes, max_depth=5\u001b[0m\n",
      "\u001b[34m[77]#011train-error:0.130933#011validation-error:0.1817\u001b[0m\n",
      "\u001b[34m[06:18:19] src/tree/updater_prune.cc:74: tree pruning end, 1 roots, 20 extra nodes, 4 pruned nodes, max_depth=5\u001b[0m\n",
      "\u001b[34m[78]#011train-error:0.130933#011validation-error:0.1812\u001b[0m\n",
      "\u001b[34m[06:18:20] src/tree/updater_prune.cc:74: tree pruning end, 1 roots, 12 extra nodes, 6 pruned nodes, max_depth=5\u001b[0m\n",
      "\u001b[34m[79]#011train-error:0.130733#011validation-error:0.1816\u001b[0m\n",
      "\u001b[34mStopping. Best iteration:\u001b[0m\n",
      "\u001b[34m[69]#011train-error:0.133933#011validation-error:0.1796\n",
      "\u001b[0m\n",
      "\n",
      "2020-01-29 06:18:33 Completed - Training job completed\n",
      "Training seconds: 170\n",
      "Billable seconds: 170\n"
     ]
    }
   ],
   "source": [
    "# TODO: Using the new validation and training data, 'fit' your new model.\n",
    "\n",
    "# Solution:\n",
    "new_xgb.fit({'train': s3_new_input_train, 'validation': s3_new_input_validation})"
   ]
  },
  {
   "cell_type": "markdown",
   "metadata": {},
   "source": [
    "### (TODO) Check the new model\n",
    "\n",
    "So now we have a new XGBoost model that we believe more accurately represents the state of the world at this time, at least in how it relates to the sentiment analysis problem that we are working on. The next step is to double check that our model is performing reasonably.\n",
    "\n",
    "To do this, we will first test our model on the new data.\n",
    "\n",
    "**Note:** In practice this is a pretty bad idea. We already trained our model on the new data, so testing it shouldn't really tell us much. In fact, this is sort of a textbook example of leakage. We are only doing it here so that we have a numerical baseline.\n",
    "\n",
    "**Question:** How might you address the leakage problem?"
   ]
  },
  {
   "cell_type": "markdown",
   "metadata": {},
   "source": [
    "First, we create a new transformer based on our new XGBoost model.\n",
    "\n",
    "**TODO:** Create a transformer object from the newly created XGBoost model."
   ]
  },
  {
   "cell_type": "code",
   "execution_count": 59,
   "metadata": {},
   "outputs": [],
   "source": [
    "# TODO: Create a transformer object from the new_xgb model\n",
    "# new_xgb_transformer = None\n",
    "\n",
    "# Solution:\n",
    "new_xgb_transformer = new_xgb.transformer(instance_count = 1, instance_type = 'ml.m4.xlarge')"
   ]
  },
  {
   "cell_type": "markdown",
   "metadata": {},
   "source": [
    "Next we test our model on the new data.\n",
    "\n",
    "**TODO:** Use the transformer object to transform the new data (stored in the `new_data_location` variable)"
   ]
  },
  {
   "cell_type": "code",
   "execution_count": 60,
   "metadata": {},
   "outputs": [
    {
     "name": "stdout",
     "output_type": "stream",
     "text": [
      ".....................\u001b[34mArguments: serve\u001b[0m\n",
      "\u001b[34m[2020-01-29 06:22:30 +0000] [1] [INFO] Starting gunicorn 19.7.1\u001b[0m\n",
      "\u001b[34m[2020-01-29 06:22:30 +0000] [1] [INFO] Listening at: http://0.0.0.0:8080 (1)\u001b[0m\n",
      "\u001b[34m[2020-01-29 06:22:30 +0000] [1] [INFO] Using worker: gevent\u001b[0m\n",
      "\u001b[34m[2020-01-29 06:22:30 +0000] [38] [INFO] Booting worker with pid: 38\u001b[0m\n",
      "\u001b[34m[2020-01-29 06:22:30 +0000] [39] [INFO] Booting worker with pid: 39\u001b[0m\n",
      "\u001b[34m[2020-01-29 06:22:30 +0000] [40] [INFO] Booting worker with pid: 40\u001b[0m\n",
      "\u001b[34m[2020-01-29:06:22:30:INFO] Model loaded successfully for worker : 38\u001b[0m\n",
      "\u001b[34m[2020-01-29 06:22:30 +0000] [41] [INFO] Booting worker with pid: 41\u001b[0m\n",
      "\u001b[34m[2020-01-29:06:22:30:INFO] Model loaded successfully for worker : 39\u001b[0m\n",
      "\u001b[34m[2020-01-29:06:22:30:INFO] Model loaded successfully for worker : 40\u001b[0m\n",
      "\u001b[34m[2020-01-29:06:22:30:INFO] Model loaded successfully for worker : 41\u001b[0m\n",
      "\u001b[32m2020-01-29T06:23:04.374:[sagemaker logs]: MaxConcurrentTransforms=4, MaxPayloadInMB=6, BatchStrategy=MULTI_RECORD\u001b[0m\n",
      "\u001b[34m[2020-01-29:06:23:07:INFO] Sniff delimiter as ','\u001b[0m\n",
      "\u001b[34m[2020-01-29:06:23:07:INFO] Determined delimiter of CSV input is ','\u001b[0m\n",
      "\u001b[34m[2020-01-29:06:23:07:INFO] Sniff delimiter as ','\u001b[0m\n",
      "\u001b[34m[2020-01-29:06:23:07:INFO] Determined delimiter of CSV input is ','\u001b[0m\n",
      "\u001b[34m[2020-01-29:06:23:07:INFO] Sniff delimiter as ','\u001b[0m\n",
      "\u001b[34m[2020-01-29:06:23:07:INFO] Determined delimiter of CSV input is ','\u001b[0m\n",
      "\u001b[34m[2020-01-29:06:23:07:INFO] Sniff delimiter as ','\u001b[0m\n",
      "\u001b[34m[2020-01-29:06:23:07:INFO] Determined delimiter of CSV input is ','\u001b[0m\n",
      "\u001b[35m[2020-01-29:06:23:07:INFO] Sniff delimiter as ','\u001b[0m\n",
      "\u001b[35m[2020-01-29:06:23:07:INFO] Determined delimiter of CSV input is ','\u001b[0m\n",
      "\u001b[35m[2020-01-29:06:23:07:INFO] Sniff delimiter as ','\u001b[0m\n",
      "\u001b[35m[2020-01-29:06:23:07:INFO] Determined delimiter of CSV input is ','\u001b[0m\n",
      "\u001b[35m[2020-01-29:06:23:07:INFO] Sniff delimiter as ','\u001b[0m\n",
      "\u001b[35m[2020-01-29:06:23:07:INFO] Determined delimiter of CSV input is ','\u001b[0m\n",
      "\u001b[35m[2020-01-29:06:23:07:INFO] Sniff delimiter as ','\u001b[0m\n",
      "\u001b[35m[2020-01-29:06:23:07:INFO] Determined delimiter of CSV input is ','\u001b[0m\n",
      "\u001b[34m[2020-01-29:06:23:09:INFO] Sniff delimiter as ','\u001b[0m\n",
      "\u001b[34m[2020-01-29:06:23:09:INFO] Determined delimiter of CSV input is ','\u001b[0m\n",
      "\u001b[34m[2020-01-29:06:23:09:INFO] Sniff delimiter as ','\u001b[0m\n",
      "\u001b[34m[2020-01-29:06:23:09:INFO] Determined delimiter of CSV input is ','\u001b[0m\n",
      "\u001b[34m[2020-01-29:06:23:09:INFO] Sniff delimiter as ','\u001b[0m\n",
      "\u001b[34m[2020-01-29:06:23:09:INFO] Determined delimiter of CSV input is ','\u001b[0m\n",
      "\u001b[35m[2020-01-29:06:23:09:INFO] Sniff delimiter as ','\u001b[0m\n",
      "\u001b[35m[2020-01-29:06:23:09:INFO] Determined delimiter of CSV input is ','\u001b[0m\n",
      "\u001b[35m[2020-01-29:06:23:09:INFO] Sniff delimiter as ','\u001b[0m\n",
      "\u001b[35m[2020-01-29:06:23:09:INFO] Determined delimiter of CSV input is ','\u001b[0m\n",
      "\u001b[35m[2020-01-29:06:23:09:INFO] Sniff delimiter as ','\u001b[0m\n",
      "\u001b[35m[2020-01-29:06:23:09:INFO] Determined delimiter of CSV input is ','\u001b[0m\n",
      "\u001b[34m[2020-01-29:06:23:11:INFO] Sniff delimiter as ','\u001b[0m\n",
      "\u001b[34m[2020-01-29:06:23:11:INFO] Determined delimiter of CSV input is ','\u001b[0m\n",
      "\u001b[35m[2020-01-29:06:23:11:INFO] Sniff delimiter as ','\u001b[0m\n",
      "\u001b[35m[2020-01-29:06:23:11:INFO] Determined delimiter of CSV input is ','\u001b[0m\n",
      "\u001b[34m[2020-01-29:06:23:12:INFO] Sniff delimiter as ','\u001b[0m\n",
      "\u001b[34m[2020-01-29:06:23:12:INFO] Determined delimiter of CSV input is ','\u001b[0m\n",
      "\u001b[34m[2020-01-29:06:23:12:INFO] Sniff delimiter as ','\u001b[0m\n",
      "\u001b[34m[2020-01-29:06:23:12:INFO] Determined delimiter of CSV input is ','\u001b[0m\n",
      "\u001b[34m[2020-01-29:06:23:12:INFO] Sniff delimiter as ','\u001b[0m\n",
      "\u001b[34m[2020-01-29:06:23:12:INFO] Determined delimiter of CSV input is ','\u001b[0m\n",
      "\u001b[34m[2020-01-29:06:23:12:INFO] Sniff delimiter as ','\u001b[0m\n",
      "\u001b[34m[2020-01-29:06:23:12:INFO] Determined delimiter of CSV input is ','\u001b[0m\n",
      "\u001b[35m[2020-01-29:06:23:12:INFO] Sniff delimiter as ','\u001b[0m\n",
      "\u001b[35m[2020-01-29:06:23:12:INFO] Determined delimiter of CSV input is ','\u001b[0m\n",
      "\u001b[35m[2020-01-29:06:23:12:INFO] Sniff delimiter as ','\u001b[0m\n",
      "\u001b[35m[2020-01-29:06:23:12:INFO] Determined delimiter of CSV input is ','\u001b[0m\n",
      "\u001b[35m[2020-01-29:06:23:12:INFO] Sniff delimiter as ','\u001b[0m\n",
      "\u001b[35m[2020-01-29:06:23:12:INFO] Determined delimiter of CSV input is ','\u001b[0m\n",
      "\u001b[35m[2020-01-29:06:23:12:INFO] Sniff delimiter as ','\u001b[0m\n",
      "\u001b[35m[2020-01-29:06:23:12:INFO] Determined delimiter of CSV input is ','\u001b[0m\n",
      "\u001b[34m[2020-01-29:06:23:14:INFO] Sniff delimiter as ','\u001b[0m\n",
      "\u001b[34m[2020-01-29:06:23:14:INFO] Determined delimiter of CSV input is ','\u001b[0m\n",
      "\u001b[35m[2020-01-29:06:23:14:INFO] Sniff delimiter as ','\u001b[0m\n",
      "\u001b[35m[2020-01-29:06:23:14:INFO] Determined delimiter of CSV input is ','\u001b[0m\n",
      "\u001b[34m[2020-01-29:06:23:15:INFO] Sniff delimiter as ','\u001b[0m\n",
      "\u001b[34m[2020-01-29:06:23:15:INFO] Determined delimiter of CSV input is ','\u001b[0m\n",
      "\u001b[34m[2020-01-29:06:23:15:INFO] Sniff delimiter as ','\u001b[0m\n",
      "\u001b[34m[2020-01-29:06:23:15:INFO] Determined delimiter of CSV input is ','\u001b[0m\n",
      "\u001b[34m[2020-01-29:06:23:15:INFO] Sniff delimiter as ','\u001b[0m\n",
      "\u001b[34m[2020-01-29:06:23:15:INFO] Determined delimiter of CSV input is ','\u001b[0m\n",
      "\u001b[35m[2020-01-29:06:23:15:INFO] Sniff delimiter as ','\u001b[0m\n",
      "\u001b[35m[2020-01-29:06:23:15:INFO] Determined delimiter of CSV input is ','\u001b[0m\n",
      "\u001b[35m[2020-01-29:06:23:15:INFO] Sniff delimiter as ','\u001b[0m\n",
      "\u001b[35m[2020-01-29:06:23:15:INFO] Determined delimiter of CSV input is ','\u001b[0m\n",
      "\u001b[35m[2020-01-29:06:23:15:INFO] Sniff delimiter as ','\u001b[0m\n",
      "\u001b[35m[2020-01-29:06:23:15:INFO] Determined delimiter of CSV input is ','\u001b[0m\n",
      "\u001b[34m[2020-01-29:06:23:17:INFO] Sniff delimiter as ','\u001b[0m\n",
      "\u001b[34m[2020-01-29:06:23:17:INFO] Determined delimiter of CSV input is ','\u001b[0m\n",
      "\u001b[35m[2020-01-29:06:23:17:INFO] Sniff delimiter as ','\u001b[0m\n",
      "\u001b[35m[2020-01-29:06:23:17:INFO] Determined delimiter of CSV input is ','\u001b[0m\n",
      "\u001b[34m[2020-01-29:06:23:19:INFO] Sniff delimiter as ','\u001b[0m\n",
      "\u001b[34m[2020-01-29:06:23:19:INFO] Determined delimiter of CSV input is ','\u001b[0m\n",
      "\u001b[34m[2020-01-29:06:23:19:INFO] Sniff delimiter as ','\u001b[0m\n",
      "\u001b[34m[2020-01-29:06:23:19:INFO] Determined delimiter of CSV input is ','\u001b[0m\n",
      "\u001b[34m[2020-01-29:06:23:19:INFO] Sniff delimiter as ','\u001b[0m\n",
      "\u001b[34m[2020-01-29:06:23:19:INFO] Determined delimiter of CSV input is ','\u001b[0m\n",
      "\u001b[35m[2020-01-29:06:23:19:INFO] Sniff delimiter as ','\u001b[0m\n",
      "\u001b[35m[2020-01-29:06:23:19:INFO] Determined delimiter of CSV input is ','\u001b[0m\n",
      "\u001b[35m[2020-01-29:06:23:19:INFO] Sniff delimiter as ','\u001b[0m\n",
      "\u001b[35m[2020-01-29:06:23:19:INFO] Determined delimiter of CSV input is ','\u001b[0m\n",
      "\u001b[35m[2020-01-29:06:23:19:INFO] Sniff delimiter as ','\u001b[0m\n",
      "\u001b[35m[2020-01-29:06:23:19:INFO] Determined delimiter of CSV input is ','\u001b[0m\n",
      "\u001b[34m[2020-01-29:06:23:20:INFO] Sniff delimiter as ','\u001b[0m\n",
      "\u001b[34m[2020-01-29:06:23:20:INFO] Determined delimiter of CSV input is ','\u001b[0m\n",
      "\u001b[35m[2020-01-29:06:23:20:INFO] Sniff delimiter as ','\u001b[0m\n",
      "\u001b[35m[2020-01-29:06:23:20:INFO] Determined delimiter of CSV input is ','\u001b[0m\n",
      "\u001b[34m[2020-01-29:06:23:22:INFO] Sniff delimiter as ','\u001b[0m\n",
      "\u001b[34m[2020-01-29:06:23:22:INFO] Determined delimiter of CSV input is ','\u001b[0m\n",
      "\u001b[34m[2020-01-29:06:23:22:INFO] Sniff delimiter as ','\u001b[0m\n",
      "\u001b[34m[2020-01-29:06:23:22:INFO] Determined delimiter of CSV input is ','\u001b[0m\n",
      "\u001b[35m[2020-01-29:06:23:22:INFO] Sniff delimiter as ','\u001b[0m\n",
      "\u001b[35m[2020-01-29:06:23:22:INFO] Determined delimiter of CSV input is ','\u001b[0m\n",
      "\u001b[35m[2020-01-29:06:23:22:INFO] Sniff delimiter as ','\u001b[0m\n",
      "\u001b[35m[2020-01-29:06:23:22:INFO] Determined delimiter of CSV input is ','\u001b[0m\n",
      "\u001b[34m[2020-01-29:06:23:22:INFO] Sniff delimiter as ','\u001b[0m\n",
      "\u001b[34m[2020-01-29:06:23:22:INFO] Determined delimiter of CSV input is ','\u001b[0m\n",
      "\u001b[34m[2020-01-29:06:23:22:INFO] Sniff delimiter as ','\u001b[0m\n",
      "\u001b[34m[2020-01-29:06:23:22:INFO] Determined delimiter of CSV input is ','\u001b[0m\n",
      "\u001b[35m[2020-01-29:06:23:22:INFO] Sniff delimiter as ','\u001b[0m\n",
      "\u001b[35m[2020-01-29:06:23:22:INFO] Determined delimiter of CSV input is ','\u001b[0m\n",
      "\u001b[35m[2020-01-29:06:23:22:INFO] Sniff delimiter as ','\u001b[0m\n",
      "\u001b[35m[2020-01-29:06:23:22:INFO] Determined delimiter of CSV input is ','\u001b[0m\n",
      "\u001b[34m[2020-01-29:06:23:24:INFO] Sniff delimiter as ','\u001b[0m\n",
      "\u001b[34m[2020-01-29:06:23:24:INFO] Determined delimiter of CSV input is ','\u001b[0m\n",
      "\u001b[34m[2020-01-29:06:23:24:INFO] Sniff delimiter as ','\u001b[0m\n",
      "\u001b[34m[2020-01-29:06:23:24:INFO] Determined delimiter of CSV input is ','\u001b[0m\n",
      "\u001b[35m[2020-01-29:06:23:24:INFO] Sniff delimiter as ','\u001b[0m\n",
      "\u001b[35m[2020-01-29:06:23:24:INFO] Determined delimiter of CSV input is ','\u001b[0m\n",
      "\u001b[35m[2020-01-29:06:23:24:INFO] Sniff delimiter as ','\u001b[0m\n",
      "\u001b[35m[2020-01-29:06:23:24:INFO] Determined delimiter of CSV input is ','\u001b[0m\n",
      "\u001b[34m[2020-01-29:06:23:24:INFO] Sniff delimiter as ','\u001b[0m\n",
      "\u001b[34m[2020-01-29:06:23:24:INFO] Determined delimiter of CSV input is ','\u001b[0m\n",
      "\u001b[35m[2020-01-29:06:23:24:INFO] Sniff delimiter as ','\u001b[0m\n",
      "\u001b[35m[2020-01-29:06:23:24:INFO] Determined delimiter of CSV input is ','\u001b[0m\n",
      "\u001b[34m[2020-01-29:06:23:25:INFO] Sniff delimiter as ','\u001b[0m\n",
      "\u001b[34m[2020-01-29:06:23:25:INFO] Determined delimiter of CSV input is ','\u001b[0m\n",
      "\u001b[35m[2020-01-29:06:23:25:INFO] Sniff delimiter as ','\u001b[0m\n",
      "\u001b[35m[2020-01-29:06:23:25:INFO] Determined delimiter of CSV input is ','\u001b[0m\n"
     ]
    },
    {
     "name": "stdout",
     "output_type": "stream",
     "text": [
      "\n",
      "\u001b[34m[2020-01-29:06:23:27:INFO] Sniff delimiter as ','\u001b[0m\n",
      "\u001b[34m[2020-01-29:06:23:27:INFO] Determined delimiter of CSV input is ','\u001b[0m\n",
      "\u001b[34m[2020-01-29:06:23:27:INFO] Sniff delimiter as ','\u001b[0m\n",
      "\u001b[34m[2020-01-29:06:23:27:INFO] Determined delimiter of CSV input is ','\u001b[0m\n",
      "\u001b[34m[2020-01-29:06:23:27:INFO] Sniff delimiter as ','\u001b[0m\n",
      "\u001b[34m[2020-01-29:06:23:27:INFO] Determined delimiter of CSV input is ','\u001b[0m\n",
      "\u001b[35m[2020-01-29:06:23:27:INFO] Sniff delimiter as ','\u001b[0m\n",
      "\u001b[35m[2020-01-29:06:23:27:INFO] Determined delimiter of CSV input is ','\u001b[0m\n",
      "\u001b[35m[2020-01-29:06:23:27:INFO] Sniff delimiter as ','\u001b[0m\n",
      "\u001b[35m[2020-01-29:06:23:27:INFO] Determined delimiter of CSV input is ','\u001b[0m\n",
      "\u001b[35m[2020-01-29:06:23:27:INFO] Sniff delimiter as ','\u001b[0m\n",
      "\u001b[35m[2020-01-29:06:23:27:INFO] Determined delimiter of CSV input is ','\u001b[0m\n",
      "\u001b[34m[2020-01-29:06:23:29:INFO] Sniff delimiter as ','\u001b[0m\n",
      "\u001b[34m[2020-01-29:06:23:29:INFO] Determined delimiter of CSV input is ','\u001b[0m\n",
      "\u001b[34m[2020-01-29:06:23:29:INFO] Sniff delimiter as ','\u001b[0m\n",
      "\u001b[34m[2020-01-29:06:23:29:INFO] Determined delimiter of CSV input is ','\u001b[0m\n",
      "\u001b[34m[2020-01-29:06:23:29:INFO] Sniff delimiter as ','\u001b[0m\n",
      "\u001b[34m[2020-01-29:06:23:29:INFO] Determined delimiter of CSV input is ','\u001b[0m\n",
      "\u001b[34m[2020-01-29:06:23:29:INFO] Sniff delimiter as ','\u001b[0m\n",
      "\u001b[34m[2020-01-29:06:23:29:INFO] Determined delimiter of CSV input is ','\u001b[0m\n",
      "\u001b[35m[2020-01-29:06:23:29:INFO] Sniff delimiter as ','\u001b[0m\n",
      "\u001b[35m[2020-01-29:06:23:29:INFO] Determined delimiter of CSV input is ','\u001b[0m\n",
      "\u001b[35m[2020-01-29:06:23:29:INFO] Sniff delimiter as ','\u001b[0m\n",
      "\u001b[35m[2020-01-29:06:23:29:INFO] Determined delimiter of CSV input is ','\u001b[0m\n",
      "\u001b[35m[2020-01-29:06:23:29:INFO] Sniff delimiter as ','\u001b[0m\n",
      "\u001b[35m[2020-01-29:06:23:29:INFO] Determined delimiter of CSV input is ','\u001b[0m\n",
      "\u001b[35m[2020-01-29:06:23:29:INFO] Sniff delimiter as ','\u001b[0m\n",
      "\u001b[35m[2020-01-29:06:23:29:INFO] Determined delimiter of CSV input is ','\u001b[0m\n"
     ]
    }
   ],
   "source": [
    "# TODO: Using new_xgb_transformer, transform the new_data_location data. You may wish to\n",
    "#       'wait' for the transform job to finish.\n",
    "\n",
    "# Solution:\n",
    "new_xgb_transformer.transform(new_data_location, content_type='text/csv', split_type='Line')\n",
    "new_xgb_transformer.wait()"
   ]
  },
  {
   "cell_type": "markdown",
   "metadata": {},
   "source": [
    "Copy the results to our local instance."
   ]
  },
  {
   "cell_type": "code",
   "execution_count": 61,
   "metadata": {},
   "outputs": [
    {
     "name": "stdout",
     "output_type": "stream",
     "text": [
      "Completed 256.0 KiB/366.0 KiB (4.9 MiB/s) with 1 file(s) remaining\r",
      "Completed 366.0 KiB/366.0 KiB (6.7 MiB/s) with 1 file(s) remaining\r",
      "download: s3://sagemaker-us-east-1-174814400447/xgboost-2020-01-29-06-19-09-136/new_data.csv.out to ../data/sentiment_update/new_data.csv.out\r\n"
     ]
    }
   ],
   "source": [
    "!aws s3 cp --recursive $new_xgb_transformer.output_path $data_dir"
   ]
  },
  {
   "cell_type": "markdown",
   "metadata": {},
   "source": [
    "And see how well the model did."
   ]
  },
  {
   "cell_type": "code",
   "execution_count": 62,
   "metadata": {},
   "outputs": [],
   "source": [
    "predictions = pd.read_csv(os.path.join(data_dir, 'new_data.csv.out'), header=None)\n",
    "predictions = [round(num) for num in predictions.squeeze().values]"
   ]
  },
  {
   "cell_type": "code",
   "execution_count": 63,
   "metadata": {},
   "outputs": [
    {
     "data": {
      "text/plain": [
       "0.8478"
      ]
     },
     "execution_count": 63,
     "metadata": {},
     "output_type": "execute_result"
    }
   ],
   "source": [
    "accuracy_score(new_Y, predictions)"
   ]
  },
  {
   "cell_type": "markdown",
   "metadata": {},
   "source": [
    "As expected, since we trained the model on this data, our model performs pretty well. So, we have reason to believe that our new XGBoost model is a \"better\" model.\n",
    "\n",
    "However, before we start changing our deployed model, we should first make sure that our new model isn't too different. In other words, if our new model performed really poorly on the original test data then this might be an indication that something else has gone wrong.\n",
    "\n",
    "To start with, since we got rid of the variable that stored the original test reviews, we will read them in again from the cache that we created in Step 3. Note that we need to make sure that we read in the original test data after it has been pre-processed with `nltk` but before it has been bag of words encoded. This is because we need to use the new vocabulary instead of the original one."
   ]
  },
  {
   "cell_type": "code",
   "execution_count": 64,
   "metadata": {},
   "outputs": [
    {
     "name": "stdout",
     "output_type": "stream",
     "text": [
      "Read preprocessed data from cache file: preprocessed_data.pkl\n"
     ]
    }
   ],
   "source": [
    "cache_data = None\n",
    "with open(os.path.join(cache_dir, \"preprocessed_data.pkl\"), \"rb\") as f:\n",
    "            cache_data = pickle.load(f)\n",
    "            print(\"Read preprocessed data from cache file:\", \"preprocessed_data.pkl\")\n",
    "            \n",
    "test_X = cache_data['words_test']\n",
    "test_Y = cache_data['labels_test']\n",
    "\n",
    "# Here we set cache_data to None so that it doesn't occupy memory\n",
    "cache_data = None"
   ]
  },
  {
   "cell_type": "markdown",
   "metadata": {},
   "source": [
    "Once we've loaded the original test reviews, we need to create a bag of words encoding of them using the new vocabulary that we created, based on the new data.\n",
    "\n",
    "**TODO:** Transform the original test data using the new vocabulary."
   ]
  },
  {
   "cell_type": "code",
   "execution_count": 65,
   "metadata": {},
   "outputs": [],
   "source": [
    "# TODO: Use the new_vectorizer object that you created earlier to transform the test_X data.\n",
    "# test_X = None\n",
    "\n",
    "# Solution:\n",
    "test_X = new_vectorizer.transform(test_X).toarray()"
   ]
  },
  {
   "cell_type": "markdown",
   "metadata": {},
   "source": [
    "Now that we have correctly encoded the original test data, we can write it to the local instance, upload it to S3 and test it."
   ]
  },
  {
   "cell_type": "code",
   "execution_count": 66,
   "metadata": {},
   "outputs": [],
   "source": [
    "pd.DataFrame(test_X).to_csv(os.path.join(data_dir, 'test.csv'), header=False, index=False)"
   ]
  },
  {
   "cell_type": "code",
   "execution_count": 67,
   "metadata": {},
   "outputs": [],
   "source": [
    "test_location = session.upload_data(os.path.join(data_dir, 'test.csv'), key_prefix=prefix)"
   ]
  },
  {
   "cell_type": "code",
   "execution_count": 68,
   "metadata": {},
   "outputs": [
    {
     "name": "stdout",
     "output_type": "stream",
     "text": [
      ".....................\u001b[34mArguments: serve\u001b[0m\n",
      "\u001b[34m[2020-01-29 06:29:39 +0000] [1] [INFO] Starting gunicorn 19.7.1\u001b[0m\n",
      "\u001b[34m[2020-01-29 06:29:39 +0000] [1] [INFO] Listening at: http://0.0.0.0:8080 (1)\u001b[0m\n",
      "\u001b[34m[2020-01-29 06:29:39 +0000] [1] [INFO] Using worker: gevent\u001b[0m\n",
      "\u001b[34m[2020-01-29 06:29:39 +0000] [38] [INFO] Booting worker with pid: 38\u001b[0m\n",
      "\u001b[34m[2020-01-29 06:29:39 +0000] [39] [INFO] Booting worker with pid: 39\u001b[0m\n",
      "\u001b[34m[2020-01-29 06:29:39 +0000] [40] [INFO] Booting worker with pid: 40\u001b[0m\n",
      "\u001b[34m[2020-01-29 06:29:39 +0000] [41] [INFO] Booting worker with pid: 41\u001b[0m\n",
      "\u001b[34m[2020-01-29:06:29:39:INFO] Model loaded successfully for worker : 38\u001b[0m\n",
      "\u001b[34m[2020-01-29:06:29:39:INFO] Model loaded successfully for worker : 39\u001b[0m\n",
      "\u001b[34m[2020-01-29:06:29:39:INFO] Model loaded successfully for worker : 40\u001b[0m\n",
      "\u001b[34m[2020-01-29:06:29:39:INFO] Model loaded successfully for worker : 41\u001b[0m\n",
      "\u001b[32m2020-01-29T06:30:02.001:[sagemaker logs]: MaxConcurrentTransforms=4, MaxPayloadInMB=6, BatchStrategy=MULTI_RECORD\u001b[0m\n",
      "\u001b[34m[2020-01-29:06:30:05:INFO] Sniff delimiter as ','\u001b[0m\n",
      "\u001b[34m[2020-01-29:06:30:05:INFO] Determined delimiter of CSV input is ','\u001b[0m\n",
      "\u001b[34m[2020-01-29:06:30:05:INFO] Sniff delimiter as ','\u001b[0m\n",
      "\u001b[34m[2020-01-29:06:30:05:INFO] Determined delimiter of CSV input is ','\u001b[0m\n",
      "\u001b[34m[2020-01-29:06:30:05:INFO] Sniff delimiter as ','\u001b[0m\n",
      "\u001b[34m[2020-01-29:06:30:05:INFO] Determined delimiter of CSV input is ','\u001b[0m\n",
      "\u001b[35m[2020-01-29:06:30:05:INFO] Sniff delimiter as ','\u001b[0m\n",
      "\u001b[35m[2020-01-29:06:30:05:INFO] Determined delimiter of CSV input is ','\u001b[0m\n",
      "\u001b[35m[2020-01-29:06:30:05:INFO] Sniff delimiter as ','\u001b[0m\n",
      "\u001b[35m[2020-01-29:06:30:05:INFO] Determined delimiter of CSV input is ','\u001b[0m\n",
      "\u001b[35m[2020-01-29:06:30:05:INFO] Sniff delimiter as ','\u001b[0m\n",
      "\u001b[35m[2020-01-29:06:30:05:INFO] Determined delimiter of CSV input is ','\u001b[0m\n",
      "\u001b[34m[2020-01-29:06:30:05:INFO] Sniff delimiter as ','\u001b[0m\n",
      "\u001b[34m[2020-01-29:06:30:05:INFO] Determined delimiter of CSV input is ','\u001b[0m\n",
      "\u001b[35m[2020-01-29:06:30:05:INFO] Sniff delimiter as ','\u001b[0m\n",
      "\u001b[35m[2020-01-29:06:30:05:INFO] Determined delimiter of CSV input is ','\u001b[0m\n",
      "\u001b[34m[2020-01-29:06:30:07:INFO] Sniff delimiter as ','\u001b[0m\n",
      "\u001b[34m[2020-01-29:06:30:07:INFO] Determined delimiter of CSV input is ','\u001b[0m\n",
      "\u001b[34m[2020-01-29:06:30:07:INFO] Sniff delimiter as ','\u001b[0m\n",
      "\u001b[34m[2020-01-29:06:30:07:INFO] Determined delimiter of CSV input is ','\u001b[0m\n",
      "\u001b[34m[2020-01-29:06:30:07:INFO] Sniff delimiter as ','\u001b[0m\n",
      "\u001b[34m[2020-01-29:06:30:07:INFO] Determined delimiter of CSV input is ','\u001b[0m\n",
      "\u001b[34m[2020-01-29:06:30:08:INFO] Sniff delimiter as ','\u001b[0m\n",
      "\u001b[34m[2020-01-29:06:30:08:INFO] Determined delimiter of CSV input is ','\u001b[0m\n",
      "\u001b[35m[2020-01-29:06:30:07:INFO] Sniff delimiter as ','\u001b[0m\n",
      "\u001b[35m[2020-01-29:06:30:07:INFO] Determined delimiter of CSV input is ','\u001b[0m\n",
      "\u001b[35m[2020-01-29:06:30:07:INFO] Sniff delimiter as ','\u001b[0m\n",
      "\u001b[35m[2020-01-29:06:30:07:INFO] Determined delimiter of CSV input is ','\u001b[0m\n",
      "\u001b[35m[2020-01-29:06:30:07:INFO] Sniff delimiter as ','\u001b[0m\n",
      "\u001b[35m[2020-01-29:06:30:07:INFO] Determined delimiter of CSV input is ','\u001b[0m\n",
      "\u001b[35m[2020-01-29:06:30:08:INFO] Sniff delimiter as ','\u001b[0m\n",
      "\u001b[35m[2020-01-29:06:30:08:INFO] Determined delimiter of CSV input is ','\u001b[0m\n",
      "\u001b[34m[2020-01-29:06:30:10:INFO] Sniff delimiter as ','\u001b[0m\n",
      "\u001b[34m[2020-01-29:06:30:10:INFO] Determined delimiter of CSV input is ','\u001b[0m\n",
      "\u001b[34m[2020-01-29:06:30:10:INFO] Sniff delimiter as ','\u001b[0m\n",
      "\u001b[34m[2020-01-29:06:30:10:INFO] Determined delimiter of CSV input is ','\u001b[0m\n",
      "\u001b[34m[2020-01-29:06:30:10:INFO] Sniff delimiter as ','\u001b[0m\n",
      "\u001b[34m[2020-01-29:06:30:10:INFO] Determined delimiter of CSV input is ','\u001b[0m\n",
      "\u001b[35m[2020-01-29:06:30:10:INFO] Sniff delimiter as ','\u001b[0m\n",
      "\u001b[35m[2020-01-29:06:30:10:INFO] Determined delimiter of CSV input is ','\u001b[0m\n",
      "\u001b[35m[2020-01-29:06:30:10:INFO] Sniff delimiter as ','\u001b[0m\n",
      "\u001b[35m[2020-01-29:06:30:10:INFO] Determined delimiter of CSV input is ','\u001b[0m\n",
      "\u001b[35m[2020-01-29:06:30:10:INFO] Sniff delimiter as ','\u001b[0m\n",
      "\u001b[35m[2020-01-29:06:30:10:INFO] Determined delimiter of CSV input is ','\u001b[0m\n",
      "\u001b[34m[2020-01-29:06:30:10:INFO] Sniff delimiter as ','\u001b[0m\n",
      "\u001b[34m[2020-01-29:06:30:10:INFO] Determined delimiter of CSV input is ','\u001b[0m\n",
      "\u001b[35m[2020-01-29:06:30:10:INFO] Sniff delimiter as ','\u001b[0m\n",
      "\u001b[35m[2020-01-29:06:30:10:INFO] Determined delimiter of CSV input is ','\u001b[0m\n",
      "\u001b[34m[2020-01-29:06:30:12:INFO] Sniff delimiter as ','\u001b[0m\n",
      "\u001b[35m[2020-01-29:06:30:12:INFO] Sniff delimiter as ','\u001b[0m\n",
      "\u001b[34m[2020-01-29:06:30:12:INFO] Determined delimiter of CSV input is ','\u001b[0m\n",
      "\u001b[34m[2020-01-29:06:30:12:INFO] Sniff delimiter as ','\u001b[0m\n",
      "\u001b[34m[2020-01-29:06:30:12:INFO] Determined delimiter of CSV input is ','\u001b[0m\n",
      "\u001b[34m[2020-01-29:06:30:12:INFO] Sniff delimiter as ','\u001b[0m\n",
      "\u001b[34m[2020-01-29:06:30:12:INFO] Determined delimiter of CSV input is ','\u001b[0m\n",
      "\u001b[34m[2020-01-29:06:30:12:INFO] Sniff delimiter as ','\u001b[0m\n",
      "\u001b[34m[2020-01-29:06:30:12:INFO] Determined delimiter of CSV input is ','\u001b[0m\n",
      "\u001b[35m[2020-01-29:06:30:12:INFO] Determined delimiter of CSV input is ','\u001b[0m\n",
      "\u001b[35m[2020-01-29:06:30:12:INFO] Sniff delimiter as ','\u001b[0m\n",
      "\u001b[35m[2020-01-29:06:30:12:INFO] Determined delimiter of CSV input is ','\u001b[0m\n",
      "\u001b[35m[2020-01-29:06:30:12:INFO] Sniff delimiter as ','\u001b[0m\n",
      "\u001b[35m[2020-01-29:06:30:12:INFO] Determined delimiter of CSV input is ','\u001b[0m\n",
      "\u001b[35m[2020-01-29:06:30:12:INFO] Sniff delimiter as ','\u001b[0m\n",
      "\u001b[35m[2020-01-29:06:30:12:INFO] Determined delimiter of CSV input is ','\u001b[0m\n",
      "\u001b[34m[2020-01-29:06:30:15:INFO] Determined delimiter of CSV input is ','\u001b[0m\n",
      "\u001b[35m[2020-01-29:06:30:15:INFO] Determined delimiter of CSV input is ','\u001b[0m\n",
      "\u001b[34m[2020-01-29:06:30:17:INFO] Sniff delimiter as ','\u001b[0m\n",
      "\u001b[34m[2020-01-29:06:30:17:INFO] Determined delimiter of CSV input is ','\u001b[0m\n",
      "\u001b[34m[2020-01-29:06:30:17:INFO] Sniff delimiter as ','\u001b[0m\n",
      "\u001b[34m[2020-01-29:06:30:17:INFO] Determined delimiter of CSV input is ','\u001b[0m\n",
      "\u001b[34m[2020-01-29:06:30:17:INFO] Sniff delimiter as ','\u001b[0m\n",
      "\u001b[34m[2020-01-29:06:30:17:INFO] Determined delimiter of CSV input is ','\u001b[0m\n",
      "\u001b[34m[2020-01-29:06:30:17:INFO] Sniff delimiter as ','\u001b[0m\n",
      "\u001b[35m[2020-01-29:06:30:17:INFO] Sniff delimiter as ','\u001b[0m\n",
      "\u001b[35m[2020-01-29:06:30:17:INFO] Determined delimiter of CSV input is ','\u001b[0m\n",
      "\u001b[35m[2020-01-29:06:30:17:INFO] Sniff delimiter as ','\u001b[0m\n",
      "\u001b[35m[2020-01-29:06:30:17:INFO] Determined delimiter of CSV input is ','\u001b[0m\n",
      "\u001b[35m[2020-01-29:06:30:17:INFO] Sniff delimiter as ','\u001b[0m\n",
      "\u001b[35m[2020-01-29:06:30:17:INFO] Determined delimiter of CSV input is ','\u001b[0m\n",
      "\u001b[35m[2020-01-29:06:30:17:INFO] Sniff delimiter as ','\u001b[0m\n",
      "\u001b[34m[2020-01-29:06:30:17:INFO] Determined delimiter of CSV input is ','\u001b[0m\n",
      "\u001b[35m[2020-01-29:06:30:17:INFO] Determined delimiter of CSV input is ','\u001b[0m\n",
      "\u001b[34m[2020-01-29:06:30:19:INFO] Sniff delimiter as ','\u001b[0m\n",
      "\u001b[34m[2020-01-29:06:30:19:INFO] Determined delimiter of CSV input is ','\u001b[0m\n",
      "\u001b[34m[2020-01-29:06:30:19:INFO] Sniff delimiter as ','\u001b[0m\n",
      "\u001b[34m[2020-01-29:06:30:19:INFO] Determined delimiter of CSV input is ','\u001b[0m\n",
      "\u001b[35m[2020-01-29:06:30:19:INFO] Sniff delimiter as ','\u001b[0m\n",
      "\u001b[35m[2020-01-29:06:30:19:INFO] Determined delimiter of CSV input is ','\u001b[0m\n",
      "\u001b[35m[2020-01-29:06:30:19:INFO] Sniff delimiter as ','\u001b[0m\n",
      "\u001b[35m[2020-01-29:06:30:19:INFO] Determined delimiter of CSV input is ','\u001b[0m\n",
      "\u001b[34m[2020-01-29:06:30:20:INFO] Sniff delimiter as ','\u001b[0m\n",
      "\u001b[34m[2020-01-29:06:30:20:INFO] Determined delimiter of CSV input is ','\u001b[0m\n",
      "\u001b[34m[2020-01-29:06:30:20:INFO] Sniff delimiter as ','\u001b[0m\n",
      "\u001b[34m[2020-01-29:06:30:20:INFO] Determined delimiter of CSV input is ','\u001b[0m\n",
      "\u001b[35m[2020-01-29:06:30:20:INFO] Sniff delimiter as ','\u001b[0m\n",
      "\u001b[35m[2020-01-29:06:30:20:INFO] Determined delimiter of CSV input is ','\u001b[0m\n",
      "\u001b[35m[2020-01-29:06:30:20:INFO] Sniff delimiter as ','\u001b[0m\n",
      "\u001b[35m[2020-01-29:06:30:20:INFO] Determined delimiter of CSV input is ','\u001b[0m\n",
      "\u001b[34m[2020-01-29:06:30:22:INFO] Sniff delimiter as ','\u001b[0m\n",
      "\u001b[35m[2020-01-29:06:30:22:INFO] Sniff delimiter as ','\u001b[0m\n",
      "\u001b[34m[2020-01-29:06:30:22:INFO] Determined delimiter of CSV input is ','\u001b[0m\n",
      "\u001b[34m[2020-01-29:06:30:22:INFO] Sniff delimiter as ','\u001b[0m\n",
      "\u001b[34m[2020-01-29:06:30:22:INFO] Determined delimiter of CSV input is ','\u001b[0m\n",
      "\u001b[35m[2020-01-29:06:30:22:INFO] Determined delimiter of CSV input is ','\u001b[0m\n",
      "\u001b[35m[2020-01-29:06:30:22:INFO] Sniff delimiter as ','\u001b[0m\n",
      "\u001b[35m[2020-01-29:06:30:22:INFO] Determined delimiter of CSV input is ','\u001b[0m\n",
      "\u001b[34m[2020-01-29:06:30:22:INFO] Sniff delimiter as ','\u001b[0m\n",
      "\u001b[34m[2020-01-29:06:30:22:INFO] Determined delimiter of CSV input is ','\u001b[0m\n",
      "\u001b[34m[2020-01-29:06:30:22:INFO] Sniff delimiter as ','\u001b[0m\n",
      "\u001b[34m[2020-01-29:06:30:22:INFO] Determined delimiter of CSV input is ','\u001b[0m\n",
      "\u001b[35m[2020-01-29:06:30:22:INFO] Sniff delimiter as ','\u001b[0m\n",
      "\u001b[35m[2020-01-29:06:30:22:INFO] Determined delimiter of CSV input is ','\u001b[0m\n",
      "\u001b[35m[2020-01-29:06:30:22:INFO] Sniff delimiter as ','\u001b[0m\n",
      "\u001b[35m[2020-01-29:06:30:22:INFO] Determined delimiter of CSV input is ','\u001b[0m\n"
     ]
    },
    {
     "name": "stdout",
     "output_type": "stream",
     "text": [
      "\u001b[34m[2020-01-29:06:30:24:INFO] Sniff delimiter as ','\u001b[0m\n",
      "\u001b[34m[2020-01-29:06:30:24:INFO] Determined delimiter of CSV input is ','\u001b[0m\n",
      "\u001b[34m[2020-01-29:06:30:25:INFO] Sniff delimiter as ','\u001b[0m\n",
      "\u001b[35m[2020-01-29:06:30:24:INFO] Sniff delimiter as ','\u001b[0m\n",
      "\u001b[35m[2020-01-29:06:30:24:INFO] Determined delimiter of CSV input is ','\u001b[0m\n",
      "\u001b[35m[2020-01-29:06:30:25:INFO] Sniff delimiter as ','\u001b[0m\n",
      "\u001b[34m[2020-01-29:06:30:25:INFO] Determined delimiter of CSV input is ','\u001b[0m\n",
      "\u001b[35m[2020-01-29:06:30:25:INFO] Determined delimiter of CSV input is ','\u001b[0m\n",
      "\u001b[34m[2020-01-29:06:30:27:INFO] Sniff delimiter as ','\u001b[0m\n",
      "\u001b[34m[2020-01-29:06:30:27:INFO] Determined delimiter of CSV input is ','\u001b[0m\n",
      "\u001b[34m[2020-01-29:06:30:27:INFO] Sniff delimiter as ','\u001b[0m\n",
      "\u001b[34m[2020-01-29:06:30:27:INFO] Determined delimiter of CSV input is ','\u001b[0m\n",
      "\u001b[34m[2020-01-29:06:30:27:INFO] Sniff delimiter as ','\u001b[0m\n",
      "\u001b[34m[2020-01-29:06:30:27:INFO] Determined delimiter of CSV input is ','\u001b[0m\n",
      "\u001b[35m[2020-01-29:06:30:27:INFO] Sniff delimiter as ','\u001b[0m\n",
      "\u001b[35m[2020-01-29:06:30:27:INFO] Determined delimiter of CSV input is ','\u001b[0m\n",
      "\u001b[35m[2020-01-29:06:30:27:INFO] Sniff delimiter as ','\u001b[0m\n",
      "\u001b[35m[2020-01-29:06:30:27:INFO] Determined delimiter of CSV input is ','\u001b[0m\n",
      "\u001b[35m[2020-01-29:06:30:27:INFO] Sniff delimiter as ','\u001b[0m\n",
      "\u001b[35m[2020-01-29:06:30:27:INFO] Determined delimiter of CSV input is ','\u001b[0m\n",
      "\u001b[34m[2020-01-29:06:30:27:INFO] Sniff delimiter as ','\u001b[0m\n",
      "\u001b[34m[2020-01-29:06:30:27:INFO] Determined delimiter of CSV input is ','\u001b[0m\n",
      "\u001b[35m[2020-01-29:06:30:27:INFO] Sniff delimiter as ','\u001b[0m\n",
      "\u001b[35m[2020-01-29:06:30:27:INFO] Determined delimiter of CSV input is ','\u001b[0m\n",
      "\n"
     ]
    }
   ],
   "source": [
    "new_xgb_transformer.transform(test_location, content_type='text/csv', split_type='Line')\n",
    "new_xgb_transformer.wait()"
   ]
  },
  {
   "cell_type": "code",
   "execution_count": 69,
   "metadata": {},
   "outputs": [
    {
     "name": "stdout",
     "output_type": "stream",
     "text": [
      "Completed 256.0 KiB/366.4 KiB (3.4 MiB/s) with 1 file(s) remaining\r",
      "Completed 366.4 KiB/366.4 KiB (4.8 MiB/s) with 1 file(s) remaining\r",
      "download: s3://sagemaker-us-east-1-174814400447/xgboost-2020-01-29-06-26-14-644/test.csv.out to ../data/sentiment_update/test.csv.out\r\n"
     ]
    }
   ],
   "source": [
    "!aws s3 cp --recursive $new_xgb_transformer.output_path $data_dir"
   ]
  },
  {
   "cell_type": "code",
   "execution_count": 70,
   "metadata": {},
   "outputs": [],
   "source": [
    "predictions = pd.read_csv(os.path.join(data_dir, 'test.csv.out'), header=None)\n",
    "predictions = [round(num) for num in predictions.squeeze().values]"
   ]
  },
  {
   "cell_type": "code",
   "execution_count": 71,
   "metadata": {},
   "outputs": [
    {
     "data": {
      "text/plain": [
       "0.83284"
      ]
     },
     "execution_count": 71,
     "metadata": {},
     "output_type": "execute_result"
    }
   ],
   "source": [
    "accuracy_score(test_Y, predictions)"
   ]
  },
  {
   "cell_type": "markdown",
   "metadata": {},
   "source": [
    "It would appear that our new XGBoost model is performing quite well on the old test data. This gives us some indication that our new model should be put into production and replace our original model."
   ]
  },
  {
   "cell_type": "markdown",
   "metadata": {},
   "source": [
    "## Step 6: (TODO) Updating the Model\n",
    "\n",
    "So we have a new model that we'd like to use instead of one that is already deployed. Furthermore, we are assuming that the model that is already deployed is being used in some sort of application. As a result, what we want to do is update the existing endpoint so that it uses our new model.\n",
    "\n",
    "Of course, to do this we need to create an endpoint configuration for our newly created model.\n",
    "\n",
    "First, note that we can access the name of the model that we created above using the `model_name` property of the transformer. The reason for this is that in order for the transformer to create a batch transform job it needs to first create the model object inside of SageMaker. Since we've sort of already done this we should take advantage of it."
   ]
  },
  {
   "cell_type": "code",
   "execution_count": 72,
   "metadata": {},
   "outputs": [
    {
     "data": {
      "text/plain": [
       "'xgboost-2020-01-29-06-13-25-020'"
      ]
     },
     "execution_count": 72,
     "metadata": {},
     "output_type": "execute_result"
    }
   ],
   "source": [
    "new_xgb_transformer.model_name"
   ]
  },
  {
   "cell_type": "markdown",
   "metadata": {},
   "source": [
    "Next, we create an endpoint configuration using the low level approach of creating the dictionary object which describes the endpoint configuration we want.\n",
    "\n",
    "**TODO:** Using the low level approach, create a new endpoint configuration. Don't forget that it needs a name and that the name needs to be unique. If you get stuck, try looking at the Boston Housing Low Level Deployment tutorial notebook."
   ]
  },
  {
   "cell_type": "code",
   "execution_count": 73,
   "metadata": {},
   "outputs": [],
   "source": [
    "from time import gmtime, strftime\n",
    "\n",
    "\n",
    "# TODO: Give our endpoint configuration a name. Remember, it needs to be unique.\n",
    "# new_xgb_endpoint_config_name = None\n",
    "\n",
    "# Solution:\n",
    "new_xgb_endpoint_config_name = \"sentiment-update-xgboost-endpoint-config-\" + strftime(\"%Y-%m-%d-%H-%M-%S\", gmtime())\n",
    "\n",
    "# TODO: Using the SageMaker Client, construct the endpoint configuration.\n",
    "# new_xgb_endpoint_config_info = None\n",
    "\n",
    "# Solution:\n",
    "new_xgb_endpoint_config_info = session.sagemaker_client.create_endpoint_config(\n",
    "                            EndpointConfigName = new_xgb_endpoint_config_name,\n",
    "                            ProductionVariants = [{\n",
    "                                \"InstanceType\": \"ml.m4.xlarge\",\n",
    "                                \"InitialVariantWeight\": 1,\n",
    "                                \"InitialInstanceCount\": 1,\n",
    "                                \"ModelName\": new_xgb_transformer.model_name,\n",
    "                                \"VariantName\": \"XGB-Model\"\n",
    "                            }])"
   ]
  },
  {
   "cell_type": "markdown",
   "metadata": {},
   "source": [
    "Once the endpoint configuration has been constructed, it is a straightforward matter to ask SageMaker to update the existing endpoint so that it uses the new endpoint configuration.\n",
    "\n",
    "Of note here is that SageMaker does this in such a way that there is no downtime. Essentially, SageMaker deploys the new model and then updates the original endpoint so that it points to the newly deployed model. After that, the original model is shut down. This way, whatever app is using our endpoint won't notice that we've changed the model that is being used.\n",
    "\n",
    "**TODO:** Use the SageMaker Client to update the endpoint that you deployed earlier."
   ]
  },
  {
   "cell_type": "code",
   "execution_count": 74,
   "metadata": {},
   "outputs": [
    {
     "data": {
      "text/plain": [
       "{'EndpointArn': 'arn:aws:sagemaker:us-east-1:174814400447:endpoint/xgboost-2020-01-29-05-40-22-135',\n",
       " 'ResponseMetadata': {'RequestId': 'ceea0b39-36c0-4bf5-b223-87ff2925d04d',\n",
       "  'HTTPStatusCode': 200,\n",
       "  'HTTPHeaders': {'x-amzn-requestid': 'ceea0b39-36c0-4bf5-b223-87ff2925d04d',\n",
       "   'content-type': 'application/x-amz-json-1.1',\n",
       "   'content-length': '99',\n",
       "   'date': 'Wed, 29 Jan 2020 06:30:58 GMT'},\n",
       "  'RetryAttempts': 0}}"
      ]
     },
     "execution_count": 74,
     "metadata": {},
     "output_type": "execute_result"
    }
   ],
   "source": [
    "# TODO: Update the xgb_predictor.endpoint so that it uses new_xgb_endpoint_config_name.\n",
    "\n",
    "# Solution:\n",
    "session.sagemaker_client.update_endpoint(EndpointName=xgb_predictor.endpoint, EndpointConfigName=new_xgb_endpoint_config_name)"
   ]
  },
  {
   "cell_type": "markdown",
   "metadata": {},
   "source": [
    "And, as is generally the case with SageMaker requests, this is being done in the background so if we want to wait for it to complete we need to call the appropriate method."
   ]
  },
  {
   "cell_type": "code",
   "execution_count": 75,
   "metadata": {},
   "outputs": [
    {
     "name": "stdout",
     "output_type": "stream",
     "text": [
      "-----------------!"
     ]
    },
    {
     "data": {
      "text/plain": [
       "{'EndpointName': 'xgboost-2020-01-29-05-40-22-135',\n",
       " 'EndpointArn': 'arn:aws:sagemaker:us-east-1:174814400447:endpoint/xgboost-2020-01-29-05-40-22-135',\n",
       " 'EndpointConfigName': 'sentiment-update-xgboost-endpoint-config-2020-01-29-06-30-58',\n",
       " 'ProductionVariants': [{'VariantName': 'XGB-Model',\n",
       "   'DeployedImages': [{'SpecifiedImage': '811284229777.dkr.ecr.us-east-1.amazonaws.com/xgboost:1',\n",
       "     'ResolvedImage': '811284229777.dkr.ecr.us-east-1.amazonaws.com/xgboost@sha256:513e8442b35b9ecc9d326f85659f8e30b10e2cec096b863f04a9738baa9ebb57',\n",
       "     'ResolutionTime': datetime.datetime(2020, 1, 29, 6, 31, 2, 291000, tzinfo=tzlocal())}],\n",
       "   'CurrentWeight': 1.0,\n",
       "   'DesiredWeight': 1.0,\n",
       "   'CurrentInstanceCount': 1,\n",
       "   'DesiredInstanceCount': 1}],\n",
       " 'EndpointStatus': 'InService',\n",
       " 'CreationTime': datetime.datetime(2020, 1, 29, 5, 58, 59, 562000, tzinfo=tzlocal()),\n",
       " 'LastModifiedTime': datetime.datetime(2020, 1, 29, 6, 39, 13, 803000, tzinfo=tzlocal()),\n",
       " 'ResponseMetadata': {'RequestId': '5cc2c498-3c05-4fb7-a7f4-f518739beb6f',\n",
       "  'HTTPStatusCode': 200,\n",
       "  'HTTPHeaders': {'x-amzn-requestid': '5cc2c498-3c05-4fb7-a7f4-f518739beb6f',\n",
       "   'content-type': 'application/x-amz-json-1.1',\n",
       "   'content-length': '742',\n",
       "   'date': 'Wed, 29 Jan 2020 06:39:30 GMT'},\n",
       "  'RetryAttempts': 0}}"
      ]
     },
     "execution_count": 75,
     "metadata": {},
     "output_type": "execute_result"
    }
   ],
   "source": [
    "session.wait_for_endpoint(xgb_predictor.endpoint)"
   ]
  },
  {
   "cell_type": "markdown",
   "metadata": {},
   "source": [
    "## Step 7: Delete the Endpoint\n",
    "\n",
    "Of course, since we are done with the deployed endpoint we need to make sure to shut it down, otherwise we will continue to be charged for it."
   ]
  },
  {
   "cell_type": "code",
   "execution_count": 76,
   "metadata": {},
   "outputs": [],
   "source": [
    "xgb_predictor.delete_endpoint()"
   ]
  },
  {
   "cell_type": "markdown",
   "metadata": {},
   "source": [
    "## Some Additional Questions\n",
    "\n",
    "This notebook is a little different from the other notebooks in this module. In part, this is because it is meant to be a little bit closer to the type of problem you may face in a real world scenario. Of course, this problem is a very easy one with a prescribed solution, but there are many other interesting questions that we did not consider here and that you may wish to consider yourself.\n",
    "\n",
    "For example,\n",
    "- What other ways could the underlying distribution change?\n",
    "- Is it a good idea to re-train the model using only the new data?\n",
    "- What would change if the quantity of new data wasn't large. Say you only received 500 samples?\n"
   ]
  },
  {
   "cell_type": "markdown",
   "metadata": {},
   "source": [
    "## Optional: Clean up\n",
    "\n",
    "The default notebook instance on SageMaker doesn't have a lot of excess disk space available. As you continue to complete and execute notebooks you will eventually fill up this disk space, leading to errors which can be difficult to diagnose. Once you are completely finished using a notebook it is a good idea to remove the files that you created along the way. Of course, you can do this from the terminal or from the notebook hub if you would like. The cell below contains some commands to clean up the created files from within the notebook."
   ]
  },
  {
   "cell_type": "code",
   "execution_count": 77,
   "metadata": {},
   "outputs": [],
   "source": [
    "# First we will remove all of the files contained in the data_dir directory\n",
    "!rm $data_dir/*\n",
    "\n",
    "# And then we delete the directory itself\n",
    "!rmdir $data_dir\n",
    "\n",
    "# Similarly we will remove the files in the cache_dir directory and the directory itself\n",
    "!rm $cache_dir/*\n",
    "!rmdir $cache_dir"
   ]
  },
  {
   "cell_type": "code",
   "execution_count": null,
   "metadata": {},
   "outputs": [],
   "source": []
  }
 ],
 "metadata": {
  "kernelspec": {
   "display_name": "conda_pytorch_p36",
   "language": "python",
   "name": "conda_pytorch_p36"
  },
  "language_info": {
   "codemirror_mode": {
    "name": "ipython",
    "version": 3
   },
   "file_extension": ".py",
   "mimetype": "text/x-python",
   "name": "python",
   "nbconvert_exporter": "python",
   "pygments_lexer": "ipython3",
   "version": "3.6.5"
  }
 },
 "nbformat": 4,
 "nbformat_minor": 2
}
