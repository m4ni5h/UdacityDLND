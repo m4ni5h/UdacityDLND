{
 "cells": [
  {
   "cell_type": "markdown",
   "metadata": {},
   "source": [
    "# Predicting Boston Housing Prices\n",
    "\n",
    "## Using XGBoost in SageMaker (Hyperparameter Tuning)\n",
    "\n",
    "_Deep Learning Nanodegree Program | Deployment_\n",
    "\n",
    "---\n",
    "\n",
    "As an introduction to using SageMaker's High Level Python API for hyperparameter tuning, we will look again at the [Boston Housing Dataset](https://www.cs.toronto.edu/~delve/data/boston/bostonDetail.html) to predict the median value of a home in the area of Boston Mass.\n",
    "\n",
    "The documentation for the high level API can be found on the [ReadTheDocs page](http://sagemaker.readthedocs.io/en/latest/)\n",
    "\n",
    "## General Outline\n",
    "\n",
    "Typically, when using a notebook instance with SageMaker, you will proceed through the following steps. Of course, not every step will need to be done with each project. Also, there is quite a lot of room for variation in many of the steps, as you will see throughout these lessons.\n",
    "\n",
    "1. Download or otherwise retrieve the data.\n",
    "2. Process / Prepare the data.\n",
    "3. Upload the processed data to S3.\n",
    "4. Train a chosen model.\n",
    "5. Test the trained model (typically using a batch transform job).\n",
    "6. Deploy the trained model.\n",
    "7. Use the deployed model.\n",
    "\n",
    "In this notebook we will only be covering steps 1 through 5 as we are only interested in creating a tuned model and testing its performance."
   ]
  },
  {
   "cell_type": "markdown",
   "metadata": {},
   "source": [
    "## Step 0: Setting up the notebook\n",
    "\n",
    "We begin by setting up all of the necessary bits required to run our notebook. To start that means loading all of the Python modules we will need."
   ]
  },
  {
   "cell_type": "code",
   "execution_count": 1,
   "metadata": {},
   "outputs": [],
   "source": [
    "%matplotlib inline\n",
    "\n",
    "import os\n",
    "\n",
    "import numpy as np\n",
    "import pandas as pd\n",
    "\n",
    "import matplotlib.pyplot as plt\n",
    "\n",
    "from sklearn.datasets import load_boston\n",
    "import sklearn.model_selection"
   ]
  },
  {
   "cell_type": "markdown",
   "metadata": {},
   "source": [
    "In addition to the modules above, we need to import the various bits of SageMaker that we will be using. "
   ]
  },
  {
   "cell_type": "code",
   "execution_count": 2,
   "metadata": {},
   "outputs": [],
   "source": [
    "import sagemaker\n",
    "from sagemaker import get_execution_role\n",
    "from sagemaker.amazon.amazon_estimator import get_image_uri\n",
    "from sagemaker.predictor import csv_serializer\n",
    "\n",
    "# This is an object that represents the SageMaker session that we are currently operating in. This\n",
    "# object contains some useful information that we will need to access later such as our region.\n",
    "session = sagemaker.Session()\n",
    "\n",
    "# This is an object that represents the IAM role that we are currently assigned. When we construct\n",
    "# and launch the training job later we will need to tell it what IAM role it should have. Since our\n",
    "# use case is relatively simple we will simply assign the training job the role we currently have.\n",
    "role = get_execution_role()"
   ]
  },
  {
   "cell_type": "markdown",
   "metadata": {},
   "source": [
    "## Step 1: Downloading the data\n",
    "\n",
    "Fortunately, this dataset can be retrieved using sklearn and so this step is relatively straightforward."
   ]
  },
  {
   "cell_type": "code",
   "execution_count": 3,
   "metadata": {},
   "outputs": [],
   "source": [
    "boston = load_boston()"
   ]
  },
  {
   "cell_type": "markdown",
   "metadata": {},
   "source": [
    "## Step 2: Preparing and splitting the data\n",
    "\n",
    "Given that this is clean tabular data, we don't need to do any processing. However, we do need to split the rows in the dataset up into train, test and validation sets."
   ]
  },
  {
   "cell_type": "code",
   "execution_count": 4,
   "metadata": {},
   "outputs": [],
   "source": [
    "# First we package up the input data and the target variable (the median value) as pandas dataframes. This\n",
    "# will make saving the data to a file a little easier later on.\n",
    "\n",
    "X_bos_pd = pd.DataFrame(boston.data, columns=boston.feature_names)\n",
    "Y_bos_pd = pd.DataFrame(boston.target)\n",
    "\n",
    "# We split the dataset into 2/3 training and 1/3 testing sets.\n",
    "X_train, X_test, Y_train, Y_test = sklearn.model_selection.train_test_split(X_bos_pd, Y_bos_pd, test_size=0.33)\n",
    "\n",
    "# Then we split the training set further into 2/3 training and 1/3 validation sets.\n",
    "X_train, X_val, Y_train, Y_val = sklearn.model_selection.train_test_split(X_train, Y_train, test_size=0.33)"
   ]
  },
  {
   "cell_type": "markdown",
   "metadata": {},
   "source": [
    "## Step 3: Uploading the data files to S3\n",
    "\n",
    "When a training job is constructed using SageMaker, a container is executed which performs the training operation. This container is given access to data that is stored in S3. This means that we need to upload the data we want to use for training to S3. In addition, when we perform a batch transform job, SageMaker expects the input data to be stored on S3. We can use the SageMaker API to do this and hide some of the details.\n",
    "\n",
    "### Save the data locally\n",
    "\n",
    "First we need to create the test, train and validation csv files which we will then upload to S3."
   ]
  },
  {
   "cell_type": "code",
   "execution_count": 5,
   "metadata": {},
   "outputs": [],
   "source": [
    "# This is our local data directory. We need to make sure that it exists.\n",
    "data_dir = '../data/boston'\n",
    "if not os.path.exists(data_dir):\n",
    "    os.makedirs(data_dir)"
   ]
  },
  {
   "cell_type": "code",
   "execution_count": 6,
   "metadata": {},
   "outputs": [],
   "source": [
    "# We use pandas to save our test, train and validation data to csv files. Note that we make sure not to include header\n",
    "# information or an index as this is required by the built in algorithms provided by Amazon. Also, for the train and\n",
    "# validation data, it is assumed that the first entry in each row is the target variable.\n",
    "\n",
    "X_test.to_csv(os.path.join(data_dir, 'test.csv'), header=False, index=False)\n",
    "\n",
    "pd.concat([Y_val, X_val], axis=1).to_csv(os.path.join(data_dir, 'validation.csv'), header=False, index=False)\n",
    "pd.concat([Y_train, X_train], axis=1).to_csv(os.path.join(data_dir, 'train.csv'), header=False, index=False)"
   ]
  },
  {
   "cell_type": "markdown",
   "metadata": {},
   "source": [
    "### Upload to S3\n",
    "\n",
    "Since we are currently running inside of a SageMaker session, we can use the object which represents this session to upload our data to the 'default' S3 bucket. Note that it is good practice to provide a custom prefix (essentially an S3 folder) to make sure that you don't accidentally interfere with data uploaded from some other notebook or project."
   ]
  },
  {
   "cell_type": "code",
   "execution_count": 7,
   "metadata": {},
   "outputs": [],
   "source": [
    "prefix = 'boston-xgboost-tuning-HL'\n",
    "\n",
    "test_location = session.upload_data(os.path.join(data_dir, 'test.csv'), key_prefix=prefix)\n",
    "val_location = session.upload_data(os.path.join(data_dir, 'validation.csv'), key_prefix=prefix)\n",
    "train_location = session.upload_data(os.path.join(data_dir, 'train.csv'), key_prefix=prefix)"
   ]
  },
  {
   "cell_type": "markdown",
   "metadata": {},
   "source": [
    "## Step 4: Train the XGBoost model\n",
    "\n",
    "Now that we have the training and validation data uploaded to S3, we can construct our XGBoost model and train it. Unlike in the previous notebooks, instead of training a single model, we will use SageMaker's hyperparameter tuning functionality to train multiple models and use the one that performs the best on the validation set.\n",
    "\n",
    "To begin with, as in the previous approaches, we will need to construct an estimator object."
   ]
  },
  {
   "cell_type": "code",
   "execution_count": 8,
   "metadata": {},
   "outputs": [
    {
     "name": "stderr",
     "output_type": "stream",
     "text": [
      "WARNING:root:There is a more up to date SageMaker XGBoost image. To use the newer image, please set 'repo_version'='0.90-1'. For example:\n",
      "\tget_image_uri(region, 'xgboost', '0.90-1').\n"
     ]
    }
   ],
   "source": [
    "# As stated above, we use this utility method to construct the image name for the training container.\n",
    "container = get_image_uri(session.boto_region_name, 'xgboost')\n",
    "\n",
    "# Now that we know which container to use, we can construct the estimator object.\n",
    "xgb = sagemaker.estimator.Estimator(container, # The name of the training container\n",
    "                                    role,      # The IAM role to use (our current role in this case)\n",
    "                                    train_instance_count=1, # The number of instances to use for training\n",
    "                                    train_instance_type='ml.m4.xlarge', # The type of instance ot use for training\n",
    "                                    output_path='s3://{}/{}/output'.format(session.default_bucket(), prefix),\n",
    "                                                                        # Where to save the output (the model artifacts)\n",
    "                                    sagemaker_session=session) # The current SageMaker session"
   ]
  },
  {
   "cell_type": "markdown",
   "metadata": {},
   "source": [
    "Before beginning the hyperparameter tuning, we should make sure to set any model specific hyperparameters that we wish to have default values. There are quite a few that can be set when using the XGBoost algorithm, below are just a few of them. If you would like to change the hyperparameters below or modify additional ones you can find additional information on the [XGBoost hyperparameter page](https://docs.aws.amazon.com/sagemaker/latest/dg/xgboost_hyperparameters.html)"
   ]
  },
  {
   "cell_type": "code",
   "execution_count": 22,
   "metadata": {},
   "outputs": [
    {
     "name": "stdout",
     "output_type": "stream",
     "text": [
      "2020-02-05 03:51:27 Starting - Starting the training job...\n",
      "2020-02-05 03:51:29 Starting - Launching requested ML instances......\n",
      "2020-02-05 03:52:36 Starting - Preparing the instances for training...\n",
      "2020-02-05 03:53:28 Downloading - Downloading input data...\n",
      "2020-02-05 03:53:46 Training - Downloading the training image..\u001b[34mArguments: train\u001b[0m\n",
      "\u001b[34m[2020-02-05:03:54:09:INFO] Running standalone xgboost training.\u001b[0m\n",
      "\u001b[34m[2020-02-05:03:54:09:INFO] File size need to be processed in the node: 0.02mb. Available memory size in the node: 8529.59mb\u001b[0m\n",
      "\u001b[34m[2020-02-05:03:54:09:INFO] Determined delimiter of CSV input is ','\u001b[0m\n",
      "\u001b[34m[03:54:09] S3DistributionType set as FullyReplicated\u001b[0m\n",
      "\u001b[34m[03:54:09] 227x13 matrix with 2951 entries loaded from /opt/ml/input/data/train?format=csv&label_column=0&delimiter=,\u001b[0m\n",
      "\u001b[34m[2020-02-05:03:54:09:INFO] Determined delimiter of CSV input is ','\u001b[0m\n",
      "\u001b[34m[03:54:09] S3DistributionType set as FullyReplicated\u001b[0m\n",
      "\u001b[34m[03:54:09] 112x13 matrix with 1456 entries loaded from /opt/ml/input/data/validation?format=csv&label_column=0&delimiter=,\u001b[0m\n",
      "\u001b[34m[03:54:09] src/tree/updater_prune.cc:74: tree pruning end, 1 roots, 8 extra nodes, 2 pruned nodes, max_depth=3\u001b[0m\n",
      "\u001b[34m[0]#011train-rmse:19.4486#011validation-rmse:19.0741\u001b[0m\n",
      "\u001b[34mMultiple eval metrics have been passed: 'validation-rmse' will be used for early stopping.\n",
      "\u001b[0m\n",
      "\u001b[34mWill train until validation-rmse hasn't improved in 10 rounds.\u001b[0m\n",
      "\u001b[34m[03:54:09] src/tree/updater_prune.cc:74: tree pruning end, 1 roots, 12 extra nodes, 0 pruned nodes, max_depth=4\u001b[0m\n",
      "\u001b[34m[1]#011train-rmse:15.874#011validation-rmse:15.7027\u001b[0m\n",
      "\u001b[34m[03:54:09] src/tree/updater_prune.cc:74: tree pruning end, 1 roots, 10 extra nodes, 0 pruned nodes, max_depth=4\u001b[0m\n",
      "\u001b[34m[2]#011train-rmse:13.0045#011validation-rmse:12.9813\u001b[0m\n",
      "\u001b[34m[03:54:09] src/tree/updater_prune.cc:74: tree pruning end, 1 roots, 14 extra nodes, 0 pruned nodes, max_depth=5\u001b[0m\n",
      "\u001b[34m[3]#011train-rmse:10.7182#011validation-rmse:10.9042\u001b[0m\n",
      "\u001b[34m[03:54:09] src/tree/updater_prune.cc:74: tree pruning end, 1 roots, 18 extra nodes, 2 pruned nodes, max_depth=5\u001b[0m\n",
      "\u001b[34m[4]#011train-rmse:8.90247#011validation-rmse:9.24878\u001b[0m\n",
      "\u001b[34m[03:54:09] src/tree/updater_prune.cc:74: tree pruning end, 1 roots, 16 extra nodes, 0 pruned nodes, max_depth=5\u001b[0m\n",
      "\u001b[34m[5]#011train-rmse:7.44211#011validation-rmse:7.94609\u001b[0m\n",
      "\u001b[34m[03:54:09] src/tree/updater_prune.cc:74: tree pruning end, 1 roots, 22 extra nodes, 2 pruned nodes, max_depth=5\u001b[0m\n",
      "\u001b[34m[6]#011train-rmse:6.21648#011validation-rmse:6.88462\u001b[0m\n",
      "\u001b[34m[03:54:09] src/tree/updater_prune.cc:74: tree pruning end, 1 roots, 20 extra nodes, 2 pruned nodes, max_depth=5\u001b[0m\n",
      "\u001b[34m[7]#011train-rmse:5.31059#011validation-rmse:6.14142\u001b[0m\n",
      "\u001b[34m[03:54:09] src/tree/updater_prune.cc:74: tree pruning end, 1 roots, 24 extra nodes, 0 pruned nodes, max_depth=5\u001b[0m\n",
      "\u001b[34m[8]#011train-rmse:4.57786#011validation-rmse:5.58728\u001b[0m\n",
      "\u001b[34m[03:54:09] src/tree/updater_prune.cc:74: tree pruning end, 1 roots, 18 extra nodes, 0 pruned nodes, max_depth=5\u001b[0m\n",
      "\u001b[34m[9]#011train-rmse:3.98293#011validation-rmse:5.1689\u001b[0m\n",
      "\u001b[34m[03:54:09] src/tree/updater_prune.cc:74: tree pruning end, 1 roots, 26 extra nodes, 4 pruned nodes, max_depth=5\u001b[0m\n",
      "\u001b[34m[10]#011train-rmse:3.56667#011validation-rmse:4.8733\u001b[0m\n",
      "\u001b[34m[03:54:09] src/tree/updater_prune.cc:74: tree pruning end, 1 roots, 28 extra nodes, 0 pruned nodes, max_depth=5\u001b[0m\n",
      "\u001b[34m[11]#011train-rmse:3.15777#011validation-rmse:4.53715\u001b[0m\n",
      "\u001b[34m[03:54:09] src/tree/updater_prune.cc:74: tree pruning end, 1 roots, 32 extra nodes, 0 pruned nodes, max_depth=5\u001b[0m\n",
      "\u001b[34m[12]#011train-rmse:2.83788#011validation-rmse:4.36064\u001b[0m\n",
      "\u001b[34m[03:54:09] src/tree/updater_prune.cc:74: tree pruning end, 1 roots, 16 extra nodes, 0 pruned nodes, max_depth=5\u001b[0m\n",
      "\u001b[34m[13]#011train-rmse:2.64944#011validation-rmse:4.25544\u001b[0m\n",
      "\u001b[34m[03:54:09] src/tree/updater_prune.cc:74: tree pruning end, 1 roots, 16 extra nodes, 0 pruned nodes, max_depth=5\u001b[0m\n",
      "\u001b[34m[14]#011train-rmse:2.51355#011validation-rmse:4.13964\u001b[0m\n",
      "\u001b[34m[03:54:09] src/tree/updater_prune.cc:74: tree pruning end, 1 roots, 18 extra nodes, 4 pruned nodes, max_depth=5\u001b[0m\n",
      "\u001b[34m[15]#011train-rmse:2.37423#011validation-rmse:3.984\u001b[0m\n",
      "\u001b[34m[03:54:09] src/tree/updater_prune.cc:74: tree pruning end, 1 roots, 18 extra nodes, 0 pruned nodes, max_depth=5\u001b[0m\n",
      "\u001b[34m[16]#011train-rmse:2.264#011validation-rmse:3.9441\u001b[0m\n",
      "\u001b[34m[03:54:09] src/tree/updater_prune.cc:74: tree pruning end, 1 roots, 20 extra nodes, 6 pruned nodes, max_depth=5\u001b[0m\n",
      "\u001b[34m[17]#011train-rmse:2.1613#011validation-rmse:3.94019\u001b[0m\n",
      "\u001b[34m[03:54:09] src/tree/updater_prune.cc:74: tree pruning end, 1 roots, 18 extra nodes, 0 pruned nodes, max_depth=5\u001b[0m\n",
      "\u001b[34m[18]#011train-rmse:2.10219#011validation-rmse:3.885\u001b[0m\n",
      "\u001b[34m[03:54:09] src/tree/updater_prune.cc:74: tree pruning end, 1 roots, 28 extra nodes, 0 pruned nodes, max_depth=5\u001b[0m\n",
      "\u001b[34m[19]#011train-rmse:2.00913#011validation-rmse:3.82472\u001b[0m\n",
      "\u001b[34m[03:54:09] src/tree/updater_prune.cc:74: tree pruning end, 1 roots, 18 extra nodes, 2 pruned nodes, max_depth=5\u001b[0m\n",
      "\u001b[34m[20]#011train-rmse:1.96371#011validation-rmse:3.78394\u001b[0m\n",
      "\u001b[34m[03:54:09] src/tree/updater_prune.cc:74: tree pruning end, 1 roots, 24 extra nodes, 0 pruned nodes, max_depth=5\u001b[0m\n",
      "\u001b[34m[21]#011train-rmse:1.88857#011validation-rmse:3.71624\u001b[0m\n",
      "\u001b[34m[03:54:09] src/tree/updater_prune.cc:74: tree pruning end, 1 roots, 28 extra nodes, 0 pruned nodes, max_depth=5\u001b[0m\n",
      "\u001b[34m[22]#011train-rmse:1.82172#011validation-rmse:3.72085\u001b[0m\n",
      "\u001b[34m[03:54:09] src/tree/updater_prune.cc:74: tree pruning end, 1 roots, 22 extra nodes, 4 pruned nodes, max_depth=5\u001b[0m\n",
      "\u001b[34m[23]#011train-rmse:1.7964#011validation-rmse:3.72965\u001b[0m\n",
      "\u001b[34m[03:54:09] src/tree/updater_prune.cc:74: tree pruning end, 1 roots, 18 extra nodes, 4 pruned nodes, max_depth=5\u001b[0m\n",
      "\u001b[34m[24]#011train-rmse:1.75102#011validation-rmse:3.67463\u001b[0m\n",
      "\u001b[34m[03:54:09] src/tree/updater_prune.cc:74: tree pruning end, 1 roots, 14 extra nodes, 2 pruned nodes, max_depth=5\u001b[0m\n",
      "\u001b[34m[25]#011train-rmse:1.72011#011validation-rmse:3.61471\u001b[0m\n",
      "\u001b[34m[03:54:09] src/tree/updater_prune.cc:74: tree pruning end, 1 roots, 22 extra nodes, 4 pruned nodes, max_depth=5\u001b[0m\n",
      "\u001b[34m[26]#011train-rmse:1.66388#011validation-rmse:3.60288\u001b[0m\n",
      "\u001b[34m[03:54:09] src/tree/updater_prune.cc:74: tree pruning end, 1 roots, 16 extra nodes, 6 pruned nodes, max_depth=5\u001b[0m\n",
      "\u001b[34m[27]#011train-rmse:1.64656#011validation-rmse:3.61547\u001b[0m\n",
      "\u001b[34m[03:54:09] src/tree/updater_prune.cc:74: tree pruning end, 1 roots, 18 extra nodes, 4 pruned nodes, max_depth=5\u001b[0m\n",
      "\u001b[34m[28]#011train-rmse:1.58845#011validation-rmse:3.55243\u001b[0m\n",
      "\u001b[34m[03:54:09] src/tree/updater_prune.cc:74: tree pruning end, 1 roots, 16 extra nodes, 4 pruned nodes, max_depth=5\u001b[0m\n",
      "\u001b[34m[29]#011train-rmse:1.54512#011validation-rmse:3.50004\u001b[0m\n",
      "\u001b[34m[03:54:09] src/tree/updater_prune.cc:74: tree pruning end, 1 roots, 12 extra nodes, 6 pruned nodes, max_depth=4\u001b[0m\n",
      "\u001b[34m[30]#011train-rmse:1.51238#011validation-rmse:3.50352\u001b[0m\n",
      "\u001b[34m[03:54:09] src/tree/updater_prune.cc:74: tree pruning end, 1 roots, 20 extra nodes, 14 pruned nodes, max_depth=5\u001b[0m\n",
      "\u001b[34m[31]#011train-rmse:1.47171#011validation-rmse:3.5103\u001b[0m\n",
      "\u001b[34m[03:54:09] src/tree/updater_prune.cc:74: tree pruning end, 1 roots, 6 extra nodes, 4 pruned nodes, max_depth=3\u001b[0m\n",
      "\u001b[34m[32]#011train-rmse:1.47289#011validation-rmse:3.52412\u001b[0m\n",
      "\u001b[34m[03:54:09] src/tree/updater_prune.cc:74: tree pruning end, 1 roots, 14 extra nodes, 8 pruned nodes, max_depth=5\u001b[0m\n",
      "\u001b[34m[33]#011train-rmse:1.44919#011validation-rmse:3.49065\u001b[0m\n",
      "\u001b[34m[03:54:09] src/tree/updater_prune.cc:74: tree pruning end, 1 roots, 12 extra nodes, 2 pruned nodes, max_depth=5\u001b[0m\n",
      "\u001b[34m[34]#011train-rmse:1.43474#011validation-rmse:3.46718\u001b[0m\n",
      "\u001b[34m[03:54:09] src/tree/updater_prune.cc:74: tree pruning end, 1 roots, 12 extra nodes, 6 pruned nodes, max_depth=5\u001b[0m\n",
      "\u001b[34m[35]#011train-rmse:1.41871#011validation-rmse:3.44735\u001b[0m\n",
      "\u001b[34m[03:54:09] src/tree/updater_prune.cc:74: tree pruning end, 1 roots, 12 extra nodes, 4 pruned nodes, max_depth=5\u001b[0m\n",
      "\u001b[34m[36]#011train-rmse:1.39195#011validation-rmse:3.41468\u001b[0m\n",
      "\u001b[34m[03:54:09] src/tree/updater_prune.cc:74: tree pruning end, 1 roots, 22 extra nodes, 8 pruned nodes, max_depth=5\u001b[0m\n",
      "\u001b[34m[37]#011train-rmse:1.34762#011validation-rmse:3.43772\u001b[0m\n",
      "\u001b[34m[03:54:09] src/tree/updater_prune.cc:74: tree pruning end, 1 roots, 12 extra nodes, 8 pruned nodes, max_depth=5\u001b[0m\n",
      "\u001b[34m[38]#011train-rmse:1.32266#011validation-rmse:3.42691\u001b[0m\n",
      "\u001b[34m[03:54:09] src/tree/updater_prune.cc:74: tree pruning end, 1 roots, 12 extra nodes, 8 pruned nodes, max_depth=5\u001b[0m\n",
      "\u001b[34m[39]#011train-rmse:1.30896#011validation-rmse:3.44219\u001b[0m\n",
      "\u001b[34m[03:54:09] src/tree/updater_prune.cc:74: tree pruning end, 1 roots, 8 extra nodes, 10 pruned nodes, max_depth=4\u001b[0m\n",
      "\u001b[34m[40]#011train-rmse:1.29731#011validation-rmse:3.41685\u001b[0m\n",
      "\u001b[34m[03:54:09] src/tree/updater_prune.cc:74: tree pruning end, 1 roots, 12 extra nodes, 6 pruned nodes, max_depth=5\u001b[0m\n",
      "\u001b[34m[41]#011train-rmse:1.29195#011validation-rmse:3.44146\u001b[0m\n",
      "\u001b[34m[03:54:09] src/tree/updater_prune.cc:74: tree pruning end, 1 roots, 12 extra nodes, 2 pruned nodes, max_depth=5\u001b[0m\n",
      "\u001b[34m[42]#011train-rmse:1.27586#011validation-rmse:3.41779\u001b[0m\n",
      "\u001b[34m[03:54:09] src/tree/updater_prune.cc:74: tree pruning end, 1 roots, 2 extra nodes, 20 pruned nodes, max_depth=1\u001b[0m\n",
      "\u001b[34m[43]#011train-rmse:1.27549#011validation-rmse:3.43279\u001b[0m\n",
      "\u001b[34m[03:54:09] src/tree/updater_prune.cc:74: tree pruning end, 1 roots, 10 extra nodes, 12 pruned nodes, max_depth=5\u001b[0m\n",
      "\u001b[34m[44]#011train-rmse:1.27025#011validation-rmse:3.44519\u001b[0m\n",
      "\u001b[34m[03:54:09] src/tree/updater_prune.cc:74: tree pruning end, 1 roots, 2 extra nodes, 14 pruned nodes, max_depth=1\u001b[0m\n",
      "\u001b[34m[45]#011train-rmse:1.26523#011validation-rmse:3.43066\u001b[0m\n",
      "\u001b[34m[03:54:09] src/tree/updater_prune.cc:74: tree pruning end, 1 roots, 8 extra nodes, 16 pruned nodes, max_depth=4\u001b[0m\n",
      "\u001b[34m[46]#011train-rmse:1.25223#011validation-rmse:3.40735\u001b[0m\n",
      "\u001b[34m[03:54:09] src/tree/updater_prune.cc:74: tree pruning end, 1 roots, 10 extra nodes, 4 pruned nodes, max_depth=4\u001b[0m\n",
      "\u001b[34m[47]#011train-rmse:1.22812#011validation-rmse:3.39635\u001b[0m\n",
      "\u001b[34m[03:54:09] src/tree/updater_prune.cc:74: tree pruning end, 1 roots, 10 extra nodes, 14 pruned nodes, max_depth=4\u001b[0m\n",
      "\u001b[34m[48]#011train-rmse:1.20807#011validation-rmse:3.36623\u001b[0m\n",
      "\u001b[34m[03:54:09] src/tree/updater_prune.cc:74: tree pruning end, 1 roots, 10 extra nodes, 4 pruned nodes, max_depth=5\u001b[0m\n",
      "\u001b[34m[49]#011train-rmse:1.20489#011validation-rmse:3.37913\u001b[0m\n",
      "\u001b[34m[03:54:09] src/tree/updater_prune.cc:74: tree pruning end, 1 roots, 14 extra nodes, 10 pruned nodes, max_depth=5\u001b[0m\n",
      "\u001b[34m[50]#011train-rmse:1.18856#011validation-rmse:3.35765\u001b[0m\n",
      "\u001b[34m[03:54:09] src/tree/updater_prune.cc:74: tree pruning end, 1 roots, 6 extra nodes, 10 pruned nodes, max_depth=2\u001b[0m\n",
      "\u001b[34m[51]#011train-rmse:1.1708#011validation-rmse:3.3787\u001b[0m\n",
      "\u001b[34m[03:54:09] src/tree/updater_prune.cc:74: tree pruning end, 1 roots, 2 extra nodes, 18 pruned nodes, max_depth=1\u001b[0m\n",
      "\u001b[34m[52]#011train-rmse:1.16703#011validation-rmse:3.35371\u001b[0m\n",
      "\u001b[34m[03:54:09] src/tree/updater_prune.cc:74: tree pruning end, 1 roots, 6 extra nodes, 10 pruned nodes, max_depth=3\u001b[0m\n",
      "\u001b[34m[53]#011train-rmse:1.15699#011validation-rmse:3.342\u001b[0m\n",
      "\u001b[34m[03:54:09] src/tree/updater_prune.cc:74: tree pruning end, 1 roots, 16 extra nodes, 8 pruned nodes, max_depth=5\u001b[0m\n",
      "\u001b[34m[54]#011train-rmse:1.12632#011validation-rmse:3.34081\u001b[0m\n",
      "\u001b[34m[03:54:09] src/tree/updater_prune.cc:74: tree pruning end, 1 roots, 4 extra nodes, 14 pruned nodes, max_depth=2\u001b[0m\n",
      "\u001b[34m[55]#011train-rmse:1.12304#011validation-rmse:3.35443\u001b[0m\n",
      "\u001b[34m[03:54:09] src/tree/updater_prune.cc:74: tree pruning end, 1 roots, 2 extra nodes, 22 pruned nodes, max_depth=1\u001b[0m\n",
      "\u001b[34m[56]#011train-rmse:1.11799#011validation-rmse:3.33879\u001b[0m\n",
      "\u001b[34m[03:54:09] src/tree/updater_prune.cc:74: tree pruning end, 1 roots, 14 extra nodes, 14 pruned nodes, max_depth=5\u001b[0m\n",
      "\u001b[34m[57]#011train-rmse:1.0959#011validation-rmse:3.33675\u001b[0m\n",
      "\u001b[34m[03:54:09] src/tree/updater_prune.cc:74: tree pruning end, 1 roots, 6 extra nodes, 22 pruned nodes, max_depth=3\u001b[0m\n",
      "\u001b[34m[58]#011train-rmse:1.08649#011validation-rmse:3.34201\u001b[0m\n",
      "\u001b[34m[03:54:09] src/tree/updater_prune.cc:74: tree pruning end, 1 roots, 8 extra nodes, 10 pruned nodes, max_depth=4\u001b[0m\n",
      "\u001b[34m[59]#011train-rmse:1.07735#011validation-rmse:3.32361\u001b[0m\n",
      "\u001b[34m[03:54:09] src/tree/updater_prune.cc:74: tree pruning end, 1 roots, 2 extra nodes, 18 pruned nodes, max_depth=1\u001b[0m\n",
      "\u001b[34m[60]#011train-rmse:1.0753#011validation-rmse:3.31337\u001b[0m\n",
      "\u001b[34m[03:54:09] src/tree/updater_prune.cc:74: tree pruning end, 1 roots, 14 extra nodes, 12 pruned nodes, max_depth=5\u001b[0m\n",
      "\u001b[34m[61]#011train-rmse:1.05914#011validation-rmse:3.32914\u001b[0m\n",
      "\u001b[34m[03:54:09] src/tree/updater_prune.cc:74: tree pruning end, 1 roots, 8 extra nodes, 18 pruned nodes, max_depth=3\u001b[0m\n",
      "\u001b[34m[62]#011train-rmse:1.04121#011validation-rmse:3.3258\u001b[0m\n",
      "\u001b[34m[03:54:09] src/tree/updater_prune.cc:74: tree pruning end, 1 roots, 2 extra nodes, 14 pruned nodes, max_depth=1\u001b[0m\n",
      "\u001b[34m[63]#011train-rmse:1.03991#011validation-rmse:3.31449\u001b[0m\n",
      "\u001b[34m[03:54:09] src/tree/updater_prune.cc:74: tree pruning end, 1 roots, 10 extra nodes, 12 pruned nodes, max_depth=5\u001b[0m\n",
      "\u001b[34m[64]#011train-rmse:1.03126#011validation-rmse:3.29565\u001b[0m\n",
      "\u001b[34m[03:54:09] src/tree/updater_prune.cc:74: tree pruning end, 1 roots, 10 extra nodes, 10 pruned nodes, max_depth=4\u001b[0m\n",
      "\u001b[34m[65]#011train-rmse:1.00568#011validation-rmse:3.3276\u001b[0m\n",
      "\u001b[34m[03:54:09] src/tree/updater_prune.cc:74: tree pruning end, 1 roots, 6 extra nodes, 20 pruned nodes, max_depth=2\u001b[0m\n",
      "\u001b[34m[66]#011train-rmse:0.988554#011validation-rmse:3.33708\u001b[0m\n",
      "\u001b[34m[03:54:09] src/tree/updater_prune.cc:74: tree pruning end, 1 roots, 4 extra nodes, 26 pruned nodes, max_depth=2\u001b[0m\n",
      "\u001b[34m[67]#011train-rmse:0.980977#011validation-rmse:3.33826\u001b[0m\n",
      "\u001b[34m[03:54:09] src/tree/updater_prune.cc:74: tree pruning end, 1 roots, 2 extra nodes, 24 pruned nodes, max_depth=1\u001b[0m\n",
      "\u001b[34m[68]#011train-rmse:0.983012#011validation-rmse:3.3582\u001b[0m\n",
      "\u001b[34m[03:54:09] src/tree/updater_prune.cc:74: tree pruning end, 1 roots, 6 extra nodes, 12 pruned nodes, max_depth=3\u001b[0m\n",
      "\u001b[34m[69]#011train-rmse:0.973621#011validation-rmse:3.3432\u001b[0m\n",
      "\u001b[34m[03:54:09] src/tree/updater_prune.cc:74: tree pruning end, 1 roots, 4 extra nodes, 18 pruned nodes, max_depth=2\u001b[0m\n",
      "\u001b[34m[70]#011train-rmse:0.966178#011validation-rmse:3.34346\u001b[0m\n",
      "\u001b[34m[03:54:09] src/tree/updater_prune.cc:74: tree pruning end, 1 roots, 0 extra nodes, 26 pruned nodes, max_depth=0\u001b[0m\n",
      "\u001b[34m[71]#011train-rmse:0.966169#011validation-rmse:3.34328\u001b[0m\n",
      "\u001b[34m[03:54:09] src/tree/updater_prune.cc:74: tree pruning end, 1 roots, 10 extra nodes, 12 pruned nodes, max_depth=5\u001b[0m\n",
      "\u001b[34m[72]#011train-rmse:0.956688#011validation-rmse:3.33118\u001b[0m\n",
      "\u001b[34m[03:54:09] src/tree/updater_prune.cc:74: tree pruning end, 1 roots, 10 extra nodes, 12 pruned nodes, max_depth=4\u001b[0m\n",
      "\u001b[34m[73]#011train-rmse:0.935814#011validation-rmse:3.31243\u001b[0m\n",
      "\u001b[34m[03:54:09] src/tree/updater_prune.cc:74: tree pruning end, 1 roots, 4 extra nodes, 18 pruned nodes, max_depth=2\u001b[0m\n",
      "\u001b[34m[74]#011train-rmse:0.92974#011validation-rmse:3.30092\u001b[0m\n",
      "\u001b[34mStopping. Best iteration:\u001b[0m\n",
      "\u001b[34m[64]#011train-rmse:1.03126#011validation-rmse:3.29565\n",
      "\u001b[0m\n",
      "\n",
      "2020-02-05 03:54:17 Uploading - Uploading generated training model\n",
      "2020-02-05 03:54:17 Completed - Training job completed\n",
      "Training seconds: 49\n",
      "Billable seconds: 49\n"
     ]
    }
   ],
   "source": [
    "xgb.set_hyperparameters(max_depth=5,\n",
    "                        eta=0.2,\n",
    "                        gamma=4,\n",
    "                        min_child_weight=6,\n",
    "                        subsample=0.8,\n",
    "                        objective='reg:linear',\n",
    "                        early_stopping_rounds=10,\n",
    "                        num_round=200)\n",
    "\n",
    "#s3_input_train = sagemaker.s3_input(s3_data=train_location, content_type='csv')\n",
    "#s3_input_validation = sagemaker.s3_input(s3_data=val_location, content_type='csv')\n",
    "\n",
    "#xgb.fit({'train': s3_input_train, 'validation': s3_input_validation})"
   ]
  },
  {
   "cell_type": "markdown",
   "metadata": {},
   "source": [
    "Now that we have our estimator object completely set up, it is time to create the hyperparameter tuner. To do this we need to construct a new object which contains each of the parameters we want SageMaker to tune. In this case, we wish to find the best values for the `max_depth`, `eta`, `min_child_weight`, `subsample`, and `gamma` parameters. Note that for each parameter that we want SageMaker to tune we need to specify both the *type* of the parameter and the *range* of values that parameter may take on.\n",
    "\n",
    "In addition, we specify the *number* of models to construct (`max_jobs`) and the number of those that can be trained in parallel (`max_parallel_jobs`). In the cell below we have chosen to train `20` models, of which we ask that SageMaker train `3` at a time in parallel. Note that this results in a total of `20` training jobs being executed which can take some time, in this case almost a half hour. With more complicated models this can take even longer so be aware!"
   ]
  },
  {
   "cell_type": "code",
   "execution_count": 10,
   "metadata": {},
   "outputs": [],
   "source": [
    "from sagemaker.tuner import IntegerParameter, ContinuousParameter, HyperparameterTuner\n",
    "\n",
    "xgb_hyperparameter_tuner = HyperparameterTuner(estimator = xgb, # The estimator object to use as the basis for the training jobs.\n",
    "                                               objective_metric_name = 'validation:rmse', # The metric used to compare trained models.\n",
    "                                               objective_type = 'Minimize', # Whether we wish to minimize or maximize the metric.\n",
    "                                               max_jobs = 20, # The total number of models to train\n",
    "                                               max_parallel_jobs = 3, # The number of models to train in parallel\n",
    "                                               hyperparameter_ranges = {\n",
    "                                                    'max_depth': IntegerParameter(3, 12),\n",
    "                                                    'eta'      : ContinuousParameter(0.05, 0.5),\n",
    "                                                    'min_child_weight': IntegerParameter(2, 8),\n",
    "                                                    'subsample': ContinuousParameter(0.5, 0.9),\n",
    "                                                    'gamma': ContinuousParameter(0, 10),\n",
    "                                               })"
   ]
  },
  {
   "cell_type": "markdown",
   "metadata": {},
   "source": [
    "Now that we have our hyperparameter tuner object completely set up, it is time to train it. To do this we make sure that SageMaker knows our input data is in csv format and then execute the `fit` method."
   ]
  },
  {
   "cell_type": "code",
   "execution_count": 11,
   "metadata": {},
   "outputs": [],
   "source": [
    "# This is a wrapper around the location of our train and validation data, to make sure that SageMaker\n",
    "# knows our data is in csv format.\n",
    "s3_input_train = sagemaker.s3_input(s3_data=train_location, content_type='csv')\n",
    "s3_input_validation = sagemaker.s3_input(s3_data=val_location, content_type='csv')\n",
    "\n",
    "xgb_hyperparameter_tuner.fit({'train': s3_input_train, 'validation': s3_input_validation})"
   ]
  },
  {
   "cell_type": "markdown",
   "metadata": {},
   "source": [
    "As in many of the examples we have seen so far, the `fit()` method takes care of setting up and fitting a number of different models, each with different hyperparameters. If we wish to wait for this process to finish, we can call the `wait()` method."
   ]
  },
  {
   "cell_type": "code",
   "execution_count": 12,
   "metadata": {},
   "outputs": [
    {
     "name": "stdout",
     "output_type": "stream",
     "text": [
      ".......................................................................................................................................................................................................................................................................................................!\n"
     ]
    }
   ],
   "source": [
    "xgb_hyperparameter_tuner.wait()"
   ]
  },
  {
   "cell_type": "markdown",
   "metadata": {},
   "source": [
    "Once the hyperamater tuner has finished, we can retrieve information about the best performing model. "
   ]
  },
  {
   "cell_type": "code",
   "execution_count": 13,
   "metadata": {},
   "outputs": [
    {
     "data": {
      "text/plain": [
       "'xgboost-200204-0458-010-3bea3701'"
      ]
     },
     "execution_count": 13,
     "metadata": {},
     "output_type": "execute_result"
    }
   ],
   "source": [
    "xgb_hyperparameter_tuner.best_training_job()"
   ]
  },
  {
   "cell_type": "markdown",
   "metadata": {},
   "source": [
    "In addition, since we'd like to set up a batch transform job to test the best model, we can construct a new estimator object from the results of the best training job. The `xgb_attached` object below can now be used as though we constructed an estimator with the best performing hyperparameters and then fit it to our training data."
   ]
  },
  {
   "cell_type": "code",
   "execution_count": 14,
   "metadata": {},
   "outputs": [
    {
     "name": "stdout",
     "output_type": "stream",
     "text": [
      "2020-02-04 05:12:38 Starting - Preparing the instances for training\n",
      "2020-02-04 05:12:38 Downloading - Downloading input data\n",
      "2020-02-04 05:12:38 Training - Training image download completed. Training in progress.\n",
      "2020-02-04 05:12:38 Uploading - Uploading generated training model\n",
      "2020-02-04 05:12:38 Completed - Training job completed\u001b[34mArguments: train\u001b[0m\n",
      "\u001b[34m[2020-02-04:05:12:27:INFO] Running standalone xgboost training.\u001b[0m\n",
      "\u001b[34m[2020-02-04:05:12:27:INFO] Setting up HPO optimized metric to be : rmse\u001b[0m\n",
      "\u001b[34m[2020-02-04:05:12:27:INFO] File size need to be processed in the node: 0.02mb. Available memory size in the node: 8518.36mb\u001b[0m\n",
      "\u001b[34m[2020-02-04:05:12:27:INFO] Determined delimiter of CSV input is ','\u001b[0m\n",
      "\u001b[34m[05:12:27] S3DistributionType set as FullyReplicated\u001b[0m\n",
      "\u001b[34m[05:12:27] 227x13 matrix with 2951 entries loaded from /opt/ml/input/data/train?format=csv&label_column=0&delimiter=,\u001b[0m\n",
      "\u001b[34m[2020-02-04:05:12:27:INFO] Determined delimiter of CSV input is ','\u001b[0m\n",
      "\u001b[34m[05:12:27] S3DistributionType set as FullyReplicated\u001b[0m\n",
      "\u001b[34m[05:12:27] 112x13 matrix with 1456 entries loaded from /opt/ml/input/data/validation?format=csv&label_column=0&delimiter=,\u001b[0m\n",
      "\u001b[34m[05:12:27] src/tree/updater_prune.cc:74: tree pruning end, 1 roots, 12 extra nodes, 2 pruned nodes, max_depth=5\u001b[0m\n",
      "\u001b[34m[0]#011train-rmse:22.8#011validation-rmse:22.3517\u001b[0m\n",
      "\u001b[34mMultiple eval metrics have been passed: 'validation-rmse' will be used for early stopping.\n",
      "\u001b[0m\n",
      "\u001b[34mWill train until validation-rmse hasn't improved in 10 rounds.\u001b[0m\n",
      "\u001b[34m[05:12:27] src/tree/updater_prune.cc:74: tree pruning end, 1 roots, 12 extra nodes, 0 pruned nodes, max_depth=4\u001b[0m\n",
      "\u001b[34m[1]#011train-rmse:21.7429#011validation-rmse:21.351\u001b[0m\n",
      "\u001b[34m[05:12:27] src/tree/updater_prune.cc:74: tree pruning end, 1 roots, 12 extra nodes, 0 pruned nodes, max_depth=5\u001b[0m\n",
      "\u001b[34m[2]#011train-rmse:20.7306#011validation-rmse:20.3512\u001b[0m\n",
      "\u001b[34m[05:12:27] src/tree/updater_prune.cc:74: tree pruning end, 1 roots, 8 extra nodes, 0 pruned nodes, max_depth=3\u001b[0m\n",
      "\u001b[34m[3]#011train-rmse:19.7641#011validation-rmse:19.3964\u001b[0m\n",
      "\u001b[34m[05:12:27] src/tree/updater_prune.cc:74: tree pruning end, 1 roots, 10 extra nodes, 2 pruned nodes, max_depth=4\u001b[0m\n",
      "\u001b[34m[4]#011train-rmse:18.8668#011validation-rmse:18.5209\u001b[0m\n",
      "\u001b[34m[05:12:27] src/tree/updater_prune.cc:74: tree pruning end, 1 roots, 16 extra nodes, 0 pruned nodes, max_depth=5\u001b[0m\n",
      "\u001b[34m[5]#011train-rmse:17.9949#011validation-rmse:17.6901\u001b[0m\n",
      "\u001b[34m[05:12:27] src/tree/updater_prune.cc:74: tree pruning end, 1 roots, 8 extra nodes, 0 pruned nodes, max_depth=3\u001b[0m\n",
      "\u001b[34m[6]#011train-rmse:17.1639#011validation-rmse:16.9045\u001b[0m\n",
      "\u001b[34m[05:12:27] src/tree/updater_prune.cc:74: tree pruning end, 1 roots, 12 extra nodes, 0 pruned nodes, max_depth=4\u001b[0m\n",
      "\u001b[34m[7]#011train-rmse:16.3832#011validation-rmse:16.1546\u001b[0m\n",
      "\u001b[34m[05:12:27] src/tree/updater_prune.cc:74: tree pruning end, 1 roots, 14 extra nodes, 0 pruned nodes, max_depth=4\u001b[0m\n",
      "\u001b[34m[8]#011train-rmse:15.6341#011validation-rmse:15.4446\u001b[0m\n",
      "\u001b[34m[05:12:27] src/tree/updater_prune.cc:74: tree pruning end, 1 roots, 16 extra nodes, 0 pruned nodes, max_depth=5\u001b[0m\n",
      "\u001b[34m[9]#011train-rmse:14.9192#011validation-rmse:14.7745\u001b[0m\n",
      "\u001b[34m[05:12:27] src/tree/updater_prune.cc:74: tree pruning end, 1 roots, 20 extra nodes, 0 pruned nodes, max_depth=7\u001b[0m\n",
      "\u001b[34m[10]#011train-rmse:14.2471#011validation-rmse:14.1524\u001b[0m\n",
      "\u001b[34m[05:12:27] src/tree/updater_prune.cc:74: tree pruning end, 1 roots, 16 extra nodes, 4 pruned nodes, max_depth=4\u001b[0m\n",
      "\u001b[34m[11]#011train-rmse:13.6029#011validation-rmse:13.5529\u001b[0m\n",
      "\u001b[34m[05:12:27] src/tree/updater_prune.cc:74: tree pruning end, 1 roots, 22 extra nodes, 0 pruned nodes, max_depth=5\u001b[0m\n",
      "\u001b[34m[12]#011train-rmse:12.9836#011validation-rmse:12.9732\u001b[0m\n",
      "\u001b[34m[05:12:27] src/tree/updater_prune.cc:74: tree pruning end, 1 roots, 22 extra nodes, 0 pruned nodes, max_depth=6\u001b[0m\n",
      "\u001b[34m[13]#011train-rmse:12.4057#011validation-rmse:12.4369\u001b[0m\n",
      "\u001b[34m[05:12:27] src/tree/updater_prune.cc:74: tree pruning end, 1 roots, 26 extra nodes, 0 pruned nodes, max_depth=6\u001b[0m\n",
      "\u001b[34m[14]#011train-rmse:11.8459#011validation-rmse:11.936\u001b[0m\n",
      "\u001b[34m[05:12:27] src/tree/updater_prune.cc:74: tree pruning end, 1 roots, 30 extra nodes, 0 pruned nodes, max_depth=5\u001b[0m\n",
      "\u001b[34m[15]#011train-rmse:11.3237#011validation-rmse:11.4495\u001b[0m\n",
      "\u001b[34m[05:12:27] src/tree/updater_prune.cc:74: tree pruning end, 1 roots, 26 extra nodes, 0 pruned nodes, max_depth=6\u001b[0m\n",
      "\u001b[34m[16]#011train-rmse:10.8288#011validation-rmse:11.0039\u001b[0m\n",
      "\u001b[34m[05:12:27] src/tree/updater_prune.cc:74: tree pruning end, 1 roots, 22 extra nodes, 0 pruned nodes, max_depth=5\u001b[0m\n",
      "\u001b[34m[17]#011train-rmse:10.35#011validation-rmse:10.5618\u001b[0m\n",
      "\u001b[34m[05:12:27] src/tree/updater_prune.cc:74: tree pruning end, 1 roots, 24 extra nodes, 0 pruned nodes, max_depth=5\u001b[0m\n",
      "\u001b[34m[18]#011train-rmse:9.89045#011validation-rmse:10.1438\u001b[0m\n",
      "\u001b[34m[05:12:27] src/tree/updater_prune.cc:74: tree pruning end, 1 roots, 24 extra nodes, 2 pruned nodes, max_depth=5\u001b[0m\n",
      "\u001b[34m[19]#011train-rmse:9.46022#011validation-rmse:9.74791\u001b[0m\n",
      "\u001b[34m[05:12:27] src/tree/updater_prune.cc:74: tree pruning end, 1 roots, 30 extra nodes, 4 pruned nodes, max_depth=5\u001b[0m\n",
      "\u001b[34m[20]#011train-rmse:9.05643#011validation-rmse:9.36824\u001b[0m\n",
      "\u001b[34m[05:12:27] src/tree/updater_prune.cc:74: tree pruning end, 1 roots, 26 extra nodes, 8 pruned nodes, max_depth=5\u001b[0m\n",
      "\u001b[34m[21]#011train-rmse:8.6614#011validation-rmse:8.99756\u001b[0m\n",
      "\u001b[34m[05:12:27] src/tree/updater_prune.cc:74: tree pruning end, 1 roots, 32 extra nodes, 4 pruned nodes, max_depth=6\u001b[0m\n",
      "\u001b[34m[22]#011train-rmse:8.28644#011validation-rmse:8.66781\u001b[0m\n",
      "\u001b[34m[05:12:27] src/tree/updater_prune.cc:74: tree pruning end, 1 roots, 18 extra nodes, 4 pruned nodes, max_depth=5\u001b[0m\n",
      "\u001b[34m[23]#011train-rmse:7.94228#011validation-rmse:8.37909\u001b[0m\n",
      "\u001b[34m[05:12:27] src/tree/updater_prune.cc:74: tree pruning end, 1 roots, 42 extra nodes, 6 pruned nodes, max_depth=7\u001b[0m\n",
      "\u001b[34m[24]#011train-rmse:7.61027#011validation-rmse:8.0959\u001b[0m\n",
      "\u001b[34m[05:12:27] src/tree/updater_prune.cc:74: tree pruning end, 1 roots, 30 extra nodes, 4 pruned nodes, max_depth=7\u001b[0m\n",
      "\u001b[34m[25]#011train-rmse:7.29591#011validation-rmse:7.81299\u001b[0m\n",
      "\u001b[34m[05:12:27] src/tree/updater_prune.cc:74: tree pruning end, 1 roots, 30 extra nodes, 8 pruned nodes, max_depth=7\u001b[0m\n",
      "\u001b[34m[26]#011train-rmse:7.00352#011validation-rmse:7.54325\u001b[0m\n",
      "\u001b[34m[05:12:27] src/tree/updater_prune.cc:74: tree pruning end, 1 roots, 30 extra nodes, 12 pruned nodes, max_depth=5\u001b[0m\n",
      "\u001b[34m[27]#011train-rmse:6.72454#011validation-rmse:7.30635\u001b[0m\n",
      "\u001b[34m[05:12:27] src/tree/updater_prune.cc:74: tree pruning end, 1 roots, 40 extra nodes, 6 pruned nodes, max_depth=7\u001b[0m\n",
      "\u001b[34m[28]#011train-rmse:6.44296#011validation-rmse:7.05661\u001b[0m\n",
      "\u001b[34m[05:12:27] src/tree/updater_prune.cc:74: tree pruning end, 1 roots, 32 extra nodes, 14 pruned nodes, max_depth=7\u001b[0m\n",
      "\u001b[34m[29]#011train-rmse:6.17443#011validation-rmse:6.82651\u001b[0m\n",
      "\u001b[34m[05:12:27] src/tree/updater_prune.cc:74: tree pruning end, 1 roots, 34 extra nodes, 8 pruned nodes, max_depth=9\u001b[0m\n",
      "\u001b[34m[30]#011train-rmse:5.93189#011validation-rmse:6.61991\u001b[0m\n",
      "\u001b[34m[05:12:27] src/tree/updater_prune.cc:74: tree pruning end, 1 roots, 40 extra nodes, 10 pruned nodes, max_depth=7\u001b[0m\n",
      "\u001b[34m[31]#011train-rmse:5.7011#011validation-rmse:6.43059\u001b[0m\n",
      "\u001b[34m[05:12:27] src/tree/updater_prune.cc:74: tree pruning end, 1 roots, 38 extra nodes, 14 pruned nodes, max_depth=6\u001b[0m\n",
      "\u001b[34m[32]#011train-rmse:5.48522#011validation-rmse:6.26309\u001b[0m\n",
      "\u001b[34m[05:12:27] src/tree/updater_prune.cc:74: tree pruning end, 1 roots, 38 extra nodes, 16 pruned nodes, max_depth=7\u001b[0m\n",
      "\u001b[34m[33]#011train-rmse:5.26383#011validation-rmse:6.08748\u001b[0m\n",
      "\u001b[34m[05:12:27] src/tree/updater_prune.cc:74: tree pruning end, 1 roots, 42 extra nodes, 14 pruned nodes, max_depth=7\u001b[0m\n",
      "\u001b[34m[34]#011train-rmse:5.05619#011validation-rmse:5.92857\u001b[0m\n",
      "\u001b[34m[05:12:27] src/tree/updater_prune.cc:74: tree pruning end, 1 roots, 44 extra nodes, 10 pruned nodes, max_depth=8\u001b[0m\n",
      "\u001b[34m[35]#011train-rmse:4.85393#011validation-rmse:5.76513\u001b[0m\n",
      "\u001b[34m[05:12:27] src/tree/updater_prune.cc:74: tree pruning end, 1 roots, 44 extra nodes, 16 pruned nodes, max_depth=9\u001b[0m\n",
      "\u001b[34m[36]#011train-rmse:4.6641#011validation-rmse:5.60861\u001b[0m\n",
      "\u001b[34m[05:12:27] src/tree/updater_prune.cc:74: tree pruning end, 1 roots, 42 extra nodes, 26 pruned nodes, max_depth=7\u001b[0m\n",
      "\u001b[34m[37]#011train-rmse:4.48613#011validation-rmse:5.47367\u001b[0m\n",
      "\u001b[34m[05:12:27] src/tree/updater_prune.cc:74: tree pruning end, 1 roots, 38 extra nodes, 28 pruned nodes, max_depth=7\u001b[0m\n",
      "\u001b[34m[38]#011train-rmse:4.31226#011validation-rmse:5.35326\u001b[0m\n",
      "\u001b[34m[05:12:27] src/tree/updater_prune.cc:74: tree pruning end, 1 roots, 50 extra nodes, 14 pruned nodes, max_depth=9\u001b[0m\n",
      "\u001b[34m[39]#011train-rmse:4.15593#011validation-rmse:5.23528\u001b[0m\n",
      "\u001b[34m[05:12:27] src/tree/updater_prune.cc:74: tree pruning end, 1 roots, 40 extra nodes, 26 pruned nodes, max_depth=9\u001b[0m\n",
      "\u001b[34m[40]#011train-rmse:3.99831#011validation-rmse:5.11498\u001b[0m\n",
      "\u001b[34m[05:12:27] src/tree/updater_prune.cc:74: tree pruning end, 1 roots, 48 extra nodes, 18 pruned nodes, max_depth=10\u001b[0m\n",
      "\u001b[34m[41]#011train-rmse:3.85518#011validation-rmse:5.01506\u001b[0m\n",
      "\u001b[34m[05:12:27] src/tree/updater_prune.cc:74: tree pruning end, 1 roots, 44 extra nodes, 24 pruned nodes, max_depth=10\u001b[0m\n",
      "\u001b[34m[42]#011train-rmse:3.71254#011validation-rmse:4.91193\u001b[0m\n",
      "\u001b[34m[05:12:27] src/tree/updater_prune.cc:74: tree pruning end, 1 roots, 38 extra nodes, 22 pruned nodes, max_depth=9\u001b[0m\n",
      "\u001b[34m[43]#011train-rmse:3.58838#011validation-rmse:4.83065\u001b[0m\n",
      "\u001b[34m[05:12:27] src/tree/updater_prune.cc:74: tree pruning end, 1 roots, 52 extra nodes, 28 pruned nodes, max_depth=10\u001b[0m\n",
      "\u001b[34m[44]#011train-rmse:3.45148#011validation-rmse:4.74303\u001b[0m\n",
      "\u001b[34m[05:12:27] src/tree/updater_prune.cc:74: tree pruning end, 1 roots, 56 extra nodes, 20 pruned nodes, max_depth=8\u001b[0m\n",
      "\u001b[34m[45]#011train-rmse:3.3281#011validation-rmse:4.6615\u001b[0m\n",
      "\u001b[34m[05:12:27] src/tree/updater_prune.cc:74: tree pruning end, 1 roots, 40 extra nodes, 30 pruned nodes, max_depth=9\u001b[0m\n",
      "\u001b[34m[46]#011train-rmse:3.21194#011validation-rmse:4.57483\u001b[0m\n",
      "\u001b[34m[05:12:27] src/tree/updater_prune.cc:74: tree pruning end, 1 roots, 44 extra nodes, 38 pruned nodes, max_depth=10\u001b[0m\n",
      "\u001b[34m[47]#011train-rmse:3.09857#011validation-rmse:4.48972\u001b[0m\n",
      "\u001b[34m[05:12:27] src/tree/updater_prune.cc:74: tree pruning end, 1 roots, 50 extra nodes, 22 pruned nodes, max_depth=10\u001b[0m\n",
      "\u001b[34m[48]#011train-rmse:2.99171#011validation-rmse:4.4117\u001b[0m\n",
      "\u001b[34m[05:12:27] src/tree/updater_prune.cc:74: tree pruning end, 1 roots, 42 extra nodes, 34 pruned nodes, max_depth=10\u001b[0m\n",
      "\u001b[34m[49]#011train-rmse:2.89133#011validation-rmse:4.33303\u001b[0m\n",
      "\u001b[34m[05:12:27] src/tree/updater_prune.cc:74: tree pruning end, 1 roots, 58 extra nodes, 34 pruned nodes, max_depth=10\u001b[0m\n",
      "\u001b[34m[50]#011train-rmse:2.79601#011validation-rmse:4.25816\u001b[0m\n",
      "\u001b[34m[05:12:27] src/tree/updater_prune.cc:74: tree pruning end, 1 roots, 46 extra nodes, 56 pruned nodes, max_depth=8\u001b[0m\n",
      "\u001b[34m[51]#011train-rmse:2.70091#011validation-rmse:4.19494\u001b[0m\n",
      "\u001b[34m[05:12:27] src/tree/updater_prune.cc:74: tree pruning end, 1 roots, 44 extra nodes, 40 pruned nodes, max_depth=10\u001b[0m\n",
      "\u001b[34m[52]#011train-rmse:2.60872#011validation-rmse:4.14434\u001b[0m\n",
      "\u001b[34m[05:12:27] src/tree/updater_prune.cc:74: tree pruning end, 1 roots, 48 extra nodes, 34 pruned nodes, max_depth=10\u001b[0m\n",
      "\u001b[34m[53]#011train-rmse:2.52536#011validation-rmse:4.09237\u001b[0m\n",
      "\u001b[34m[05:12:27] src/tree/updater_prune.cc:74: tree pruning end, 1 roots, 38 extra nodes, 60 pruned nodes, max_depth=9\u001b[0m\n",
      "\u001b[34m[54]#011train-rmse:2.44107#011validation-rmse:4.03749\u001b[0m\n",
      "\u001b[34m[05:12:27] src/tree/updater_prune.cc:74: tree pruning end, 1 roots, 48 extra nodes, 56 pruned nodes, max_depth=9\u001b[0m\n",
      "\u001b[34m[55]#011train-rmse:2.37386#011validation-rmse:4.00801\u001b[0m\n",
      "\u001b[34m[05:12:27] src/tree/updater_prune.cc:74: tree pruning end, 1 roots, 46 extra nodes, 44 pruned nodes, max_depth=10\u001b[0m\n",
      "\u001b[34m[56]#011train-rmse:2.30392#011validation-rmse:3.95107\u001b[0m\n",
      "\u001b[34m[05:12:27] src/tree/updater_prune.cc:74: tree pruning end, 1 roots, 44 extra nodes, 62 pruned nodes, max_depth=8\u001b[0m\n",
      "\u001b[34m[57]#011train-rmse:2.22854#011validation-rmse:3.89906\u001b[0m\n",
      "\u001b[34m[05:12:27] src/tree/updater_prune.cc:74: tree pruning end, 1 roots, 42 extra nodes, 38 pruned nodes, max_depth=10\u001b[0m\n",
      "\u001b[34m[58]#011train-rmse:2.1635#011validation-rmse:3.863\u001b[0m\n",
      "\u001b[34m[05:12:27] src/tree/updater_prune.cc:74: tree pruning end, 1 roots, 40 extra nodes, 38 pruned nodes, max_depth=10\u001b[0m\n",
      "\u001b[34m[59]#011train-rmse:2.10106#011validation-rmse:3.82227\u001b[0m\n",
      "\u001b[34m[05:12:27] src/tree/updater_prune.cc:74: tree pruning end, 1 roots, 52 extra nodes, 52 pruned nodes, max_depth=10\u001b[0m\n",
      "\u001b[34m[60]#011train-rmse:2.04246#011validation-rmse:3.78354\u001b[0m\n",
      "\u001b[34m[05:12:27] src/tree/updater_prune.cc:74: tree pruning end, 1 roots, 42 extra nodes, 44 pruned nodes, max_depth=10\u001b[0m\n",
      "\u001b[34m[61]#011train-rmse:1.98451#011validation-rmse:3.75461\u001b[0m\n",
      "\u001b[34m[05:12:27] src/tree/updater_prune.cc:74: tree pruning end, 1 roots, 44 extra nodes, 70 pruned nodes, max_depth=9\u001b[0m\n",
      "\u001b[34m[62]#011train-rmse:1.9309#011validation-rmse:3.72141\u001b[0m\n",
      "\u001b[34m[05:12:27] src/tree/updater_prune.cc:74: tree pruning end, 1 roots, 54 extra nodes, 56 pruned nodes, max_depth=9\u001b[0m\n",
      "\u001b[34m[63]#011train-rmse:1.87292#011validation-rmse:3.70903\u001b[0m\n",
      "\u001b[34m[05:12:27] src/tree/updater_prune.cc:74: tree pruning end, 1 roots, 46 extra nodes, 62 pruned nodes, max_depth=8\u001b[0m\n",
      "\u001b[34m[64]#011train-rmse:1.81942#011validation-rmse:3.69458\u001b[0m\n",
      "\u001b[34m[05:12:27] src/tree/updater_prune.cc:74: tree pruning end, 1 roots, 38 extra nodes, 74 pruned nodes, max_depth=9\u001b[0m\n",
      "\u001b[34m[65]#011train-rmse:1.77182#011validation-rmse:3.66479\u001b[0m\n",
      "\u001b[34m[05:12:27] src/tree/updater_prune.cc:74: tree pruning end, 1 roots, 32 extra nodes, 36 pruned nodes, max_depth=10\u001b[0m\n",
      "\u001b[34m[66]#011train-rmse:1.73045#011validation-rmse:3.63866\u001b[0m\n",
      "\u001b[34m[05:12:27] src/tree/updater_prune.cc:74: tree pruning end, 1 roots, 36 extra nodes, 56 pruned nodes, max_depth=10\u001b[0m\n",
      "\u001b[34m[67]#011train-rmse:1.69143#011validation-rmse:3.60845\u001b[0m\n",
      "\u001b[34m[05:12:27] src/tree/updater_prune.cc:74: tree pruning end, 1 roots, 40 extra nodes, 50 pruned nodes, max_depth=10\u001b[0m\n",
      "\u001b[34m[68]#011train-rmse:1.65824#011validation-rmse:3.60612\u001b[0m\n",
      "\u001b[34m[05:12:27] src/tree/updater_prune.cc:74: tree pruning end, 1 roots, 30 extra nodes, 68 pruned nodes, max_depth=10\u001b[0m\n",
      "\u001b[34m[69]#011train-rmse:1.62515#011validation-rmse:3.58069\u001b[0m\n",
      "\u001b[34m[05:12:27] src/tree/updater_prune.cc:74: tree pruning end, 1 roots, 38 extra nodes, 50 pruned nodes, max_depth=10\u001b[0m\n",
      "\u001b[34m[70]#011train-rmse:1.58993#011validation-rmse:3.55999\u001b[0m\n",
      "\u001b[34m[05:12:27] src/tree/updater_prune.cc:74: tree pruning end, 1 roots, 30 extra nodes, 66 pruned nodes, max_depth=10\u001b[0m\n",
      "\u001b[34m[71]#011train-rmse:1.56528#011validation-rmse:3.55126\u001b[0m\n",
      "\u001b[34m[05:12:27] src/tree/updater_prune.cc:74: tree pruning end, 1 roots, 38 extra nodes, 64 pruned nodes, max_depth=10\u001b[0m\n",
      "\u001b[34m[72]#011train-rmse:1.53027#011validation-rmse:3.52634\u001b[0m\n",
      "\u001b[34m[05:12:27] src/tree/updater_prune.cc:74: tree pruning end, 1 roots, 36 extra nodes, 64 pruned nodes, max_depth=9\u001b[0m\n",
      "\u001b[34m[73]#011train-rmse:1.49863#011validation-rmse:3.49939\u001b[0m\n",
      "\u001b[34m[05:12:27] src/tree/updater_prune.cc:74: tree pruning end, 1 roots, 36 extra nodes, 80 pruned nodes, max_depth=9\u001b[0m\n",
      "\u001b[34m[74]#011train-rmse:1.47163#011validation-rmse:3.47534\u001b[0m\n",
      "\u001b[34m[05:12:27] src/tree/updater_prune.cc:74: tree pruning end, 1 roots, 30 extra nodes, 76 pruned nodes, max_depth=9\u001b[0m\n",
      "\u001b[34m[75]#011train-rmse:1.4461#011validation-rmse:3.45789\u001b[0m\n",
      "\u001b[34m[05:12:27] src/tree/updater_prune.cc:74: tree pruning end, 1 roots, 34 extra nodes, 68 pruned nodes, max_depth=10\u001b[0m\n",
      "\u001b[34m[76]#011train-rmse:1.42088#011validation-rmse:3.44008\u001b[0m\n",
      "\u001b[34m[05:12:27] src/tree/updater_prune.cc:74: tree pruning end, 1 roots, 28 extra nodes, 76 pruned nodes, max_depth=8\u001b[0m\n",
      "\u001b[34m[77]#011train-rmse:1.39719#011validation-rmse:3.42447\u001b[0m\n",
      "\u001b[34m[05:12:27] src/tree/updater_prune.cc:74: tree pruning end, 1 roots, 34 extra nodes, 72 pruned nodes, max_depth=10\u001b[0m\n",
      "\u001b[34m[78]#011train-rmse:1.37473#011validation-rmse:3.41408\u001b[0m\n",
      "\u001b[34m[05:12:27] src/tree/updater_prune.cc:74: tree pruning end, 1 roots, 24 extra nodes, 78 pruned nodes, max_depth=8\u001b[0m\n",
      "\u001b[34m[79]#011train-rmse:1.35498#011validation-rmse:3.40369\u001b[0m\n",
      "\u001b[34m[05:12:27] src/tree/updater_prune.cc:74: tree pruning end, 1 roots, 22 extra nodes, 86 pruned nodes, max_depth=7\u001b[0m\n",
      "\u001b[34m[80]#011train-rmse:1.33579#011validation-rmse:3.3872\u001b[0m\n",
      "\u001b[34m[05:12:27] src/tree/updater_prune.cc:74: tree pruning end, 1 roots, 34 extra nodes, 40 pruned nodes, max_depth=9\u001b[0m\n",
      "\u001b[34m[81]#011train-rmse:1.30891#011validation-rmse:3.368\u001b[0m\n",
      "\u001b[34m[05:12:27] src/tree/updater_prune.cc:74: tree pruning end, 1 roots, 32 extra nodes, 68 pruned nodes, max_depth=9\u001b[0m\n",
      "\u001b[34m[82]#011train-rmse:1.29142#011validation-rmse:3.35829\u001b[0m\n",
      "\u001b[34m[05:12:27] src/tree/updater_prune.cc:74: tree pruning end, 1 roots, 32 extra nodes, 40 pruned nodes, max_depth=10\u001b[0m\n",
      "\u001b[34m[83]#011train-rmse:1.26692#011validation-rmse:3.33859\u001b[0m\n",
      "\u001b[34m[05:12:27] src/tree/updater_prune.cc:74: tree pruning end, 1 roots, 26 extra nodes, 80 pruned nodes, max_depth=7\u001b[0m\n",
      "\u001b[34m[84]#011train-rmse:1.24892#011validation-rmse:3.32679\u001b[0m\n",
      "\u001b[34m[05:12:27] src/tree/updater_prune.cc:74: tree pruning end, 1 roots, 32 extra nodes, 74 pruned nodes, max_depth=9\u001b[0m\n",
      "\u001b[34m[85]#011train-rmse:1.22604#011validation-rmse:3.30799\u001b[0m\n",
      "\u001b[34m[05:12:27] src/tree/updater_prune.cc:74: tree pruning end, 1 roots, 26 extra nodes, 92 pruned nodes, max_depth=7\u001b[0m\n",
      "\u001b[34m[86]#011train-rmse:1.21547#011validation-rmse:3.31376\u001b[0m\n",
      "\u001b[34m[05:12:27] src/tree/updater_prune.cc:74: tree pruning end, 1 roots, 26 extra nodes, 50 pruned nodes, max_depth=10\u001b[0m\n",
      "\u001b[34m[87]#011train-rmse:1.19994#011validation-rmse:3.29725\u001b[0m\n",
      "\u001b[34m[05:12:27] src/tree/updater_prune.cc:74: tree pruning end, 1 roots, 22 extra nodes, 68 pruned nodes, max_depth=9\u001b[0m\n",
      "\u001b[34m[88]#011train-rmse:1.19105#011validation-rmse:3.29996\u001b[0m\n",
      "\u001b[34m[05:12:27] src/tree/updater_prune.cc:74: tree pruning end, 1 roots, 30 extra nodes, 50 pruned nodes, max_depth=8\u001b[0m\n",
      "\u001b[34m[89]#011train-rmse:1.17769#011validation-rmse:3.28682\u001b[0m\n",
      "\u001b[34m[05:12:27] src/tree/updater_prune.cc:74: tree pruning end, 1 roots, 20 extra nodes, 76 pruned nodes, max_depth=7\u001b[0m\n",
      "\u001b[34m[90]#011train-rmse:1.17132#011validation-rmse:3.28891\u001b[0m\n",
      "\u001b[34m[05:12:27] src/tree/updater_prune.cc:74: tree pruning end, 1 roots, 24 extra nodes, 66 pruned nodes, max_depth=8\u001b[0m\n",
      "\u001b[34m[91]#011train-rmse:1.15108#011validation-rmse:3.28403\u001b[0m\n",
      "\u001b[34m[05:12:27] src/tree/updater_prune.cc:74: tree pruning end, 1 roots, 22 extra nodes, 42 pruned nodes, max_depth=9\u001b[0m\n",
      "\u001b[34m[92]#011train-rmse:1.14087#011validation-rmse:3.27449\u001b[0m\n",
      "\u001b[34m[05:12:27] src/tree/updater_prune.cc:74: tree pruning end, 1 roots, 36 extra nodes, 66 pruned nodes, max_depth=9\u001b[0m\n",
      "\u001b[34m[93]#011train-rmse:1.12771#011validation-rmse:3.26622\u001b[0m\n",
      "\u001b[34m[05:12:27] src/tree/updater_prune.cc:74: tree pruning end, 1 roots, 26 extra nodes, 96 pruned nodes, max_depth=10\u001b[0m\n",
      "\u001b[34m[94]#011train-rmse:1.12075#011validation-rmse:3.27144\u001b[0m\n",
      "\u001b[34m[05:12:27] src/tree/updater_prune.cc:74: tree pruning end, 1 roots, 24 extra nodes, 76 pruned nodes, max_depth=9\u001b[0m\n",
      "\u001b[34m[95]#011train-rmse:1.10966#011validation-rmse:3.26089\u001b[0m\n",
      "\u001b[34m[05:12:27] src/tree/updater_prune.cc:74: tree pruning end, 1 roots, 22 extra nodes, 88 pruned nodes, max_depth=7\u001b[0m\n",
      "\u001b[34m[96]#011train-rmse:1.09987#011validation-rmse:3.2513\u001b[0m\n",
      "\u001b[34m[05:12:27] src/tree/updater_prune.cc:74: tree pruning end, 1 roots, 16 extra nodes, 38 pruned nodes, max_depth=7\u001b[0m\n",
      "\u001b[34m[97]#011train-rmse:1.0861#011validation-rmse:3.24025\u001b[0m\n",
      "\u001b[34m[05:12:27] src/tree/updater_prune.cc:74: tree pruning end, 1 roots, 14 extra nodes, 102 pruned nodes, max_depth=6\u001b[0m\n",
      "\u001b[34m[98]#011train-rmse:1.07892#011validation-rmse:3.23259\u001b[0m\n",
      "\u001b[34m[05:12:27] src/tree/updater_prune.cc:74: tree pruning end, 1 roots, 8 extra nodes, 76 pruned nodes, max_depth=4\u001b[0m\n",
      "\u001b[34m[99]#011train-rmse:1.06798#011validation-rmse:3.22007\u001b[0m\n",
      "\u001b[34m[05:12:27] src/tree/updater_prune.cc:74: tree pruning end, 1 roots, 14 extra nodes, 66 pruned nodes, max_depth=6\u001b[0m\n",
      "\u001b[34m[100]#011train-rmse:1.05608#011validation-rmse:3.20897\u001b[0m\n",
      "\u001b[34m[05:12:27] src/tree/updater_prune.cc:74: tree pruning end, 1 roots, 10 extra nodes, 104 pruned nodes, max_depth=4\u001b[0m\n",
      "\u001b[34m[101]#011train-rmse:1.0502#011validation-rmse:3.20195\u001b[0m\n",
      "\u001b[34m[05:12:27] src/tree/updater_prune.cc:74: tree pruning end, 1 roots, 14 extra nodes, 84 pruned nodes, max_depth=6\u001b[0m\n",
      "\u001b[34m[102]#011train-rmse:1.03878#011validation-rmse:3.19104\u001b[0m\n",
      "\u001b[34m[05:12:27] src/tree/updater_prune.cc:74: tree pruning end, 1 roots, 16 extra nodes, 80 pruned nodes, max_depth=7\u001b[0m\n",
      "\u001b[34m[103]#011train-rmse:1.02735#011validation-rmse:3.18481\u001b[0m\n",
      "\u001b[34m[05:12:27] src/tree/updater_prune.cc:74: tree pruning end, 1 roots, 20 extra nodes, 60 pruned nodes, max_depth=10\u001b[0m\n",
      "\u001b[34m[104]#011train-rmse:1.02052#011validation-rmse:3.17582\u001b[0m\n",
      "\u001b[34m[05:12:27] src/tree/updater_prune.cc:74: tree pruning end, 1 roots, 18 extra nodes, 76 pruned nodes, max_depth=7\u001b[0m\n",
      "\u001b[34m[105]#011train-rmse:1.00926#011validation-rmse:3.16435\u001b[0m\n",
      "\u001b[34m[05:12:27] src/tree/updater_prune.cc:74: tree pruning end, 1 roots, 18 extra nodes, 76 pruned nodes, max_depth=8\u001b[0m\n",
      "\u001b[34m[106]#011train-rmse:0.997856#011validation-rmse:3.15479\u001b[0m\n",
      "\u001b[34m[05:12:27] src/tree/updater_prune.cc:74: tree pruning end, 1 roots, 24 extra nodes, 86 pruned nodes, max_depth=9\u001b[0m\n",
      "\u001b[34m[107]#011train-rmse:0.986913#011validation-rmse:3.1424\u001b[0m\n",
      "\u001b[34m[05:12:27] src/tree/updater_prune.cc:74: tree pruning end, 1 roots, 18 extra nodes, 76 pruned nodes, max_depth=9\u001b[0m\n",
      "\u001b[34m[108]#011train-rmse:0.984819#011validation-rmse:3.1503\u001b[0m\n",
      "\u001b[34m[05:12:27] src/tree/updater_prune.cc:74: tree pruning end, 1 roots, 8 extra nodes, 46 pruned nodes, max_depth=4\u001b[0m\n",
      "\u001b[34m[109]#011train-rmse:0.980736#011validation-rmse:3.14513\u001b[0m\n",
      "\u001b[34m[05:12:27] src/tree/updater_prune.cc:74: tree pruning end, 1 roots, 18 extra nodes, 62 pruned nodes, max_depth=9\u001b[0m\n",
      "\u001b[34m[110]#011train-rmse:0.971156#011validation-rmse:3.13875\u001b[0m\n",
      "\u001b[34m[05:12:27] src/tree/updater_prune.cc:74: tree pruning end, 1 roots, 16 extra nodes, 54 pruned nodes, max_depth=8\u001b[0m\n",
      "\u001b[34m[111]#011train-rmse:0.965721#011validation-rmse:3.13364\u001b[0m\n",
      "\u001b[34m[05:12:27] src/tree/updater_prune.cc:74: tree pruning end, 1 roots, 10 extra nodes, 82 pruned nodes, max_depth=5\u001b[0m\n",
      "\u001b[34m[112]#011train-rmse:0.958432#011validation-rmse:3.12582\u001b[0m\n",
      "\u001b[34m[05:12:27] src/tree/updater_prune.cc:74: tree pruning end, 1 roots, 4 extra nodes, 86 pruned nodes, max_depth=2\u001b[0m\n",
      "\u001b[34m[113]#011train-rmse:0.951976#011validation-rmse:3.11726\u001b[0m\n",
      "\u001b[34m[05:12:27] src/tree/updater_prune.cc:74: tree pruning end, 1 roots, 14 extra nodes, 112 pruned nodes, max_depth=7\u001b[0m\n",
      "\u001b[34m[114]#011train-rmse:0.948294#011validation-rmse:3.10757\u001b[0m\n",
      "\u001b[34m[05:12:27] src/tree/updater_prune.cc:74: tree pruning end, 1 roots, 2 extra nodes, 110 pruned nodes, max_depth=1\u001b[0m\n",
      "\u001b[34m[115]#011train-rmse:0.94878#011validation-rmse:3.11475\u001b[0m\n",
      "\u001b[34m[05:12:27] src/tree/updater_prune.cc:74: tree pruning end, 1 roots, 18 extra nodes, 76 pruned nodes, max_depth=9\u001b[0m\n",
      "\u001b[34m[116]#011train-rmse:0.943816#011validation-rmse:3.11133\u001b[0m\n",
      "\u001b[34m[05:12:27] src/tree/updater_prune.cc:74: tree pruning end, 1 roots, 14 extra nodes, 80 pruned nodes, max_depth=7\u001b[0m\n",
      "\u001b[34m[117]#011train-rmse:0.936547#011validation-rmse:3.10371\u001b[0m\n",
      "\u001b[34m[05:12:27] src/tree/updater_prune.cc:74: tree pruning end, 1 roots, 4 extra nodes, 54 pruned nodes, max_depth=2\u001b[0m\n",
      "\u001b[34m[118]#011train-rmse:0.934282#011validation-rmse:3.10024\u001b[0m\n",
      "\u001b[34m[05:12:27] src/tree/updater_prune.cc:74: tree pruning end, 1 roots, 24 extra nodes, 88 pruned nodes, max_depth=9\u001b[0m\n",
      "\u001b[34m[119]#011train-rmse:0.923839#011validation-rmse:3.08891\u001b[0m\n",
      "\u001b[34m[05:12:27] src/tree/updater_prune.cc:74: tree pruning end, 1 roots, 14 extra nodes, 96 pruned nodes, max_depth=6\u001b[0m\n",
      "\u001b[34m[120]#011train-rmse:0.919983#011validation-rmse:3.0832\u001b[0m\n",
      "\u001b[34m[05:12:27] src/tree/updater_prune.cc:74: tree pruning end, 1 roots, 16 extra nodes, 76 pruned nodes, max_depth=8\u001b[0m\n",
      "\u001b[34m[121]#011train-rmse:0.913684#011validation-rmse:3.07759\u001b[0m\n",
      "\u001b[34m[05:12:27] src/tree/updater_prune.cc:74: tree pruning end, 1 roots, 6 extra nodes, 62 pruned nodes, max_depth=2\u001b[0m\n",
      "\u001b[34m[122]#011train-rmse:0.9038#011validation-rmse:3.06899\u001b[0m\n",
      "\u001b[34m[05:12:27] src/tree/updater_prune.cc:74: tree pruning end, 1 roots, 16 extra nodes, 66 pruned nodes, max_depth=7\u001b[0m\n",
      "\u001b[34m[123]#011train-rmse:0.892492#011validation-rmse:3.06119\u001b[0m\n",
      "\u001b[34m[05:12:27] src/tree/updater_prune.cc:74: tree pruning end, 1 roots, 8 extra nodes, 76 pruned nodes, max_depth=4\u001b[0m\n",
      "\u001b[34m[124]#011train-rmse:0.88965#011validation-rmse:3.05848\u001b[0m\n",
      "\u001b[34m[05:12:27] src/tree/updater_prune.cc:74: tree pruning end, 1 roots, 16 extra nodes, 62 pruned nodes, max_depth=8\u001b[0m\n",
      "\u001b[34m[125]#011train-rmse:0.886635#011validation-rmse:3.05194\u001b[0m\n",
      "\u001b[34m[05:12:27] src/tree/updater_prune.cc:74: tree pruning end, 1 roots, 4 extra nodes, 78 pruned nodes, max_depth=2\u001b[0m\n",
      "\u001b[34m[126]#011train-rmse:0.882286#011validation-rmse:3.0456\u001b[0m\n",
      "\u001b[34m[05:12:27] src/tree/updater_prune.cc:74: tree pruning end, 1 roots, 6 extra nodes, 52 pruned nodes, max_depth=3\u001b[0m\n",
      "\u001b[34m[127]#011train-rmse:0.878333#011validation-rmse:3.04055\u001b[0m\n",
      "\u001b[34m[05:12:27] src/tree/updater_prune.cc:74: tree pruning end, 1 roots, 22 extra nodes, 34 pruned nodes, max_depth=9\u001b[0m\n",
      "\u001b[34m[128]#011train-rmse:0.865653#011validation-rmse:3.03087\u001b[0m\n",
      "\u001b[34m[05:12:27] src/tree/updater_prune.cc:74: tree pruning end, 1 roots, 10 extra nodes, 84 pruned nodes, max_depth=5\u001b[0m\n",
      "\u001b[34m[129]#011train-rmse:0.86144#011validation-rmse:3.02448\u001b[0m\n",
      "\u001b[34m[05:12:27] src/tree/updater_prune.cc:74: tree pruning end, 1 roots, 12 extra nodes, 70 pruned nodes, max_depth=4\u001b[0m\n",
      "\u001b[34m[130]#011train-rmse:0.851565#011validation-rmse:3.018\u001b[0m\n",
      "\u001b[34m[05:12:27] src/tree/updater_prune.cc:74: tree pruning end, 1 roots, 14 extra nodes, 92 pruned nodes, max_depth=6\u001b[0m\n",
      "\u001b[34m[131]#011train-rmse:0.842119#011validation-rmse:3.01096\u001b[0m\n",
      "\u001b[34m[05:12:27] src/tree/updater_prune.cc:74: tree pruning end, 1 roots, 6 extra nodes, 62 pruned nodes, max_depth=2\u001b[0m\n",
      "\u001b[34m[132]#011train-rmse:0.834652#011validation-rmse:3.0057\u001b[0m\n",
      "\u001b[34m[05:12:27] src/tree/updater_prune.cc:74: tree pruning end, 1 roots, 4 extra nodes, 94 pruned nodes, max_depth=2\u001b[0m\n",
      "\u001b[34m[133]#011train-rmse:0.832584#011validation-rmse:3.00307\u001b[0m\n",
      "\u001b[34m[05:12:27] src/tree/updater_prune.cc:74: tree pruning end, 1 roots, 4 extra nodes, 66 pruned nodes, max_depth=2\u001b[0m\n",
      "\u001b[34m[134]#011train-rmse:0.829756#011validation-rmse:2.99848\u001b[0m\n",
      "\u001b[34m[05:12:27] src/tree/updater_prune.cc:74: tree pruning end, 1 roots, 4 extra nodes, 60 pruned nodes, max_depth=2\u001b[0m\n",
      "\u001b[34m[135]#011train-rmse:0.827084#011validation-rmse:2.99404\u001b[0m\n",
      "\u001b[34m[05:12:27] src/tree/updater_prune.cc:74: tree pruning end, 1 roots, 20 extra nodes, 52 pruned nodes, max_depth=9\u001b[0m\n",
      "\u001b[34m[136]#011train-rmse:0.817983#011validation-rmse:2.98924\u001b[0m\n",
      "\u001b[34m[05:12:27] src/tree/updater_prune.cc:74: tree pruning end, 1 roots, 6 extra nodes, 40 pruned nodes, max_depth=2\u001b[0m\n",
      "\u001b[34m[137]#011train-rmse:0.811833#011validation-rmse:2.98368\u001b[0m\n",
      "\u001b[34m[05:12:27] src/tree/updater_prune.cc:74: tree pruning end, 1 roots, 4 extra nodes, 50 pruned nodes, max_depth=2\u001b[0m\n",
      "\u001b[34m[138]#011train-rmse:0.809697#011validation-rmse:2.98207\u001b[0m\n",
      "\u001b[34m[05:12:27] src/tree/updater_prune.cc:74: tree pruning end, 1 roots, 6 extra nodes, 94 pruned nodes, max_depth=2\u001b[0m\n",
      "\u001b[34m[139]#011train-rmse:0.801379#011validation-rmse:2.98077\u001b[0m\n",
      "\u001b[34m[05:12:27] src/tree/updater_prune.cc:74: tree pruning end, 1 roots, 20 extra nodes, 32 pruned nodes, max_depth=10\u001b[0m\n",
      "\u001b[34m[140]#011train-rmse:0.796675#011validation-rmse:2.9781\u001b[0m\n",
      "\u001b[34m[05:12:27] src/tree/updater_prune.cc:74: tree pruning end, 1 roots, 6 extra nodes, 112 pruned nodes, max_depth=2\u001b[0m\n",
      "\u001b[34m[141]#011train-rmse:0.790803#011validation-rmse:2.97403\u001b[0m\n",
      "\u001b[34m[05:12:27] src/tree/updater_prune.cc:74: tree pruning end, 1 roots, 4 extra nodes, 66 pruned nodes, max_depth=2\u001b[0m\n",
      "\u001b[34m[142]#011train-rmse:0.789001#011validation-rmse:2.97257\u001b[0m\n",
      "\u001b[34m[05:12:27] src/tree/updater_prune.cc:74: tree pruning end, 1 roots, 12 extra nodes, 98 pruned nodes, max_depth=6\u001b[0m\n",
      "\u001b[34m[143]#011train-rmse:0.786513#011validation-rmse:2.97386\u001b[0m\n",
      "\u001b[34m[05:12:27] src/tree/updater_prune.cc:74: tree pruning end, 1 roots, 6 extra nodes, 70 pruned nodes, max_depth=3\u001b[0m\n",
      "\u001b[34m[144]#011train-rmse:0.785139#011validation-rmse:2.97085\u001b[0m\n",
      "\u001b[34m[05:12:27] src/tree/updater_prune.cc:74: tree pruning end, 1 roots, 6 extra nodes, 114 pruned nodes, max_depth=2\u001b[0m\n",
      "\u001b[34m[145]#011train-rmse:0.779497#011validation-rmse:2.96696\u001b[0m\n",
      "\u001b[34m[05:12:27] src/tree/updater_prune.cc:74: tree pruning end, 1 roots, 6 extra nodes, 100 pruned nodes, max_depth=2\u001b[0m\n",
      "\u001b[34m[146]#011train-rmse:0.771413#011validation-rmse:2.97112\u001b[0m\n",
      "\u001b[34m[05:12:27] src/tree/updater_prune.cc:74: tree pruning end, 1 roots, 4 extra nodes, 90 pruned nodes, max_depth=2\u001b[0m\n",
      "\u001b[34m[147]#011train-rmse:0.769895#011validation-rmse:2.96903\u001b[0m\n",
      "\u001b[34m[05:12:27] src/tree/updater_prune.cc:74: tree pruning end, 1 roots, 6 extra nodes, 98 pruned nodes, max_depth=2\u001b[0m\n",
      "\u001b[34m[148]#011train-rmse:0.764753#011validation-rmse:2.9653\u001b[0m\n",
      "\u001b[34m[05:12:27] src/tree/updater_prune.cc:74: tree pruning end, 1 roots, 4 extra nodes, 70 pruned nodes, max_depth=2\u001b[0m\n",
      "\u001b[34m[149]#011train-rmse:0.76327#011validation-rmse:2.96398\u001b[0m\n",
      "\u001b[34m[05:12:27] src/tree/updater_prune.cc:74: tree pruning end, 1 roots, 6 extra nodes, 64 pruned nodes, max_depth=2\u001b[0m\n",
      "\u001b[34m[150]#011train-rmse:0.758291#011validation-rmse:2.9587\u001b[0m\n",
      "\u001b[34m[05:12:27] src/tree/updater_prune.cc:74: tree pruning end, 1 roots, 6 extra nodes, 94 pruned nodes, max_depth=2\u001b[0m\n",
      "\u001b[34m[151]#011train-rmse:0.753863#011validation-rmse:2.95572\u001b[0m\n",
      "\u001b[34m[05:12:27] src/tree/updater_prune.cc:74: tree pruning end, 1 roots, 4 extra nodes, 42 pruned nodes, max_depth=2\u001b[0m\n",
      "\u001b[34m[152]#011train-rmse:0.752466#011validation-rmse:2.95449\u001b[0m\n",
      "\u001b[34m[05:12:27] src/tree/updater_prune.cc:74: tree pruning end, 1 roots, 6 extra nodes, 80 pruned nodes, max_depth=2\u001b[0m\n",
      "\u001b[34m[153]#011train-rmse:0.748088#011validation-rmse:2.95018\u001b[0m\n",
      "\u001b[34m[05:12:27] src/tree/updater_prune.cc:74: tree pruning end, 1 roots, 6 extra nodes, 116 pruned nodes, max_depth=2\u001b[0m\n",
      "\u001b[34m[154]#011train-rmse:0.741227#011validation-rmse:2.95004\u001b[0m\n",
      "\u001b[34m[05:12:27] src/tree/updater_prune.cc:74: tree pruning end, 1 roots, 2 extra nodes, 114 pruned nodes, max_depth=1\u001b[0m\n",
      "\u001b[34m[155]#011train-rmse:0.741279#011validation-rmse:2.9471\u001b[0m\n",
      "\u001b[34m[05:12:27] src/tree/updater_prune.cc:74: tree pruning end, 1 roots, 0 extra nodes, 68 pruned nodes, max_depth=0\u001b[0m\n",
      "\u001b[34m[156]#011train-rmse:0.741264#011validation-rmse:2.94711\u001b[0m\n",
      "\u001b[34m[05:12:27] src/tree/updater_prune.cc:74: tree pruning end, 1 roots, 6 extra nodes, 104 pruned nodes, max_depth=2\u001b[0m\n",
      "\u001b[34m[157]#011train-rmse:0.73709#011validation-rmse:2.94417\u001b[0m\n",
      "\u001b[34m[05:12:27] src/tree/updater_prune.cc:74: tree pruning end, 1 roots, 6 extra nodes, 88 pruned nodes, max_depth=2\u001b[0m\n",
      "\u001b[34m[158]#011train-rmse:0.733182#011validation-rmse:2.94139\u001b[0m\n",
      "\u001b[34m[05:12:27] src/tree/updater_prune.cc:74: tree pruning end, 1 roots, 6 extra nodes, 94 pruned nodes, max_depth=2\u001b[0m\n",
      "\u001b[34m[159]#011train-rmse:0.728276#011validation-rmse:2.93628\u001b[0m\n",
      "\u001b[34m[05:12:27] src/tree/updater_prune.cc:74: tree pruning end, 1 roots, 6 extra nodes, 86 pruned nodes, max_depth=2\u001b[0m\n",
      "\u001b[34m[160]#011train-rmse:0.722064#011validation-rmse:2.93968\u001b[0m\n",
      "\u001b[34m[05:12:27] src/tree/updater_prune.cc:74: tree pruning end, 1 roots, 0 extra nodes, 78 pruned nodes, max_depth=0\u001b[0m\n",
      "\u001b[34m[161]#011train-rmse:0.722067#011validation-rmse:2.93968\u001b[0m\n",
      "\u001b[34m[05:12:27] src/tree/updater_prune.cc:74: tree pruning end, 1 roots, 6 extra nodes, 56 pruned nodes, max_depth=2\u001b[0m\n",
      "\u001b[34m[162]#011train-rmse:0.718303#011validation-rmse:2.93211\u001b[0m\n",
      "\u001b[34m[05:12:27] src/tree/updater_prune.cc:74: tree pruning end, 1 roots, 0 extra nodes, 46 pruned nodes, max_depth=0\u001b[0m\n",
      "\u001b[34m[163]#011train-rmse:0.718305#011validation-rmse:2.9321\u001b[0m\n",
      "\u001b[34m[05:12:27] src/tree/updater_prune.cc:74: tree pruning end, 1 roots, 8 extra nodes, 102 pruned nodes, max_depth=3\u001b[0m\n",
      "\u001b[34m[164]#011train-rmse:0.712713#011validation-rmse:2.93533\u001b[0m\n",
      "\u001b[34m[05:12:27] src/tree/updater_prune.cc:74: tree pruning end, 1 roots, 20 extra nodes, 56 pruned nodes, max_depth=10\u001b[0m\n",
      "\u001b[34m[165]#011train-rmse:0.708563#011validation-rmse:2.93338\u001b[0m\n",
      "\u001b[34m[05:12:27] src/tree/updater_prune.cc:74: tree pruning end, 1 roots, 6 extra nodes, 78 pruned nodes, max_depth=2\u001b[0m\n",
      "\u001b[34m[166]#011train-rmse:0.702791#011validation-rmse:2.93425\u001b[0m\n",
      "\u001b[34m[05:12:27] src/tree/updater_prune.cc:74: tree pruning end, 1 roots, 22 extra nodes, 66 pruned nodes, max_depth=10\u001b[0m\n",
      "\u001b[34m[167]#011train-rmse:0.69762#011validation-rmse:2.93139\u001b[0m\n",
      "\u001b[34m[05:12:27] src/tree/updater_prune.cc:74: tree pruning end, 1 roots, 2 extra nodes, 84 pruned nodes, max_depth=1\u001b[0m\n",
      "\u001b[34m[168]#011train-rmse:0.697603#011validation-rmse:2.93398\u001b[0m\n",
      "\u001b[34m[05:12:27] src/tree/updater_prune.cc:74: tree pruning end, 1 roots, 6 extra nodes, 104 pruned nodes, max_depth=2\u001b[0m\n",
      "\u001b[34m[169]#011train-rmse:0.694159#011validation-rmse:2.92891\u001b[0m\n",
      "\u001b[34m[05:12:27] src/tree/updater_prune.cc:74: tree pruning end, 1 roots, 8 extra nodes, 100 pruned nodes, max_depth=3\u001b[0m\n",
      "\u001b[34m[170]#011train-rmse:0.688568#011validation-rmse:2.92817\u001b[0m\n",
      "\u001b[34m[05:12:27] src/tree/updater_prune.cc:74: tree pruning end, 1 roots, 0 extra nodes, 106 pruned nodes, max_depth=0\u001b[0m\n",
      "\u001b[34m[171]#011train-rmse:0.688571#011validation-rmse:2.92817\u001b[0m\n",
      "\u001b[34m[05:12:27] src/tree/updater_prune.cc:74: tree pruning end, 1 roots, 0 extra nodes, 76 pruned nodes, max_depth=0\u001b[0m\n",
      "\u001b[34m[172]#011train-rmse:0.688571#011validation-rmse:2.92817\u001b[0m\n",
      "\u001b[34m[05:12:27] src/tree/updater_prune.cc:74: tree pruning end, 1 roots, 6 extra nodes, 62 pruned nodes, max_depth=2\u001b[0m\n",
      "\u001b[34m[173]#011train-rmse:0.685304#011validation-rmse:2.92561\u001b[0m\n",
      "\u001b[34m[05:12:27] src/tree/updater_prune.cc:74: tree pruning end, 1 roots, 6 extra nodes, 66 pruned nodes, max_depth=2\u001b[0m\n",
      "\u001b[34m[174]#011train-rmse:0.682315#011validation-rmse:2.92301\u001b[0m\n",
      "\u001b[34m[05:12:27] src/tree/updater_prune.cc:74: tree pruning end, 1 roots, 0 extra nodes, 80 pruned nodes, max_depth=0\u001b[0m\n",
      "\u001b[34m[175]#011train-rmse:0.682314#011validation-rmse:2.92302\u001b[0m\n",
      "\u001b[34m[05:12:27] src/tree/updater_prune.cc:74: tree pruning end, 1 roots, 6 extra nodes, 96 pruned nodes, max_depth=2\u001b[0m\n",
      "\u001b[34m[176]#011train-rmse:0.678381#011validation-rmse:2.92233\u001b[0m\n",
      "\u001b[34m[05:12:27] src/tree/updater_prune.cc:74: tree pruning end, 1 roots, 0 extra nodes, 62 pruned nodes, max_depth=0\u001b[0m\n",
      "\u001b[34m[177]#011train-rmse:0.678379#011validation-rmse:2.92233\u001b[0m\n",
      "\u001b[34m[05:12:27] src/tree/updater_prune.cc:74: tree pruning end, 1 roots, 6 extra nodes, 70 pruned nodes, max_depth=2\u001b[0m\n",
      "\u001b[34m[178]#011train-rmse:0.675517#011validation-rmse:2.91998\u001b[0m\n",
      "\u001b[34m[05:12:27] src/tree/updater_prune.cc:74: tree pruning end, 1 roots, 2 extra nodes, 106 pruned nodes, max_depth=1\u001b[0m\n",
      "\u001b[34m[179]#011train-rmse:0.675511#011validation-rmse:2.91769\u001b[0m\n",
      "\u001b[34m[05:12:27] src/tree/updater_prune.cc:74: tree pruning end, 1 roots, 6 extra nodes, 118 pruned nodes, max_depth=2\u001b[0m\n",
      "\u001b[34m[180]#011train-rmse:0.672937#011validation-rmse:2.91543\u001b[0m\n",
      "\u001b[34m[05:12:27] src/tree/updater_prune.cc:74: tree pruning end, 1 roots, 2 extra nodes, 114 pruned nodes, max_depth=1\u001b[0m\n",
      "\u001b[34m[181]#011train-rmse:0.672944#011validation-rmse:2.91764\u001b[0m\n",
      "\u001b[34m[05:12:27] src/tree/updater_prune.cc:74: tree pruning end, 1 roots, 0 extra nodes, 110 pruned nodes, max_depth=0\u001b[0m\n",
      "\u001b[34m[182]#011train-rmse:0.672946#011validation-rmse:2.91763\u001b[0m\n",
      "\u001b[34m[05:12:27] src/tree/updater_prune.cc:74: tree pruning end, 1 roots, 0 extra nodes, 112 pruned nodes, max_depth=0\u001b[0m\n",
      "\u001b[34m[183]#011train-rmse:0.672955#011validation-rmse:2.91762\u001b[0m\n",
      "\u001b[34m[05:12:27] src/tree/updater_prune.cc:74: tree pruning end, 1 roots, 0 extra nodes, 76 pruned nodes, max_depth=0\u001b[0m\n",
      "\u001b[34m[184]#011train-rmse:0.672953#011validation-rmse:2.91762\u001b[0m\n",
      "\u001b[34m[05:12:27] src/tree/updater_prune.cc:74: tree pruning end, 1 roots, 0 extra nodes, 56 pruned nodes, max_depth=0\u001b[0m\n",
      "\u001b[34m[185]#011train-rmse:0.67295#011validation-rmse:2.91763\u001b[0m\n",
      "\u001b[34m[05:12:27] src/tree/updater_prune.cc:74: tree pruning end, 1 roots, 20 extra nodes, 50 pruned nodes, max_depth=10\u001b[0m\n",
      "\u001b[34m[186]#011train-rmse:0.667458#011validation-rmse:2.91737\u001b[0m\n",
      "\u001b[34m[05:12:27] src/tree/updater_prune.cc:74: tree pruning end, 1 roots, 2 extra nodes, 82 pruned nodes, max_depth=1\u001b[0m\n",
      "\u001b[34m[187]#011train-rmse:0.667545#011validation-rmse:2.91949\u001b[0m\n",
      "\u001b[34m[05:12:27] src/tree/updater_prune.cc:74: tree pruning end, 1 roots, 0 extra nodes, 62 pruned nodes, max_depth=0\u001b[0m\n",
      "\u001b[34m[188]#011train-rmse:0.667544#011validation-rmse:2.91949\u001b[0m\n",
      "\u001b[34m[05:12:27] src/tree/updater_prune.cc:74: tree pruning end, 1 roots, 0 extra nodes, 92 pruned nodes, max_depth=0\u001b[0m\n",
      "\u001b[34m[189]#011train-rmse:0.667543#011validation-rmse:2.91949\u001b[0m\n",
      "\u001b[34m[05:12:27] src/tree/updater_prune.cc:74: tree pruning end, 1 roots, 12 extra nodes, 96 pruned nodes, max_depth=6\u001b[0m\n",
      "\u001b[34m[190]#011train-rmse:0.664625#011validation-rmse:2.91773\u001b[0m\n",
      "\u001b[34mStopping. Best iteration:\u001b[0m\n",
      "\u001b[34m[180]#011train-rmse:0.672937#011validation-rmse:2.91543\n",
      "\u001b[0m\n",
      "Training seconds: 65\n",
      "Billable seconds: 65\n"
     ]
    }
   ],
   "source": [
    "xgb_attached = sagemaker.estimator.Estimator.attach(xgb_hyperparameter_tuner.best_training_job())"
   ]
  },
  {
   "cell_type": "markdown",
   "metadata": {},
   "source": [
    "## Step 5: Test the model\n",
    "\n",
    "Now that we have our best performing model, we can test it. To do this we will use the batch transform functionality. To start with, we need to build a transformer object from our fit model."
   ]
  },
  {
   "cell_type": "code",
   "execution_count": 15,
   "metadata": {},
   "outputs": [],
   "source": [
    "xgb_transformer = xgb_attached.transformer(instance_count = 1, instance_type = 'ml.m4.xlarge')"
   ]
  },
  {
   "cell_type": "markdown",
   "metadata": {},
   "source": [
    "Next we ask SageMaker to begin a batch transform job using our trained model and applying it to the test data we previous stored in S3. We need to make sure to provide SageMaker with the type of data that we are providing to our model, in our case `text/csv`, so that it knows how to serialize our data. In addition, we need to make sure to let SageMaker know how to split our data up into chunks if the entire data set happens to be too large to send to our model all at once.\n",
    "\n",
    "Note that when we ask SageMaker to do this it will execute the batch transform job in the background. Since we need to wait for the results of this job before we can continue, we use the `wait()` method. An added benefit of this is that we get some output from our batch transform job which lets us know if anything went wrong."
   ]
  },
  {
   "cell_type": "code",
   "execution_count": 16,
   "metadata": {},
   "outputs": [],
   "source": [
    "xgb_transformer.transform(test_location, content_type='text/csv', split_type='Line')"
   ]
  },
  {
   "cell_type": "code",
   "execution_count": 17,
   "metadata": {},
   "outputs": [
    {
     "name": "stdout",
     "output_type": "stream",
     "text": [
      "......................\u001b[34mArguments: serve\u001b[0m\n",
      "\u001b[34m[2020-02-04 05:27:15 +0000] [1] [INFO] Starting gunicorn 19.7.1\u001b[0m\n",
      "\u001b[34m[2020-02-04 05:27:15 +0000] [1] [INFO] Listening at: http://0.0.0.0:8080 (1)\u001b[0m\n",
      "\u001b[34m[2020-02-04 05:27:15 +0000] [1] [INFO] Using worker: gevent\u001b[0m\n",
      "\u001b[34m[2020-02-04 05:27:15 +0000] [37] [INFO] Booting worker with pid: 37\u001b[0m\n",
      "\u001b[34m[2020-02-04 05:27:15 +0000] [38] [INFO] Booting worker with pid: 38\u001b[0m\n",
      "\u001b[34m[2020-02-04 05:27:15 +0000] [39] [INFO] Booting worker with pid: 39\u001b[0m\n",
      "\u001b[34m[2020-02-04 05:27:15 +0000] [40] [INFO] Booting worker with pid: 40\u001b[0m\n",
      "\u001b[34m[2020-02-04:05:27:15:INFO] Model loaded successfully for worker : 37\u001b[0m\n",
      "\u001b[34m[2020-02-04:05:27:15:INFO] Model loaded successfully for worker : 38\u001b[0m\n",
      "\u001b[34m[2020-02-04:05:27:15:INFO] Model loaded successfully for worker : 40\u001b[0m\n",
      "\u001b[34m[2020-02-04:05:27:15:INFO] Model loaded successfully for worker : 39\u001b[0m\n",
      "\n",
      "\u001b[34m[2020-02-04:05:27:44:INFO] Sniff delimiter as ','\u001b[0m\n",
      "\u001b[34m[2020-02-04:05:27:44:INFO] Determined delimiter of CSV input is ','\u001b[0m\n",
      "\u001b[32m2020-02-04T05:27:44.261:[sagemaker logs]: MaxConcurrentTransforms=4, MaxPayloadInMB=6, BatchStrategy=MULTI_RECORD\u001b[0m\n"
     ]
    }
   ],
   "source": [
    "xgb_transformer.wait()"
   ]
  },
  {
   "cell_type": "markdown",
   "metadata": {},
   "source": [
    "Now that the batch transform job has finished, the resulting output is stored on S3. Since we wish to analyze the output inside of our notebook we can use a bit of notebook magic to copy the output file from its S3 location and save it locally."
   ]
  },
  {
   "cell_type": "code",
   "execution_count": 18,
   "metadata": {},
   "outputs": [
    {
     "name": "stdout",
     "output_type": "stream",
     "text": [
      "download: s3://sagemaker-us-east-1-174814400447/xgboost-200204-0458-010-3bea3701-2020-02-04-05-23-49-333/test.csv.out to ../data/boston/test.csv.out\r\n"
     ]
    }
   ],
   "source": [
    "!aws s3 cp --recursive $xgb_transformer.output_path $data_dir"
   ]
  },
  {
   "cell_type": "markdown",
   "metadata": {},
   "source": [
    "To see how well our model works we can create a simple scatter plot between the predicted and actual values. If the model was completely accurate the resulting scatter plot would look like the line $x=y$. As we can see, our model seems to have done okay but there is room for improvement."
   ]
  },
  {
   "cell_type": "code",
   "execution_count": 19,
   "metadata": {},
   "outputs": [],
   "source": [
    "Y_pred = pd.read_csv(os.path.join(data_dir, 'test.csv.out'), header=None)"
   ]
  },
  {
   "cell_type": "code",
   "execution_count": 20,
   "metadata": {},
   "outputs": [
    {
     "data": {
      "text/plain": [
       "Text(0.5, 1.0, 'Median Price vs Predicted Price')"
      ]
     },
     "execution_count": 20,
     "metadata": {},
     "output_type": "execute_result"
    },
    {
     "data": {
      "image/png": "[encoded data removed]",
      "text/plain": [
       "<Figure size 432x288 with 1 Axes>"
      ]
     },
     "metadata": {},
     "output_type": "display_data"
    }
   ],
   "source": [
    "plt.scatter(Y_test, Y_pred)\n",
    "plt.xlabel(\"Median Price\")\n",
    "plt.ylabel(\"Predicted Price\")\n",
    "plt.title(\"Median Price vs Predicted Price\")"
   ]
  },
  {
   "cell_type": "markdown",
   "metadata": {},
   "source": [
    "## Optional: Clean up\n",
    "\n",
    "The default notebook instance on SageMaker doesn't have a lot of excess disk space available. As you continue to complete and execute notebooks you will eventually fill up this disk space, leading to errors which can be difficult to diagnose. Once you are completely finished using a notebook it is a good idea to remove the files that you created along the way. Of course, you can do this from the terminal or from the notebook hub if you would like. The cell below contains some commands to clean up the created files from within the notebook."
   ]
  },
  {
   "cell_type": "code",
   "execution_count": 21,
   "metadata": {},
   "outputs": [],
   "source": [
    "# First we will remove all of the files contained in the data_dir directory\n",
    "!rm $data_dir/*\n",
    "\n",
    "# And then we delete the directory itself\n",
    "!rmdir $data_dir"
   ]
  },
  {
   "cell_type": "code",
   "execution_count": null,
   "metadata": {},
   "outputs": [],
   "source": []
  }
 ],
 "metadata": {
  "kernelspec": {
   "display_name": "conda_pytorch_p36",
   "language": "python",
   "name": "conda_pytorch_p36"
  },
  "language_info": {
   "codemirror_mode": {
    "name": "ipython",
    "version": 3
   },
   "file_extension": ".py",
   "mimetype": "text/x-python",
   "name": "python",
   "nbconvert_exporter": "python",
   "pygments_lexer": "ipython3",
   "version": "3.6.5"
  }
 },
 "nbformat": 4,
 "nbformat_minor": 2
}
